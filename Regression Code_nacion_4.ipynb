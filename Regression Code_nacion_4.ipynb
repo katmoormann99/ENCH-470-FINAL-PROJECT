{
 "cells": [
  {
   "cell_type": "code",
   "execution_count": 9,
   "id": "01ee0edc",
   "metadata": {},
   "outputs": [],
   "source": [
    "import pandas as pd\n",
    "import numpy as np\n",
    "import matplotlib\n",
    "import matplotlib.pyplot as plt\n",
    "import plotly\n",
    "import plotly.graph_objects as go\n",
    "from plotly.subplots import make_subplots\n",
    "import plotly.graph_objects as go\n",
    "\n",
    "import sklearn\n",
    "from sklearn.model_selection import train_test_split\n",
    "from sklearn.linear_model import LinearRegression\n",
    "from sklearn.metrics import mean_squared_error\n",
    "from sklearn.linear_model import Ridge\n",
    "from sklearn.linear_model import Lasso\n",
    "import math"
   ]
  },
  {
   "cell_type": "code",
   "execution_count": 10,
   "id": "149d172d",
   "metadata": {},
   "outputs": [
    {
     "data": {
      "text/html": [
       "<div>\n",
       "<style scoped>\n",
       "    .dataframe tbody tr th:only-of-type {\n",
       "        vertical-align: middle;\n",
       "    }\n",
       "\n",
       "    .dataframe tbody tr th {\n",
       "        vertical-align: top;\n",
       "    }\n",
       "\n",
       "    .dataframe thead th {\n",
       "        text-align: right;\n",
       "    }\n",
       "</style>\n",
       "<table border=\"1\" class=\"dataframe\">\n",
       "  <thead>\n",
       "    <tr style=\"text-align: right;\">\n",
       "      <th></th>\n",
       "      <th>State</th>\n",
       "      <th>County</th>\n",
       "      <th>Abbreviation</th>\n",
       "      <th>Max AQI</th>\n",
       "      <th>90th Percentile AQI</th>\n",
       "      <th>Median AQI</th>\n",
       "      <th>Percent of adults with a high school diploma only, 2015-19</th>\n",
       "      <th>Percent of adults with a bachelor's degree or higher, 2015-19</th>\n",
       "      <th># Employed</th>\n",
       "      <th># Unemployed</th>\n",
       "      <th>...</th>\n",
       "      <th>OtherGases</th>\n",
       "      <th>OtherNaturalGas</th>\n",
       "      <th>OtherWasteBiomass</th>\n",
       "      <th>PetroleumCoke</th>\n",
       "      <th>PetroleumLiquids</th>\n",
       "      <th>SolarPhotovoltaic</th>\n",
       "      <th>SolarThermalwithEnergyStorage</th>\n",
       "      <th>SolarThermalwithoutEnergyStorage</th>\n",
       "      <th>Wood/WoodWasteBiomass</th>\n",
       "      <th>Percent of people in poverty 2019</th>\n",
       "    </tr>\n",
       "  </thead>\n",
       "  <tbody>\n",
       "    <tr>\n",
       "      <th>0</th>\n",
       "      <td>Alabama</td>\n",
       "      <td>Baldwin</td>\n",
       "      <td>AlabamaBaldwin</td>\n",
       "      <td>74</td>\n",
       "      <td>49</td>\n",
       "      <td>36</td>\n",
       "      <td>27.7</td>\n",
       "      <td>31.9</td>\n",
       "      <td>91338</td>\n",
       "      <td>5425</td>\n",
       "      <td>...</td>\n",
       "      <td>0</td>\n",
       "      <td>0</td>\n",
       "      <td>0</td>\n",
       "      <td>0</td>\n",
       "      <td>0</td>\n",
       "      <td>0</td>\n",
       "      <td>0</td>\n",
       "      <td>0</td>\n",
       "      <td>0</td>\n",
       "      <td>10.1</td>\n",
       "    </tr>\n",
       "    <tr>\n",
       "      <th>1</th>\n",
       "      <td>Alabama</td>\n",
       "      <td>Russell</td>\n",
       "      <td>AlabamaRussell</td>\n",
       "      <td>99</td>\n",
       "      <td>56</td>\n",
       "      <td>36</td>\n",
       "      <td>31.4</td>\n",
       "      <td>17.8</td>\n",
       "      <td>22290</td>\n",
       "      <td>1210</td>\n",
       "      <td>...</td>\n",
       "      <td>0</td>\n",
       "      <td>0</td>\n",
       "      <td>0</td>\n",
       "      <td>0</td>\n",
       "      <td>2</td>\n",
       "      <td>0</td>\n",
       "      <td>0</td>\n",
       "      <td>0</td>\n",
       "      <td>2</td>\n",
       "      <td>18.9</td>\n",
       "    </tr>\n",
       "    <tr>\n",
       "      <th>2</th>\n",
       "      <td>Alabama</td>\n",
       "      <td>Shelby</td>\n",
       "      <td>AlabamaShelby</td>\n",
       "      <td>71</td>\n",
       "      <td>46</td>\n",
       "      <td>28</td>\n",
       "      <td>19.8</td>\n",
       "      <td>42.9</td>\n",
       "      <td>109646</td>\n",
       "      <td>4402</td>\n",
       "      <td>...</td>\n",
       "      <td>0</td>\n",
       "      <td>0</td>\n",
       "      <td>0</td>\n",
       "      <td>0</td>\n",
       "      <td>17</td>\n",
       "      <td>4</td>\n",
       "      <td>0</td>\n",
       "      <td>0</td>\n",
       "      <td>0</td>\n",
       "      <td>6.2</td>\n",
       "    </tr>\n",
       "    <tr>\n",
       "      <th>3</th>\n",
       "      <td>Indiana</td>\n",
       "      <td>Shelby</td>\n",
       "      <td>IndianaShelby</td>\n",
       "      <td>115</td>\n",
       "      <td>46</td>\n",
       "      <td>32</td>\n",
       "      <td>42.4</td>\n",
       "      <td>18.7</td>\n",
       "      <td>21443</td>\n",
       "      <td>1643</td>\n",
       "      <td>...</td>\n",
       "      <td>0</td>\n",
       "      <td>0</td>\n",
       "      <td>0</td>\n",
       "      <td>0</td>\n",
       "      <td>17</td>\n",
       "      <td>4</td>\n",
       "      <td>0</td>\n",
       "      <td>0</td>\n",
       "      <td>0</td>\n",
       "      <td>10.1</td>\n",
       "    </tr>\n",
       "    <tr>\n",
       "      <th>4</th>\n",
       "      <td>Tennessee</td>\n",
       "      <td>Shelby</td>\n",
       "      <td>TennesseeShelby</td>\n",
       "      <td>152</td>\n",
       "      <td>61</td>\n",
       "      <td>44</td>\n",
       "      <td>27.5</td>\n",
       "      <td>31.6</td>\n",
       "      <td>404507</td>\n",
       "      <td>43262</td>\n",
       "      <td>...</td>\n",
       "      <td>0</td>\n",
       "      <td>0</td>\n",
       "      <td>0</td>\n",
       "      <td>0</td>\n",
       "      <td>17</td>\n",
       "      <td>4</td>\n",
       "      <td>0</td>\n",
       "      <td>0</td>\n",
       "      <td>0</td>\n",
       "      <td>17.2</td>\n",
       "    </tr>\n",
       "    <tr>\n",
       "      <th>...</th>\n",
       "      <td>...</td>\n",
       "      <td>...</td>\n",
       "      <td>...</td>\n",
       "      <td>...</td>\n",
       "      <td>...</td>\n",
       "      <td>...</td>\n",
       "      <td>...</td>\n",
       "      <td>...</td>\n",
       "      <td>...</td>\n",
       "      <td>...</td>\n",
       "      <td>...</td>\n",
       "      <td>...</td>\n",
       "      <td>...</td>\n",
       "      <td>...</td>\n",
       "      <td>...</td>\n",
       "      <td>...</td>\n",
       "      <td>...</td>\n",
       "      <td>...</td>\n",
       "      <td>...</td>\n",
       "      <td>...</td>\n",
       "      <td>...</td>\n",
       "    </tr>\n",
       "    <tr>\n",
       "      <th>790</th>\n",
       "      <td>Wyoming</td>\n",
       "      <td>Park</td>\n",
       "      <td>WyomingPark</td>\n",
       "      <td>113</td>\n",
       "      <td>30</td>\n",
       "      <td>11</td>\n",
       "      <td>25.8</td>\n",
       "      <td>34.0</td>\n",
       "      <td>14549</td>\n",
       "      <td>831</td>\n",
       "      <td>...</td>\n",
       "      <td>2</td>\n",
       "      <td>0</td>\n",
       "      <td>0</td>\n",
       "      <td>0</td>\n",
       "      <td>0</td>\n",
       "      <td>0</td>\n",
       "      <td>0</td>\n",
       "      <td>0</td>\n",
       "      <td>0</td>\n",
       "      <td>10.3</td>\n",
       "    </tr>\n",
       "    <tr>\n",
       "      <th>791</th>\n",
       "      <td>Wyoming</td>\n",
       "      <td>Platte</td>\n",
       "      <td>WyomingPlatte</td>\n",
       "      <td>283</td>\n",
       "      <td>50</td>\n",
       "      <td>19</td>\n",
       "      <td>38.3</td>\n",
       "      <td>20.7</td>\n",
       "      <td>4418</td>\n",
       "      <td>233</td>\n",
       "      <td>...</td>\n",
       "      <td>0</td>\n",
       "      <td>0</td>\n",
       "      <td>0</td>\n",
       "      <td>0</td>\n",
       "      <td>0</td>\n",
       "      <td>0</td>\n",
       "      <td>0</td>\n",
       "      <td>0</td>\n",
       "      <td>0</td>\n",
       "      <td>11.5</td>\n",
       "    </tr>\n",
       "    <tr>\n",
       "      <th>792</th>\n",
       "      <td>Wyoming</td>\n",
       "      <td>Sweetwater</td>\n",
       "      <td>WyomingSweetwater</td>\n",
       "      <td>1250</td>\n",
       "      <td>76</td>\n",
       "      <td>46</td>\n",
       "      <td>33.0</td>\n",
       "      <td>22.5</td>\n",
       "      <td>19308</td>\n",
       "      <td>1532</td>\n",
       "      <td>...</td>\n",
       "      <td>0</td>\n",
       "      <td>0</td>\n",
       "      <td>0</td>\n",
       "      <td>0</td>\n",
       "      <td>0</td>\n",
       "      <td>1</td>\n",
       "      <td>0</td>\n",
       "      <td>0</td>\n",
       "      <td>0</td>\n",
       "      <td>8.3</td>\n",
       "    </tr>\n",
       "    <tr>\n",
       "      <th>793</th>\n",
       "      <td>Wyoming</td>\n",
       "      <td>Teton</td>\n",
       "      <td>WyomingTeton</td>\n",
       "      <td>161</td>\n",
       "      <td>54</td>\n",
       "      <td>42</td>\n",
       "      <td>14.9</td>\n",
       "      <td>57.0</td>\n",
       "      <td>14292</td>\n",
       "      <td>912</td>\n",
       "      <td>...</td>\n",
       "      <td>0</td>\n",
       "      <td>0</td>\n",
       "      <td>0</td>\n",
       "      <td>0</td>\n",
       "      <td>3</td>\n",
       "      <td>0</td>\n",
       "      <td>0</td>\n",
       "      <td>0</td>\n",
       "      <td>0</td>\n",
       "      <td>6.0</td>\n",
       "    </tr>\n",
       "    <tr>\n",
       "      <th>794</th>\n",
       "      <td>Wyoming</td>\n",
       "      <td>Uinta</td>\n",
       "      <td>WyomingUinta</td>\n",
       "      <td>122</td>\n",
       "      <td>51</td>\n",
       "      <td>40</td>\n",
       "      <td>41.5</td>\n",
       "      <td>16.0</td>\n",
       "      <td>8730</td>\n",
       "      <td>582</td>\n",
       "      <td>...</td>\n",
       "      <td>0</td>\n",
       "      <td>0</td>\n",
       "      <td>0</td>\n",
       "      <td>0</td>\n",
       "      <td>0</td>\n",
       "      <td>0</td>\n",
       "      <td>0</td>\n",
       "      <td>0</td>\n",
       "      <td>0</td>\n",
       "      <td>8.5</td>\n",
       "    </tr>\n",
       "  </tbody>\n",
       "</table>\n",
       "<p>795 rows × 53 columns</p>\n",
       "</div>"
      ],
      "text/plain": [
       "         State      County       Abbreviation  Max AQI  90th Percentile AQI  \\\n",
       "0      Alabama     Baldwin     AlabamaBaldwin       74                   49   \n",
       "1      Alabama     Russell     AlabamaRussell       99                   56   \n",
       "2      Alabama      Shelby      AlabamaShelby       71                   46   \n",
       "3      Indiana      Shelby      IndianaShelby      115                   46   \n",
       "4    Tennessee      Shelby    TennesseeShelby      152                   61   \n",
       "..         ...         ...                ...      ...                  ...   \n",
       "790    Wyoming        Park        WyomingPark      113                   30   \n",
       "791    Wyoming      Platte      WyomingPlatte      283                   50   \n",
       "792    Wyoming  Sweetwater  WyomingSweetwater     1250                   76   \n",
       "793    Wyoming       Teton       WyomingTeton      161                   54   \n",
       "794    Wyoming       Uinta       WyomingUinta      122                   51   \n",
       "\n",
       "     Median AQI  Percent of adults with a high school diploma only, 2015-19  \\\n",
       "0            36                                               27.7            \n",
       "1            36                                               31.4            \n",
       "2            28                                               19.8            \n",
       "3            32                                               42.4            \n",
       "4            44                                               27.5            \n",
       "..          ...                                                ...            \n",
       "790          11                                               25.8            \n",
       "791          19                                               38.3            \n",
       "792          46                                               33.0            \n",
       "793          42                                               14.9            \n",
       "794          40                                               41.5            \n",
       "\n",
       "     Percent of adults with a bachelor's degree or higher, 2015-19  \\\n",
       "0                                                 31.9               \n",
       "1                                                 17.8               \n",
       "2                                                 42.9               \n",
       "3                                                 18.7               \n",
       "4                                                 31.6               \n",
       "..                                                 ...               \n",
       "790                                               34.0               \n",
       "791                                               20.7               \n",
       "792                                               22.5               \n",
       "793                                               57.0               \n",
       "794                                               16.0               \n",
       "\n",
       "     # Employed  # Unemployed  ...  OtherGases  OtherNaturalGas  \\\n",
       "0         91338          5425  ...           0                0   \n",
       "1         22290          1210  ...           0                0   \n",
       "2        109646          4402  ...           0                0   \n",
       "3         21443          1643  ...           0                0   \n",
       "4        404507         43262  ...           0                0   \n",
       "..          ...           ...  ...         ...              ...   \n",
       "790       14549           831  ...           2                0   \n",
       "791        4418           233  ...           0                0   \n",
       "792       19308          1532  ...           0                0   \n",
       "793       14292           912  ...           0                0   \n",
       "794        8730           582  ...           0                0   \n",
       "\n",
       "     OtherWasteBiomass  PetroleumCoke  PetroleumLiquids  SolarPhotovoltaic  \\\n",
       "0                    0              0                 0                  0   \n",
       "1                    0              0                 2                  0   \n",
       "2                    0              0                17                  4   \n",
       "3                    0              0                17                  4   \n",
       "4                    0              0                17                  4   \n",
       "..                 ...            ...               ...                ...   \n",
       "790                  0              0                 0                  0   \n",
       "791                  0              0                 0                  0   \n",
       "792                  0              0                 0                  1   \n",
       "793                  0              0                 3                  0   \n",
       "794                  0              0                 0                  0   \n",
       "\n",
       "     SolarThermalwithEnergyStorage  SolarThermalwithoutEnergyStorage  \\\n",
       "0                                0                                 0   \n",
       "1                                0                                 0   \n",
       "2                                0                                 0   \n",
       "3                                0                                 0   \n",
       "4                                0                                 0   \n",
       "..                             ...                               ...   \n",
       "790                              0                                 0   \n",
       "791                              0                                 0   \n",
       "792                              0                                 0   \n",
       "793                              0                                 0   \n",
       "794                              0                                 0   \n",
       "\n",
       "     Wood/WoodWasteBiomass  Percent of people in poverty 2019  \n",
       "0                        0                               10.1  \n",
       "1                        2                               18.9  \n",
       "2                        0                                6.2  \n",
       "3                        0                               10.1  \n",
       "4                        0                               17.2  \n",
       "..                     ...                                ...  \n",
       "790                      0                               10.3  \n",
       "791                      0                               11.5  \n",
       "792                      0                                8.3  \n",
       "793                      0                                6.0  \n",
       "794                      0                                8.5  \n",
       "\n",
       "[795 rows x 53 columns]"
      ]
     },
     "execution_count": 10,
     "metadata": {},
     "output_type": "execute_result"
    },
    {
     "data": {
      "text/html": [
       "<div>\n",
       "<style scoped>\n",
       "    .dataframe tbody tr th:only-of-type {\n",
       "        vertical-align: middle;\n",
       "    }\n",
       "\n",
       "    .dataframe tbody tr th {\n",
       "        vertical-align: top;\n",
       "    }\n",
       "\n",
       "    .dataframe thead th {\n",
       "        text-align: right;\n",
       "    }\n",
       "</style>\n",
       "<table border=\"1\" class=\"dataframe\">\n",
       "  <thead>\n",
       "    <tr style=\"text-align: right;\">\n",
       "      <th></th>\n",
       "      <th>State</th>\n",
       "      <th>County</th>\n",
       "      <th>Abbreviation</th>\n",
       "      <th>Max AQI</th>\n",
       "      <th>90th Percentile AQI</th>\n",
       "      <th>Median AQI</th>\n",
       "      <th>Percent of adults with a high school diploma only, 2015-19</th>\n",
       "      <th>Percent of adults with a bachelor's degree or higher, 2015-19</th>\n",
       "      <th># Employed</th>\n",
       "      <th># Unemployed</th>\n",
       "      <th>...</th>\n",
       "      <th>OtherGases</th>\n",
       "      <th>OtherNaturalGas</th>\n",
       "      <th>OtherWasteBiomass</th>\n",
       "      <th>PetroleumCoke</th>\n",
       "      <th>PetroleumLiquids</th>\n",
       "      <th>SolarPhotovoltaic</th>\n",
       "      <th>SolarThermalwithEnergyStorage</th>\n",
       "      <th>SolarThermalwithoutEnergyStorage</th>\n",
       "      <th>Wood/WoodWasteBiomass</th>\n",
       "      <th>Percent of people in poverty 2019</th>\n",
       "    </tr>\n",
       "  </thead>\n",
       "  <tbody>\n",
       "    <tr>\n",
       "      <th>0</th>\n",
       "      <td>Alabama</td>\n",
       "      <td>Baldwin</td>\n",
       "      <td>AlabamaBaldwin</td>\n",
       "      <td>74</td>\n",
       "      <td>49</td>\n",
       "      <td>36</td>\n",
       "      <td>27.7</td>\n",
       "      <td>31.9</td>\n",
       "      <td>91338</td>\n",
       "      <td>5425</td>\n",
       "      <td>...</td>\n",
       "      <td>0</td>\n",
       "      <td>0</td>\n",
       "      <td>0</td>\n",
       "      <td>0</td>\n",
       "      <td>0</td>\n",
       "      <td>0</td>\n",
       "      <td>0</td>\n",
       "      <td>0</td>\n",
       "      <td>0</td>\n",
       "      <td>10.1</td>\n",
       "    </tr>\n",
       "    <tr>\n",
       "      <th>1</th>\n",
       "      <td>Alabama</td>\n",
       "      <td>Russell</td>\n",
       "      <td>AlabamaRussell</td>\n",
       "      <td>99</td>\n",
       "      <td>56</td>\n",
       "      <td>36</td>\n",
       "      <td>31.4</td>\n",
       "      <td>17.8</td>\n",
       "      <td>22290</td>\n",
       "      <td>1210</td>\n",
       "      <td>...</td>\n",
       "      <td>0</td>\n",
       "      <td>0</td>\n",
       "      <td>0</td>\n",
       "      <td>0</td>\n",
       "      <td>2</td>\n",
       "      <td>0</td>\n",
       "      <td>0</td>\n",
       "      <td>0</td>\n",
       "      <td>2</td>\n",
       "      <td>18.9</td>\n",
       "    </tr>\n",
       "    <tr>\n",
       "      <th>2</th>\n",
       "      <td>Alabama</td>\n",
       "      <td>Shelby</td>\n",
       "      <td>AlabamaShelby</td>\n",
       "      <td>71</td>\n",
       "      <td>46</td>\n",
       "      <td>28</td>\n",
       "      <td>19.8</td>\n",
       "      <td>42.9</td>\n",
       "      <td>109646</td>\n",
       "      <td>4402</td>\n",
       "      <td>...</td>\n",
       "      <td>0</td>\n",
       "      <td>0</td>\n",
       "      <td>0</td>\n",
       "      <td>0</td>\n",
       "      <td>17</td>\n",
       "      <td>4</td>\n",
       "      <td>0</td>\n",
       "      <td>0</td>\n",
       "      <td>0</td>\n",
       "      <td>6.2</td>\n",
       "    </tr>\n",
       "    <tr>\n",
       "      <th>3</th>\n",
       "      <td>Indiana</td>\n",
       "      <td>Shelby</td>\n",
       "      <td>IndianaShelby</td>\n",
       "      <td>115</td>\n",
       "      <td>46</td>\n",
       "      <td>32</td>\n",
       "      <td>42.4</td>\n",
       "      <td>18.7</td>\n",
       "      <td>21443</td>\n",
       "      <td>1643</td>\n",
       "      <td>...</td>\n",
       "      <td>0</td>\n",
       "      <td>0</td>\n",
       "      <td>0</td>\n",
       "      <td>0</td>\n",
       "      <td>17</td>\n",
       "      <td>4</td>\n",
       "      <td>0</td>\n",
       "      <td>0</td>\n",
       "      <td>0</td>\n",
       "      <td>10.1</td>\n",
       "    </tr>\n",
       "    <tr>\n",
       "      <th>4</th>\n",
       "      <td>Tennessee</td>\n",
       "      <td>Shelby</td>\n",
       "      <td>TennesseeShelby</td>\n",
       "      <td>152</td>\n",
       "      <td>61</td>\n",
       "      <td>44</td>\n",
       "      <td>27.5</td>\n",
       "      <td>31.6</td>\n",
       "      <td>404507</td>\n",
       "      <td>43262</td>\n",
       "      <td>...</td>\n",
       "      <td>0</td>\n",
       "      <td>0</td>\n",
       "      <td>0</td>\n",
       "      <td>0</td>\n",
       "      <td>17</td>\n",
       "      <td>4</td>\n",
       "      <td>0</td>\n",
       "      <td>0</td>\n",
       "      <td>0</td>\n",
       "      <td>17.2</td>\n",
       "    </tr>\n",
       "    <tr>\n",
       "      <th>...</th>\n",
       "      <td>...</td>\n",
       "      <td>...</td>\n",
       "      <td>...</td>\n",
       "      <td>...</td>\n",
       "      <td>...</td>\n",
       "      <td>...</td>\n",
       "      <td>...</td>\n",
       "      <td>...</td>\n",
       "      <td>...</td>\n",
       "      <td>...</td>\n",
       "      <td>...</td>\n",
       "      <td>...</td>\n",
       "      <td>...</td>\n",
       "      <td>...</td>\n",
       "      <td>...</td>\n",
       "      <td>...</td>\n",
       "      <td>...</td>\n",
       "      <td>...</td>\n",
       "      <td>...</td>\n",
       "      <td>...</td>\n",
       "      <td>...</td>\n",
       "    </tr>\n",
       "    <tr>\n",
       "      <th>790</th>\n",
       "      <td>Wyoming</td>\n",
       "      <td>Park</td>\n",
       "      <td>WyomingPark</td>\n",
       "      <td>113</td>\n",
       "      <td>30</td>\n",
       "      <td>11</td>\n",
       "      <td>25.8</td>\n",
       "      <td>34.0</td>\n",
       "      <td>14549</td>\n",
       "      <td>831</td>\n",
       "      <td>...</td>\n",
       "      <td>2</td>\n",
       "      <td>0</td>\n",
       "      <td>0</td>\n",
       "      <td>0</td>\n",
       "      <td>0</td>\n",
       "      <td>0</td>\n",
       "      <td>0</td>\n",
       "      <td>0</td>\n",
       "      <td>0</td>\n",
       "      <td>10.3</td>\n",
       "    </tr>\n",
       "    <tr>\n",
       "      <th>791</th>\n",
       "      <td>Wyoming</td>\n",
       "      <td>Platte</td>\n",
       "      <td>WyomingPlatte</td>\n",
       "      <td>283</td>\n",
       "      <td>50</td>\n",
       "      <td>19</td>\n",
       "      <td>38.3</td>\n",
       "      <td>20.7</td>\n",
       "      <td>4418</td>\n",
       "      <td>233</td>\n",
       "      <td>...</td>\n",
       "      <td>0</td>\n",
       "      <td>0</td>\n",
       "      <td>0</td>\n",
       "      <td>0</td>\n",
       "      <td>0</td>\n",
       "      <td>0</td>\n",
       "      <td>0</td>\n",
       "      <td>0</td>\n",
       "      <td>0</td>\n",
       "      <td>11.5</td>\n",
       "    </tr>\n",
       "    <tr>\n",
       "      <th>792</th>\n",
       "      <td>Wyoming</td>\n",
       "      <td>Sweetwater</td>\n",
       "      <td>WyomingSweetwater</td>\n",
       "      <td>1250</td>\n",
       "      <td>76</td>\n",
       "      <td>46</td>\n",
       "      <td>33.0</td>\n",
       "      <td>22.5</td>\n",
       "      <td>19308</td>\n",
       "      <td>1532</td>\n",
       "      <td>...</td>\n",
       "      <td>0</td>\n",
       "      <td>0</td>\n",
       "      <td>0</td>\n",
       "      <td>0</td>\n",
       "      <td>0</td>\n",
       "      <td>1</td>\n",
       "      <td>0</td>\n",
       "      <td>0</td>\n",
       "      <td>0</td>\n",
       "      <td>8.3</td>\n",
       "    </tr>\n",
       "    <tr>\n",
       "      <th>793</th>\n",
       "      <td>Wyoming</td>\n",
       "      <td>Teton</td>\n",
       "      <td>WyomingTeton</td>\n",
       "      <td>161</td>\n",
       "      <td>54</td>\n",
       "      <td>42</td>\n",
       "      <td>14.9</td>\n",
       "      <td>57.0</td>\n",
       "      <td>14292</td>\n",
       "      <td>912</td>\n",
       "      <td>...</td>\n",
       "      <td>0</td>\n",
       "      <td>0</td>\n",
       "      <td>0</td>\n",
       "      <td>0</td>\n",
       "      <td>3</td>\n",
       "      <td>0</td>\n",
       "      <td>0</td>\n",
       "      <td>0</td>\n",
       "      <td>0</td>\n",
       "      <td>6.0</td>\n",
       "    </tr>\n",
       "    <tr>\n",
       "      <th>794</th>\n",
       "      <td>Wyoming</td>\n",
       "      <td>Uinta</td>\n",
       "      <td>WyomingUinta</td>\n",
       "      <td>122</td>\n",
       "      <td>51</td>\n",
       "      <td>40</td>\n",
       "      <td>41.5</td>\n",
       "      <td>16.0</td>\n",
       "      <td>8730</td>\n",
       "      <td>582</td>\n",
       "      <td>...</td>\n",
       "      <td>0</td>\n",
       "      <td>0</td>\n",
       "      <td>0</td>\n",
       "      <td>0</td>\n",
       "      <td>0</td>\n",
       "      <td>0</td>\n",
       "      <td>0</td>\n",
       "      <td>0</td>\n",
       "      <td>0</td>\n",
       "      <td>8.5</td>\n",
       "    </tr>\n",
       "  </tbody>\n",
       "</table>\n",
       "<p>795 rows × 53 columns</p>\n",
       "</div>"
      ],
      "text/plain": [
       "         State      County       Abbreviation  Max AQI  90th Percentile AQI  \\\n",
       "0      Alabama     Baldwin     AlabamaBaldwin       74                   49   \n",
       "1      Alabama     Russell     AlabamaRussell       99                   56   \n",
       "2      Alabama      Shelby      AlabamaShelby       71                   46   \n",
       "3      Indiana      Shelby      IndianaShelby      115                   46   \n",
       "4    Tennessee      Shelby    TennesseeShelby      152                   61   \n",
       "..         ...         ...                ...      ...                  ...   \n",
       "790    Wyoming        Park        WyomingPark      113                   30   \n",
       "791    Wyoming      Platte      WyomingPlatte      283                   50   \n",
       "792    Wyoming  Sweetwater  WyomingSweetwater     1250                   76   \n",
       "793    Wyoming       Teton       WyomingTeton      161                   54   \n",
       "794    Wyoming       Uinta       WyomingUinta      122                   51   \n",
       "\n",
       "     Median AQI  Percent of adults with a high school diploma only, 2015-19  \\\n",
       "0            36                                               27.7            \n",
       "1            36                                               31.4            \n",
       "2            28                                               19.8            \n",
       "3            32                                               42.4            \n",
       "4            44                                               27.5            \n",
       "..          ...                                                ...            \n",
       "790          11                                               25.8            \n",
       "791          19                                               38.3            \n",
       "792          46                                               33.0            \n",
       "793          42                                               14.9            \n",
       "794          40                                               41.5            \n",
       "\n",
       "     Percent of adults with a bachelor's degree or higher, 2015-19  \\\n",
       "0                                                 31.9               \n",
       "1                                                 17.8               \n",
       "2                                                 42.9               \n",
       "3                                                 18.7               \n",
       "4                                                 31.6               \n",
       "..                                                 ...               \n",
       "790                                               34.0               \n",
       "791                                               20.7               \n",
       "792                                               22.5               \n",
       "793                                               57.0               \n",
       "794                                               16.0               \n",
       "\n",
       "     # Employed  # Unemployed  ...  OtherGases  OtherNaturalGas  \\\n",
       "0         91338          5425  ...           0                0   \n",
       "1         22290          1210  ...           0                0   \n",
       "2        109646          4402  ...           0                0   \n",
       "3         21443          1643  ...           0                0   \n",
       "4        404507         43262  ...           0                0   \n",
       "..          ...           ...  ...         ...              ...   \n",
       "790       14549           831  ...           2                0   \n",
       "791        4418           233  ...           0                0   \n",
       "792       19308          1532  ...           0                0   \n",
       "793       14292           912  ...           0                0   \n",
       "794        8730           582  ...           0                0   \n",
       "\n",
       "     OtherWasteBiomass  PetroleumCoke  PetroleumLiquids  SolarPhotovoltaic  \\\n",
       "0                    0              0                 0                  0   \n",
       "1                    0              0                 2                  0   \n",
       "2                    0              0                17                  4   \n",
       "3                    0              0                17                  4   \n",
       "4                    0              0                17                  4   \n",
       "..                 ...            ...               ...                ...   \n",
       "790                  0              0                 0                  0   \n",
       "791                  0              0                 0                  0   \n",
       "792                  0              0                 0                  1   \n",
       "793                  0              0                 3                  0   \n",
       "794                  0              0                 0                  0   \n",
       "\n",
       "     SolarThermalwithEnergyStorage  SolarThermalwithoutEnergyStorage  \\\n",
       "0                                0                                 0   \n",
       "1                                0                                 0   \n",
       "2                                0                                 0   \n",
       "3                                0                                 0   \n",
       "4                                0                                 0   \n",
       "..                             ...                               ...   \n",
       "790                              0                                 0   \n",
       "791                              0                                 0   \n",
       "792                              0                                 0   \n",
       "793                              0                                 0   \n",
       "794                              0                                 0   \n",
       "\n",
       "     Wood/WoodWasteBiomass  Percent of people in poverty 2019  \n",
       "0                        0                               10.1  \n",
       "1                        2                               18.9  \n",
       "2                        0                                6.2  \n",
       "3                        0                               10.1  \n",
       "4                        0                               17.2  \n",
       "..                     ...                                ...  \n",
       "790                      0                               10.3  \n",
       "791                      0                               11.5  \n",
       "792                      0                                8.3  \n",
       "793                      0                                6.0  \n",
       "794                      0                                8.5  \n",
       "\n",
       "[795 rows x 53 columns]"
      ]
     },
     "execution_count": 10,
     "metadata": {},
     "output_type": "execute_result"
    }
   ],
   "source": [
    "DataFrame = pd.read_csv('updated_12_07.csv')\n",
    "DataFrame"
   ]
  },
  {
   "cell_type": "code",
   "execution_count": 11,
   "id": "f64eab12",
   "metadata": {},
   "outputs": [
    {
     "data": {
      "text/html": [
       "<div>\n",
       "<style scoped>\n",
       "    .dataframe tbody tr th:only-of-type {\n",
       "        vertical-align: middle;\n",
       "    }\n",
       "\n",
       "    .dataframe tbody tr th {\n",
       "        vertical-align: top;\n",
       "    }\n",
       "\n",
       "    .dataframe thead th {\n",
       "        text-align: right;\n",
       "    }\n",
       "</style>\n",
       "<table border=\"1\" class=\"dataframe\">\n",
       "  <thead>\n",
       "    <tr style=\"text-align: right;\">\n",
       "      <th></th>\n",
       "      <th>State</th>\n",
       "      <th>County</th>\n",
       "      <th>Abbreviation</th>\n",
       "      <th>Max AQI</th>\n",
       "      <th>90th Percentile AQI</th>\n",
       "      <th>Median AQI</th>\n",
       "      <th>Percent of adults with a high school diploma only, 2015-19</th>\n",
       "      <th>Percent of adults with a bachelor's degree or higher, 2015-19</th>\n",
       "      <th># Employed</th>\n",
       "      <th># Unemployed</th>\n",
       "      <th>...</th>\n",
       "      <th>OtherGases</th>\n",
       "      <th>OtherNaturalGas</th>\n",
       "      <th>OtherWasteBiomass</th>\n",
       "      <th>PetroleumCoke</th>\n",
       "      <th>PetroleumLiquids</th>\n",
       "      <th>SolarPhotovoltaic</th>\n",
       "      <th>SolarThermalwithEnergyStorage</th>\n",
       "      <th>SolarThermalwithoutEnergyStorage</th>\n",
       "      <th>Wood/WoodWasteBiomass</th>\n",
       "      <th>Percent of people in poverty 2019</th>\n",
       "    </tr>\n",
       "  </thead>\n",
       "  <tbody>\n",
       "    <tr>\n",
       "      <th>0</th>\n",
       "      <td>South Carolina</td>\n",
       "      <td>Oconee</td>\n",
       "      <td>South CarolinaOconee</td>\n",
       "      <td>0</td>\n",
       "      <td>0</td>\n",
       "      <td>0</td>\n",
       "      <td>29.0</td>\n",
       "      <td>25.8</td>\n",
       "      <td>33180</td>\n",
       "      <td>1876</td>\n",
       "      <td>...</td>\n",
       "      <td>0</td>\n",
       "      <td>0</td>\n",
       "      <td>0</td>\n",
       "      <td>0</td>\n",
       "      <td>6</td>\n",
       "      <td>0</td>\n",
       "      <td>0</td>\n",
       "      <td>0</td>\n",
       "      <td>0</td>\n",
       "      <td>13.1</td>\n",
       "    </tr>\n",
       "    <tr>\n",
       "      <th>1</th>\n",
       "      <td>Texas</td>\n",
       "      <td>Freestone</td>\n",
       "      <td>TexasFreestone</td>\n",
       "      <td>10</td>\n",
       "      <td>1</td>\n",
       "      <td>0</td>\n",
       "      <td>33.2</td>\n",
       "      <td>15.3</td>\n",
       "      <td>5820</td>\n",
       "      <td>528</td>\n",
       "      <td>...</td>\n",
       "      <td>0</td>\n",
       "      <td>0</td>\n",
       "      <td>0</td>\n",
       "      <td>0</td>\n",
       "      <td>0</td>\n",
       "      <td>0</td>\n",
       "      <td>0</td>\n",
       "      <td>0</td>\n",
       "      <td>0</td>\n",
       "      <td>15.5</td>\n",
       "    </tr>\n",
       "    <tr>\n",
       "      <th>2</th>\n",
       "      <td>Texas</td>\n",
       "      <td>Robertson</td>\n",
       "      <td>TexasRobertson</td>\n",
       "      <td>29</td>\n",
       "      <td>1</td>\n",
       "      <td>0</td>\n",
       "      <td>35.5</td>\n",
       "      <td>16.1</td>\n",
       "      <td>6875</td>\n",
       "      <td>470</td>\n",
       "      <td>...</td>\n",
       "      <td>0</td>\n",
       "      <td>0</td>\n",
       "      <td>0</td>\n",
       "      <td>0</td>\n",
       "      <td>0</td>\n",
       "      <td>0</td>\n",
       "      <td>0</td>\n",
       "      <td>0</td>\n",
       "      <td>0</td>\n",
       "      <td>20.7</td>\n",
       "    </tr>\n",
       "    <tr>\n",
       "      <th>3</th>\n",
       "      <td>Maryland</td>\n",
       "      <td>Allegany</td>\n",
       "      <td>MarylandAllegany</td>\n",
       "      <td>9</td>\n",
       "      <td>3</td>\n",
       "      <td>1</td>\n",
       "      <td>41.8</td>\n",
       "      <td>18.9</td>\n",
       "      <td>28437</td>\n",
       "      <td>2398</td>\n",
       "      <td>...</td>\n",
       "      <td>0</td>\n",
       "      <td>0</td>\n",
       "      <td>0</td>\n",
       "      <td>0</td>\n",
       "      <td>0</td>\n",
       "      <td>1</td>\n",
       "      <td>0</td>\n",
       "      <td>0</td>\n",
       "      <td>0</td>\n",
       "      <td>16.0</td>\n",
       "    </tr>\n",
       "    <tr>\n",
       "      <th>4</th>\n",
       "      <td>Indiana</td>\n",
       "      <td>Daviess</td>\n",
       "      <td>IndianaDaviess</td>\n",
       "      <td>19</td>\n",
       "      <td>4</td>\n",
       "      <td>0</td>\n",
       "      <td>34.0</td>\n",
       "      <td>13.2</td>\n",
       "      <td>15891</td>\n",
       "      <td>632</td>\n",
       "      <td>...</td>\n",
       "      <td>0</td>\n",
       "      <td>0</td>\n",
       "      <td>0</td>\n",
       "      <td>0</td>\n",
       "      <td>4</td>\n",
       "      <td>1</td>\n",
       "      <td>0</td>\n",
       "      <td>0</td>\n",
       "      <td>0</td>\n",
       "      <td>11.3</td>\n",
       "    </tr>\n",
       "    <tr>\n",
       "      <th>...</th>\n",
       "      <td>...</td>\n",
       "      <td>...</td>\n",
       "      <td>...</td>\n",
       "      <td>...</td>\n",
       "      <td>...</td>\n",
       "      <td>...</td>\n",
       "      <td>...</td>\n",
       "      <td>...</td>\n",
       "      <td>...</td>\n",
       "      <td>...</td>\n",
       "      <td>...</td>\n",
       "      <td>...</td>\n",
       "      <td>...</td>\n",
       "      <td>...</td>\n",
       "      <td>...</td>\n",
       "      <td>...</td>\n",
       "      <td>...</td>\n",
       "      <td>...</td>\n",
       "      <td>...</td>\n",
       "      <td>...</td>\n",
       "      <td>...</td>\n",
       "    </tr>\n",
       "    <tr>\n",
       "      <th>790</th>\n",
       "      <td>California</td>\n",
       "      <td>Plumas</td>\n",
       "      <td>CaliforniaPlumas</td>\n",
       "      <td>469</td>\n",
       "      <td>146</td>\n",
       "      <td>49</td>\n",
       "      <td>26.1</td>\n",
       "      <td>23.7</td>\n",
       "      <td>6753</td>\n",
       "      <td>806</td>\n",
       "      <td>...</td>\n",
       "      <td>0</td>\n",
       "      <td>0</td>\n",
       "      <td>0</td>\n",
       "      <td>0</td>\n",
       "      <td>0</td>\n",
       "      <td>0</td>\n",
       "      <td>0</td>\n",
       "      <td>0</td>\n",
       "      <td>1</td>\n",
       "      <td>13.2</td>\n",
       "    </tr>\n",
       "    <tr>\n",
       "      <th>791</th>\n",
       "      <td>California</td>\n",
       "      <td>Fresno</td>\n",
       "      <td>CaliforniaFresno</td>\n",
       "      <td>298</td>\n",
       "      <td>153</td>\n",
       "      <td>74</td>\n",
       "      <td>22.7</td>\n",
       "      <td>21.2</td>\n",
       "      <td>395258</td>\n",
       "      <td>50260</td>\n",
       "      <td>...</td>\n",
       "      <td>0</td>\n",
       "      <td>0</td>\n",
       "      <td>0</td>\n",
       "      <td>0</td>\n",
       "      <td>3</td>\n",
       "      <td>56</td>\n",
       "      <td>0</td>\n",
       "      <td>0</td>\n",
       "      <td>2</td>\n",
       "      <td>20.5</td>\n",
       "    </tr>\n",
       "    <tr>\n",
       "      <th>792</th>\n",
       "      <td>California</td>\n",
       "      <td>Riverside</td>\n",
       "      <td>CaliforniaRiverside</td>\n",
       "      <td>576</td>\n",
       "      <td>159</td>\n",
       "      <td>87</td>\n",
       "      <td>26.9</td>\n",
       "      <td>22.3</td>\n",
       "      <td>997725</td>\n",
       "      <td>109998</td>\n",
       "      <td>...</td>\n",
       "      <td>0</td>\n",
       "      <td>0</td>\n",
       "      <td>1</td>\n",
       "      <td>0</td>\n",
       "      <td>0</td>\n",
       "      <td>77</td>\n",
       "      <td>0</td>\n",
       "      <td>2</td>\n",
       "      <td>1</td>\n",
       "      <td>11.3</td>\n",
       "    </tr>\n",
       "    <tr>\n",
       "      <th>793</th>\n",
       "      <td>California</td>\n",
       "      <td>Mono</td>\n",
       "      <td>CaliforniaMono</td>\n",
       "      <td>1928</td>\n",
       "      <td>199</td>\n",
       "      <td>40</td>\n",
       "      <td>24.2</td>\n",
       "      <td>28.8</td>\n",
       "      <td>6917</td>\n",
       "      <td>929</td>\n",
       "      <td>...</td>\n",
       "      <td>0</td>\n",
       "      <td>0</td>\n",
       "      <td>0</td>\n",
       "      <td>0</td>\n",
       "      <td>0</td>\n",
       "      <td>0</td>\n",
       "      <td>0</td>\n",
       "      <td>0</td>\n",
       "      <td>0</td>\n",
       "      <td>10.1</td>\n",
       "    </tr>\n",
       "    <tr>\n",
       "      <th>794</th>\n",
       "      <td>Arizona</td>\n",
       "      <td>Maricopa</td>\n",
       "      <td>ArizonaMaricopa</td>\n",
       "      <td>282</td>\n",
       "      <td>215</td>\n",
       "      <td>112</td>\n",
       "      <td>22.4</td>\n",
       "      <td>32.7</td>\n",
       "      <td>2159267</td>\n",
       "      <td>172361</td>\n",
       "      <td>...</td>\n",
       "      <td>0</td>\n",
       "      <td>0</td>\n",
       "      <td>0</td>\n",
       "      <td>0</td>\n",
       "      <td>0</td>\n",
       "      <td>56</td>\n",
       "      <td>2</td>\n",
       "      <td>0</td>\n",
       "      <td>0</td>\n",
       "      <td>12.2</td>\n",
       "    </tr>\n",
       "  </tbody>\n",
       "</table>\n",
       "<p>795 rows × 53 columns</p>\n",
       "</div>"
      ],
      "text/plain": [
       "              State     County          Abbreviation  Max AQI  \\\n",
       "0    South Carolina     Oconee  South CarolinaOconee        0   \n",
       "1             Texas  Freestone        TexasFreestone       10   \n",
       "2             Texas  Robertson        TexasRobertson       29   \n",
       "3          Maryland   Allegany      MarylandAllegany        9   \n",
       "4           Indiana    Daviess        IndianaDaviess       19   \n",
       "..              ...        ...                   ...      ...   \n",
       "790      California     Plumas      CaliforniaPlumas      469   \n",
       "791      California     Fresno      CaliforniaFresno      298   \n",
       "792      California  Riverside   CaliforniaRiverside      576   \n",
       "793      California       Mono        CaliforniaMono     1928   \n",
       "794         Arizona   Maricopa       ArizonaMaricopa      282   \n",
       "\n",
       "     90th Percentile AQI  Median AQI  \\\n",
       "0                      0           0   \n",
       "1                      1           0   \n",
       "2                      1           0   \n",
       "3                      3           1   \n",
       "4                      4           0   \n",
       "..                   ...         ...   \n",
       "790                  146          49   \n",
       "791                  153          74   \n",
       "792                  159          87   \n",
       "793                  199          40   \n",
       "794                  215         112   \n",
       "\n",
       "     Percent of adults with a high school diploma only, 2015-19  \\\n",
       "0                                                 29.0            \n",
       "1                                                 33.2            \n",
       "2                                                 35.5            \n",
       "3                                                 41.8            \n",
       "4                                                 34.0            \n",
       "..                                                 ...            \n",
       "790                                               26.1            \n",
       "791                                               22.7            \n",
       "792                                               26.9            \n",
       "793                                               24.2            \n",
       "794                                               22.4            \n",
       "\n",
       "     Percent of adults with a bachelor's degree or higher, 2015-19  \\\n",
       "0                                                 25.8               \n",
       "1                                                 15.3               \n",
       "2                                                 16.1               \n",
       "3                                                 18.9               \n",
       "4                                                 13.2               \n",
       "..                                                 ...               \n",
       "790                                               23.7               \n",
       "791                                               21.2               \n",
       "792                                               22.3               \n",
       "793                                               28.8               \n",
       "794                                               32.7               \n",
       "\n",
       "     # Employed  # Unemployed  ...  OtherGases  OtherNaturalGas  \\\n",
       "0         33180          1876  ...           0                0   \n",
       "1          5820           528  ...           0                0   \n",
       "2          6875           470  ...           0                0   \n",
       "3         28437          2398  ...           0                0   \n",
       "4         15891           632  ...           0                0   \n",
       "..          ...           ...  ...         ...              ...   \n",
       "790        6753           806  ...           0                0   \n",
       "791      395258         50260  ...           0                0   \n",
       "792      997725        109998  ...           0                0   \n",
       "793        6917           929  ...           0                0   \n",
       "794     2159267        172361  ...           0                0   \n",
       "\n",
       "     OtherWasteBiomass  PetroleumCoke  PetroleumLiquids  SolarPhotovoltaic  \\\n",
       "0                    0              0                 6                  0   \n",
       "1                    0              0                 0                  0   \n",
       "2                    0              0                 0                  0   \n",
       "3                    0              0                 0                  1   \n",
       "4                    0              0                 4                  1   \n",
       "..                 ...            ...               ...                ...   \n",
       "790                  0              0                 0                  0   \n",
       "791                  0              0                 3                 56   \n",
       "792                  1              0                 0                 77   \n",
       "793                  0              0                 0                  0   \n",
       "794                  0              0                 0                 56   \n",
       "\n",
       "     SolarThermalwithEnergyStorage  SolarThermalwithoutEnergyStorage  \\\n",
       "0                                0                                 0   \n",
       "1                                0                                 0   \n",
       "2                                0                                 0   \n",
       "3                                0                                 0   \n",
       "4                                0                                 0   \n",
       "..                             ...                               ...   \n",
       "790                              0                                 0   \n",
       "791                              0                                 0   \n",
       "792                              0                                 2   \n",
       "793                              0                                 0   \n",
       "794                              2                                 0   \n",
       "\n",
       "     Wood/WoodWasteBiomass  Percent of people in poverty 2019  \n",
       "0                        0                               13.1  \n",
       "1                        0                               15.5  \n",
       "2                        0                               20.7  \n",
       "3                        0                               16.0  \n",
       "4                        0                               11.3  \n",
       "..                     ...                                ...  \n",
       "790                      1                               13.2  \n",
       "791                      2                               20.5  \n",
       "792                      1                               11.3  \n",
       "793                      0                               10.1  \n",
       "794                      0                               12.2  \n",
       "\n",
       "[795 rows x 53 columns]"
      ]
     },
     "execution_count": 11,
     "metadata": {},
     "output_type": "execute_result"
    },
    {
     "data": {
      "text/html": [
       "<div>\n",
       "<style scoped>\n",
       "    .dataframe tbody tr th:only-of-type {\n",
       "        vertical-align: middle;\n",
       "    }\n",
       "\n",
       "    .dataframe tbody tr th {\n",
       "        vertical-align: top;\n",
       "    }\n",
       "\n",
       "    .dataframe thead th {\n",
       "        text-align: right;\n",
       "    }\n",
       "</style>\n",
       "<table border=\"1\" class=\"dataframe\">\n",
       "  <thead>\n",
       "    <tr style=\"text-align: right;\">\n",
       "      <th></th>\n",
       "      <th>State</th>\n",
       "      <th>County</th>\n",
       "      <th>Abbreviation</th>\n",
       "      <th>Max AQI</th>\n",
       "      <th>90th Percentile AQI</th>\n",
       "      <th>Median AQI</th>\n",
       "      <th>Percent of adults with a high school diploma only, 2015-19</th>\n",
       "      <th>Percent of adults with a bachelor's degree or higher, 2015-19</th>\n",
       "      <th># Employed</th>\n",
       "      <th># Unemployed</th>\n",
       "      <th>...</th>\n",
       "      <th>OtherGases</th>\n",
       "      <th>OtherNaturalGas</th>\n",
       "      <th>OtherWasteBiomass</th>\n",
       "      <th>PetroleumCoke</th>\n",
       "      <th>PetroleumLiquids</th>\n",
       "      <th>SolarPhotovoltaic</th>\n",
       "      <th>SolarThermalwithEnergyStorage</th>\n",
       "      <th>SolarThermalwithoutEnergyStorage</th>\n",
       "      <th>Wood/WoodWasteBiomass</th>\n",
       "      <th>Percent of people in poverty 2019</th>\n",
       "    </tr>\n",
       "  </thead>\n",
       "  <tbody>\n",
       "    <tr>\n",
       "      <th>0</th>\n",
       "      <td>South Carolina</td>\n",
       "      <td>Oconee</td>\n",
       "      <td>South CarolinaOconee</td>\n",
       "      <td>0</td>\n",
       "      <td>0</td>\n",
       "      <td>0</td>\n",
       "      <td>29.0</td>\n",
       "      <td>25.8</td>\n",
       "      <td>33180</td>\n",
       "      <td>1876</td>\n",
       "      <td>...</td>\n",
       "      <td>0</td>\n",
       "      <td>0</td>\n",
       "      <td>0</td>\n",
       "      <td>0</td>\n",
       "      <td>6</td>\n",
       "      <td>0</td>\n",
       "      <td>0</td>\n",
       "      <td>0</td>\n",
       "      <td>0</td>\n",
       "      <td>13.1</td>\n",
       "    </tr>\n",
       "    <tr>\n",
       "      <th>1</th>\n",
       "      <td>Texas</td>\n",
       "      <td>Freestone</td>\n",
       "      <td>TexasFreestone</td>\n",
       "      <td>10</td>\n",
       "      <td>1</td>\n",
       "      <td>0</td>\n",
       "      <td>33.2</td>\n",
       "      <td>15.3</td>\n",
       "      <td>5820</td>\n",
       "      <td>528</td>\n",
       "      <td>...</td>\n",
       "      <td>0</td>\n",
       "      <td>0</td>\n",
       "      <td>0</td>\n",
       "      <td>0</td>\n",
       "      <td>0</td>\n",
       "      <td>0</td>\n",
       "      <td>0</td>\n",
       "      <td>0</td>\n",
       "      <td>0</td>\n",
       "      <td>15.5</td>\n",
       "    </tr>\n",
       "    <tr>\n",
       "      <th>2</th>\n",
       "      <td>Texas</td>\n",
       "      <td>Robertson</td>\n",
       "      <td>TexasRobertson</td>\n",
       "      <td>29</td>\n",
       "      <td>1</td>\n",
       "      <td>0</td>\n",
       "      <td>35.5</td>\n",
       "      <td>16.1</td>\n",
       "      <td>6875</td>\n",
       "      <td>470</td>\n",
       "      <td>...</td>\n",
       "      <td>0</td>\n",
       "      <td>0</td>\n",
       "      <td>0</td>\n",
       "      <td>0</td>\n",
       "      <td>0</td>\n",
       "      <td>0</td>\n",
       "      <td>0</td>\n",
       "      <td>0</td>\n",
       "      <td>0</td>\n",
       "      <td>20.7</td>\n",
       "    </tr>\n",
       "    <tr>\n",
       "      <th>3</th>\n",
       "      <td>Maryland</td>\n",
       "      <td>Allegany</td>\n",
       "      <td>MarylandAllegany</td>\n",
       "      <td>9</td>\n",
       "      <td>3</td>\n",
       "      <td>1</td>\n",
       "      <td>41.8</td>\n",
       "      <td>18.9</td>\n",
       "      <td>28437</td>\n",
       "      <td>2398</td>\n",
       "      <td>...</td>\n",
       "      <td>0</td>\n",
       "      <td>0</td>\n",
       "      <td>0</td>\n",
       "      <td>0</td>\n",
       "      <td>0</td>\n",
       "      <td>1</td>\n",
       "      <td>0</td>\n",
       "      <td>0</td>\n",
       "      <td>0</td>\n",
       "      <td>16.0</td>\n",
       "    </tr>\n",
       "    <tr>\n",
       "      <th>4</th>\n",
       "      <td>Indiana</td>\n",
       "      <td>Daviess</td>\n",
       "      <td>IndianaDaviess</td>\n",
       "      <td>19</td>\n",
       "      <td>4</td>\n",
       "      <td>0</td>\n",
       "      <td>34.0</td>\n",
       "      <td>13.2</td>\n",
       "      <td>15891</td>\n",
       "      <td>632</td>\n",
       "      <td>...</td>\n",
       "      <td>0</td>\n",
       "      <td>0</td>\n",
       "      <td>0</td>\n",
       "      <td>0</td>\n",
       "      <td>4</td>\n",
       "      <td>1</td>\n",
       "      <td>0</td>\n",
       "      <td>0</td>\n",
       "      <td>0</td>\n",
       "      <td>11.3</td>\n",
       "    </tr>\n",
       "    <tr>\n",
       "      <th>...</th>\n",
       "      <td>...</td>\n",
       "      <td>...</td>\n",
       "      <td>...</td>\n",
       "      <td>...</td>\n",
       "      <td>...</td>\n",
       "      <td>...</td>\n",
       "      <td>...</td>\n",
       "      <td>...</td>\n",
       "      <td>...</td>\n",
       "      <td>...</td>\n",
       "      <td>...</td>\n",
       "      <td>...</td>\n",
       "      <td>...</td>\n",
       "      <td>...</td>\n",
       "      <td>...</td>\n",
       "      <td>...</td>\n",
       "      <td>...</td>\n",
       "      <td>...</td>\n",
       "      <td>...</td>\n",
       "      <td>...</td>\n",
       "      <td>...</td>\n",
       "    </tr>\n",
       "    <tr>\n",
       "      <th>790</th>\n",
       "      <td>California</td>\n",
       "      <td>Plumas</td>\n",
       "      <td>CaliforniaPlumas</td>\n",
       "      <td>469</td>\n",
       "      <td>146</td>\n",
       "      <td>49</td>\n",
       "      <td>26.1</td>\n",
       "      <td>23.7</td>\n",
       "      <td>6753</td>\n",
       "      <td>806</td>\n",
       "      <td>...</td>\n",
       "      <td>0</td>\n",
       "      <td>0</td>\n",
       "      <td>0</td>\n",
       "      <td>0</td>\n",
       "      <td>0</td>\n",
       "      <td>0</td>\n",
       "      <td>0</td>\n",
       "      <td>0</td>\n",
       "      <td>1</td>\n",
       "      <td>13.2</td>\n",
       "    </tr>\n",
       "    <tr>\n",
       "      <th>791</th>\n",
       "      <td>California</td>\n",
       "      <td>Fresno</td>\n",
       "      <td>CaliforniaFresno</td>\n",
       "      <td>298</td>\n",
       "      <td>153</td>\n",
       "      <td>74</td>\n",
       "      <td>22.7</td>\n",
       "      <td>21.2</td>\n",
       "      <td>395258</td>\n",
       "      <td>50260</td>\n",
       "      <td>...</td>\n",
       "      <td>0</td>\n",
       "      <td>0</td>\n",
       "      <td>0</td>\n",
       "      <td>0</td>\n",
       "      <td>3</td>\n",
       "      <td>56</td>\n",
       "      <td>0</td>\n",
       "      <td>0</td>\n",
       "      <td>2</td>\n",
       "      <td>20.5</td>\n",
       "    </tr>\n",
       "    <tr>\n",
       "      <th>792</th>\n",
       "      <td>California</td>\n",
       "      <td>Riverside</td>\n",
       "      <td>CaliforniaRiverside</td>\n",
       "      <td>576</td>\n",
       "      <td>159</td>\n",
       "      <td>87</td>\n",
       "      <td>26.9</td>\n",
       "      <td>22.3</td>\n",
       "      <td>997725</td>\n",
       "      <td>109998</td>\n",
       "      <td>...</td>\n",
       "      <td>0</td>\n",
       "      <td>0</td>\n",
       "      <td>1</td>\n",
       "      <td>0</td>\n",
       "      <td>0</td>\n",
       "      <td>77</td>\n",
       "      <td>0</td>\n",
       "      <td>2</td>\n",
       "      <td>1</td>\n",
       "      <td>11.3</td>\n",
       "    </tr>\n",
       "    <tr>\n",
       "      <th>793</th>\n",
       "      <td>California</td>\n",
       "      <td>Mono</td>\n",
       "      <td>CaliforniaMono</td>\n",
       "      <td>1928</td>\n",
       "      <td>199</td>\n",
       "      <td>40</td>\n",
       "      <td>24.2</td>\n",
       "      <td>28.8</td>\n",
       "      <td>6917</td>\n",
       "      <td>929</td>\n",
       "      <td>...</td>\n",
       "      <td>0</td>\n",
       "      <td>0</td>\n",
       "      <td>0</td>\n",
       "      <td>0</td>\n",
       "      <td>0</td>\n",
       "      <td>0</td>\n",
       "      <td>0</td>\n",
       "      <td>0</td>\n",
       "      <td>0</td>\n",
       "      <td>10.1</td>\n",
       "    </tr>\n",
       "    <tr>\n",
       "      <th>794</th>\n",
       "      <td>Arizona</td>\n",
       "      <td>Maricopa</td>\n",
       "      <td>ArizonaMaricopa</td>\n",
       "      <td>282</td>\n",
       "      <td>215</td>\n",
       "      <td>112</td>\n",
       "      <td>22.4</td>\n",
       "      <td>32.7</td>\n",
       "      <td>2159267</td>\n",
       "      <td>172361</td>\n",
       "      <td>...</td>\n",
       "      <td>0</td>\n",
       "      <td>0</td>\n",
       "      <td>0</td>\n",
       "      <td>0</td>\n",
       "      <td>0</td>\n",
       "      <td>56</td>\n",
       "      <td>2</td>\n",
       "      <td>0</td>\n",
       "      <td>0</td>\n",
       "      <td>12.2</td>\n",
       "    </tr>\n",
       "  </tbody>\n",
       "</table>\n",
       "<p>795 rows × 53 columns</p>\n",
       "</div>"
      ],
      "text/plain": [
       "              State     County          Abbreviation  Max AQI  \\\n",
       "0    South Carolina     Oconee  South CarolinaOconee        0   \n",
       "1             Texas  Freestone        TexasFreestone       10   \n",
       "2             Texas  Robertson        TexasRobertson       29   \n",
       "3          Maryland   Allegany      MarylandAllegany        9   \n",
       "4           Indiana    Daviess        IndianaDaviess       19   \n",
       "..              ...        ...                   ...      ...   \n",
       "790      California     Plumas      CaliforniaPlumas      469   \n",
       "791      California     Fresno      CaliforniaFresno      298   \n",
       "792      California  Riverside   CaliforniaRiverside      576   \n",
       "793      California       Mono        CaliforniaMono     1928   \n",
       "794         Arizona   Maricopa       ArizonaMaricopa      282   \n",
       "\n",
       "     90th Percentile AQI  Median AQI  \\\n",
       "0                      0           0   \n",
       "1                      1           0   \n",
       "2                      1           0   \n",
       "3                      3           1   \n",
       "4                      4           0   \n",
       "..                   ...         ...   \n",
       "790                  146          49   \n",
       "791                  153          74   \n",
       "792                  159          87   \n",
       "793                  199          40   \n",
       "794                  215         112   \n",
       "\n",
       "     Percent of adults with a high school diploma only, 2015-19  \\\n",
       "0                                                 29.0            \n",
       "1                                                 33.2            \n",
       "2                                                 35.5            \n",
       "3                                                 41.8            \n",
       "4                                                 34.0            \n",
       "..                                                 ...            \n",
       "790                                               26.1            \n",
       "791                                               22.7            \n",
       "792                                               26.9            \n",
       "793                                               24.2            \n",
       "794                                               22.4            \n",
       "\n",
       "     Percent of adults with a bachelor's degree or higher, 2015-19  \\\n",
       "0                                                 25.8               \n",
       "1                                                 15.3               \n",
       "2                                                 16.1               \n",
       "3                                                 18.9               \n",
       "4                                                 13.2               \n",
       "..                                                 ...               \n",
       "790                                               23.7               \n",
       "791                                               21.2               \n",
       "792                                               22.3               \n",
       "793                                               28.8               \n",
       "794                                               32.7               \n",
       "\n",
       "     # Employed  # Unemployed  ...  OtherGases  OtherNaturalGas  \\\n",
       "0         33180          1876  ...           0                0   \n",
       "1          5820           528  ...           0                0   \n",
       "2          6875           470  ...           0                0   \n",
       "3         28437          2398  ...           0                0   \n",
       "4         15891           632  ...           0                0   \n",
       "..          ...           ...  ...         ...              ...   \n",
       "790        6753           806  ...           0                0   \n",
       "791      395258         50260  ...           0                0   \n",
       "792      997725        109998  ...           0                0   \n",
       "793        6917           929  ...           0                0   \n",
       "794     2159267        172361  ...           0                0   \n",
       "\n",
       "     OtherWasteBiomass  PetroleumCoke  PetroleumLiquids  SolarPhotovoltaic  \\\n",
       "0                    0              0                 6                  0   \n",
       "1                    0              0                 0                  0   \n",
       "2                    0              0                 0                  0   \n",
       "3                    0              0                 0                  1   \n",
       "4                    0              0                 4                  1   \n",
       "..                 ...            ...               ...                ...   \n",
       "790                  0              0                 0                  0   \n",
       "791                  0              0                 3                 56   \n",
       "792                  1              0                 0                 77   \n",
       "793                  0              0                 0                  0   \n",
       "794                  0              0                 0                 56   \n",
       "\n",
       "     SolarThermalwithEnergyStorage  SolarThermalwithoutEnergyStorage  \\\n",
       "0                                0                                 0   \n",
       "1                                0                                 0   \n",
       "2                                0                                 0   \n",
       "3                                0                                 0   \n",
       "4                                0                                 0   \n",
       "..                             ...                               ...   \n",
       "790                              0                                 0   \n",
       "791                              0                                 0   \n",
       "792                              0                                 2   \n",
       "793                              0                                 0   \n",
       "794                              2                                 0   \n",
       "\n",
       "     Wood/WoodWasteBiomass  Percent of people in poverty 2019  \n",
       "0                        0                               13.1  \n",
       "1                        0                               15.5  \n",
       "2                        0                               20.7  \n",
       "3                        0                               16.0  \n",
       "4                        0                               11.3  \n",
       "..                     ...                                ...  \n",
       "790                      1                               13.2  \n",
       "791                      2                               20.5  \n",
       "792                      1                               11.3  \n",
       "793                      0                               10.1  \n",
       "794                      0                               12.2  \n",
       "\n",
       "[795 rows x 53 columns]"
      ]
     },
     "execution_count": 11,
     "metadata": {},
     "output_type": "execute_result"
    }
   ],
   "source": [
    "# Organizing the AQI \n",
    "AQI_Sort = DataFrame.sort_values(['90th Percentile AQI']) # Sorts the AQI according towards Median AQI \n",
    "AQI_Sort = AQI_Sort.reset_index(drop=True)\n",
    "AQI_Sort"
   ]
  },
  {
   "cell_type": "code",
   "execution_count": 12,
   "id": "9600ca7c",
   "metadata": {},
   "outputs": [
    {
     "data": {
      "text/html": [
       "<div>\n",
       "<style scoped>\n",
       "    .dataframe tbody tr th:only-of-type {\n",
       "        vertical-align: middle;\n",
       "    }\n",
       "\n",
       "    .dataframe tbody tr th {\n",
       "        vertical-align: top;\n",
       "    }\n",
       "\n",
       "    .dataframe thead th {\n",
       "        text-align: right;\n",
       "    }\n",
       "</style>\n",
       "<table border=\"1\" class=\"dataframe\">\n",
       "  <thead>\n",
       "    <tr style=\"text-align: right;\">\n",
       "      <th></th>\n",
       "      <th>Counts</th>\n",
       "    </tr>\n",
       "  </thead>\n",
       "  <tbody>\n",
       "    <tr>\n",
       "      <th>Moderate</th>\n",
       "      <td>397</td>\n",
       "    </tr>\n",
       "    <tr>\n",
       "      <th>Good</th>\n",
       "      <td>381</td>\n",
       "    </tr>\n",
       "    <tr>\n",
       "      <th>Unhealthy</th>\n",
       "      <td>17</td>\n",
       "    </tr>\n",
       "  </tbody>\n",
       "</table>\n",
       "</div>"
      ],
      "text/plain": [
       "           Counts\n",
       "Moderate      397\n",
       "Good          381\n",
       "Unhealthy      17"
      ]
     },
     "execution_count": 12,
     "metadata": {},
     "output_type": "execute_result"
    },
    {
     "data": {
      "text/html": [
       "<div>\n",
       "<style scoped>\n",
       "    .dataframe tbody tr th:only-of-type {\n",
       "        vertical-align: middle;\n",
       "    }\n",
       "\n",
       "    .dataframe tbody tr th {\n",
       "        vertical-align: top;\n",
       "    }\n",
       "\n",
       "    .dataframe thead th {\n",
       "        text-align: right;\n",
       "    }\n",
       "</style>\n",
       "<table border=\"1\" class=\"dataframe\">\n",
       "  <thead>\n",
       "    <tr style=\"text-align: right;\">\n",
       "      <th></th>\n",
       "      <th>Counts</th>\n",
       "    </tr>\n",
       "  </thead>\n",
       "  <tbody>\n",
       "    <tr>\n",
       "      <th>Moderate</th>\n",
       "      <td>397</td>\n",
       "    </tr>\n",
       "    <tr>\n",
       "      <th>Good</th>\n",
       "      <td>381</td>\n",
       "    </tr>\n",
       "    <tr>\n",
       "      <th>Unhealthy</th>\n",
       "      <td>17</td>\n",
       "    </tr>\n",
       "  </tbody>\n",
       "</table>\n",
       "</div>"
      ],
      "text/plain": [
       "           Counts\n",
       "Moderate      397\n",
       "Good          381\n",
       "Unhealthy      17"
      ]
     },
     "execution_count": 12,
     "metadata": {},
     "output_type": "execute_result"
    }
   ],
   "source": [
    "# Separating the 90th Percentile AQI into Good,Moderate, Unhealthy Air Quality According to EPA Standards\n",
    "DataFrame.loc[DataFrame['90th Percentile AQI'] <= 50, 'Quality'] = 'Good'\n",
    "DataFrame.loc[(DataFrame['90th Percentile AQI'] >= 51) & (DataFrame['90th Percentile AQI'] <= 100), 'Quality'] = 'Moderate'\n",
    "DataFrame.loc[DataFrame['90th Percentile AQI'] >=101, 'Quality'] = 'Unhealthy'\n",
    "air_data = DataFrame['Quality'].value_counts().to_frame('Counts')\n",
    "\n",
    "DataFrame.to_csv('update.csv') # double check the .CSV\n",
    "\n",
    "Good = DataFrame[DataFrame['Quality'].str.contains('Good')]\n",
    "Moderate = DataFrame[DataFrame['Quality'].str.contains('Moderate')]\n",
    "Unhealthy = DataFrame[DataFrame['Quality'].str.contains('Unhealthy')]\n",
    "air_data"
   ]
  },
  {
   "cell_type": "code",
   "execution_count": 13,
   "id": "5314214d",
   "metadata": {},
   "outputs": [
    {
     "data": {
      "application/vnd.plotly.v1+json": {
       "config": {
        "plotlyServerURL": "https://plot.ly"
       },
       "data": [
        {
         "mode": "markers",
         "name": "Good AQI",
         "type": "scatter",
         "x": [
          5.318286688622218,
          5.324819331183517,
          4.647373188597217,
          4.113441953965322,
          4.482187313544587,
          5.314316040434888,
          4.854439650318333,
          5.314002125855026,
          4.258254053507148,
          4.258254053507148,
          4.312537003107304,
          4.349957098719464,
          4.199645493080167,
          3.1126050015345745,
          4.625888383862849,
          3.894758994371892,
          4.304555150120442,
          4.679763935940666,
          4.807162809471061,
          5.355440025634347,
          4.079868335175173,
          4.5009770535891995,
          5.4036643360931595,
          4.3057596722628215,
          4.782981153191993,
          5.101203866268414,
          4.577824860980239,
          3.4153072922255676,
          5.1327974204520155,
          6.415098106195055,
          4.807183120531617,
          5.525513850979463,
          4.024033897900905,
          4.024033897900905,
          3.580810972660946,
          3.580810972660946,
          4.024033897900905,
          4.024033897900905,
          3.580810972660946,
          3.580810972660946,
          4.473837184033068,
          5.577752528032207,
          4.822344639121273,
          4.445261613754528,
          4.288964260896139,
          4.216007468108312,
          5.151798722592861,
          4.672116338158776,
          4.793720556813524,
          3.7004441010277516,
          3.34713478291002,
          5.058608207700355,
          4.726295144126775,
          4.489339625857985,
          4.081059123001319,
          5.216654044136993,
          4.3957456299921684,
          5.262524652510474,
          6.20281296295569,
          5.179749935899168,
          5.066467560549935,
          4.6349808000512285,
          5.242596084347571,
          4.292100938480419,
          5.214475600914911,
          4.443810401121398,
          5.16818800475665,
          3.6021685513789974,
          4.755524230907189,
          3.6603910984024672,
          5.009029995684903,
          5.856534954836759,
          4.928984413940275,
          3.922465945298413,
          5.572700870012037,
          4.362746288823878,
          4.9062164837058315,
          6.132440287733574,
          5.302627429362541,
          5.529711322832728,
          5.708074856527354,
          4.861928502093725,
          4.9959421629925505,
          4.883320678382975,
          5.658093475330018,
          5.722332773107504,
          4.113375057094903,
          5.872189499377181,
          4.37768864073337,
          4.292278228672973,
          4.885412110934279,
          4.924144840771305,
          4.787765011483216,
          5.344995150995915,
          4.5972233473121555,
          4.257246464907372,
          4.781633324343898,
          4.949443680174156,
          5.295914396647842,
          5.295914396647842,
          5.994597791337682,
          4.853558290455931,
          5.218222931796359,
          4.342304220718211,
          5.050754719588618,
          3.839980557678343,
          5.011912838805169,
          5.186817949117826,
          4.957415714722669,
          4.369790824030776,
          5.186405352655567,
          3.725176301419137,
          4.5336958150954265,
          4.53668467262093,
          4.9898145430342025,
          4.1185623126356035,
          4.530660651172487,
          3.9372168908627057,
          5.224237735196979,
          5.126624864745772,
          4.063445953123033,
          4.500112922159694,
          4.808352787778733,
          5.110909421860063,
          5.2467816170350465,
          4.177074545910076,
          4.589279221235968,
          4.300899687772249,
          5.224071849290467,
          4.4733117571189815,
          4.517684039800974,
          5.063017939887928,
          5.294483862127643,
          4.52628757258808,
          4.509135288879168,
          4.569888670658117,
          5.206663996990936,
          5.49876115897809,
          4.572976098995143,
          4.600133973782028,
          3.9273703630390235,
          4.786857853828952,
          4.2819646232599,
          4.430026654510014,
          4.282078054577154,
          4.40805331429798,
          4.791887054448624,
          4.394136352641888,
          4.311223910432456,
          4.1505415413740865,
          4.184890082199722,
          5.213451346034802,
          3.9301846522986197,
          6.017088875330536,
          4.436766739173454,
          5.293112735919741,
          5.156464343571387,
          5.010291474242876,
          4.537617636420976,
          3.7756832490260437,
          4.434377261250224,
          4.436003535669896,
          4.457048826585631,
          4.553458229380449,
          3.940466677663529,
          4.7367230963944,
          4.879038505237237,
          4.6640493516544295,
          3.966751664051378,
          4.123361558746296,
          4.167376418413583,
          4.815405058696692,
          5.026504664697579,
          4.602439832843189,
          5.031182168178816,
          4.834223541380128,
          5.52127672185961,
          5.084737097962795,
          4.758344063401976,
          5.181122975894328,
          5.307714200040391,
          5.412697370746874,
          4.857193741308315,
          4.95943255838829,
          5.0107958887479755,
          5.1977518220661,
          4.508677825165493,
          5.395277455722756,
          4.930199953067788,
          4.4679926595211485,
          5.329784199064232,
          4.2383723290283255,
          5.8926643794693865,
          4.576928460302419,
          5.207254563904791,
          5.8440103223969695,
          4.528569640012892,
          4.663861047845941,
          4.550717423469282,
          4.462727337772099,
          5.011477400733501,
          4.409966919252241,
          4.664801751490762,
          4.4122757019358305,
          5.1953986801294105,
          4.706265334409592,
          4.888308695565653,
          4.651665603922935,
          4.144200460183879,
          4.00949338828754,
          4.69627773673571,
          4.744785686458521,
          4.289633539009645,
          4.910843097652502,
          4.279004961844902,
          4.469998642218747,
          4.7381460887120594,
          4.912466510929526,
          4.0553783313750005,
          5.6109400225290385,
          4.050302403962402,
          3.9661417327390325,
          3.5531545481696254,
          4.477294937778128,
          5.198151031569567,
          5.491493363167025,
          2.8095597146352675,
          4.380392160057028,
          4.718102918177168,
          4.64053112457209,
          5.429007367334705,
          5.463672054505291,
          5.794757741336501,
          5.69406352855906,
          5.7722769544790635,
          5.702465864520014,
          4.8159693664195995,
          4.845879067367752,
          4.3849623973026075,
          4.517037463772294,
          5.112792619112295,
          5.468190719813714,
          5.440865020969714,
          5.325729063789446,
          5.363201932709326,
          4.548327985997318,
          5.666744428543663,
          5.075926347114654,
          5.510123915793574,
          5.356746532127148,
          4.986444771041151,
          5.012676969993142,
          4.958353612776127,
          3.4303975913869666,
          5.9862408542956045,
          4.569596267645642,
          4.674337468155646,
          5.103324707061445,
          5.4056434164042,
          4.912641795663937,
          4.356905034810079,
          5.486369545827313,
          4.726987870438496,
          3.932321531989293,
          4.769923543522596,
          5.718984707712472,
          4.781274153922566,
          3.7318304202881625,
          5.281424283672431,
          4.043008409879952,
          4.757600979569135,
          4.177247836255623,
          4.305050268917223,
          4.594447800611733,
          5.248885063042197,
          4.960328050530143,
          4.900061102735481,
          4.1539367544609345,
          4.991828352265942,
          5.307957898681535,
          4.479935033944336,
          4.941421980623304,
          4.632831697087637,
          5.236267633088603,
          5.020361282647708,
          4.1596574112477045,
          4.882962595788631,
          5.113729493146094,
          4.344647665919406,
          5.135800283302111,
          3.6452257115354163,
          4.977083120315853,
          4.612571954065176,
          4.839377475502759,
          4.674962127712317,
          4.616570029608803,
          4.78748881254863,
          5.796830949007645,
          4.904261001933344,
          4.485834952683221,
          4.9332594512699535,
          5.325215904954646,
          5.502268669196366,
          4.8747658426895795,
          4.616370472291269,
          4.615171198924552,
          5.549923628354655,
          4.440720217316904,
          5.222523986631931,
          5.292244992274296,
          4.87952594503966,
          5.3202813327739,
          4.662984361017443,
          5.530771974774431,
          4.827711661973865,
          5.141641009004354,
          5.50639001707986,
          5.456845618079411,
          4.884772714363229,
          4.2459319543386025,
          4.438130800243104,
          4.499865711329091,
          4.712733859069952,
          4.722411783326495,
          4.723431042160122,
          4.983567655666821,
          5.339745509154297,
          3.964542466079137,
          4.294664589500175,
          5.0916458577560775,
          4.755119898919951,
          4.964504765269017,
          4.187153953785416,
          5.4792210509029875,
          5.395202291201982,
          5.113281384161362,
          4.227629649571009,
          4.729124275258121,
          5.352211470111767,
          4.514946005308004,
          4.963646186484843,
          4.189686782592971,
          4.555336327995267,
          5.209654395341101,
          4.479776792192939,
          4.839572312356351,
          5.018904286378933,
          5.512740413391318,
          5.585622008937453,
          4.971196963302861,
          4.971196963302861,
          4.971196963302861,
          4.971196963302861,
          4.998350896885444,
          4.998350896885444,
          4.998350896885444,
          4.998350896885444,
          4.971196963302861,
          4.971196963302861,
          4.971196963302861,
          4.971196963302861,
          4.998350896885444,
          4.998350896885444,
          4.998350896885444,
          4.998350896885444,
          5.158398681794192,
          4.872080483205862,
          5.021652299627546,
          4.330332589222979,
          4.8861916922786905,
          4.796761608337888,
          5.093095842094377,
          5.438833363046032,
          4.686573712053882,
          4.196231470442874,
          4.308777773664721,
          5.131182226148925,
          5.208895300843405,
          4.308692442201257,
          4.464206284343785,
          3.9381693463903202
         ],
         "y": [
          "Good",
          "Good",
          "Good",
          "Good",
          "Good",
          "Good",
          "Good",
          "Good",
          "Good",
          "Good",
          "Good",
          "Good",
          "Good",
          "Good",
          "Good",
          "Good",
          "Good",
          "Good",
          "Good",
          "Good",
          "Good",
          "Good",
          "Good",
          "Good",
          "Good",
          "Good",
          "Good",
          "Good",
          "Good",
          "Good",
          "Good",
          "Good",
          "Good",
          "Good",
          "Good",
          "Good",
          "Good",
          "Good",
          "Good",
          "Good",
          "Good",
          "Good",
          "Good",
          "Good",
          "Good",
          "Good",
          "Good",
          "Good",
          "Good",
          "Good",
          "Good",
          "Good",
          "Good",
          "Good",
          "Good",
          "Good",
          "Good",
          "Good",
          "Good",
          "Good",
          "Good",
          "Good",
          "Good",
          "Good",
          "Good",
          "Good",
          "Good",
          "Good",
          "Good",
          "Good",
          "Good",
          "Good",
          "Good",
          "Good",
          "Good",
          "Good",
          "Good",
          "Good",
          "Good",
          "Good",
          "Good",
          "Good",
          "Good",
          "Good",
          "Good",
          "Good",
          "Good",
          "Good",
          "Good",
          "Good",
          "Good",
          "Good",
          "Good",
          "Good",
          "Good",
          "Good",
          "Good",
          "Good",
          "Good",
          "Good",
          "Good",
          "Good",
          "Good",
          "Good",
          "Good",
          "Good",
          "Good",
          "Good",
          "Good",
          "Good",
          "Good",
          "Good",
          "Good",
          "Good",
          "Good",
          "Good",
          "Good",
          "Good",
          "Good",
          "Good",
          "Good",
          "Good",
          "Good",
          "Good",
          "Good",
          "Good",
          "Good",
          "Good",
          "Good",
          "Good",
          "Good",
          "Good",
          "Good",
          "Good",
          "Good",
          "Good",
          "Good",
          "Good",
          "Good",
          "Good",
          "Good",
          "Good",
          "Good",
          "Good",
          "Good",
          "Good",
          "Good",
          "Good",
          "Good",
          "Good",
          "Good",
          "Good",
          "Good",
          "Good",
          "Good",
          "Good",
          "Good",
          "Good",
          "Good",
          "Good",
          "Good",
          "Good",
          "Good",
          "Good",
          "Good",
          "Good",
          "Good",
          "Good",
          "Good",
          "Good",
          "Good",
          "Good",
          "Good",
          "Good",
          "Good",
          "Good",
          "Good",
          "Good",
          "Good",
          "Good",
          "Good",
          "Good",
          "Good",
          "Good",
          "Good",
          "Good",
          "Good",
          "Good",
          "Good",
          "Good",
          "Good",
          "Good",
          "Good",
          "Good",
          "Good",
          "Good",
          "Good",
          "Good",
          "Good",
          "Good",
          "Good",
          "Good",
          "Good",
          "Good",
          "Good",
          "Good",
          "Good",
          "Good",
          "Good",
          "Good",
          "Good",
          "Good",
          "Good",
          "Good",
          "Good",
          "Good",
          "Good",
          "Good",
          "Good",
          "Good",
          "Good",
          "Good",
          "Good",
          "Good",
          "Good",
          "Good",
          "Good",
          "Good",
          "Good",
          "Good",
          "Good",
          "Good",
          "Good",
          "Good",
          "Good",
          "Good",
          "Good",
          "Good",
          "Good",
          "Good",
          "Good",
          "Good",
          "Good",
          "Good",
          "Good",
          "Good",
          "Good",
          "Good",
          "Good",
          "Good",
          "Good",
          "Good",
          "Good",
          "Good",
          "Good",
          "Good",
          "Good",
          "Good",
          "Good",
          "Good",
          "Good",
          "Good",
          "Good",
          "Good",
          "Good",
          "Good",
          "Good",
          "Good",
          "Good",
          "Good",
          "Good",
          "Good",
          "Good",
          "Good",
          "Good",
          "Good",
          "Good",
          "Good",
          "Good",
          "Good",
          "Good",
          "Good",
          "Good",
          "Good",
          "Good",
          "Good",
          "Good",
          "Good",
          "Good",
          "Good",
          "Good",
          "Good",
          "Good",
          "Good",
          "Good",
          "Good",
          "Good",
          "Good",
          "Good",
          "Good",
          "Good",
          "Good",
          "Good",
          "Good",
          "Good",
          "Good",
          "Good",
          "Good",
          "Good",
          "Good",
          "Good",
          "Good",
          "Good",
          "Good",
          "Good",
          "Good",
          "Good",
          "Good",
          "Good",
          "Good",
          "Good",
          "Good",
          "Good",
          "Good",
          "Good",
          "Good",
          "Good",
          "Good",
          "Good",
          "Good",
          "Good",
          "Good",
          "Good",
          "Good",
          "Good",
          "Good",
          "Good",
          "Good",
          "Good",
          "Good",
          "Good",
          "Good",
          "Good",
          "Good",
          "Good",
          "Good",
          "Good",
          "Good",
          "Good",
          "Good",
          "Good",
          "Good",
          "Good",
          "Good",
          "Good",
          "Good",
          "Good",
          "Good",
          "Good",
          "Good",
          "Good",
          "Good",
          "Good",
          "Good",
          "Good",
          "Good",
          "Good",
          "Good",
          "Good",
          "Good",
          "Good",
          "Good",
          "Good",
          "Good",
          "Good",
          "Good",
          "Good",
          "Good",
          "Good",
          "Good",
          "Good"
         ]
        },
        {
         "mode": "markers",
         "name": "Moderate AQI",
         "type": "scatter",
         "x": [
          4.765019981175847,
          5.971741908354818,
          5.101331134067491,
          5.1468006709674015,
          5.03624952037396,
          6.008481789093381,
          5.3514967567969505,
          5.317706147943137,
          5.0633408661380646,
          6.330733085613938,
          5.130970267083514,
          5.667811448071557,
          4.9925358452657775,
          4.236159230579664,
          5.1523311600382815,
          5.840107977232223,
          3.5167997040816243,
          5.825212488426337,
          5.676029317006854,
          5.59490389895343,
          4.599140426799694,
          5.742776960826336,
          4.18118593412823,
          5.358941319245374,
          4.310926855371693,
          5.1755437029756655,
          4.716011695371454,
          5.317116460225442,
          5.205575142933645,
          6.215822555154372,
          4.655474594652716,
          4.331710659663883,
          4.445557502431367,
          5.255793346039492,
          5.84733755830638,
          5.68739428229153,
          5.361826013237365,
          5.415465825837759,
          4.941620737855168,
          5.429873348947643,
          5.636700478104719,
          5.147769046260147,
          4.996038593979734,
          6.120966592742047,
          4.924522216208587,
          6.178983562324302,
          5.2530592112536,
          4.638888424705075,
          5.641999308964985,
          5.70011243208365,
          4.9816917873473345,
          4.8019042665793465,
          4.109308505246749,
          4.731846525848303,
          5.928453208117699,
          5.3323919980206975,
          5.696456867783827,
          5.008698089870426,
          5.803915068449034,
          5.506545618777679,
          4.482101453486599,
          5.840994484732679,
          5.516686061817328,
          5.744286722976918,
          4.679682220572482,
          4.602884367933568,
          4.767437880315032,
          4.2184567264004755,
          5.7562000737749015,
          5.884882553827491,
          5.348892612838899,
          4.825335224508905,
          5.406897687524564,
          4.9276372232683805,
          5.529123519106034,
          5.1760854684239845,
          4.413450651007325,
          5.4700030569545275,
          5.9751320648797766,
          5.951691999337297,
          5.2131669923162045,
          5.91734688695641,
          5.341513659870251,
          5.420200073603668,
          5.261220032155725,
          5.7610312751714305,
          6.280840279296395,
          5.155600178241052,
          5.561008310573319,
          4.839509471308361,
          5.965779591473727,
          5.493488722395575,
          4.154393537956997,
          3.9149246482051483,
          5.4998176262110325,
          5.909575818070905,
          5.553331923790272,
          6.139527417292548,
          4.538334906717115,
          5.459546273157015,
          5.542041995175539,
          5.975212537854957,
          5.19750385215991,
          5.981308838564742,
          5.6150489817586156,
          4.503477442436995,
          5.186080086091452,
          5.457956038243393,
          5.095525013286175,
          5.445083983736097,
          5.871098104271856,
          4.959275180258706,
          4.985983020280123,
          6.009409249125556,
          5.955349994727821,
          5.292169647019105,
          4.68558948498528,
          5.180934046413014,
          5.059116398480737,
          5.293738117783524,
          5.304195296773312,
          5.675870871357818,
          4.837739909892655,
          5.649385490991616,
          4.92975090634168,
          3.9583727324786073,
          3.855094951158622,
          4.630539739757373,
          5.326806774068438,
          3.617105230502378,
          3.9331328237267345,
          4.123165370902919,
          4.850860573071108,
          6.105623597460235,
          4.213172309046819,
          4.213172309046819,
          3.891983230851967,
          4.017075096376059,
          5.3210762176783275,
          6.717979806852063,
          5.969296138669995,
          5.7249628223736195,
          5.027398539607596,
          5.424342515757471,
          5.112286536220284,
          4.6433342163821925,
          5.4882530946226,
          5.238595527072726,
          5.162573367114525,
          5.871717676251069,
          5.2659092674745365,
          4.512497620103123,
          5.2959209882027425,
          5.838028191180059,
          5.456630173905033,
          5.568220503962866,
          5.01553578506044,
          5.4146157430165545,
          4.999726308254446,
          5.750914729024711,
          4.627550187767521,
          5.308786305889,
          5.460038924240169,
          5.2196133385232715,
          4.915858688958351,
          4.564275378552271,
          5.659141000966213,
          5.043566603822077,
          5.225415257329116,
          4.312304324568706,
          4.317896266492956,
          5.1951632173408795,
          5.277136848468878,
          5.258428943785852,
          5.032187475255525,
          4.526972162142903,
          4.674107587838878,
          4.622172560893429,
          5.306695171192341,
          4.8237675722965525,
          5.167320289122358,
          5.767528382905359,
          5.3465896200206995,
          4.006679927740826,
          5.725939387070534,
          5.914502351616085,
          5.743858471348658,
          4.632963168167261,
          4.97082554523128,
          5.236255029535826,
          4.207499723307305,
          5.709324244393426,
          5.251112369403592,
          4.365637715794608,
          5.2539991223684,
          5.215756495728617,
          5.534325691292204,
          4.965046400045178,
          4.678591210581774,
          4.684899196466526,
          4.858915987351028,
          5.503428393014983,
          5.121523733545685,
          4.66887957609011,
          5.033805605862375,
          4.814806756112033,
          5.101839832639512,
          5.355190903570553,
          5.463809405372839,
          5.185825359612962,
          5.393457620766641,
          5.647396663868879,
          5.917833600889374,
          5.917833600889374,
          5.917833600889374,
          5.917833600889374,
          5.7886632131208575,
          5.7886632131208575,
          5.7886632131208575,
          5.7886632131208575,
          5.917833600889374,
          5.917833600889374,
          5.917833600889374,
          5.917833600889374,
          5.7886632131208575,
          5.7886632131208575,
          5.7886632131208575,
          5.7886632131208575,
          5.399716975749477,
          5.104923917466294,
          5.747337994859592,
          5.899577032374709,
          5.671280245552595,
          5.709384457122133,
          5.898596848351496,
          6.17257403565606,
          5.915019727210068,
          5.540868566351403,
          5.6213850669655425,
          6.0918350163802115,
          4.725544122486353,
          5.184875895828287,
          5.733592846776625,
          5.123018171837842,
          5.245838266591292,
          4.878044728783066,
          5.383409595682522,
          4.949760706600309,
          5.3786958083515595,
          5.076414682923757,
          4.286860485522373,
          4.991589313007415,
          3.6153186566114788,
          4.061490176624815,
          5.731062297240178,
          5.25127554873613,
          5.653681298717472,
          5.96848248157037,
          5.705322216563339,
          5.825186508087893,
          5.097087169019304,
          5.566746161729235,
          5.051654084113286,
          5.831032358922655,
          4.759191748130646,
          5.148507025464842,
          4.880562085821845,
          5.48774059439024,
          4.5809477726878765,
          6.157720226681134,
          5.963724566803018,
          6.361446964389264,
          5.19514936261219,
          5.216598661038017,
          5.835066895454687,
          5.570044148871043,
          6.022969973455655,
          5.4796875759735,
          5.144900972968539,
          6.019763301840449,
          5.577829453141658,
          6.098222376959117,
          4.782630260217609,
          5.486732183901019,
          5.6358645927614,
          5.363732287239263,
          5.2486033947794795,
          5.211238046622147,
          5.733847016394345,
          5.304908249088057,
          5.442060951202213,
          5.088352295799545,
          3.6917885244026984,
          4.714564450095123,
          4.652052848248105,
          5.893235075689462,
          5.893235075689462,
          4.4992195521808025,
          4.647206869085552,
          5.808063030945835,
          6.0883349323193015,
          4.821716544731034,
          5.222445928058845,
          5.619763047294012,
          5.092867957081954,
          5.128883702099773,
          5.2080192192058945,
          5.713621567696983,
          5.4385660800766225,
          5.141995042796427,
          5.559443369883757,
          5.060165030851882,
          6.197424471878088,
          5.802454213263227,
          5.596275928829378,
          5.6975797764023595,
          5.480287274396211,
          4.534521071985725,
          4.447049444147779,
          5.2712582849418155,
          5.03859632079311,
          5.108710440683239,
          4.68866893590091,
          6.284625840519599,
          5.549002035203484,
          5.340826680697754,
          5.625055091261163,
          5.97513298465516,
          6.412721213882179,
          5.9068988274683845,
          5.199596126163112,
          5.227470199001748,
          5.5146659390512145,
          6.662995967463532,
          5.929106632366652,
          5.0752183791115355,
          4.763203300370772,
          5.556888402922826,
          5.082422708666578,
          5.122133928186368,
          6.305346424481302,
          6.080325550789939,
          5.4346535193478305,
          5.087554276338934,
          4.308692442201257,
          5.532271419618875,
          4.3057596722628215,
          4.814147669862268,
          4.560181710709184,
          5.771175771563677,
          5.771175771563677,
          5.393980355744273,
          4.772856908856591,
          6.058247182830196,
          6.058247182830196,
          6.058247182830196,
          6.058247182830196,
          4.3777614387022625,
          4.3777614387022625,
          4.3777614387022625,
          4.3777614387022625,
          6.058247182830196,
          6.058247182830196,
          6.058247182830196,
          6.058247182830196,
          4.3777614387022625,
          4.3777614387022625,
          4.3777614387022625,
          4.3777614387022625,
          4.225671043081144,
          5.288177657247859,
          4.879422768143545,
          6.335108117706129,
          4.65152029823422,
          5.934417644753075,
          5.8957649842542725,
          5.697120319417384,
          4.6455598069064346,
          5.336083315641061,
          5.396765827712324,
          5.724147201044866,
          4.943375785924435,
          4.438368279687935,
          5.226161523423119,
          4.899858788666057,
          5.979643508462589,
          5.266593849822599,
          4.945882002090124,
          5.290920114175953,
          4.8034298006710845,
          5.061471328265031,
          4.146034962602502,
          4.9898590007903305,
          4.906388921152831,
          4.644605972314314,
          4.362840469311725,
          4.314056919240724
         ],
         "y": [
          "Moderate",
          "Moderate",
          "Moderate",
          "Moderate",
          "Moderate",
          "Moderate",
          "Moderate",
          "Moderate",
          "Moderate",
          "Moderate",
          "Moderate",
          "Moderate",
          "Moderate",
          "Moderate",
          "Moderate",
          "Moderate",
          "Moderate",
          "Moderate",
          "Moderate",
          "Moderate",
          "Moderate",
          "Moderate",
          "Moderate",
          "Moderate",
          "Moderate",
          "Moderate",
          "Moderate",
          "Moderate",
          "Moderate",
          "Moderate",
          "Moderate",
          "Moderate",
          "Moderate",
          "Moderate",
          "Moderate",
          "Moderate",
          "Moderate",
          "Moderate",
          "Moderate",
          "Moderate",
          "Moderate",
          "Moderate",
          "Moderate",
          "Moderate",
          "Moderate",
          "Moderate",
          "Moderate",
          "Moderate",
          "Moderate",
          "Moderate",
          "Moderate",
          "Moderate",
          "Moderate",
          "Moderate",
          "Moderate",
          "Moderate",
          "Moderate",
          "Moderate",
          "Moderate",
          "Moderate",
          "Moderate",
          "Moderate",
          "Moderate",
          "Moderate",
          "Moderate",
          "Moderate",
          "Moderate",
          "Moderate",
          "Moderate",
          "Moderate",
          "Moderate",
          "Moderate",
          "Moderate",
          "Moderate",
          "Moderate",
          "Moderate",
          "Moderate",
          "Moderate",
          "Moderate",
          "Moderate",
          "Moderate",
          "Moderate",
          "Moderate",
          "Moderate",
          "Moderate",
          "Moderate",
          "Moderate",
          "Moderate",
          "Moderate",
          "Moderate",
          "Moderate",
          "Moderate",
          "Moderate",
          "Moderate",
          "Moderate",
          "Moderate",
          "Moderate",
          "Moderate",
          "Moderate",
          "Moderate",
          "Moderate",
          "Moderate",
          "Moderate",
          "Moderate",
          "Moderate",
          "Moderate",
          "Moderate",
          "Moderate",
          "Moderate",
          "Moderate",
          "Moderate",
          "Moderate",
          "Moderate",
          "Moderate",
          "Moderate",
          "Moderate",
          "Moderate",
          "Moderate",
          "Moderate",
          "Moderate",
          "Moderate",
          "Moderate",
          "Moderate",
          "Moderate",
          "Moderate",
          "Moderate",
          "Moderate",
          "Moderate",
          "Moderate",
          "Moderate",
          "Moderate",
          "Moderate",
          "Moderate",
          "Moderate",
          "Moderate",
          "Moderate",
          "Moderate",
          "Moderate",
          "Moderate",
          "Moderate",
          "Moderate",
          "Moderate",
          "Moderate",
          "Moderate",
          "Moderate",
          "Moderate",
          "Moderate",
          "Moderate",
          "Moderate",
          "Moderate",
          "Moderate",
          "Moderate",
          "Moderate",
          "Moderate",
          "Moderate",
          "Moderate",
          "Moderate",
          "Moderate",
          "Moderate",
          "Moderate",
          "Moderate",
          "Moderate",
          "Moderate",
          "Moderate",
          "Moderate",
          "Moderate",
          "Moderate",
          "Moderate",
          "Moderate",
          "Moderate",
          "Moderate",
          "Moderate",
          "Moderate",
          "Moderate",
          "Moderate",
          "Moderate",
          "Moderate",
          "Moderate",
          "Moderate",
          "Moderate",
          "Moderate",
          "Moderate",
          "Moderate",
          "Moderate",
          "Moderate",
          "Moderate",
          "Moderate",
          "Moderate",
          "Moderate",
          "Moderate",
          "Moderate",
          "Moderate",
          "Moderate",
          "Moderate",
          "Moderate",
          "Moderate",
          "Moderate",
          "Moderate",
          "Moderate",
          "Moderate",
          "Moderate",
          "Moderate",
          "Moderate",
          "Moderate",
          "Moderate",
          "Moderate",
          "Moderate",
          "Moderate",
          "Moderate",
          "Moderate",
          "Moderate",
          "Moderate",
          "Moderate",
          "Moderate",
          "Moderate",
          "Moderate",
          "Moderate",
          "Moderate",
          "Moderate",
          "Moderate",
          "Moderate",
          "Moderate",
          "Moderate",
          "Moderate",
          "Moderate",
          "Moderate",
          "Moderate",
          "Moderate",
          "Moderate",
          "Moderate",
          "Moderate",
          "Moderate",
          "Moderate",
          "Moderate",
          "Moderate",
          "Moderate",
          "Moderate",
          "Moderate",
          "Moderate",
          "Moderate",
          "Moderate",
          "Moderate",
          "Moderate",
          "Moderate",
          "Moderate",
          "Moderate",
          "Moderate",
          "Moderate",
          "Moderate",
          "Moderate",
          "Moderate",
          "Moderate",
          "Moderate",
          "Moderate",
          "Moderate",
          "Moderate",
          "Moderate",
          "Moderate",
          "Moderate",
          "Moderate",
          "Moderate",
          "Moderate",
          "Moderate",
          "Moderate",
          "Moderate",
          "Moderate",
          "Moderate",
          "Moderate",
          "Moderate",
          "Moderate",
          "Moderate",
          "Moderate",
          "Moderate",
          "Moderate",
          "Moderate",
          "Moderate",
          "Moderate",
          "Moderate",
          "Moderate",
          "Moderate",
          "Moderate",
          "Moderate",
          "Moderate",
          "Moderate",
          "Moderate",
          "Moderate",
          "Moderate",
          "Moderate",
          "Moderate",
          "Moderate",
          "Moderate",
          "Moderate",
          "Moderate",
          "Moderate",
          "Moderate",
          "Moderate",
          "Moderate",
          "Moderate",
          "Moderate",
          "Moderate",
          "Moderate",
          "Moderate",
          "Moderate",
          "Moderate",
          "Moderate",
          "Moderate",
          "Moderate",
          "Moderate",
          "Moderate",
          "Moderate",
          "Moderate",
          "Moderate",
          "Moderate",
          "Moderate",
          "Moderate",
          "Moderate",
          "Moderate",
          "Moderate",
          "Moderate",
          "Moderate",
          "Moderate",
          "Moderate",
          "Moderate",
          "Moderate",
          "Moderate",
          "Moderate",
          "Moderate",
          "Moderate",
          "Moderate",
          "Moderate",
          "Moderate",
          "Moderate",
          "Moderate",
          "Moderate",
          "Moderate",
          "Moderate",
          "Moderate",
          "Moderate",
          "Moderate",
          "Moderate",
          "Moderate",
          "Moderate",
          "Moderate",
          "Moderate",
          "Moderate",
          "Moderate",
          "Moderate",
          "Moderate",
          "Moderate",
          "Moderate",
          "Moderate",
          "Moderate",
          "Moderate",
          "Moderate",
          "Moderate",
          "Moderate",
          "Moderate",
          "Moderate",
          "Moderate",
          "Moderate",
          "Moderate",
          "Moderate",
          "Moderate",
          "Moderate",
          "Moderate",
          "Moderate",
          "Moderate",
          "Moderate",
          "Moderate",
          "Moderate",
          "Moderate",
          "Moderate",
          "Moderate",
          "Moderate",
          "Moderate",
          "Moderate",
          "Moderate",
          "Moderate",
          "Moderate",
          "Moderate",
          "Moderate",
          "Moderate",
          "Moderate",
          "Moderate",
          "Moderate",
          "Moderate",
          "Moderate",
          "Moderate",
          "Moderate",
          "Moderate",
          "Moderate",
          "Moderate",
          "Moderate",
          "Moderate",
          "Moderate",
          "Moderate",
          "Moderate"
         ]
        },
        {
         "mode": "markers",
         "name": "Unhealthy AQI",
         "type": "scatter",
         "x": [
          6.628788603571813,
          5.6229606989135625,
          5.35616932286042,
          5.990396579256559,
          4.257318513097639,
          5.945986770300988,
          5.176308352027911,
          5.190368121341372,
          4.2440295890300215,
          4.151492428425498,
          6.5002614556481655,
          5.579871589478641,
          4.271818381611661,
          6.377176161846617,
          5.731831225580355,
          5.663207942844398,
          4.3338702788260095
         ],
         "y": [
          "Unhealthy",
          "Unhealthy",
          "Unhealthy",
          "Unhealthy",
          "Unhealthy",
          "Unhealthy",
          "Unhealthy",
          "Unhealthy",
          "Unhealthy",
          "Unhealthy",
          "Unhealthy",
          "Unhealthy",
          "Unhealthy",
          "Unhealthy",
          "Unhealthy",
          "Unhealthy",
          "Unhealthy"
         ]
        }
       ],
       "layout": {
        "template": {
         "data": {
          "bar": [
           {
            "error_x": {
             "color": "#2a3f5f"
            },
            "error_y": {
             "color": "#2a3f5f"
            },
            "marker": {
             "line": {
              "color": "#E5ECF6",
              "width": 0.5
             },
             "pattern": {
              "fillmode": "overlay",
              "size": 10,
              "solidity": 0.2
             }
            },
            "type": "bar"
           }
          ],
          "barpolar": [
           {
            "marker": {
             "line": {
              "color": "#E5ECF6",
              "width": 0.5
             },
             "pattern": {
              "fillmode": "overlay",
              "size": 10,
              "solidity": 0.2
             }
            },
            "type": "barpolar"
           }
          ],
          "carpet": [
           {
            "aaxis": {
             "endlinecolor": "#2a3f5f",
             "gridcolor": "white",
             "linecolor": "white",
             "minorgridcolor": "white",
             "startlinecolor": "#2a3f5f"
            },
            "baxis": {
             "endlinecolor": "#2a3f5f",
             "gridcolor": "white",
             "linecolor": "white",
             "minorgridcolor": "white",
             "startlinecolor": "#2a3f5f"
            },
            "type": "carpet"
           }
          ],
          "choropleth": [
           {
            "colorbar": {
             "outlinewidth": 0,
             "ticks": ""
            },
            "type": "choropleth"
           }
          ],
          "contour": [
           {
            "colorbar": {
             "outlinewidth": 0,
             "ticks": ""
            },
            "colorscale": [
             [
              0,
              "#0d0887"
             ],
             [
              0.1111111111111111,
              "#46039f"
             ],
             [
              0.2222222222222222,
              "#7201a8"
             ],
             [
              0.3333333333333333,
              "#9c179e"
             ],
             [
              0.4444444444444444,
              "#bd3786"
             ],
             [
              0.5555555555555556,
              "#d8576b"
             ],
             [
              0.6666666666666666,
              "#ed7953"
             ],
             [
              0.7777777777777778,
              "#fb9f3a"
             ],
             [
              0.8888888888888888,
              "#fdca26"
             ],
             [
              1,
              "#f0f921"
             ]
            ],
            "type": "contour"
           }
          ],
          "contourcarpet": [
           {
            "colorbar": {
             "outlinewidth": 0,
             "ticks": ""
            },
            "type": "contourcarpet"
           }
          ],
          "heatmap": [
           {
            "colorbar": {
             "outlinewidth": 0,
             "ticks": ""
            },
            "colorscale": [
             [
              0,
              "#0d0887"
             ],
             [
              0.1111111111111111,
              "#46039f"
             ],
             [
              0.2222222222222222,
              "#7201a8"
             ],
             [
              0.3333333333333333,
              "#9c179e"
             ],
             [
              0.4444444444444444,
              "#bd3786"
             ],
             [
              0.5555555555555556,
              "#d8576b"
             ],
             [
              0.6666666666666666,
              "#ed7953"
             ],
             [
              0.7777777777777778,
              "#fb9f3a"
             ],
             [
              0.8888888888888888,
              "#fdca26"
             ],
             [
              1,
              "#f0f921"
             ]
            ],
            "type": "heatmap"
           }
          ],
          "heatmapgl": [
           {
            "colorbar": {
             "outlinewidth": 0,
             "ticks": ""
            },
            "colorscale": [
             [
              0,
              "#0d0887"
             ],
             [
              0.1111111111111111,
              "#46039f"
             ],
             [
              0.2222222222222222,
              "#7201a8"
             ],
             [
              0.3333333333333333,
              "#9c179e"
             ],
             [
              0.4444444444444444,
              "#bd3786"
             ],
             [
              0.5555555555555556,
              "#d8576b"
             ],
             [
              0.6666666666666666,
              "#ed7953"
             ],
             [
              0.7777777777777778,
              "#fb9f3a"
             ],
             [
              0.8888888888888888,
              "#fdca26"
             ],
             [
              1,
              "#f0f921"
             ]
            ],
            "type": "heatmapgl"
           }
          ],
          "histogram": [
           {
            "marker": {
             "pattern": {
              "fillmode": "overlay",
              "size": 10,
              "solidity": 0.2
             }
            },
            "type": "histogram"
           }
          ],
          "histogram2d": [
           {
            "colorbar": {
             "outlinewidth": 0,
             "ticks": ""
            },
            "colorscale": [
             [
              0,
              "#0d0887"
             ],
             [
              0.1111111111111111,
              "#46039f"
             ],
             [
              0.2222222222222222,
              "#7201a8"
             ],
             [
              0.3333333333333333,
              "#9c179e"
             ],
             [
              0.4444444444444444,
              "#bd3786"
             ],
             [
              0.5555555555555556,
              "#d8576b"
             ],
             [
              0.6666666666666666,
              "#ed7953"
             ],
             [
              0.7777777777777778,
              "#fb9f3a"
             ],
             [
              0.8888888888888888,
              "#fdca26"
             ],
             [
              1,
              "#f0f921"
             ]
            ],
            "type": "histogram2d"
           }
          ],
          "histogram2dcontour": [
           {
            "colorbar": {
             "outlinewidth": 0,
             "ticks": ""
            },
            "colorscale": [
             [
              0,
              "#0d0887"
             ],
             [
              0.1111111111111111,
              "#46039f"
             ],
             [
              0.2222222222222222,
              "#7201a8"
             ],
             [
              0.3333333333333333,
              "#9c179e"
             ],
             [
              0.4444444444444444,
              "#bd3786"
             ],
             [
              0.5555555555555556,
              "#d8576b"
             ],
             [
              0.6666666666666666,
              "#ed7953"
             ],
             [
              0.7777777777777778,
              "#fb9f3a"
             ],
             [
              0.8888888888888888,
              "#fdca26"
             ],
             [
              1,
              "#f0f921"
             ]
            ],
            "type": "histogram2dcontour"
           }
          ],
          "mesh3d": [
           {
            "colorbar": {
             "outlinewidth": 0,
             "ticks": ""
            },
            "type": "mesh3d"
           }
          ],
          "parcoords": [
           {
            "line": {
             "colorbar": {
              "outlinewidth": 0,
              "ticks": ""
             }
            },
            "type": "parcoords"
           }
          ],
          "pie": [
           {
            "automargin": true,
            "type": "pie"
           }
          ],
          "scatter": [
           {
            "marker": {
             "colorbar": {
              "outlinewidth": 0,
              "ticks": ""
             }
            },
            "type": "scatter"
           }
          ],
          "scatter3d": [
           {
            "line": {
             "colorbar": {
              "outlinewidth": 0,
              "ticks": ""
             }
            },
            "marker": {
             "colorbar": {
              "outlinewidth": 0,
              "ticks": ""
             }
            },
            "type": "scatter3d"
           }
          ],
          "scattercarpet": [
           {
            "marker": {
             "colorbar": {
              "outlinewidth": 0,
              "ticks": ""
             }
            },
            "type": "scattercarpet"
           }
          ],
          "scattergeo": [
           {
            "marker": {
             "colorbar": {
              "outlinewidth": 0,
              "ticks": ""
             }
            },
            "type": "scattergeo"
           }
          ],
          "scattergl": [
           {
            "marker": {
             "colorbar": {
              "outlinewidth": 0,
              "ticks": ""
             }
            },
            "type": "scattergl"
           }
          ],
          "scattermapbox": [
           {
            "marker": {
             "colorbar": {
              "outlinewidth": 0,
              "ticks": ""
             }
            },
            "type": "scattermapbox"
           }
          ],
          "scatterpolar": [
           {
            "marker": {
             "colorbar": {
              "outlinewidth": 0,
              "ticks": ""
             }
            },
            "type": "scatterpolar"
           }
          ],
          "scatterpolargl": [
           {
            "marker": {
             "colorbar": {
              "outlinewidth": 0,
              "ticks": ""
             }
            },
            "type": "scatterpolargl"
           }
          ],
          "scatterternary": [
           {
            "marker": {
             "colorbar": {
              "outlinewidth": 0,
              "ticks": ""
             }
            },
            "type": "scatterternary"
           }
          ],
          "surface": [
           {
            "colorbar": {
             "outlinewidth": 0,
             "ticks": ""
            },
            "colorscale": [
             [
              0,
              "#0d0887"
             ],
             [
              0.1111111111111111,
              "#46039f"
             ],
             [
              0.2222222222222222,
              "#7201a8"
             ],
             [
              0.3333333333333333,
              "#9c179e"
             ],
             [
              0.4444444444444444,
              "#bd3786"
             ],
             [
              0.5555555555555556,
              "#d8576b"
             ],
             [
              0.6666666666666666,
              "#ed7953"
             ],
             [
              0.7777777777777778,
              "#fb9f3a"
             ],
             [
              0.8888888888888888,
              "#fdca26"
             ],
             [
              1,
              "#f0f921"
             ]
            ],
            "type": "surface"
           }
          ],
          "table": [
           {
            "cells": {
             "fill": {
              "color": "#EBF0F8"
             },
             "line": {
              "color": "white"
             }
            },
            "header": {
             "fill": {
              "color": "#C8D4E3"
             },
             "line": {
              "color": "white"
             }
            },
            "type": "table"
           }
          ]
         },
         "layout": {
          "annotationdefaults": {
           "arrowcolor": "#2a3f5f",
           "arrowhead": 0,
           "arrowwidth": 1
          },
          "autotypenumbers": "strict",
          "coloraxis": {
           "colorbar": {
            "outlinewidth": 0,
            "ticks": ""
           }
          },
          "colorscale": {
           "diverging": [
            [
             0,
             "#8e0152"
            ],
            [
             0.1,
             "#c51b7d"
            ],
            [
             0.2,
             "#de77ae"
            ],
            [
             0.3,
             "#f1b6da"
            ],
            [
             0.4,
             "#fde0ef"
            ],
            [
             0.5,
             "#f7f7f7"
            ],
            [
             0.6,
             "#e6f5d0"
            ],
            [
             0.7,
             "#b8e186"
            ],
            [
             0.8,
             "#7fbc41"
            ],
            [
             0.9,
             "#4d9221"
            ],
            [
             1,
             "#276419"
            ]
           ],
           "sequential": [
            [
             0,
             "#0d0887"
            ],
            [
             0.1111111111111111,
             "#46039f"
            ],
            [
             0.2222222222222222,
             "#7201a8"
            ],
            [
             0.3333333333333333,
             "#9c179e"
            ],
            [
             0.4444444444444444,
             "#bd3786"
            ],
            [
             0.5555555555555556,
             "#d8576b"
            ],
            [
             0.6666666666666666,
             "#ed7953"
            ],
            [
             0.7777777777777778,
             "#fb9f3a"
            ],
            [
             0.8888888888888888,
             "#fdca26"
            ],
            [
             1,
             "#f0f921"
            ]
           ],
           "sequentialminus": [
            [
             0,
             "#0d0887"
            ],
            [
             0.1111111111111111,
             "#46039f"
            ],
            [
             0.2222222222222222,
             "#7201a8"
            ],
            [
             0.3333333333333333,
             "#9c179e"
            ],
            [
             0.4444444444444444,
             "#bd3786"
            ],
            [
             0.5555555555555556,
             "#d8576b"
            ],
            [
             0.6666666666666666,
             "#ed7953"
            ],
            [
             0.7777777777777778,
             "#fb9f3a"
            ],
            [
             0.8888888888888888,
             "#fdca26"
            ],
            [
             1,
             "#f0f921"
            ]
           ]
          },
          "colorway": [
           "#636efa",
           "#EF553B",
           "#00cc96",
           "#ab63fa",
           "#FFA15A",
           "#19d3f3",
           "#FF6692",
           "#B6E880",
           "#FF97FF",
           "#FECB52"
          ],
          "font": {
           "color": "#2a3f5f"
          },
          "geo": {
           "bgcolor": "white",
           "lakecolor": "white",
           "landcolor": "#E5ECF6",
           "showlakes": true,
           "showland": true,
           "subunitcolor": "white"
          },
          "hoverlabel": {
           "align": "left"
          },
          "hovermode": "closest",
          "mapbox": {
           "style": "light"
          },
          "paper_bgcolor": "white",
          "plot_bgcolor": "#E5ECF6",
          "polar": {
           "angularaxis": {
            "gridcolor": "white",
            "linecolor": "white",
            "ticks": ""
           },
           "bgcolor": "#E5ECF6",
           "radialaxis": {
            "gridcolor": "white",
            "linecolor": "white",
            "ticks": ""
           }
          },
          "scene": {
           "xaxis": {
            "backgroundcolor": "#E5ECF6",
            "gridcolor": "white",
            "gridwidth": 2,
            "linecolor": "white",
            "showbackground": true,
            "ticks": "",
            "zerolinecolor": "white"
           },
           "yaxis": {
            "backgroundcolor": "#E5ECF6",
            "gridcolor": "white",
            "gridwidth": 2,
            "linecolor": "white",
            "showbackground": true,
            "ticks": "",
            "zerolinecolor": "white"
           },
           "zaxis": {
            "backgroundcolor": "#E5ECF6",
            "gridcolor": "white",
            "gridwidth": 2,
            "linecolor": "white",
            "showbackground": true,
            "ticks": "",
            "zerolinecolor": "white"
           }
          },
          "shapedefaults": {
           "line": {
            "color": "#2a3f5f"
           }
          },
          "ternary": {
           "aaxis": {
            "gridcolor": "white",
            "linecolor": "white",
            "ticks": ""
           },
           "baxis": {
            "gridcolor": "white",
            "linecolor": "white",
            "ticks": ""
           },
           "bgcolor": "#E5ECF6",
           "caxis": {
            "gridcolor": "white",
            "linecolor": "white",
            "ticks": ""
           }
          },
          "title": {
           "x": 0.05
          },
          "xaxis": {
           "automargin": true,
           "gridcolor": "white",
           "linecolor": "white",
           "ticks": "",
           "title": {
            "standoff": 15
           },
           "zerolinecolor": "white",
           "zerolinewidth": 2
          },
          "yaxis": {
           "automargin": true,
           "gridcolor": "white",
           "linecolor": "white",
           "ticks": "",
           "title": {
            "standoff": 15
           },
           "zerolinecolor": "white",
           "zerolinewidth": 2
          }
         }
        },
        "title": {
         "text": "AQI Vs. Population"
        },
        "xaxis": {
         "title": {
          "text": "Population"
         }
        },
        "yaxis": {
         "title": {
          "text": "AQI Quality"
         }
        }
       }
      },
      "text/html": [
       "<div>                            <div id=\"f813d3f7-4159-4c85-926d-6cf1c14f0a9d\" class=\"plotly-graph-div\" style=\"height:525px; width:100%;\"></div>            <script type=\"text/javascript\">                require([\"plotly\"], function(Plotly) {                    window.PLOTLYENV=window.PLOTLYENV || {};                                    if (document.getElementById(\"f813d3f7-4159-4c85-926d-6cf1c14f0a9d\")) {                    Plotly.newPlot(                        \"f813d3f7-4159-4c85-926d-6cf1c14f0a9d\",                        [{\"mode\":\"markers\",\"name\":\"Good AQI\",\"type\":\"scatter\",\"x\":[5.318286688622218,5.324819331183517,4.647373188597217,4.113441953965322,4.482187313544587,5.314316040434888,4.854439650318333,5.314002125855026,4.258254053507148,4.258254053507148,4.312537003107304,4.349957098719464,4.199645493080167,3.1126050015345745,4.625888383862849,3.894758994371892,4.304555150120442,4.679763935940666,4.807162809471061,5.355440025634347,4.079868335175173,4.5009770535891995,5.4036643360931595,4.3057596722628215,4.782981153191993,5.101203866268414,4.577824860980239,3.4153072922255676,5.1327974204520155,6.415098106195055,4.807183120531617,5.525513850979463,4.024033897900905,4.024033897900905,3.580810972660946,3.580810972660946,4.024033897900905,4.024033897900905,3.580810972660946,3.580810972660946,4.473837184033068,5.577752528032207,4.822344639121273,4.445261613754528,4.288964260896139,4.216007468108312,5.151798722592861,4.672116338158776,4.793720556813524,3.7004441010277516,3.34713478291002,5.058608207700355,4.726295144126775,4.489339625857985,4.081059123001319,5.216654044136993,4.3957456299921684,5.262524652510474,6.20281296295569,5.179749935899168,5.066467560549935,4.6349808000512285,5.242596084347571,4.292100938480419,5.214475600914911,4.443810401121398,5.16818800475665,3.6021685513789974,4.755524230907189,3.6603910984024672,5.009029995684903,5.856534954836759,4.928984413940275,3.922465945298413,5.572700870012037,4.362746288823878,4.9062164837058315,6.132440287733574,5.302627429362541,5.529711322832728,5.708074856527354,4.861928502093725,4.9959421629925505,4.883320678382975,5.658093475330018,5.722332773107504,4.113375057094903,5.872189499377181,4.37768864073337,4.292278228672973,4.885412110934279,4.924144840771305,4.787765011483216,5.344995150995915,4.5972233473121555,4.257246464907372,4.781633324343898,4.949443680174156,5.295914396647842,5.295914396647842,5.994597791337682,4.853558290455931,5.218222931796359,4.342304220718211,5.050754719588618,3.839980557678343,5.011912838805169,5.186817949117826,4.957415714722669,4.369790824030776,5.186405352655567,3.725176301419137,4.5336958150954265,4.53668467262093,4.9898145430342025,4.1185623126356035,4.530660651172487,3.9372168908627057,5.224237735196979,5.126624864745772,4.063445953123033,4.500112922159694,4.808352787778733,5.110909421860063,5.2467816170350465,4.177074545910076,4.589279221235968,4.300899687772249,5.224071849290467,4.4733117571189815,4.517684039800974,5.063017939887928,5.294483862127643,4.52628757258808,4.509135288879168,4.569888670658117,5.206663996990936,5.49876115897809,4.572976098995143,4.600133973782028,3.9273703630390235,4.786857853828952,4.2819646232599,4.430026654510014,4.282078054577154,4.40805331429798,4.791887054448624,4.394136352641888,4.311223910432456,4.1505415413740865,4.184890082199722,5.213451346034802,3.9301846522986197,6.017088875330536,4.436766739173454,5.293112735919741,5.156464343571387,5.010291474242876,4.537617636420976,3.7756832490260437,4.434377261250224,4.436003535669896,4.457048826585631,4.553458229380449,3.940466677663529,4.7367230963944,4.879038505237237,4.6640493516544295,3.966751664051378,4.123361558746296,4.167376418413583,4.815405058696692,5.026504664697579,4.602439832843189,5.031182168178816,4.834223541380128,5.52127672185961,5.084737097962795,4.758344063401976,5.181122975894328,5.307714200040391,5.412697370746874,4.857193741308315,4.95943255838829,5.0107958887479755,5.1977518220661,4.508677825165493,5.395277455722756,4.930199953067788,4.4679926595211485,5.329784199064232,4.2383723290283255,5.8926643794693865,4.576928460302419,5.207254563904791,5.8440103223969695,4.528569640012892,4.663861047845941,4.550717423469282,4.462727337772099,5.011477400733501,4.409966919252241,4.664801751490762,4.4122757019358305,5.1953986801294105,4.706265334409592,4.888308695565653,4.651665603922935,4.144200460183879,4.00949338828754,4.69627773673571,4.744785686458521,4.289633539009645,4.910843097652502,4.279004961844902,4.469998642218747,4.7381460887120594,4.912466510929526,4.0553783313750005,5.6109400225290385,4.050302403962402,3.9661417327390325,3.5531545481696254,4.477294937778128,5.198151031569567,5.491493363167025,2.8095597146352675,4.380392160057028,4.718102918177168,4.64053112457209,5.429007367334705,5.463672054505291,5.794757741336501,5.69406352855906,5.7722769544790635,5.702465864520014,4.8159693664195995,4.845879067367752,4.3849623973026075,4.517037463772294,5.112792619112295,5.468190719813714,5.440865020969714,5.325729063789446,5.363201932709326,4.548327985997318,5.666744428543663,5.075926347114654,5.510123915793574,5.356746532127148,4.986444771041151,5.012676969993142,4.958353612776127,3.4303975913869666,5.9862408542956045,4.569596267645642,4.674337468155646,5.103324707061445,5.4056434164042,4.912641795663937,4.356905034810079,5.486369545827313,4.726987870438496,3.932321531989293,4.769923543522596,5.718984707712472,4.781274153922566,3.7318304202881625,5.281424283672431,4.043008409879952,4.757600979569135,4.177247836255623,4.305050268917223,4.594447800611733,5.248885063042197,4.960328050530143,4.900061102735481,4.1539367544609345,4.991828352265942,5.307957898681535,4.479935033944336,4.941421980623304,4.632831697087637,5.236267633088603,5.020361282647708,4.1596574112477045,4.882962595788631,5.113729493146094,4.344647665919406,5.135800283302111,3.6452257115354163,4.977083120315853,4.612571954065176,4.839377475502759,4.674962127712317,4.616570029608803,4.78748881254863,5.796830949007645,4.904261001933344,4.485834952683221,4.9332594512699535,5.325215904954646,5.502268669196366,4.8747658426895795,4.616370472291269,4.615171198924552,5.549923628354655,4.440720217316904,5.222523986631931,5.292244992274296,4.87952594503966,5.3202813327739,4.662984361017443,5.530771974774431,4.827711661973865,5.141641009004354,5.50639001707986,5.456845618079411,4.884772714363229,4.2459319543386025,4.438130800243104,4.499865711329091,4.712733859069952,4.722411783326495,4.723431042160122,4.983567655666821,5.339745509154297,3.964542466079137,4.294664589500175,5.0916458577560775,4.755119898919951,4.964504765269017,4.187153953785416,5.4792210509029875,5.395202291201982,5.113281384161362,4.227629649571009,4.729124275258121,5.352211470111767,4.514946005308004,4.963646186484843,4.189686782592971,4.555336327995267,5.209654395341101,4.479776792192939,4.839572312356351,5.018904286378933,5.512740413391318,5.585622008937453,4.971196963302861,4.971196963302861,4.971196963302861,4.971196963302861,4.998350896885444,4.998350896885444,4.998350896885444,4.998350896885444,4.971196963302861,4.971196963302861,4.971196963302861,4.971196963302861,4.998350896885444,4.998350896885444,4.998350896885444,4.998350896885444,5.158398681794192,4.872080483205862,5.021652299627546,4.330332589222979,4.8861916922786905,4.796761608337888,5.093095842094377,5.438833363046032,4.686573712053882,4.196231470442874,4.308777773664721,5.131182226148925,5.208895300843405,4.308692442201257,4.464206284343785,3.9381693463903202],\"y\":[\"Good\",\"Good\",\"Good\",\"Good\",\"Good\",\"Good\",\"Good\",\"Good\",\"Good\",\"Good\",\"Good\",\"Good\",\"Good\",\"Good\",\"Good\",\"Good\",\"Good\",\"Good\",\"Good\",\"Good\",\"Good\",\"Good\",\"Good\",\"Good\",\"Good\",\"Good\",\"Good\",\"Good\",\"Good\",\"Good\",\"Good\",\"Good\",\"Good\",\"Good\",\"Good\",\"Good\",\"Good\",\"Good\",\"Good\",\"Good\",\"Good\",\"Good\",\"Good\",\"Good\",\"Good\",\"Good\",\"Good\",\"Good\",\"Good\",\"Good\",\"Good\",\"Good\",\"Good\",\"Good\",\"Good\",\"Good\",\"Good\",\"Good\",\"Good\",\"Good\",\"Good\",\"Good\",\"Good\",\"Good\",\"Good\",\"Good\",\"Good\",\"Good\",\"Good\",\"Good\",\"Good\",\"Good\",\"Good\",\"Good\",\"Good\",\"Good\",\"Good\",\"Good\",\"Good\",\"Good\",\"Good\",\"Good\",\"Good\",\"Good\",\"Good\",\"Good\",\"Good\",\"Good\",\"Good\",\"Good\",\"Good\",\"Good\",\"Good\",\"Good\",\"Good\",\"Good\",\"Good\",\"Good\",\"Good\",\"Good\",\"Good\",\"Good\",\"Good\",\"Good\",\"Good\",\"Good\",\"Good\",\"Good\",\"Good\",\"Good\",\"Good\",\"Good\",\"Good\",\"Good\",\"Good\",\"Good\",\"Good\",\"Good\",\"Good\",\"Good\",\"Good\",\"Good\",\"Good\",\"Good\",\"Good\",\"Good\",\"Good\",\"Good\",\"Good\",\"Good\",\"Good\",\"Good\",\"Good\",\"Good\",\"Good\",\"Good\",\"Good\",\"Good\",\"Good\",\"Good\",\"Good\",\"Good\",\"Good\",\"Good\",\"Good\",\"Good\",\"Good\",\"Good\",\"Good\",\"Good\",\"Good\",\"Good\",\"Good\",\"Good\",\"Good\",\"Good\",\"Good\",\"Good\",\"Good\",\"Good\",\"Good\",\"Good\",\"Good\",\"Good\",\"Good\",\"Good\",\"Good\",\"Good\",\"Good\",\"Good\",\"Good\",\"Good\",\"Good\",\"Good\",\"Good\",\"Good\",\"Good\",\"Good\",\"Good\",\"Good\",\"Good\",\"Good\",\"Good\",\"Good\",\"Good\",\"Good\",\"Good\",\"Good\",\"Good\",\"Good\",\"Good\",\"Good\",\"Good\",\"Good\",\"Good\",\"Good\",\"Good\",\"Good\",\"Good\",\"Good\",\"Good\",\"Good\",\"Good\",\"Good\",\"Good\",\"Good\",\"Good\",\"Good\",\"Good\",\"Good\",\"Good\",\"Good\",\"Good\",\"Good\",\"Good\",\"Good\",\"Good\",\"Good\",\"Good\",\"Good\",\"Good\",\"Good\",\"Good\",\"Good\",\"Good\",\"Good\",\"Good\",\"Good\",\"Good\",\"Good\",\"Good\",\"Good\",\"Good\",\"Good\",\"Good\",\"Good\",\"Good\",\"Good\",\"Good\",\"Good\",\"Good\",\"Good\",\"Good\",\"Good\",\"Good\",\"Good\",\"Good\",\"Good\",\"Good\",\"Good\",\"Good\",\"Good\",\"Good\",\"Good\",\"Good\",\"Good\",\"Good\",\"Good\",\"Good\",\"Good\",\"Good\",\"Good\",\"Good\",\"Good\",\"Good\",\"Good\",\"Good\",\"Good\",\"Good\",\"Good\",\"Good\",\"Good\",\"Good\",\"Good\",\"Good\",\"Good\",\"Good\",\"Good\",\"Good\",\"Good\",\"Good\",\"Good\",\"Good\",\"Good\",\"Good\",\"Good\",\"Good\",\"Good\",\"Good\",\"Good\",\"Good\",\"Good\",\"Good\",\"Good\",\"Good\",\"Good\",\"Good\",\"Good\",\"Good\",\"Good\",\"Good\",\"Good\",\"Good\",\"Good\",\"Good\",\"Good\",\"Good\",\"Good\",\"Good\",\"Good\",\"Good\",\"Good\",\"Good\",\"Good\",\"Good\",\"Good\",\"Good\",\"Good\",\"Good\",\"Good\",\"Good\",\"Good\",\"Good\",\"Good\",\"Good\",\"Good\",\"Good\",\"Good\",\"Good\",\"Good\",\"Good\",\"Good\",\"Good\",\"Good\",\"Good\",\"Good\",\"Good\",\"Good\",\"Good\",\"Good\",\"Good\",\"Good\",\"Good\",\"Good\",\"Good\",\"Good\",\"Good\",\"Good\",\"Good\",\"Good\",\"Good\",\"Good\",\"Good\",\"Good\",\"Good\",\"Good\",\"Good\",\"Good\",\"Good\",\"Good\",\"Good\",\"Good\",\"Good\",\"Good\",\"Good\",\"Good\",\"Good\",\"Good\",\"Good\",\"Good\",\"Good\",\"Good\",\"Good\",\"Good\",\"Good\",\"Good\",\"Good\",\"Good\",\"Good\",\"Good\",\"Good\"]},{\"mode\":\"markers\",\"name\":\"Moderate AQI\",\"type\":\"scatter\",\"x\":[4.765019981175847,5.971741908354818,5.101331134067491,5.1468006709674015,5.03624952037396,6.008481789093381,5.3514967567969505,5.317706147943137,5.0633408661380646,6.330733085613938,5.130970267083514,5.667811448071557,4.9925358452657775,4.236159230579664,5.1523311600382815,5.840107977232223,3.5167997040816243,5.825212488426337,5.676029317006854,5.59490389895343,4.599140426799694,5.742776960826336,4.18118593412823,5.358941319245374,4.310926855371693,5.1755437029756655,4.716011695371454,5.317116460225442,5.205575142933645,6.215822555154372,4.655474594652716,4.331710659663883,4.445557502431367,5.255793346039492,5.84733755830638,5.68739428229153,5.361826013237365,5.415465825837759,4.941620737855168,5.429873348947643,5.636700478104719,5.147769046260147,4.996038593979734,6.120966592742047,4.924522216208587,6.178983562324302,5.2530592112536,4.638888424705075,5.641999308964985,5.70011243208365,4.9816917873473345,4.8019042665793465,4.109308505246749,4.731846525848303,5.928453208117699,5.3323919980206975,5.696456867783827,5.008698089870426,5.803915068449034,5.506545618777679,4.482101453486599,5.840994484732679,5.516686061817328,5.744286722976918,4.679682220572482,4.602884367933568,4.767437880315032,4.2184567264004755,5.7562000737749015,5.884882553827491,5.348892612838899,4.825335224508905,5.406897687524564,4.9276372232683805,5.529123519106034,5.1760854684239845,4.413450651007325,5.4700030569545275,5.9751320648797766,5.951691999337297,5.2131669923162045,5.91734688695641,5.341513659870251,5.420200073603668,5.261220032155725,5.7610312751714305,6.280840279296395,5.155600178241052,5.561008310573319,4.839509471308361,5.965779591473727,5.493488722395575,4.154393537956997,3.9149246482051483,5.4998176262110325,5.909575818070905,5.553331923790272,6.139527417292548,4.538334906717115,5.459546273157015,5.542041995175539,5.975212537854957,5.19750385215991,5.981308838564742,5.6150489817586156,4.503477442436995,5.186080086091452,5.457956038243393,5.095525013286175,5.445083983736097,5.871098104271856,4.959275180258706,4.985983020280123,6.009409249125556,5.955349994727821,5.292169647019105,4.68558948498528,5.180934046413014,5.059116398480737,5.293738117783524,5.304195296773312,5.675870871357818,4.837739909892655,5.649385490991616,4.92975090634168,3.9583727324786073,3.855094951158622,4.630539739757373,5.326806774068438,3.617105230502378,3.9331328237267345,4.123165370902919,4.850860573071108,6.105623597460235,4.213172309046819,4.213172309046819,3.891983230851967,4.017075096376059,5.3210762176783275,6.717979806852063,5.969296138669995,5.7249628223736195,5.027398539607596,5.424342515757471,5.112286536220284,4.6433342163821925,5.4882530946226,5.238595527072726,5.162573367114525,5.871717676251069,5.2659092674745365,4.512497620103123,5.2959209882027425,5.838028191180059,5.456630173905033,5.568220503962866,5.01553578506044,5.4146157430165545,4.999726308254446,5.750914729024711,4.627550187767521,5.308786305889,5.460038924240169,5.2196133385232715,4.915858688958351,4.564275378552271,5.659141000966213,5.043566603822077,5.225415257329116,4.312304324568706,4.317896266492956,5.1951632173408795,5.277136848468878,5.258428943785852,5.032187475255525,4.526972162142903,4.674107587838878,4.622172560893429,5.306695171192341,4.8237675722965525,5.167320289122358,5.767528382905359,5.3465896200206995,4.006679927740826,5.725939387070534,5.914502351616085,5.743858471348658,4.632963168167261,4.97082554523128,5.236255029535826,4.207499723307305,5.709324244393426,5.251112369403592,4.365637715794608,5.2539991223684,5.215756495728617,5.534325691292204,4.965046400045178,4.678591210581774,4.684899196466526,4.858915987351028,5.503428393014983,5.121523733545685,4.66887957609011,5.033805605862375,4.814806756112033,5.101839832639512,5.355190903570553,5.463809405372839,5.185825359612962,5.393457620766641,5.647396663868879,5.917833600889374,5.917833600889374,5.917833600889374,5.917833600889374,5.7886632131208575,5.7886632131208575,5.7886632131208575,5.7886632131208575,5.917833600889374,5.917833600889374,5.917833600889374,5.917833600889374,5.7886632131208575,5.7886632131208575,5.7886632131208575,5.7886632131208575,5.399716975749477,5.104923917466294,5.747337994859592,5.899577032374709,5.671280245552595,5.709384457122133,5.898596848351496,6.17257403565606,5.915019727210068,5.540868566351403,5.6213850669655425,6.0918350163802115,4.725544122486353,5.184875895828287,5.733592846776625,5.123018171837842,5.245838266591292,4.878044728783066,5.383409595682522,4.949760706600309,5.3786958083515595,5.076414682923757,4.286860485522373,4.991589313007415,3.6153186566114788,4.061490176624815,5.731062297240178,5.25127554873613,5.653681298717472,5.96848248157037,5.705322216563339,5.825186508087893,5.097087169019304,5.566746161729235,5.051654084113286,5.831032358922655,4.759191748130646,5.148507025464842,4.880562085821845,5.48774059439024,4.5809477726878765,6.157720226681134,5.963724566803018,6.361446964389264,5.19514936261219,5.216598661038017,5.835066895454687,5.570044148871043,6.022969973455655,5.4796875759735,5.144900972968539,6.019763301840449,5.577829453141658,6.098222376959117,4.782630260217609,5.486732183901019,5.6358645927614,5.363732287239263,5.2486033947794795,5.211238046622147,5.733847016394345,5.304908249088057,5.442060951202213,5.088352295799545,3.6917885244026984,4.714564450095123,4.652052848248105,5.893235075689462,5.893235075689462,4.4992195521808025,4.647206869085552,5.808063030945835,6.0883349323193015,4.821716544731034,5.222445928058845,5.619763047294012,5.092867957081954,5.128883702099773,5.2080192192058945,5.713621567696983,5.4385660800766225,5.141995042796427,5.559443369883757,5.060165030851882,6.197424471878088,5.802454213263227,5.596275928829378,5.6975797764023595,5.480287274396211,4.534521071985725,4.447049444147779,5.2712582849418155,5.03859632079311,5.108710440683239,4.68866893590091,6.284625840519599,5.549002035203484,5.340826680697754,5.625055091261163,5.97513298465516,6.412721213882179,5.9068988274683845,5.199596126163112,5.227470199001748,5.5146659390512145,6.662995967463532,5.929106632366652,5.0752183791115355,4.763203300370772,5.556888402922826,5.082422708666578,5.122133928186368,6.305346424481302,6.080325550789939,5.4346535193478305,5.087554276338934,4.308692442201257,5.532271419618875,4.3057596722628215,4.814147669862268,4.560181710709184,5.771175771563677,5.771175771563677,5.393980355744273,4.772856908856591,6.058247182830196,6.058247182830196,6.058247182830196,6.058247182830196,4.3777614387022625,4.3777614387022625,4.3777614387022625,4.3777614387022625,6.058247182830196,6.058247182830196,6.058247182830196,6.058247182830196,4.3777614387022625,4.3777614387022625,4.3777614387022625,4.3777614387022625,4.225671043081144,5.288177657247859,4.879422768143545,6.335108117706129,4.65152029823422,5.934417644753075,5.8957649842542725,5.697120319417384,4.6455598069064346,5.336083315641061,5.396765827712324,5.724147201044866,4.943375785924435,4.438368279687935,5.226161523423119,4.899858788666057,5.979643508462589,5.266593849822599,4.945882002090124,5.290920114175953,4.8034298006710845,5.061471328265031,4.146034962602502,4.9898590007903305,4.906388921152831,4.644605972314314,4.362840469311725,4.314056919240724],\"y\":[\"Moderate\",\"Moderate\",\"Moderate\",\"Moderate\",\"Moderate\",\"Moderate\",\"Moderate\",\"Moderate\",\"Moderate\",\"Moderate\",\"Moderate\",\"Moderate\",\"Moderate\",\"Moderate\",\"Moderate\",\"Moderate\",\"Moderate\",\"Moderate\",\"Moderate\",\"Moderate\",\"Moderate\",\"Moderate\",\"Moderate\",\"Moderate\",\"Moderate\",\"Moderate\",\"Moderate\",\"Moderate\",\"Moderate\",\"Moderate\",\"Moderate\",\"Moderate\",\"Moderate\",\"Moderate\",\"Moderate\",\"Moderate\",\"Moderate\",\"Moderate\",\"Moderate\",\"Moderate\",\"Moderate\",\"Moderate\",\"Moderate\",\"Moderate\",\"Moderate\",\"Moderate\",\"Moderate\",\"Moderate\",\"Moderate\",\"Moderate\",\"Moderate\",\"Moderate\",\"Moderate\",\"Moderate\",\"Moderate\",\"Moderate\",\"Moderate\",\"Moderate\",\"Moderate\",\"Moderate\",\"Moderate\",\"Moderate\",\"Moderate\",\"Moderate\",\"Moderate\",\"Moderate\",\"Moderate\",\"Moderate\",\"Moderate\",\"Moderate\",\"Moderate\",\"Moderate\",\"Moderate\",\"Moderate\",\"Moderate\",\"Moderate\",\"Moderate\",\"Moderate\",\"Moderate\",\"Moderate\",\"Moderate\",\"Moderate\",\"Moderate\",\"Moderate\",\"Moderate\",\"Moderate\",\"Moderate\",\"Moderate\",\"Moderate\",\"Moderate\",\"Moderate\",\"Moderate\",\"Moderate\",\"Moderate\",\"Moderate\",\"Moderate\",\"Moderate\",\"Moderate\",\"Moderate\",\"Moderate\",\"Moderate\",\"Moderate\",\"Moderate\",\"Moderate\",\"Moderate\",\"Moderate\",\"Moderate\",\"Moderate\",\"Moderate\",\"Moderate\",\"Moderate\",\"Moderate\",\"Moderate\",\"Moderate\",\"Moderate\",\"Moderate\",\"Moderate\",\"Moderate\",\"Moderate\",\"Moderate\",\"Moderate\",\"Moderate\",\"Moderate\",\"Moderate\",\"Moderate\",\"Moderate\",\"Moderate\",\"Moderate\",\"Moderate\",\"Moderate\",\"Moderate\",\"Moderate\",\"Moderate\",\"Moderate\",\"Moderate\",\"Moderate\",\"Moderate\",\"Moderate\",\"Moderate\",\"Moderate\",\"Moderate\",\"Moderate\",\"Moderate\",\"Moderate\",\"Moderate\",\"Moderate\",\"Moderate\",\"Moderate\",\"Moderate\",\"Moderate\",\"Moderate\",\"Moderate\",\"Moderate\",\"Moderate\",\"Moderate\",\"Moderate\",\"Moderate\",\"Moderate\",\"Moderate\",\"Moderate\",\"Moderate\",\"Moderate\",\"Moderate\",\"Moderate\",\"Moderate\",\"Moderate\",\"Moderate\",\"Moderate\",\"Moderate\",\"Moderate\",\"Moderate\",\"Moderate\",\"Moderate\",\"Moderate\",\"Moderate\",\"Moderate\",\"Moderate\",\"Moderate\",\"Moderate\",\"Moderate\",\"Moderate\",\"Moderate\",\"Moderate\",\"Moderate\",\"Moderate\",\"Moderate\",\"Moderate\",\"Moderate\",\"Moderate\",\"Moderate\",\"Moderate\",\"Moderate\",\"Moderate\",\"Moderate\",\"Moderate\",\"Moderate\",\"Moderate\",\"Moderate\",\"Moderate\",\"Moderate\",\"Moderate\",\"Moderate\",\"Moderate\",\"Moderate\",\"Moderate\",\"Moderate\",\"Moderate\",\"Moderate\",\"Moderate\",\"Moderate\",\"Moderate\",\"Moderate\",\"Moderate\",\"Moderate\",\"Moderate\",\"Moderate\",\"Moderate\",\"Moderate\",\"Moderate\",\"Moderate\",\"Moderate\",\"Moderate\",\"Moderate\",\"Moderate\",\"Moderate\",\"Moderate\",\"Moderate\",\"Moderate\",\"Moderate\",\"Moderate\",\"Moderate\",\"Moderate\",\"Moderate\",\"Moderate\",\"Moderate\",\"Moderate\",\"Moderate\",\"Moderate\",\"Moderate\",\"Moderate\",\"Moderate\",\"Moderate\",\"Moderate\",\"Moderate\",\"Moderate\",\"Moderate\",\"Moderate\",\"Moderate\",\"Moderate\",\"Moderate\",\"Moderate\",\"Moderate\",\"Moderate\",\"Moderate\",\"Moderate\",\"Moderate\",\"Moderate\",\"Moderate\",\"Moderate\",\"Moderate\",\"Moderate\",\"Moderate\",\"Moderate\",\"Moderate\",\"Moderate\",\"Moderate\",\"Moderate\",\"Moderate\",\"Moderate\",\"Moderate\",\"Moderate\",\"Moderate\",\"Moderate\",\"Moderate\",\"Moderate\",\"Moderate\",\"Moderate\",\"Moderate\",\"Moderate\",\"Moderate\",\"Moderate\",\"Moderate\",\"Moderate\",\"Moderate\",\"Moderate\",\"Moderate\",\"Moderate\",\"Moderate\",\"Moderate\",\"Moderate\",\"Moderate\",\"Moderate\",\"Moderate\",\"Moderate\",\"Moderate\",\"Moderate\",\"Moderate\",\"Moderate\",\"Moderate\",\"Moderate\",\"Moderate\",\"Moderate\",\"Moderate\",\"Moderate\",\"Moderate\",\"Moderate\",\"Moderate\",\"Moderate\",\"Moderate\",\"Moderate\",\"Moderate\",\"Moderate\",\"Moderate\",\"Moderate\",\"Moderate\",\"Moderate\",\"Moderate\",\"Moderate\",\"Moderate\",\"Moderate\",\"Moderate\",\"Moderate\",\"Moderate\",\"Moderate\",\"Moderate\",\"Moderate\",\"Moderate\",\"Moderate\",\"Moderate\",\"Moderate\",\"Moderate\",\"Moderate\",\"Moderate\",\"Moderate\",\"Moderate\",\"Moderate\",\"Moderate\",\"Moderate\",\"Moderate\",\"Moderate\",\"Moderate\",\"Moderate\",\"Moderate\",\"Moderate\",\"Moderate\",\"Moderate\",\"Moderate\",\"Moderate\",\"Moderate\",\"Moderate\",\"Moderate\",\"Moderate\",\"Moderate\",\"Moderate\",\"Moderate\",\"Moderate\",\"Moderate\",\"Moderate\",\"Moderate\",\"Moderate\",\"Moderate\",\"Moderate\",\"Moderate\",\"Moderate\",\"Moderate\",\"Moderate\",\"Moderate\",\"Moderate\",\"Moderate\",\"Moderate\",\"Moderate\",\"Moderate\",\"Moderate\",\"Moderate\",\"Moderate\",\"Moderate\",\"Moderate\",\"Moderate\",\"Moderate\",\"Moderate\",\"Moderate\",\"Moderate\",\"Moderate\",\"Moderate\",\"Moderate\",\"Moderate\",\"Moderate\",\"Moderate\",\"Moderate\",\"Moderate\",\"Moderate\",\"Moderate\",\"Moderate\",\"Moderate\",\"Moderate\",\"Moderate\",\"Moderate\"]},{\"mode\":\"markers\",\"name\":\"Unhealthy AQI\",\"type\":\"scatter\",\"x\":[6.628788603571813,5.6229606989135625,5.35616932286042,5.990396579256559,4.257318513097639,5.945986770300988,5.176308352027911,5.190368121341372,4.2440295890300215,4.151492428425498,6.5002614556481655,5.579871589478641,4.271818381611661,6.377176161846617,5.731831225580355,5.663207942844398,4.3338702788260095],\"y\":[\"Unhealthy\",\"Unhealthy\",\"Unhealthy\",\"Unhealthy\",\"Unhealthy\",\"Unhealthy\",\"Unhealthy\",\"Unhealthy\",\"Unhealthy\",\"Unhealthy\",\"Unhealthy\",\"Unhealthy\",\"Unhealthy\",\"Unhealthy\",\"Unhealthy\",\"Unhealthy\",\"Unhealthy\"]}],                        {\"template\":{\"data\":{\"bar\":[{\"error_x\":{\"color\":\"#2a3f5f\"},\"error_y\":{\"color\":\"#2a3f5f\"},\"marker\":{\"line\":{\"color\":\"#E5ECF6\",\"width\":0.5},\"pattern\":{\"fillmode\":\"overlay\",\"size\":10,\"solidity\":0.2}},\"type\":\"bar\"}],\"barpolar\":[{\"marker\":{\"line\":{\"color\":\"#E5ECF6\",\"width\":0.5},\"pattern\":{\"fillmode\":\"overlay\",\"size\":10,\"solidity\":0.2}},\"type\":\"barpolar\"}],\"carpet\":[{\"aaxis\":{\"endlinecolor\":\"#2a3f5f\",\"gridcolor\":\"white\",\"linecolor\":\"white\",\"minorgridcolor\":\"white\",\"startlinecolor\":\"#2a3f5f\"},\"baxis\":{\"endlinecolor\":\"#2a3f5f\",\"gridcolor\":\"white\",\"linecolor\":\"white\",\"minorgridcolor\":\"white\",\"startlinecolor\":\"#2a3f5f\"},\"type\":\"carpet\"}],\"choropleth\":[{\"colorbar\":{\"outlinewidth\":0,\"ticks\":\"\"},\"type\":\"choropleth\"}],\"contour\":[{\"colorbar\":{\"outlinewidth\":0,\"ticks\":\"\"},\"colorscale\":[[0.0,\"#0d0887\"],[0.1111111111111111,\"#46039f\"],[0.2222222222222222,\"#7201a8\"],[0.3333333333333333,\"#9c179e\"],[0.4444444444444444,\"#bd3786\"],[0.5555555555555556,\"#d8576b\"],[0.6666666666666666,\"#ed7953\"],[0.7777777777777778,\"#fb9f3a\"],[0.8888888888888888,\"#fdca26\"],[1.0,\"#f0f921\"]],\"type\":\"contour\"}],\"contourcarpet\":[{\"colorbar\":{\"outlinewidth\":0,\"ticks\":\"\"},\"type\":\"contourcarpet\"}],\"heatmap\":[{\"colorbar\":{\"outlinewidth\":0,\"ticks\":\"\"},\"colorscale\":[[0.0,\"#0d0887\"],[0.1111111111111111,\"#46039f\"],[0.2222222222222222,\"#7201a8\"],[0.3333333333333333,\"#9c179e\"],[0.4444444444444444,\"#bd3786\"],[0.5555555555555556,\"#d8576b\"],[0.6666666666666666,\"#ed7953\"],[0.7777777777777778,\"#fb9f3a\"],[0.8888888888888888,\"#fdca26\"],[1.0,\"#f0f921\"]],\"type\":\"heatmap\"}],\"heatmapgl\":[{\"colorbar\":{\"outlinewidth\":0,\"ticks\":\"\"},\"colorscale\":[[0.0,\"#0d0887\"],[0.1111111111111111,\"#46039f\"],[0.2222222222222222,\"#7201a8\"],[0.3333333333333333,\"#9c179e\"],[0.4444444444444444,\"#bd3786\"],[0.5555555555555556,\"#d8576b\"],[0.6666666666666666,\"#ed7953\"],[0.7777777777777778,\"#fb9f3a\"],[0.8888888888888888,\"#fdca26\"],[1.0,\"#f0f921\"]],\"type\":\"heatmapgl\"}],\"histogram\":[{\"marker\":{\"pattern\":{\"fillmode\":\"overlay\",\"size\":10,\"solidity\":0.2}},\"type\":\"histogram\"}],\"histogram2d\":[{\"colorbar\":{\"outlinewidth\":0,\"ticks\":\"\"},\"colorscale\":[[0.0,\"#0d0887\"],[0.1111111111111111,\"#46039f\"],[0.2222222222222222,\"#7201a8\"],[0.3333333333333333,\"#9c179e\"],[0.4444444444444444,\"#bd3786\"],[0.5555555555555556,\"#d8576b\"],[0.6666666666666666,\"#ed7953\"],[0.7777777777777778,\"#fb9f3a\"],[0.8888888888888888,\"#fdca26\"],[1.0,\"#f0f921\"]],\"type\":\"histogram2d\"}],\"histogram2dcontour\":[{\"colorbar\":{\"outlinewidth\":0,\"ticks\":\"\"},\"colorscale\":[[0.0,\"#0d0887\"],[0.1111111111111111,\"#46039f\"],[0.2222222222222222,\"#7201a8\"],[0.3333333333333333,\"#9c179e\"],[0.4444444444444444,\"#bd3786\"],[0.5555555555555556,\"#d8576b\"],[0.6666666666666666,\"#ed7953\"],[0.7777777777777778,\"#fb9f3a\"],[0.8888888888888888,\"#fdca26\"],[1.0,\"#f0f921\"]],\"type\":\"histogram2dcontour\"}],\"mesh3d\":[{\"colorbar\":{\"outlinewidth\":0,\"ticks\":\"\"},\"type\":\"mesh3d\"}],\"parcoords\":[{\"line\":{\"colorbar\":{\"outlinewidth\":0,\"ticks\":\"\"}},\"type\":\"parcoords\"}],\"pie\":[{\"automargin\":true,\"type\":\"pie\"}],\"scatter\":[{\"marker\":{\"colorbar\":{\"outlinewidth\":0,\"ticks\":\"\"}},\"type\":\"scatter\"}],\"scatter3d\":[{\"line\":{\"colorbar\":{\"outlinewidth\":0,\"ticks\":\"\"}},\"marker\":{\"colorbar\":{\"outlinewidth\":0,\"ticks\":\"\"}},\"type\":\"scatter3d\"}],\"scattercarpet\":[{\"marker\":{\"colorbar\":{\"outlinewidth\":0,\"ticks\":\"\"}},\"type\":\"scattercarpet\"}],\"scattergeo\":[{\"marker\":{\"colorbar\":{\"outlinewidth\":0,\"ticks\":\"\"}},\"type\":\"scattergeo\"}],\"scattergl\":[{\"marker\":{\"colorbar\":{\"outlinewidth\":0,\"ticks\":\"\"}},\"type\":\"scattergl\"}],\"scattermapbox\":[{\"marker\":{\"colorbar\":{\"outlinewidth\":0,\"ticks\":\"\"}},\"type\":\"scattermapbox\"}],\"scatterpolar\":[{\"marker\":{\"colorbar\":{\"outlinewidth\":0,\"ticks\":\"\"}},\"type\":\"scatterpolar\"}],\"scatterpolargl\":[{\"marker\":{\"colorbar\":{\"outlinewidth\":0,\"ticks\":\"\"}},\"type\":\"scatterpolargl\"}],\"scatterternary\":[{\"marker\":{\"colorbar\":{\"outlinewidth\":0,\"ticks\":\"\"}},\"type\":\"scatterternary\"}],\"surface\":[{\"colorbar\":{\"outlinewidth\":0,\"ticks\":\"\"},\"colorscale\":[[0.0,\"#0d0887\"],[0.1111111111111111,\"#46039f\"],[0.2222222222222222,\"#7201a8\"],[0.3333333333333333,\"#9c179e\"],[0.4444444444444444,\"#bd3786\"],[0.5555555555555556,\"#d8576b\"],[0.6666666666666666,\"#ed7953\"],[0.7777777777777778,\"#fb9f3a\"],[0.8888888888888888,\"#fdca26\"],[1.0,\"#f0f921\"]],\"type\":\"surface\"}],\"table\":[{\"cells\":{\"fill\":{\"color\":\"#EBF0F8\"},\"line\":{\"color\":\"white\"}},\"header\":{\"fill\":{\"color\":\"#C8D4E3\"},\"line\":{\"color\":\"white\"}},\"type\":\"table\"}]},\"layout\":{\"annotationdefaults\":{\"arrowcolor\":\"#2a3f5f\",\"arrowhead\":0,\"arrowwidth\":1},\"autotypenumbers\":\"strict\",\"coloraxis\":{\"colorbar\":{\"outlinewidth\":0,\"ticks\":\"\"}},\"colorscale\":{\"diverging\":[[0,\"#8e0152\"],[0.1,\"#c51b7d\"],[0.2,\"#de77ae\"],[0.3,\"#f1b6da\"],[0.4,\"#fde0ef\"],[0.5,\"#f7f7f7\"],[0.6,\"#e6f5d0\"],[0.7,\"#b8e186\"],[0.8,\"#7fbc41\"],[0.9,\"#4d9221\"],[1,\"#276419\"]],\"sequential\":[[0.0,\"#0d0887\"],[0.1111111111111111,\"#46039f\"],[0.2222222222222222,\"#7201a8\"],[0.3333333333333333,\"#9c179e\"],[0.4444444444444444,\"#bd3786\"],[0.5555555555555556,\"#d8576b\"],[0.6666666666666666,\"#ed7953\"],[0.7777777777777778,\"#fb9f3a\"],[0.8888888888888888,\"#fdca26\"],[1.0,\"#f0f921\"]],\"sequentialminus\":[[0.0,\"#0d0887\"],[0.1111111111111111,\"#46039f\"],[0.2222222222222222,\"#7201a8\"],[0.3333333333333333,\"#9c179e\"],[0.4444444444444444,\"#bd3786\"],[0.5555555555555556,\"#d8576b\"],[0.6666666666666666,\"#ed7953\"],[0.7777777777777778,\"#fb9f3a\"],[0.8888888888888888,\"#fdca26\"],[1.0,\"#f0f921\"]]},\"colorway\":[\"#636efa\",\"#EF553B\",\"#00cc96\",\"#ab63fa\",\"#FFA15A\",\"#19d3f3\",\"#FF6692\",\"#B6E880\",\"#FF97FF\",\"#FECB52\"],\"font\":{\"color\":\"#2a3f5f\"},\"geo\":{\"bgcolor\":\"white\",\"lakecolor\":\"white\",\"landcolor\":\"#E5ECF6\",\"showlakes\":true,\"showland\":true,\"subunitcolor\":\"white\"},\"hoverlabel\":{\"align\":\"left\"},\"hovermode\":\"closest\",\"mapbox\":{\"style\":\"light\"},\"paper_bgcolor\":\"white\",\"plot_bgcolor\":\"#E5ECF6\",\"polar\":{\"angularaxis\":{\"gridcolor\":\"white\",\"linecolor\":\"white\",\"ticks\":\"\"},\"bgcolor\":\"#E5ECF6\",\"radialaxis\":{\"gridcolor\":\"white\",\"linecolor\":\"white\",\"ticks\":\"\"}},\"scene\":{\"xaxis\":{\"backgroundcolor\":\"#E5ECF6\",\"gridcolor\":\"white\",\"gridwidth\":2,\"linecolor\":\"white\",\"showbackground\":true,\"ticks\":\"\",\"zerolinecolor\":\"white\"},\"yaxis\":{\"backgroundcolor\":\"#E5ECF6\",\"gridcolor\":\"white\",\"gridwidth\":2,\"linecolor\":\"white\",\"showbackground\":true,\"ticks\":\"\",\"zerolinecolor\":\"white\"},\"zaxis\":{\"backgroundcolor\":\"#E5ECF6\",\"gridcolor\":\"white\",\"gridwidth\":2,\"linecolor\":\"white\",\"showbackground\":true,\"ticks\":\"\",\"zerolinecolor\":\"white\"}},\"shapedefaults\":{\"line\":{\"color\":\"#2a3f5f\"}},\"ternary\":{\"aaxis\":{\"gridcolor\":\"white\",\"linecolor\":\"white\",\"ticks\":\"\"},\"baxis\":{\"gridcolor\":\"white\",\"linecolor\":\"white\",\"ticks\":\"\"},\"bgcolor\":\"#E5ECF6\",\"caxis\":{\"gridcolor\":\"white\",\"linecolor\":\"white\",\"ticks\":\"\"}},\"title\":{\"x\":0.05},\"xaxis\":{\"automargin\":true,\"gridcolor\":\"white\",\"linecolor\":\"white\",\"ticks\":\"\",\"title\":{\"standoff\":15},\"zerolinecolor\":\"white\",\"zerolinewidth\":2},\"yaxis\":{\"automargin\":true,\"gridcolor\":\"white\",\"linecolor\":\"white\",\"ticks\":\"\",\"title\":{\"standoff\":15},\"zerolinecolor\":\"white\",\"zerolinewidth\":2}}},\"title\":{\"text\":\"AQI Vs. Population\"},\"xaxis\":{\"title\":{\"text\":\"Population\"}},\"yaxis\":{\"title\":{\"text\":\"AQI Quality\"}}},                        {\"responsive\": true}                    ).then(function(){\n",
       "                            \n",
       "var gd = document.getElementById('f813d3f7-4159-4c85-926d-6cf1c14f0a9d');\n",
       "var x = new MutationObserver(function (mutations, observer) {{\n",
       "        var display = window.getComputedStyle(gd).display;\n",
       "        if (!display || display === 'none') {{\n",
       "            console.log([gd, 'removed!']);\n",
       "            Plotly.purge(gd);\n",
       "            observer.disconnect();\n",
       "        }}\n",
       "}});\n",
       "\n",
       "// Listen for the removal of the full notebook cells\n",
       "var notebookContainer = gd.closest('#notebook-container');\n",
       "if (notebookContainer) {{\n",
       "    x.observe(notebookContainer, {childList: true});\n",
       "}}\n",
       "\n",
       "// Listen for the clearing of the current output cell\n",
       "var outputEl = gd.closest('.output');\n",
       "if (outputEl) {{\n",
       "    x.observe(outputEl, {childList: true});\n",
       "}}\n",
       "\n",
       "                        })                };                });            </script>        </div>"
      ]
     },
     "metadata": {},
     "output_type": "display_data"
    },
    {
     "data": {
      "application/vnd.plotly.v1+json": {
       "config": {
        "plotlyServerURL": "https://plot.ly"
       },
       "data": [
        {
         "mode": "markers",
         "name": "Good AQI",
         "type": "scatter",
         "x": [
          5.318286688622218,
          5.324819331183517,
          4.647373188597217,
          4.113441953965322,
          4.482187313544587,
          5.314316040434888,
          4.854439650318333,
          5.314002125855026,
          4.258254053507148,
          4.258254053507148,
          4.312537003107304,
          4.349957098719464,
          4.199645493080167,
          3.1126050015345745,
          4.625888383862849,
          3.894758994371892,
          4.304555150120442,
          4.679763935940666,
          4.807162809471061,
          5.355440025634347,
          4.079868335175173,
          4.5009770535891995,
          5.4036643360931595,
          4.3057596722628215,
          4.782981153191993,
          5.101203866268414,
          4.577824860980239,
          3.4153072922255676,
          5.1327974204520155,
          6.415098106195055,
          4.807183120531617,
          5.525513850979463,
          4.024033897900905,
          4.024033897900905,
          3.580810972660946,
          3.580810972660946,
          4.024033897900905,
          4.024033897900905,
          3.580810972660946,
          3.580810972660946,
          4.473837184033068,
          5.577752528032207,
          4.822344639121273,
          4.445261613754528,
          4.288964260896139,
          4.216007468108312,
          5.151798722592861,
          4.672116338158776,
          4.793720556813524,
          3.7004441010277516,
          3.34713478291002,
          5.058608207700355,
          4.726295144126775,
          4.489339625857985,
          4.081059123001319,
          5.216654044136993,
          4.3957456299921684,
          5.262524652510474,
          6.20281296295569,
          5.179749935899168,
          5.066467560549935,
          4.6349808000512285,
          5.242596084347571,
          4.292100938480419,
          5.214475600914911,
          4.443810401121398,
          5.16818800475665,
          3.6021685513789974,
          4.755524230907189,
          3.6603910984024672,
          5.009029995684903,
          5.856534954836759,
          4.928984413940275,
          3.922465945298413,
          5.572700870012037,
          4.362746288823878,
          4.9062164837058315,
          6.132440287733574,
          5.302627429362541,
          5.529711322832728,
          5.708074856527354,
          4.861928502093725,
          4.9959421629925505,
          4.883320678382975,
          5.658093475330018,
          5.722332773107504,
          4.113375057094903,
          5.872189499377181,
          4.37768864073337,
          4.292278228672973,
          4.885412110934279,
          4.924144840771305,
          4.787765011483216,
          5.344995150995915,
          4.5972233473121555,
          4.257246464907372,
          4.781633324343898,
          4.949443680174156,
          5.295914396647842,
          5.295914396647842,
          5.994597791337682,
          4.853558290455931,
          5.218222931796359,
          4.342304220718211,
          5.050754719588618,
          3.839980557678343,
          5.011912838805169,
          5.186817949117826,
          4.957415714722669,
          4.369790824030776,
          5.186405352655567,
          3.725176301419137,
          4.5336958150954265,
          4.53668467262093,
          4.9898145430342025,
          4.1185623126356035,
          4.530660651172487,
          3.9372168908627057,
          5.224237735196979,
          5.126624864745772,
          4.063445953123033,
          4.500112922159694,
          4.808352787778733,
          5.110909421860063,
          5.2467816170350465,
          4.177074545910076,
          4.589279221235968,
          4.300899687772249,
          5.224071849290467,
          4.4733117571189815,
          4.517684039800974,
          5.063017939887928,
          5.294483862127643,
          4.52628757258808,
          4.509135288879168,
          4.569888670658117,
          5.206663996990936,
          5.49876115897809,
          4.572976098995143,
          4.600133973782028,
          3.9273703630390235,
          4.786857853828952,
          4.2819646232599,
          4.430026654510014,
          4.282078054577154,
          4.40805331429798,
          4.791887054448624,
          4.394136352641888,
          4.311223910432456,
          4.1505415413740865,
          4.184890082199722,
          5.213451346034802,
          3.9301846522986197,
          6.017088875330536,
          4.436766739173454,
          5.293112735919741,
          5.156464343571387,
          5.010291474242876,
          4.537617636420976,
          3.7756832490260437,
          4.434377261250224,
          4.436003535669896,
          4.457048826585631,
          4.553458229380449,
          3.940466677663529,
          4.7367230963944,
          4.879038505237237,
          4.6640493516544295,
          3.966751664051378,
          4.123361558746296,
          4.167376418413583,
          4.815405058696692,
          5.026504664697579,
          4.602439832843189,
          5.031182168178816,
          4.834223541380128,
          5.52127672185961,
          5.084737097962795,
          4.758344063401976,
          5.181122975894328,
          5.307714200040391,
          5.412697370746874,
          4.857193741308315,
          4.95943255838829,
          5.0107958887479755,
          5.1977518220661,
          4.508677825165493,
          5.395277455722756,
          4.930199953067788,
          4.4679926595211485,
          5.329784199064232,
          4.2383723290283255,
          5.8926643794693865,
          4.576928460302419,
          5.207254563904791,
          5.8440103223969695,
          4.528569640012892,
          4.663861047845941,
          4.550717423469282,
          4.462727337772099,
          5.011477400733501,
          4.409966919252241,
          4.664801751490762,
          4.4122757019358305,
          5.1953986801294105,
          4.706265334409592,
          4.888308695565653,
          4.651665603922935,
          4.144200460183879,
          4.00949338828754,
          4.69627773673571,
          4.744785686458521,
          4.289633539009645,
          4.910843097652502,
          4.279004961844902,
          4.469998642218747,
          4.7381460887120594,
          4.912466510929526,
          4.0553783313750005,
          5.6109400225290385,
          4.050302403962402,
          3.9661417327390325,
          3.5531545481696254,
          4.477294937778128,
          5.198151031569567,
          5.491493363167025,
          2.8095597146352675,
          4.380392160057028,
          4.718102918177168,
          4.64053112457209,
          5.429007367334705,
          5.463672054505291,
          5.794757741336501,
          5.69406352855906,
          5.7722769544790635,
          5.702465864520014,
          4.8159693664195995,
          4.845879067367752,
          4.3849623973026075,
          4.517037463772294,
          5.112792619112295,
          5.468190719813714,
          5.440865020969714,
          5.325729063789446,
          5.363201932709326,
          4.548327985997318,
          5.666744428543663,
          5.075926347114654,
          5.510123915793574,
          5.356746532127148,
          4.986444771041151,
          5.012676969993142,
          4.958353612776127,
          3.4303975913869666,
          5.9862408542956045,
          4.569596267645642,
          4.674337468155646,
          5.103324707061445,
          5.4056434164042,
          4.912641795663937,
          4.356905034810079,
          5.486369545827313,
          4.726987870438496,
          3.932321531989293,
          4.769923543522596,
          5.718984707712472,
          4.781274153922566,
          3.7318304202881625,
          5.281424283672431,
          4.043008409879952,
          4.757600979569135,
          4.177247836255623,
          4.305050268917223,
          4.594447800611733,
          5.248885063042197,
          4.960328050530143,
          4.900061102735481,
          4.1539367544609345,
          4.991828352265942,
          5.307957898681535,
          4.479935033944336,
          4.941421980623304,
          4.632831697087637,
          5.236267633088603,
          5.020361282647708,
          4.1596574112477045,
          4.882962595788631,
          5.113729493146094,
          4.344647665919406,
          5.135800283302111,
          3.6452257115354163,
          4.977083120315853,
          4.612571954065176,
          4.839377475502759,
          4.674962127712317,
          4.616570029608803,
          4.78748881254863,
          5.796830949007645,
          4.904261001933344,
          4.485834952683221,
          4.9332594512699535,
          5.325215904954646,
          5.502268669196366,
          4.8747658426895795,
          4.616370472291269,
          4.615171198924552,
          5.549923628354655,
          4.440720217316904,
          5.222523986631931,
          5.292244992274296,
          4.87952594503966,
          5.3202813327739,
          4.662984361017443,
          5.530771974774431,
          4.827711661973865,
          5.141641009004354,
          5.50639001707986,
          5.456845618079411,
          4.884772714363229,
          4.2459319543386025,
          4.438130800243104,
          4.499865711329091,
          4.712733859069952,
          4.722411783326495,
          4.723431042160122,
          4.983567655666821,
          5.339745509154297,
          3.964542466079137,
          4.294664589500175,
          5.0916458577560775,
          4.755119898919951,
          4.964504765269017,
          4.187153953785416,
          5.4792210509029875,
          5.395202291201982,
          5.113281384161362,
          4.227629649571009,
          4.729124275258121,
          5.352211470111767,
          4.514946005308004,
          4.963646186484843,
          4.189686782592971,
          4.555336327995267,
          5.209654395341101,
          4.479776792192939,
          4.839572312356351,
          5.018904286378933,
          5.512740413391318,
          5.585622008937453,
          4.971196963302861,
          4.971196963302861,
          4.971196963302861,
          4.971196963302861,
          4.998350896885444,
          4.998350896885444,
          4.998350896885444,
          4.998350896885444,
          4.971196963302861,
          4.971196963302861,
          4.971196963302861,
          4.971196963302861,
          4.998350896885444,
          4.998350896885444,
          4.998350896885444,
          4.998350896885444,
          5.158398681794192,
          4.872080483205862,
          5.021652299627546,
          4.330332589222979,
          4.8861916922786905,
          4.796761608337888,
          5.093095842094377,
          5.438833363046032,
          4.686573712053882,
          4.196231470442874,
          4.308777773664721,
          5.131182226148925,
          5.208895300843405,
          4.308692442201257,
          4.464206284343785,
          3.9381693463903202
         ],
         "y": [
          "Good",
          "Good",
          "Good",
          "Good",
          "Good",
          "Good",
          "Good",
          "Good",
          "Good",
          "Good",
          "Good",
          "Good",
          "Good",
          "Good",
          "Good",
          "Good",
          "Good",
          "Good",
          "Good",
          "Good",
          "Good",
          "Good",
          "Good",
          "Good",
          "Good",
          "Good",
          "Good",
          "Good",
          "Good",
          "Good",
          "Good",
          "Good",
          "Good",
          "Good",
          "Good",
          "Good",
          "Good",
          "Good",
          "Good",
          "Good",
          "Good",
          "Good",
          "Good",
          "Good",
          "Good",
          "Good",
          "Good",
          "Good",
          "Good",
          "Good",
          "Good",
          "Good",
          "Good",
          "Good",
          "Good",
          "Good",
          "Good",
          "Good",
          "Good",
          "Good",
          "Good",
          "Good",
          "Good",
          "Good",
          "Good",
          "Good",
          "Good",
          "Good",
          "Good",
          "Good",
          "Good",
          "Good",
          "Good",
          "Good",
          "Good",
          "Good",
          "Good",
          "Good",
          "Good",
          "Good",
          "Good",
          "Good",
          "Good",
          "Good",
          "Good",
          "Good",
          "Good",
          "Good",
          "Good",
          "Good",
          "Good",
          "Good",
          "Good",
          "Good",
          "Good",
          "Good",
          "Good",
          "Good",
          "Good",
          "Good",
          "Good",
          "Good",
          "Good",
          "Good",
          "Good",
          "Good",
          "Good",
          "Good",
          "Good",
          "Good",
          "Good",
          "Good",
          "Good",
          "Good",
          "Good",
          "Good",
          "Good",
          "Good",
          "Good",
          "Good",
          "Good",
          "Good",
          "Good",
          "Good",
          "Good",
          "Good",
          "Good",
          "Good",
          "Good",
          "Good",
          "Good",
          "Good",
          "Good",
          "Good",
          "Good",
          "Good",
          "Good",
          "Good",
          "Good",
          "Good",
          "Good",
          "Good",
          "Good",
          "Good",
          "Good",
          "Good",
          "Good",
          "Good",
          "Good",
          "Good",
          "Good",
          "Good",
          "Good",
          "Good",
          "Good",
          "Good",
          "Good",
          "Good",
          "Good",
          "Good",
          "Good",
          "Good",
          "Good",
          "Good",
          "Good",
          "Good",
          "Good",
          "Good",
          "Good",
          "Good",
          "Good",
          "Good",
          "Good",
          "Good",
          "Good",
          "Good",
          "Good",
          "Good",
          "Good",
          "Good",
          "Good",
          "Good",
          "Good",
          "Good",
          "Good",
          "Good",
          "Good",
          "Good",
          "Good",
          "Good",
          "Good",
          "Good",
          "Good",
          "Good",
          "Good",
          "Good",
          "Good",
          "Good",
          "Good",
          "Good",
          "Good",
          "Good",
          "Good",
          "Good",
          "Good",
          "Good",
          "Good",
          "Good",
          "Good",
          "Good",
          "Good",
          "Good",
          "Good",
          "Good",
          "Good",
          "Good",
          "Good",
          "Good",
          "Good",
          "Good",
          "Good",
          "Good",
          "Good",
          "Good",
          "Good",
          "Good",
          "Good",
          "Good",
          "Good",
          "Good",
          "Good",
          "Good",
          "Good",
          "Good",
          "Good",
          "Good",
          "Good",
          "Good",
          "Good",
          "Good",
          "Good",
          "Good",
          "Good",
          "Good",
          "Good",
          "Good",
          "Good",
          "Good",
          "Good",
          "Good",
          "Good",
          "Good",
          "Good",
          "Good",
          "Good",
          "Good",
          "Good",
          "Good",
          "Good",
          "Good",
          "Good",
          "Good",
          "Good",
          "Good",
          "Good",
          "Good",
          "Good",
          "Good",
          "Good",
          "Good",
          "Good",
          "Good",
          "Good",
          "Good",
          "Good",
          "Good",
          "Good",
          "Good",
          "Good",
          "Good",
          "Good",
          "Good",
          "Good",
          "Good",
          "Good",
          "Good",
          "Good",
          "Good",
          "Good",
          "Good",
          "Good",
          "Good",
          "Good",
          "Good",
          "Good",
          "Good",
          "Good",
          "Good",
          "Good",
          "Good",
          "Good",
          "Good",
          "Good",
          "Good",
          "Good",
          "Good",
          "Good",
          "Good",
          "Good",
          "Good",
          "Good",
          "Good",
          "Good",
          "Good",
          "Good",
          "Good",
          "Good",
          "Good",
          "Good",
          "Good",
          "Good",
          "Good",
          "Good",
          "Good",
          "Good",
          "Good",
          "Good",
          "Good",
          "Good",
          "Good",
          "Good",
          "Good",
          "Good",
          "Good",
          "Good",
          "Good",
          "Good",
          "Good",
          "Good",
          "Good",
          "Good",
          "Good",
          "Good",
          "Good",
          "Good",
          "Good",
          "Good",
          "Good",
          "Good",
          "Good",
          "Good",
          "Good",
          "Good",
          "Good",
          "Good",
          "Good",
          "Good",
          "Good",
          "Good",
          "Good",
          "Good",
          "Good",
          "Good",
          "Good",
          "Good",
          "Good",
          "Good",
          "Good",
          "Good",
          "Good",
          "Good",
          "Good",
          "Good",
          "Good",
          "Good",
          "Good",
          "Good",
          "Good",
          "Good",
          "Good",
          "Good"
         ]
        },
        {
         "mode": "markers",
         "name": "Moderate AQI",
         "type": "scatter",
         "x": [
          4.765019981175847,
          5.971741908354818,
          5.101331134067491,
          5.1468006709674015,
          5.03624952037396,
          6.008481789093381,
          5.3514967567969505,
          5.317706147943137,
          5.0633408661380646,
          6.330733085613938,
          5.130970267083514,
          5.667811448071557,
          4.9925358452657775,
          4.236159230579664,
          5.1523311600382815,
          5.840107977232223,
          3.5167997040816243,
          5.825212488426337,
          5.676029317006854,
          5.59490389895343,
          4.599140426799694,
          5.742776960826336,
          4.18118593412823,
          5.358941319245374,
          4.310926855371693,
          5.1755437029756655,
          4.716011695371454,
          5.317116460225442,
          5.205575142933645,
          6.215822555154372,
          4.655474594652716,
          4.331710659663883,
          4.445557502431367,
          5.255793346039492,
          5.84733755830638,
          5.68739428229153,
          5.361826013237365,
          5.415465825837759,
          4.941620737855168,
          5.429873348947643,
          5.636700478104719,
          5.147769046260147,
          4.996038593979734,
          6.120966592742047,
          4.924522216208587,
          6.178983562324302,
          5.2530592112536,
          4.638888424705075,
          5.641999308964985,
          5.70011243208365,
          4.9816917873473345,
          4.8019042665793465,
          4.109308505246749,
          4.731846525848303,
          5.928453208117699,
          5.3323919980206975,
          5.696456867783827,
          5.008698089870426,
          5.803915068449034,
          5.506545618777679,
          4.482101453486599,
          5.840994484732679,
          5.516686061817328,
          5.744286722976918,
          4.679682220572482,
          4.602884367933568,
          4.767437880315032,
          4.2184567264004755,
          5.7562000737749015,
          5.884882553827491,
          5.348892612838899,
          4.825335224508905,
          5.406897687524564,
          4.9276372232683805,
          5.529123519106034,
          5.1760854684239845,
          4.413450651007325,
          5.4700030569545275,
          5.9751320648797766,
          5.951691999337297,
          5.2131669923162045,
          5.91734688695641,
          5.341513659870251,
          5.420200073603668,
          5.261220032155725,
          5.7610312751714305,
          6.280840279296395,
          5.155600178241052,
          5.561008310573319,
          4.839509471308361,
          5.965779591473727,
          5.493488722395575,
          4.154393537956997,
          3.9149246482051483,
          5.4998176262110325,
          5.909575818070905,
          5.553331923790272,
          6.139527417292548,
          4.538334906717115,
          5.459546273157015,
          5.542041995175539,
          5.975212537854957,
          5.19750385215991,
          5.981308838564742,
          5.6150489817586156,
          4.503477442436995,
          5.186080086091452,
          5.457956038243393,
          5.095525013286175,
          5.445083983736097,
          5.871098104271856,
          4.959275180258706,
          4.985983020280123,
          6.009409249125556,
          5.955349994727821,
          5.292169647019105,
          4.68558948498528,
          5.180934046413014,
          5.059116398480737,
          5.293738117783524,
          5.304195296773312,
          5.675870871357818,
          4.837739909892655,
          5.649385490991616,
          4.92975090634168,
          3.9583727324786073,
          3.855094951158622,
          4.630539739757373,
          5.326806774068438,
          3.617105230502378,
          3.9331328237267345,
          4.123165370902919,
          4.850860573071108,
          6.105623597460235,
          4.213172309046819,
          4.213172309046819,
          3.891983230851967,
          4.017075096376059,
          5.3210762176783275,
          6.717979806852063,
          5.969296138669995,
          5.7249628223736195,
          5.027398539607596,
          5.424342515757471,
          5.112286536220284,
          4.6433342163821925,
          5.4882530946226,
          5.238595527072726,
          5.162573367114525,
          5.871717676251069,
          5.2659092674745365,
          4.512497620103123,
          5.2959209882027425,
          5.838028191180059,
          5.456630173905033,
          5.568220503962866,
          5.01553578506044,
          5.4146157430165545,
          4.999726308254446,
          5.750914729024711,
          4.627550187767521,
          5.308786305889,
          5.460038924240169,
          5.2196133385232715,
          4.915858688958351,
          4.564275378552271,
          5.659141000966213,
          5.043566603822077,
          5.225415257329116,
          4.312304324568706,
          4.317896266492956,
          5.1951632173408795,
          5.277136848468878,
          5.258428943785852,
          5.032187475255525,
          4.526972162142903,
          4.674107587838878,
          4.622172560893429,
          5.306695171192341,
          4.8237675722965525,
          5.167320289122358,
          5.767528382905359,
          5.3465896200206995,
          4.006679927740826,
          5.725939387070534,
          5.914502351616085,
          5.743858471348658,
          4.632963168167261,
          4.97082554523128,
          5.236255029535826,
          4.207499723307305,
          5.709324244393426,
          5.251112369403592,
          4.365637715794608,
          5.2539991223684,
          5.215756495728617,
          5.534325691292204,
          4.965046400045178,
          4.678591210581774,
          4.684899196466526,
          4.858915987351028,
          5.503428393014983,
          5.121523733545685,
          4.66887957609011,
          5.033805605862375,
          4.814806756112033,
          5.101839832639512,
          5.355190903570553,
          5.463809405372839,
          5.185825359612962,
          5.393457620766641,
          5.647396663868879,
          5.917833600889374,
          5.917833600889374,
          5.917833600889374,
          5.917833600889374,
          5.7886632131208575,
          5.7886632131208575,
          5.7886632131208575,
          5.7886632131208575,
          5.917833600889374,
          5.917833600889374,
          5.917833600889374,
          5.917833600889374,
          5.7886632131208575,
          5.7886632131208575,
          5.7886632131208575,
          5.7886632131208575,
          5.399716975749477,
          5.104923917466294,
          5.747337994859592,
          5.899577032374709,
          5.671280245552595,
          5.709384457122133,
          5.898596848351496,
          6.17257403565606,
          5.915019727210068,
          5.540868566351403,
          5.6213850669655425,
          6.0918350163802115,
          4.725544122486353,
          5.184875895828287,
          5.733592846776625,
          5.123018171837842,
          5.245838266591292,
          4.878044728783066,
          5.383409595682522,
          4.949760706600309,
          5.3786958083515595,
          5.076414682923757,
          4.286860485522373,
          4.991589313007415,
          3.6153186566114788,
          4.061490176624815,
          5.731062297240178,
          5.25127554873613,
          5.653681298717472,
          5.96848248157037,
          5.705322216563339,
          5.825186508087893,
          5.097087169019304,
          5.566746161729235,
          5.051654084113286,
          5.831032358922655,
          4.759191748130646,
          5.148507025464842,
          4.880562085821845,
          5.48774059439024,
          4.5809477726878765,
          6.157720226681134,
          5.963724566803018,
          6.361446964389264,
          5.19514936261219,
          5.216598661038017,
          5.835066895454687,
          5.570044148871043,
          6.022969973455655,
          5.4796875759735,
          5.144900972968539,
          6.019763301840449,
          5.577829453141658,
          6.098222376959117,
          4.782630260217609,
          5.486732183901019,
          5.6358645927614,
          5.363732287239263,
          5.2486033947794795,
          5.211238046622147,
          5.733847016394345,
          5.304908249088057,
          5.442060951202213,
          5.088352295799545,
          3.6917885244026984,
          4.714564450095123,
          4.652052848248105,
          5.893235075689462,
          5.893235075689462,
          4.4992195521808025,
          4.647206869085552,
          5.808063030945835,
          6.0883349323193015,
          4.821716544731034,
          5.222445928058845,
          5.619763047294012,
          5.092867957081954,
          5.128883702099773,
          5.2080192192058945,
          5.713621567696983,
          5.4385660800766225,
          5.141995042796427,
          5.559443369883757,
          5.060165030851882,
          6.197424471878088,
          5.802454213263227,
          5.596275928829378,
          5.6975797764023595,
          5.480287274396211,
          4.534521071985725,
          4.447049444147779,
          5.2712582849418155,
          5.03859632079311,
          5.108710440683239,
          4.68866893590091,
          6.284625840519599,
          5.549002035203484,
          5.340826680697754,
          5.625055091261163,
          5.97513298465516,
          6.412721213882179,
          5.9068988274683845,
          5.199596126163112,
          5.227470199001748,
          5.5146659390512145,
          6.662995967463532,
          5.929106632366652,
          5.0752183791115355,
          4.763203300370772,
          5.556888402922826,
          5.082422708666578,
          5.122133928186368,
          6.305346424481302,
          6.080325550789939,
          5.4346535193478305,
          5.087554276338934,
          4.308692442201257,
          5.532271419618875,
          4.3057596722628215,
          4.814147669862268,
          4.560181710709184,
          5.771175771563677,
          5.771175771563677,
          5.393980355744273,
          4.772856908856591,
          6.058247182830196,
          6.058247182830196,
          6.058247182830196,
          6.058247182830196,
          4.3777614387022625,
          4.3777614387022625,
          4.3777614387022625,
          4.3777614387022625,
          6.058247182830196,
          6.058247182830196,
          6.058247182830196,
          6.058247182830196,
          4.3777614387022625,
          4.3777614387022625,
          4.3777614387022625,
          4.3777614387022625,
          4.225671043081144,
          5.288177657247859,
          4.879422768143545,
          6.335108117706129,
          4.65152029823422,
          5.934417644753075,
          5.8957649842542725,
          5.697120319417384,
          4.6455598069064346,
          5.336083315641061,
          5.396765827712324,
          5.724147201044866,
          4.943375785924435,
          4.438368279687935,
          5.226161523423119,
          4.899858788666057,
          5.979643508462589,
          5.266593849822599,
          4.945882002090124,
          5.290920114175953,
          4.8034298006710845,
          5.061471328265031,
          4.146034962602502,
          4.9898590007903305,
          4.906388921152831,
          4.644605972314314,
          4.362840469311725,
          4.314056919240724
         ],
         "y": [
          "Moderate",
          "Moderate",
          "Moderate",
          "Moderate",
          "Moderate",
          "Moderate",
          "Moderate",
          "Moderate",
          "Moderate",
          "Moderate",
          "Moderate",
          "Moderate",
          "Moderate",
          "Moderate",
          "Moderate",
          "Moderate",
          "Moderate",
          "Moderate",
          "Moderate",
          "Moderate",
          "Moderate",
          "Moderate",
          "Moderate",
          "Moderate",
          "Moderate",
          "Moderate",
          "Moderate",
          "Moderate",
          "Moderate",
          "Moderate",
          "Moderate",
          "Moderate",
          "Moderate",
          "Moderate",
          "Moderate",
          "Moderate",
          "Moderate",
          "Moderate",
          "Moderate",
          "Moderate",
          "Moderate",
          "Moderate",
          "Moderate",
          "Moderate",
          "Moderate",
          "Moderate",
          "Moderate",
          "Moderate",
          "Moderate",
          "Moderate",
          "Moderate",
          "Moderate",
          "Moderate",
          "Moderate",
          "Moderate",
          "Moderate",
          "Moderate",
          "Moderate",
          "Moderate",
          "Moderate",
          "Moderate",
          "Moderate",
          "Moderate",
          "Moderate",
          "Moderate",
          "Moderate",
          "Moderate",
          "Moderate",
          "Moderate",
          "Moderate",
          "Moderate",
          "Moderate",
          "Moderate",
          "Moderate",
          "Moderate",
          "Moderate",
          "Moderate",
          "Moderate",
          "Moderate",
          "Moderate",
          "Moderate",
          "Moderate",
          "Moderate",
          "Moderate",
          "Moderate",
          "Moderate",
          "Moderate",
          "Moderate",
          "Moderate",
          "Moderate",
          "Moderate",
          "Moderate",
          "Moderate",
          "Moderate",
          "Moderate",
          "Moderate",
          "Moderate",
          "Moderate",
          "Moderate",
          "Moderate",
          "Moderate",
          "Moderate",
          "Moderate",
          "Moderate",
          "Moderate",
          "Moderate",
          "Moderate",
          "Moderate",
          "Moderate",
          "Moderate",
          "Moderate",
          "Moderate",
          "Moderate",
          "Moderate",
          "Moderate",
          "Moderate",
          "Moderate",
          "Moderate",
          "Moderate",
          "Moderate",
          "Moderate",
          "Moderate",
          "Moderate",
          "Moderate",
          "Moderate",
          "Moderate",
          "Moderate",
          "Moderate",
          "Moderate",
          "Moderate",
          "Moderate",
          "Moderate",
          "Moderate",
          "Moderate",
          "Moderate",
          "Moderate",
          "Moderate",
          "Moderate",
          "Moderate",
          "Moderate",
          "Moderate",
          "Moderate",
          "Moderate",
          "Moderate",
          "Moderate",
          "Moderate",
          "Moderate",
          "Moderate",
          "Moderate",
          "Moderate",
          "Moderate",
          "Moderate",
          "Moderate",
          "Moderate",
          "Moderate",
          "Moderate",
          "Moderate",
          "Moderate",
          "Moderate",
          "Moderate",
          "Moderate",
          "Moderate",
          "Moderate",
          "Moderate",
          "Moderate",
          "Moderate",
          "Moderate",
          "Moderate",
          "Moderate",
          "Moderate",
          "Moderate",
          "Moderate",
          "Moderate",
          "Moderate",
          "Moderate",
          "Moderate",
          "Moderate",
          "Moderate",
          "Moderate",
          "Moderate",
          "Moderate",
          "Moderate",
          "Moderate",
          "Moderate",
          "Moderate",
          "Moderate",
          "Moderate",
          "Moderate",
          "Moderate",
          "Moderate",
          "Moderate",
          "Moderate",
          "Moderate",
          "Moderate",
          "Moderate",
          "Moderate",
          "Moderate",
          "Moderate",
          "Moderate",
          "Moderate",
          "Moderate",
          "Moderate",
          "Moderate",
          "Moderate",
          "Moderate",
          "Moderate",
          "Moderate",
          "Moderate",
          "Moderate",
          "Moderate",
          "Moderate",
          "Moderate",
          "Moderate",
          "Moderate",
          "Moderate",
          "Moderate",
          "Moderate",
          "Moderate",
          "Moderate",
          "Moderate",
          "Moderate",
          "Moderate",
          "Moderate",
          "Moderate",
          "Moderate",
          "Moderate",
          "Moderate",
          "Moderate",
          "Moderate",
          "Moderate",
          "Moderate",
          "Moderate",
          "Moderate",
          "Moderate",
          "Moderate",
          "Moderate",
          "Moderate",
          "Moderate",
          "Moderate",
          "Moderate",
          "Moderate",
          "Moderate",
          "Moderate",
          "Moderate",
          "Moderate",
          "Moderate",
          "Moderate",
          "Moderate",
          "Moderate",
          "Moderate",
          "Moderate",
          "Moderate",
          "Moderate",
          "Moderate",
          "Moderate",
          "Moderate",
          "Moderate",
          "Moderate",
          "Moderate",
          "Moderate",
          "Moderate",
          "Moderate",
          "Moderate",
          "Moderate",
          "Moderate",
          "Moderate",
          "Moderate",
          "Moderate",
          "Moderate",
          "Moderate",
          "Moderate",
          "Moderate",
          "Moderate",
          "Moderate",
          "Moderate",
          "Moderate",
          "Moderate",
          "Moderate",
          "Moderate",
          "Moderate",
          "Moderate",
          "Moderate",
          "Moderate",
          "Moderate",
          "Moderate",
          "Moderate",
          "Moderate",
          "Moderate",
          "Moderate",
          "Moderate",
          "Moderate",
          "Moderate",
          "Moderate",
          "Moderate",
          "Moderate",
          "Moderate",
          "Moderate",
          "Moderate",
          "Moderate",
          "Moderate",
          "Moderate",
          "Moderate",
          "Moderate",
          "Moderate",
          "Moderate",
          "Moderate",
          "Moderate",
          "Moderate",
          "Moderate",
          "Moderate",
          "Moderate",
          "Moderate",
          "Moderate",
          "Moderate",
          "Moderate",
          "Moderate",
          "Moderate",
          "Moderate",
          "Moderate",
          "Moderate",
          "Moderate",
          "Moderate",
          "Moderate",
          "Moderate",
          "Moderate",
          "Moderate",
          "Moderate",
          "Moderate",
          "Moderate",
          "Moderate",
          "Moderate",
          "Moderate",
          "Moderate",
          "Moderate",
          "Moderate",
          "Moderate",
          "Moderate",
          "Moderate",
          "Moderate",
          "Moderate",
          "Moderate",
          "Moderate",
          "Moderate",
          "Moderate",
          "Moderate",
          "Moderate",
          "Moderate",
          "Moderate",
          "Moderate",
          "Moderate",
          "Moderate",
          "Moderate",
          "Moderate",
          "Moderate",
          "Moderate",
          "Moderate",
          "Moderate",
          "Moderate",
          "Moderate",
          "Moderate",
          "Moderate",
          "Moderate",
          "Moderate",
          "Moderate",
          "Moderate",
          "Moderate",
          "Moderate",
          "Moderate",
          "Moderate",
          "Moderate",
          "Moderate",
          "Moderate",
          "Moderate",
          "Moderate",
          "Moderate",
          "Moderate",
          "Moderate",
          "Moderate",
          "Moderate",
          "Moderate",
          "Moderate",
          "Moderate",
          "Moderate",
          "Moderate",
          "Moderate",
          "Moderate",
          "Moderate",
          "Moderate",
          "Moderate",
          "Moderate",
          "Moderate",
          "Moderate",
          "Moderate",
          "Moderate",
          "Moderate",
          "Moderate",
          "Moderate"
         ]
        },
        {
         "mode": "markers",
         "name": "Unhealthy AQI",
         "type": "scatter",
         "x": [
          6.628788603571813,
          5.6229606989135625,
          5.35616932286042,
          5.990396579256559,
          4.257318513097639,
          5.945986770300988,
          5.176308352027911,
          5.190368121341372,
          4.2440295890300215,
          4.151492428425498,
          6.5002614556481655,
          5.579871589478641,
          4.271818381611661,
          6.377176161846617,
          5.731831225580355,
          5.663207942844398,
          4.3338702788260095
         ],
         "y": [
          "Unhealthy",
          "Unhealthy",
          "Unhealthy",
          "Unhealthy",
          "Unhealthy",
          "Unhealthy",
          "Unhealthy",
          "Unhealthy",
          "Unhealthy",
          "Unhealthy",
          "Unhealthy",
          "Unhealthy",
          "Unhealthy",
          "Unhealthy",
          "Unhealthy",
          "Unhealthy",
          "Unhealthy"
         ]
        }
       ],
       "layout": {
        "template": {
         "data": {
          "bar": [
           {
            "error_x": {
             "color": "#2a3f5f"
            },
            "error_y": {
             "color": "#2a3f5f"
            },
            "marker": {
             "line": {
              "color": "#E5ECF6",
              "width": 0.5
             },
             "pattern": {
              "fillmode": "overlay",
              "size": 10,
              "solidity": 0.2
             }
            },
            "type": "bar"
           }
          ],
          "barpolar": [
           {
            "marker": {
             "line": {
              "color": "#E5ECF6",
              "width": 0.5
             },
             "pattern": {
              "fillmode": "overlay",
              "size": 10,
              "solidity": 0.2
             }
            },
            "type": "barpolar"
           }
          ],
          "carpet": [
           {
            "aaxis": {
             "endlinecolor": "#2a3f5f",
             "gridcolor": "white",
             "linecolor": "white",
             "minorgridcolor": "white",
             "startlinecolor": "#2a3f5f"
            },
            "baxis": {
             "endlinecolor": "#2a3f5f",
             "gridcolor": "white",
             "linecolor": "white",
             "minorgridcolor": "white",
             "startlinecolor": "#2a3f5f"
            },
            "type": "carpet"
           }
          ],
          "choropleth": [
           {
            "colorbar": {
             "outlinewidth": 0,
             "ticks": ""
            },
            "type": "choropleth"
           }
          ],
          "contour": [
           {
            "colorbar": {
             "outlinewidth": 0,
             "ticks": ""
            },
            "colorscale": [
             [
              0,
              "#0d0887"
             ],
             [
              0.1111111111111111,
              "#46039f"
             ],
             [
              0.2222222222222222,
              "#7201a8"
             ],
             [
              0.3333333333333333,
              "#9c179e"
             ],
             [
              0.4444444444444444,
              "#bd3786"
             ],
             [
              0.5555555555555556,
              "#d8576b"
             ],
             [
              0.6666666666666666,
              "#ed7953"
             ],
             [
              0.7777777777777778,
              "#fb9f3a"
             ],
             [
              0.8888888888888888,
              "#fdca26"
             ],
             [
              1,
              "#f0f921"
             ]
            ],
            "type": "contour"
           }
          ],
          "contourcarpet": [
           {
            "colorbar": {
             "outlinewidth": 0,
             "ticks": ""
            },
            "type": "contourcarpet"
           }
          ],
          "heatmap": [
           {
            "colorbar": {
             "outlinewidth": 0,
             "ticks": ""
            },
            "colorscale": [
             [
              0,
              "#0d0887"
             ],
             [
              0.1111111111111111,
              "#46039f"
             ],
             [
              0.2222222222222222,
              "#7201a8"
             ],
             [
              0.3333333333333333,
              "#9c179e"
             ],
             [
              0.4444444444444444,
              "#bd3786"
             ],
             [
              0.5555555555555556,
              "#d8576b"
             ],
             [
              0.6666666666666666,
              "#ed7953"
             ],
             [
              0.7777777777777778,
              "#fb9f3a"
             ],
             [
              0.8888888888888888,
              "#fdca26"
             ],
             [
              1,
              "#f0f921"
             ]
            ],
            "type": "heatmap"
           }
          ],
          "heatmapgl": [
           {
            "colorbar": {
             "outlinewidth": 0,
             "ticks": ""
            },
            "colorscale": [
             [
              0,
              "#0d0887"
             ],
             [
              0.1111111111111111,
              "#46039f"
             ],
             [
              0.2222222222222222,
              "#7201a8"
             ],
             [
              0.3333333333333333,
              "#9c179e"
             ],
             [
              0.4444444444444444,
              "#bd3786"
             ],
             [
              0.5555555555555556,
              "#d8576b"
             ],
             [
              0.6666666666666666,
              "#ed7953"
             ],
             [
              0.7777777777777778,
              "#fb9f3a"
             ],
             [
              0.8888888888888888,
              "#fdca26"
             ],
             [
              1,
              "#f0f921"
             ]
            ],
            "type": "heatmapgl"
           }
          ],
          "histogram": [
           {
            "marker": {
             "pattern": {
              "fillmode": "overlay",
              "size": 10,
              "solidity": 0.2
             }
            },
            "type": "histogram"
           }
          ],
          "histogram2d": [
           {
            "colorbar": {
             "outlinewidth": 0,
             "ticks": ""
            },
            "colorscale": [
             [
              0,
              "#0d0887"
             ],
             [
              0.1111111111111111,
              "#46039f"
             ],
             [
              0.2222222222222222,
              "#7201a8"
             ],
             [
              0.3333333333333333,
              "#9c179e"
             ],
             [
              0.4444444444444444,
              "#bd3786"
             ],
             [
              0.5555555555555556,
              "#d8576b"
             ],
             [
              0.6666666666666666,
              "#ed7953"
             ],
             [
              0.7777777777777778,
              "#fb9f3a"
             ],
             [
              0.8888888888888888,
              "#fdca26"
             ],
             [
              1,
              "#f0f921"
             ]
            ],
            "type": "histogram2d"
           }
          ],
          "histogram2dcontour": [
           {
            "colorbar": {
             "outlinewidth": 0,
             "ticks": ""
            },
            "colorscale": [
             [
              0,
              "#0d0887"
             ],
             [
              0.1111111111111111,
              "#46039f"
             ],
             [
              0.2222222222222222,
              "#7201a8"
             ],
             [
              0.3333333333333333,
              "#9c179e"
             ],
             [
              0.4444444444444444,
              "#bd3786"
             ],
             [
              0.5555555555555556,
              "#d8576b"
             ],
             [
              0.6666666666666666,
              "#ed7953"
             ],
             [
              0.7777777777777778,
              "#fb9f3a"
             ],
             [
              0.8888888888888888,
              "#fdca26"
             ],
             [
              1,
              "#f0f921"
             ]
            ],
            "type": "histogram2dcontour"
           }
          ],
          "mesh3d": [
           {
            "colorbar": {
             "outlinewidth": 0,
             "ticks": ""
            },
            "type": "mesh3d"
           }
          ],
          "parcoords": [
           {
            "line": {
             "colorbar": {
              "outlinewidth": 0,
              "ticks": ""
             }
            },
            "type": "parcoords"
           }
          ],
          "pie": [
           {
            "automargin": true,
            "type": "pie"
           }
          ],
          "scatter": [
           {
            "marker": {
             "colorbar": {
              "outlinewidth": 0,
              "ticks": ""
             }
            },
            "type": "scatter"
           }
          ],
          "scatter3d": [
           {
            "line": {
             "colorbar": {
              "outlinewidth": 0,
              "ticks": ""
             }
            },
            "marker": {
             "colorbar": {
              "outlinewidth": 0,
              "ticks": ""
             }
            },
            "type": "scatter3d"
           }
          ],
          "scattercarpet": [
           {
            "marker": {
             "colorbar": {
              "outlinewidth": 0,
              "ticks": ""
             }
            },
            "type": "scattercarpet"
           }
          ],
          "scattergeo": [
           {
            "marker": {
             "colorbar": {
              "outlinewidth": 0,
              "ticks": ""
             }
            },
            "type": "scattergeo"
           }
          ],
          "scattergl": [
           {
            "marker": {
             "colorbar": {
              "outlinewidth": 0,
              "ticks": ""
             }
            },
            "type": "scattergl"
           }
          ],
          "scattermapbox": [
           {
            "marker": {
             "colorbar": {
              "outlinewidth": 0,
              "ticks": ""
             }
            },
            "type": "scattermapbox"
           }
          ],
          "scatterpolar": [
           {
            "marker": {
             "colorbar": {
              "outlinewidth": 0,
              "ticks": ""
             }
            },
            "type": "scatterpolar"
           }
          ],
          "scatterpolargl": [
           {
            "marker": {
             "colorbar": {
              "outlinewidth": 0,
              "ticks": ""
             }
            },
            "type": "scatterpolargl"
           }
          ],
          "scatterternary": [
           {
            "marker": {
             "colorbar": {
              "outlinewidth": 0,
              "ticks": ""
             }
            },
            "type": "scatterternary"
           }
          ],
          "surface": [
           {
            "colorbar": {
             "outlinewidth": 0,
             "ticks": ""
            },
            "colorscale": [
             [
              0,
              "#0d0887"
             ],
             [
              0.1111111111111111,
              "#46039f"
             ],
             [
              0.2222222222222222,
              "#7201a8"
             ],
             [
              0.3333333333333333,
              "#9c179e"
             ],
             [
              0.4444444444444444,
              "#bd3786"
             ],
             [
              0.5555555555555556,
              "#d8576b"
             ],
             [
              0.6666666666666666,
              "#ed7953"
             ],
             [
              0.7777777777777778,
              "#fb9f3a"
             ],
             [
              0.8888888888888888,
              "#fdca26"
             ],
             [
              1,
              "#f0f921"
             ]
            ],
            "type": "surface"
           }
          ],
          "table": [
           {
            "cells": {
             "fill": {
              "color": "#EBF0F8"
             },
             "line": {
              "color": "white"
             }
            },
            "header": {
             "fill": {
              "color": "#C8D4E3"
             },
             "line": {
              "color": "white"
             }
            },
            "type": "table"
           }
          ]
         },
         "layout": {
          "annotationdefaults": {
           "arrowcolor": "#2a3f5f",
           "arrowhead": 0,
           "arrowwidth": 1
          },
          "autotypenumbers": "strict",
          "coloraxis": {
           "colorbar": {
            "outlinewidth": 0,
            "ticks": ""
           }
          },
          "colorscale": {
           "diverging": [
            [
             0,
             "#8e0152"
            ],
            [
             0.1,
             "#c51b7d"
            ],
            [
             0.2,
             "#de77ae"
            ],
            [
             0.3,
             "#f1b6da"
            ],
            [
             0.4,
             "#fde0ef"
            ],
            [
             0.5,
             "#f7f7f7"
            ],
            [
             0.6,
             "#e6f5d0"
            ],
            [
             0.7,
             "#b8e186"
            ],
            [
             0.8,
             "#7fbc41"
            ],
            [
             0.9,
             "#4d9221"
            ],
            [
             1,
             "#276419"
            ]
           ],
           "sequential": [
            [
             0,
             "#0d0887"
            ],
            [
             0.1111111111111111,
             "#46039f"
            ],
            [
             0.2222222222222222,
             "#7201a8"
            ],
            [
             0.3333333333333333,
             "#9c179e"
            ],
            [
             0.4444444444444444,
             "#bd3786"
            ],
            [
             0.5555555555555556,
             "#d8576b"
            ],
            [
             0.6666666666666666,
             "#ed7953"
            ],
            [
             0.7777777777777778,
             "#fb9f3a"
            ],
            [
             0.8888888888888888,
             "#fdca26"
            ],
            [
             1,
             "#f0f921"
            ]
           ],
           "sequentialminus": [
            [
             0,
             "#0d0887"
            ],
            [
             0.1111111111111111,
             "#46039f"
            ],
            [
             0.2222222222222222,
             "#7201a8"
            ],
            [
             0.3333333333333333,
             "#9c179e"
            ],
            [
             0.4444444444444444,
             "#bd3786"
            ],
            [
             0.5555555555555556,
             "#d8576b"
            ],
            [
             0.6666666666666666,
             "#ed7953"
            ],
            [
             0.7777777777777778,
             "#fb9f3a"
            ],
            [
             0.8888888888888888,
             "#fdca26"
            ],
            [
             1,
             "#f0f921"
            ]
           ]
          },
          "colorway": [
           "#636efa",
           "#EF553B",
           "#00cc96",
           "#ab63fa",
           "#FFA15A",
           "#19d3f3",
           "#FF6692",
           "#B6E880",
           "#FF97FF",
           "#FECB52"
          ],
          "font": {
           "color": "#2a3f5f"
          },
          "geo": {
           "bgcolor": "white",
           "lakecolor": "white",
           "landcolor": "#E5ECF6",
           "showlakes": true,
           "showland": true,
           "subunitcolor": "white"
          },
          "hoverlabel": {
           "align": "left"
          },
          "hovermode": "closest",
          "mapbox": {
           "style": "light"
          },
          "paper_bgcolor": "white",
          "plot_bgcolor": "#E5ECF6",
          "polar": {
           "angularaxis": {
            "gridcolor": "white",
            "linecolor": "white",
            "ticks": ""
           },
           "bgcolor": "#E5ECF6",
           "radialaxis": {
            "gridcolor": "white",
            "linecolor": "white",
            "ticks": ""
           }
          },
          "scene": {
           "xaxis": {
            "backgroundcolor": "#E5ECF6",
            "gridcolor": "white",
            "gridwidth": 2,
            "linecolor": "white",
            "showbackground": true,
            "ticks": "",
            "zerolinecolor": "white"
           },
           "yaxis": {
            "backgroundcolor": "#E5ECF6",
            "gridcolor": "white",
            "gridwidth": 2,
            "linecolor": "white",
            "showbackground": true,
            "ticks": "",
            "zerolinecolor": "white"
           },
           "zaxis": {
            "backgroundcolor": "#E5ECF6",
            "gridcolor": "white",
            "gridwidth": 2,
            "linecolor": "white",
            "showbackground": true,
            "ticks": "",
            "zerolinecolor": "white"
           }
          },
          "shapedefaults": {
           "line": {
            "color": "#2a3f5f"
           }
          },
          "ternary": {
           "aaxis": {
            "gridcolor": "white",
            "linecolor": "white",
            "ticks": ""
           },
           "baxis": {
            "gridcolor": "white",
            "linecolor": "white",
            "ticks": ""
           },
           "bgcolor": "#E5ECF6",
           "caxis": {
            "gridcolor": "white",
            "linecolor": "white",
            "ticks": ""
           }
          },
          "title": {
           "x": 0.05
          },
          "xaxis": {
           "automargin": true,
           "gridcolor": "white",
           "linecolor": "white",
           "ticks": "",
           "title": {
            "standoff": 15
           },
           "zerolinecolor": "white",
           "zerolinewidth": 2
          },
          "yaxis": {
           "automargin": true,
           "gridcolor": "white",
           "linecolor": "white",
           "ticks": "",
           "title": {
            "standoff": 15
           },
           "zerolinecolor": "white",
           "zerolinewidth": 2
          }
         }
        },
        "title": {
         "text": "AQI Vs. Population"
        },
        "xaxis": {
         "title": {
          "text": "Population"
         }
        },
        "yaxis": {
         "title": {
          "text": "AQI Quality"
         }
        }
       }
      },
      "text/html": [
       "<div>                            <div id=\"f813d3f7-4159-4c85-926d-6cf1c14f0a9d\" class=\"plotly-graph-div\" style=\"height:525px; width:100%;\"></div>            <script type=\"text/javascript\">                require([\"plotly\"], function(Plotly) {                    window.PLOTLYENV=window.PLOTLYENV || {};                                    if (document.getElementById(\"f813d3f7-4159-4c85-926d-6cf1c14f0a9d\")) {                    Plotly.newPlot(                        \"f813d3f7-4159-4c85-926d-6cf1c14f0a9d\",                        [{\"mode\":\"markers\",\"name\":\"Good AQI\",\"type\":\"scatter\",\"x\":[5.318286688622218,5.324819331183517,4.647373188597217,4.113441953965322,4.482187313544587,5.314316040434888,4.854439650318333,5.314002125855026,4.258254053507148,4.258254053507148,4.312537003107304,4.349957098719464,4.199645493080167,3.1126050015345745,4.625888383862849,3.894758994371892,4.304555150120442,4.679763935940666,4.807162809471061,5.355440025634347,4.079868335175173,4.5009770535891995,5.4036643360931595,4.3057596722628215,4.782981153191993,5.101203866268414,4.577824860980239,3.4153072922255676,5.1327974204520155,6.415098106195055,4.807183120531617,5.525513850979463,4.024033897900905,4.024033897900905,3.580810972660946,3.580810972660946,4.024033897900905,4.024033897900905,3.580810972660946,3.580810972660946,4.473837184033068,5.577752528032207,4.822344639121273,4.445261613754528,4.288964260896139,4.216007468108312,5.151798722592861,4.672116338158776,4.793720556813524,3.7004441010277516,3.34713478291002,5.058608207700355,4.726295144126775,4.489339625857985,4.081059123001319,5.216654044136993,4.3957456299921684,5.262524652510474,6.20281296295569,5.179749935899168,5.066467560549935,4.6349808000512285,5.242596084347571,4.292100938480419,5.214475600914911,4.443810401121398,5.16818800475665,3.6021685513789974,4.755524230907189,3.6603910984024672,5.009029995684903,5.856534954836759,4.928984413940275,3.922465945298413,5.572700870012037,4.362746288823878,4.9062164837058315,6.132440287733574,5.302627429362541,5.529711322832728,5.708074856527354,4.861928502093725,4.9959421629925505,4.883320678382975,5.658093475330018,5.722332773107504,4.113375057094903,5.872189499377181,4.37768864073337,4.292278228672973,4.885412110934279,4.924144840771305,4.787765011483216,5.344995150995915,4.5972233473121555,4.257246464907372,4.781633324343898,4.949443680174156,5.295914396647842,5.295914396647842,5.994597791337682,4.853558290455931,5.218222931796359,4.342304220718211,5.050754719588618,3.839980557678343,5.011912838805169,5.186817949117826,4.957415714722669,4.369790824030776,5.186405352655567,3.725176301419137,4.5336958150954265,4.53668467262093,4.9898145430342025,4.1185623126356035,4.530660651172487,3.9372168908627057,5.224237735196979,5.126624864745772,4.063445953123033,4.500112922159694,4.808352787778733,5.110909421860063,5.2467816170350465,4.177074545910076,4.589279221235968,4.300899687772249,5.224071849290467,4.4733117571189815,4.517684039800974,5.063017939887928,5.294483862127643,4.52628757258808,4.509135288879168,4.569888670658117,5.206663996990936,5.49876115897809,4.572976098995143,4.600133973782028,3.9273703630390235,4.786857853828952,4.2819646232599,4.430026654510014,4.282078054577154,4.40805331429798,4.791887054448624,4.394136352641888,4.311223910432456,4.1505415413740865,4.184890082199722,5.213451346034802,3.9301846522986197,6.017088875330536,4.436766739173454,5.293112735919741,5.156464343571387,5.010291474242876,4.537617636420976,3.7756832490260437,4.434377261250224,4.436003535669896,4.457048826585631,4.553458229380449,3.940466677663529,4.7367230963944,4.879038505237237,4.6640493516544295,3.966751664051378,4.123361558746296,4.167376418413583,4.815405058696692,5.026504664697579,4.602439832843189,5.031182168178816,4.834223541380128,5.52127672185961,5.084737097962795,4.758344063401976,5.181122975894328,5.307714200040391,5.412697370746874,4.857193741308315,4.95943255838829,5.0107958887479755,5.1977518220661,4.508677825165493,5.395277455722756,4.930199953067788,4.4679926595211485,5.329784199064232,4.2383723290283255,5.8926643794693865,4.576928460302419,5.207254563904791,5.8440103223969695,4.528569640012892,4.663861047845941,4.550717423469282,4.462727337772099,5.011477400733501,4.409966919252241,4.664801751490762,4.4122757019358305,5.1953986801294105,4.706265334409592,4.888308695565653,4.651665603922935,4.144200460183879,4.00949338828754,4.69627773673571,4.744785686458521,4.289633539009645,4.910843097652502,4.279004961844902,4.469998642218747,4.7381460887120594,4.912466510929526,4.0553783313750005,5.6109400225290385,4.050302403962402,3.9661417327390325,3.5531545481696254,4.477294937778128,5.198151031569567,5.491493363167025,2.8095597146352675,4.380392160057028,4.718102918177168,4.64053112457209,5.429007367334705,5.463672054505291,5.794757741336501,5.69406352855906,5.7722769544790635,5.702465864520014,4.8159693664195995,4.845879067367752,4.3849623973026075,4.517037463772294,5.112792619112295,5.468190719813714,5.440865020969714,5.325729063789446,5.363201932709326,4.548327985997318,5.666744428543663,5.075926347114654,5.510123915793574,5.356746532127148,4.986444771041151,5.012676969993142,4.958353612776127,3.4303975913869666,5.9862408542956045,4.569596267645642,4.674337468155646,5.103324707061445,5.4056434164042,4.912641795663937,4.356905034810079,5.486369545827313,4.726987870438496,3.932321531989293,4.769923543522596,5.718984707712472,4.781274153922566,3.7318304202881625,5.281424283672431,4.043008409879952,4.757600979569135,4.177247836255623,4.305050268917223,4.594447800611733,5.248885063042197,4.960328050530143,4.900061102735481,4.1539367544609345,4.991828352265942,5.307957898681535,4.479935033944336,4.941421980623304,4.632831697087637,5.236267633088603,5.020361282647708,4.1596574112477045,4.882962595788631,5.113729493146094,4.344647665919406,5.135800283302111,3.6452257115354163,4.977083120315853,4.612571954065176,4.839377475502759,4.674962127712317,4.616570029608803,4.78748881254863,5.796830949007645,4.904261001933344,4.485834952683221,4.9332594512699535,5.325215904954646,5.502268669196366,4.8747658426895795,4.616370472291269,4.615171198924552,5.549923628354655,4.440720217316904,5.222523986631931,5.292244992274296,4.87952594503966,5.3202813327739,4.662984361017443,5.530771974774431,4.827711661973865,5.141641009004354,5.50639001707986,5.456845618079411,4.884772714363229,4.2459319543386025,4.438130800243104,4.499865711329091,4.712733859069952,4.722411783326495,4.723431042160122,4.983567655666821,5.339745509154297,3.964542466079137,4.294664589500175,5.0916458577560775,4.755119898919951,4.964504765269017,4.187153953785416,5.4792210509029875,5.395202291201982,5.113281384161362,4.227629649571009,4.729124275258121,5.352211470111767,4.514946005308004,4.963646186484843,4.189686782592971,4.555336327995267,5.209654395341101,4.479776792192939,4.839572312356351,5.018904286378933,5.512740413391318,5.585622008937453,4.971196963302861,4.971196963302861,4.971196963302861,4.971196963302861,4.998350896885444,4.998350896885444,4.998350896885444,4.998350896885444,4.971196963302861,4.971196963302861,4.971196963302861,4.971196963302861,4.998350896885444,4.998350896885444,4.998350896885444,4.998350896885444,5.158398681794192,4.872080483205862,5.021652299627546,4.330332589222979,4.8861916922786905,4.796761608337888,5.093095842094377,5.438833363046032,4.686573712053882,4.196231470442874,4.308777773664721,5.131182226148925,5.208895300843405,4.308692442201257,4.464206284343785,3.9381693463903202],\"y\":[\"Good\",\"Good\",\"Good\",\"Good\",\"Good\",\"Good\",\"Good\",\"Good\",\"Good\",\"Good\",\"Good\",\"Good\",\"Good\",\"Good\",\"Good\",\"Good\",\"Good\",\"Good\",\"Good\",\"Good\",\"Good\",\"Good\",\"Good\",\"Good\",\"Good\",\"Good\",\"Good\",\"Good\",\"Good\",\"Good\",\"Good\",\"Good\",\"Good\",\"Good\",\"Good\",\"Good\",\"Good\",\"Good\",\"Good\",\"Good\",\"Good\",\"Good\",\"Good\",\"Good\",\"Good\",\"Good\",\"Good\",\"Good\",\"Good\",\"Good\",\"Good\",\"Good\",\"Good\",\"Good\",\"Good\",\"Good\",\"Good\",\"Good\",\"Good\",\"Good\",\"Good\",\"Good\",\"Good\",\"Good\",\"Good\",\"Good\",\"Good\",\"Good\",\"Good\",\"Good\",\"Good\",\"Good\",\"Good\",\"Good\",\"Good\",\"Good\",\"Good\",\"Good\",\"Good\",\"Good\",\"Good\",\"Good\",\"Good\",\"Good\",\"Good\",\"Good\",\"Good\",\"Good\",\"Good\",\"Good\",\"Good\",\"Good\",\"Good\",\"Good\",\"Good\",\"Good\",\"Good\",\"Good\",\"Good\",\"Good\",\"Good\",\"Good\",\"Good\",\"Good\",\"Good\",\"Good\",\"Good\",\"Good\",\"Good\",\"Good\",\"Good\",\"Good\",\"Good\",\"Good\",\"Good\",\"Good\",\"Good\",\"Good\",\"Good\",\"Good\",\"Good\",\"Good\",\"Good\",\"Good\",\"Good\",\"Good\",\"Good\",\"Good\",\"Good\",\"Good\",\"Good\",\"Good\",\"Good\",\"Good\",\"Good\",\"Good\",\"Good\",\"Good\",\"Good\",\"Good\",\"Good\",\"Good\",\"Good\",\"Good\",\"Good\",\"Good\",\"Good\",\"Good\",\"Good\",\"Good\",\"Good\",\"Good\",\"Good\",\"Good\",\"Good\",\"Good\",\"Good\",\"Good\",\"Good\",\"Good\",\"Good\",\"Good\",\"Good\",\"Good\",\"Good\",\"Good\",\"Good\",\"Good\",\"Good\",\"Good\",\"Good\",\"Good\",\"Good\",\"Good\",\"Good\",\"Good\",\"Good\",\"Good\",\"Good\",\"Good\",\"Good\",\"Good\",\"Good\",\"Good\",\"Good\",\"Good\",\"Good\",\"Good\",\"Good\",\"Good\",\"Good\",\"Good\",\"Good\",\"Good\",\"Good\",\"Good\",\"Good\",\"Good\",\"Good\",\"Good\",\"Good\",\"Good\",\"Good\",\"Good\",\"Good\",\"Good\",\"Good\",\"Good\",\"Good\",\"Good\",\"Good\",\"Good\",\"Good\",\"Good\",\"Good\",\"Good\",\"Good\",\"Good\",\"Good\",\"Good\",\"Good\",\"Good\",\"Good\",\"Good\",\"Good\",\"Good\",\"Good\",\"Good\",\"Good\",\"Good\",\"Good\",\"Good\",\"Good\",\"Good\",\"Good\",\"Good\",\"Good\",\"Good\",\"Good\",\"Good\",\"Good\",\"Good\",\"Good\",\"Good\",\"Good\",\"Good\",\"Good\",\"Good\",\"Good\",\"Good\",\"Good\",\"Good\",\"Good\",\"Good\",\"Good\",\"Good\",\"Good\",\"Good\",\"Good\",\"Good\",\"Good\",\"Good\",\"Good\",\"Good\",\"Good\",\"Good\",\"Good\",\"Good\",\"Good\",\"Good\",\"Good\",\"Good\",\"Good\",\"Good\",\"Good\",\"Good\",\"Good\",\"Good\",\"Good\",\"Good\",\"Good\",\"Good\",\"Good\",\"Good\",\"Good\",\"Good\",\"Good\",\"Good\",\"Good\",\"Good\",\"Good\",\"Good\",\"Good\",\"Good\",\"Good\",\"Good\",\"Good\",\"Good\",\"Good\",\"Good\",\"Good\",\"Good\",\"Good\",\"Good\",\"Good\",\"Good\",\"Good\",\"Good\",\"Good\",\"Good\",\"Good\",\"Good\",\"Good\",\"Good\",\"Good\",\"Good\",\"Good\",\"Good\",\"Good\",\"Good\",\"Good\",\"Good\",\"Good\",\"Good\",\"Good\",\"Good\",\"Good\",\"Good\",\"Good\",\"Good\",\"Good\",\"Good\",\"Good\",\"Good\",\"Good\",\"Good\",\"Good\",\"Good\",\"Good\",\"Good\",\"Good\",\"Good\",\"Good\",\"Good\",\"Good\",\"Good\",\"Good\",\"Good\",\"Good\",\"Good\",\"Good\",\"Good\",\"Good\",\"Good\",\"Good\",\"Good\",\"Good\",\"Good\",\"Good\",\"Good\",\"Good\",\"Good\",\"Good\",\"Good\",\"Good\",\"Good\",\"Good\",\"Good\",\"Good\",\"Good\",\"Good\",\"Good\",\"Good\",\"Good\",\"Good\",\"Good\",\"Good\",\"Good\",\"Good\",\"Good\",\"Good\"]},{\"mode\":\"markers\",\"name\":\"Moderate AQI\",\"type\":\"scatter\",\"x\":[4.765019981175847,5.971741908354818,5.101331134067491,5.1468006709674015,5.03624952037396,6.008481789093381,5.3514967567969505,5.317706147943137,5.0633408661380646,6.330733085613938,5.130970267083514,5.667811448071557,4.9925358452657775,4.236159230579664,5.1523311600382815,5.840107977232223,3.5167997040816243,5.825212488426337,5.676029317006854,5.59490389895343,4.599140426799694,5.742776960826336,4.18118593412823,5.358941319245374,4.310926855371693,5.1755437029756655,4.716011695371454,5.317116460225442,5.205575142933645,6.215822555154372,4.655474594652716,4.331710659663883,4.445557502431367,5.255793346039492,5.84733755830638,5.68739428229153,5.361826013237365,5.415465825837759,4.941620737855168,5.429873348947643,5.636700478104719,5.147769046260147,4.996038593979734,6.120966592742047,4.924522216208587,6.178983562324302,5.2530592112536,4.638888424705075,5.641999308964985,5.70011243208365,4.9816917873473345,4.8019042665793465,4.109308505246749,4.731846525848303,5.928453208117699,5.3323919980206975,5.696456867783827,5.008698089870426,5.803915068449034,5.506545618777679,4.482101453486599,5.840994484732679,5.516686061817328,5.744286722976918,4.679682220572482,4.602884367933568,4.767437880315032,4.2184567264004755,5.7562000737749015,5.884882553827491,5.348892612838899,4.825335224508905,5.406897687524564,4.9276372232683805,5.529123519106034,5.1760854684239845,4.413450651007325,5.4700030569545275,5.9751320648797766,5.951691999337297,5.2131669923162045,5.91734688695641,5.341513659870251,5.420200073603668,5.261220032155725,5.7610312751714305,6.280840279296395,5.155600178241052,5.561008310573319,4.839509471308361,5.965779591473727,5.493488722395575,4.154393537956997,3.9149246482051483,5.4998176262110325,5.909575818070905,5.553331923790272,6.139527417292548,4.538334906717115,5.459546273157015,5.542041995175539,5.975212537854957,5.19750385215991,5.981308838564742,5.6150489817586156,4.503477442436995,5.186080086091452,5.457956038243393,5.095525013286175,5.445083983736097,5.871098104271856,4.959275180258706,4.985983020280123,6.009409249125556,5.955349994727821,5.292169647019105,4.68558948498528,5.180934046413014,5.059116398480737,5.293738117783524,5.304195296773312,5.675870871357818,4.837739909892655,5.649385490991616,4.92975090634168,3.9583727324786073,3.855094951158622,4.630539739757373,5.326806774068438,3.617105230502378,3.9331328237267345,4.123165370902919,4.850860573071108,6.105623597460235,4.213172309046819,4.213172309046819,3.891983230851967,4.017075096376059,5.3210762176783275,6.717979806852063,5.969296138669995,5.7249628223736195,5.027398539607596,5.424342515757471,5.112286536220284,4.6433342163821925,5.4882530946226,5.238595527072726,5.162573367114525,5.871717676251069,5.2659092674745365,4.512497620103123,5.2959209882027425,5.838028191180059,5.456630173905033,5.568220503962866,5.01553578506044,5.4146157430165545,4.999726308254446,5.750914729024711,4.627550187767521,5.308786305889,5.460038924240169,5.2196133385232715,4.915858688958351,4.564275378552271,5.659141000966213,5.043566603822077,5.225415257329116,4.312304324568706,4.317896266492956,5.1951632173408795,5.277136848468878,5.258428943785852,5.032187475255525,4.526972162142903,4.674107587838878,4.622172560893429,5.306695171192341,4.8237675722965525,5.167320289122358,5.767528382905359,5.3465896200206995,4.006679927740826,5.725939387070534,5.914502351616085,5.743858471348658,4.632963168167261,4.97082554523128,5.236255029535826,4.207499723307305,5.709324244393426,5.251112369403592,4.365637715794608,5.2539991223684,5.215756495728617,5.534325691292204,4.965046400045178,4.678591210581774,4.684899196466526,4.858915987351028,5.503428393014983,5.121523733545685,4.66887957609011,5.033805605862375,4.814806756112033,5.101839832639512,5.355190903570553,5.463809405372839,5.185825359612962,5.393457620766641,5.647396663868879,5.917833600889374,5.917833600889374,5.917833600889374,5.917833600889374,5.7886632131208575,5.7886632131208575,5.7886632131208575,5.7886632131208575,5.917833600889374,5.917833600889374,5.917833600889374,5.917833600889374,5.7886632131208575,5.7886632131208575,5.7886632131208575,5.7886632131208575,5.399716975749477,5.104923917466294,5.747337994859592,5.899577032374709,5.671280245552595,5.709384457122133,5.898596848351496,6.17257403565606,5.915019727210068,5.540868566351403,5.6213850669655425,6.0918350163802115,4.725544122486353,5.184875895828287,5.733592846776625,5.123018171837842,5.245838266591292,4.878044728783066,5.383409595682522,4.949760706600309,5.3786958083515595,5.076414682923757,4.286860485522373,4.991589313007415,3.6153186566114788,4.061490176624815,5.731062297240178,5.25127554873613,5.653681298717472,5.96848248157037,5.705322216563339,5.825186508087893,5.097087169019304,5.566746161729235,5.051654084113286,5.831032358922655,4.759191748130646,5.148507025464842,4.880562085821845,5.48774059439024,4.5809477726878765,6.157720226681134,5.963724566803018,6.361446964389264,5.19514936261219,5.216598661038017,5.835066895454687,5.570044148871043,6.022969973455655,5.4796875759735,5.144900972968539,6.019763301840449,5.577829453141658,6.098222376959117,4.782630260217609,5.486732183901019,5.6358645927614,5.363732287239263,5.2486033947794795,5.211238046622147,5.733847016394345,5.304908249088057,5.442060951202213,5.088352295799545,3.6917885244026984,4.714564450095123,4.652052848248105,5.893235075689462,5.893235075689462,4.4992195521808025,4.647206869085552,5.808063030945835,6.0883349323193015,4.821716544731034,5.222445928058845,5.619763047294012,5.092867957081954,5.128883702099773,5.2080192192058945,5.713621567696983,5.4385660800766225,5.141995042796427,5.559443369883757,5.060165030851882,6.197424471878088,5.802454213263227,5.596275928829378,5.6975797764023595,5.480287274396211,4.534521071985725,4.447049444147779,5.2712582849418155,5.03859632079311,5.108710440683239,4.68866893590091,6.284625840519599,5.549002035203484,5.340826680697754,5.625055091261163,5.97513298465516,6.412721213882179,5.9068988274683845,5.199596126163112,5.227470199001748,5.5146659390512145,6.662995967463532,5.929106632366652,5.0752183791115355,4.763203300370772,5.556888402922826,5.082422708666578,5.122133928186368,6.305346424481302,6.080325550789939,5.4346535193478305,5.087554276338934,4.308692442201257,5.532271419618875,4.3057596722628215,4.814147669862268,4.560181710709184,5.771175771563677,5.771175771563677,5.393980355744273,4.772856908856591,6.058247182830196,6.058247182830196,6.058247182830196,6.058247182830196,4.3777614387022625,4.3777614387022625,4.3777614387022625,4.3777614387022625,6.058247182830196,6.058247182830196,6.058247182830196,6.058247182830196,4.3777614387022625,4.3777614387022625,4.3777614387022625,4.3777614387022625,4.225671043081144,5.288177657247859,4.879422768143545,6.335108117706129,4.65152029823422,5.934417644753075,5.8957649842542725,5.697120319417384,4.6455598069064346,5.336083315641061,5.396765827712324,5.724147201044866,4.943375785924435,4.438368279687935,5.226161523423119,4.899858788666057,5.979643508462589,5.266593849822599,4.945882002090124,5.290920114175953,4.8034298006710845,5.061471328265031,4.146034962602502,4.9898590007903305,4.906388921152831,4.644605972314314,4.362840469311725,4.314056919240724],\"y\":[\"Moderate\",\"Moderate\",\"Moderate\",\"Moderate\",\"Moderate\",\"Moderate\",\"Moderate\",\"Moderate\",\"Moderate\",\"Moderate\",\"Moderate\",\"Moderate\",\"Moderate\",\"Moderate\",\"Moderate\",\"Moderate\",\"Moderate\",\"Moderate\",\"Moderate\",\"Moderate\",\"Moderate\",\"Moderate\",\"Moderate\",\"Moderate\",\"Moderate\",\"Moderate\",\"Moderate\",\"Moderate\",\"Moderate\",\"Moderate\",\"Moderate\",\"Moderate\",\"Moderate\",\"Moderate\",\"Moderate\",\"Moderate\",\"Moderate\",\"Moderate\",\"Moderate\",\"Moderate\",\"Moderate\",\"Moderate\",\"Moderate\",\"Moderate\",\"Moderate\",\"Moderate\",\"Moderate\",\"Moderate\",\"Moderate\",\"Moderate\",\"Moderate\",\"Moderate\",\"Moderate\",\"Moderate\",\"Moderate\",\"Moderate\",\"Moderate\",\"Moderate\",\"Moderate\",\"Moderate\",\"Moderate\",\"Moderate\",\"Moderate\",\"Moderate\",\"Moderate\",\"Moderate\",\"Moderate\",\"Moderate\",\"Moderate\",\"Moderate\",\"Moderate\",\"Moderate\",\"Moderate\",\"Moderate\",\"Moderate\",\"Moderate\",\"Moderate\",\"Moderate\",\"Moderate\",\"Moderate\",\"Moderate\",\"Moderate\",\"Moderate\",\"Moderate\",\"Moderate\",\"Moderate\",\"Moderate\",\"Moderate\",\"Moderate\",\"Moderate\",\"Moderate\",\"Moderate\",\"Moderate\",\"Moderate\",\"Moderate\",\"Moderate\",\"Moderate\",\"Moderate\",\"Moderate\",\"Moderate\",\"Moderate\",\"Moderate\",\"Moderate\",\"Moderate\",\"Moderate\",\"Moderate\",\"Moderate\",\"Moderate\",\"Moderate\",\"Moderate\",\"Moderate\",\"Moderate\",\"Moderate\",\"Moderate\",\"Moderate\",\"Moderate\",\"Moderate\",\"Moderate\",\"Moderate\",\"Moderate\",\"Moderate\",\"Moderate\",\"Moderate\",\"Moderate\",\"Moderate\",\"Moderate\",\"Moderate\",\"Moderate\",\"Moderate\",\"Moderate\",\"Moderate\",\"Moderate\",\"Moderate\",\"Moderate\",\"Moderate\",\"Moderate\",\"Moderate\",\"Moderate\",\"Moderate\",\"Moderate\",\"Moderate\",\"Moderate\",\"Moderate\",\"Moderate\",\"Moderate\",\"Moderate\",\"Moderate\",\"Moderate\",\"Moderate\",\"Moderate\",\"Moderate\",\"Moderate\",\"Moderate\",\"Moderate\",\"Moderate\",\"Moderate\",\"Moderate\",\"Moderate\",\"Moderate\",\"Moderate\",\"Moderate\",\"Moderate\",\"Moderate\",\"Moderate\",\"Moderate\",\"Moderate\",\"Moderate\",\"Moderate\",\"Moderate\",\"Moderate\",\"Moderate\",\"Moderate\",\"Moderate\",\"Moderate\",\"Moderate\",\"Moderate\",\"Moderate\",\"Moderate\",\"Moderate\",\"Moderate\",\"Moderate\",\"Moderate\",\"Moderate\",\"Moderate\",\"Moderate\",\"Moderate\",\"Moderate\",\"Moderate\",\"Moderate\",\"Moderate\",\"Moderate\",\"Moderate\",\"Moderate\",\"Moderate\",\"Moderate\",\"Moderate\",\"Moderate\",\"Moderate\",\"Moderate\",\"Moderate\",\"Moderate\",\"Moderate\",\"Moderate\",\"Moderate\",\"Moderate\",\"Moderate\",\"Moderate\",\"Moderate\",\"Moderate\",\"Moderate\",\"Moderate\",\"Moderate\",\"Moderate\",\"Moderate\",\"Moderate\",\"Moderate\",\"Moderate\",\"Moderate\",\"Moderate\",\"Moderate\",\"Moderate\",\"Moderate\",\"Moderate\",\"Moderate\",\"Moderate\",\"Moderate\",\"Moderate\",\"Moderate\",\"Moderate\",\"Moderate\",\"Moderate\",\"Moderate\",\"Moderate\",\"Moderate\",\"Moderate\",\"Moderate\",\"Moderate\",\"Moderate\",\"Moderate\",\"Moderate\",\"Moderate\",\"Moderate\",\"Moderate\",\"Moderate\",\"Moderate\",\"Moderate\",\"Moderate\",\"Moderate\",\"Moderate\",\"Moderate\",\"Moderate\",\"Moderate\",\"Moderate\",\"Moderate\",\"Moderate\",\"Moderate\",\"Moderate\",\"Moderate\",\"Moderate\",\"Moderate\",\"Moderate\",\"Moderate\",\"Moderate\",\"Moderate\",\"Moderate\",\"Moderate\",\"Moderate\",\"Moderate\",\"Moderate\",\"Moderate\",\"Moderate\",\"Moderate\",\"Moderate\",\"Moderate\",\"Moderate\",\"Moderate\",\"Moderate\",\"Moderate\",\"Moderate\",\"Moderate\",\"Moderate\",\"Moderate\",\"Moderate\",\"Moderate\",\"Moderate\",\"Moderate\",\"Moderate\",\"Moderate\",\"Moderate\",\"Moderate\",\"Moderate\",\"Moderate\",\"Moderate\",\"Moderate\",\"Moderate\",\"Moderate\",\"Moderate\",\"Moderate\",\"Moderate\",\"Moderate\",\"Moderate\",\"Moderate\",\"Moderate\",\"Moderate\",\"Moderate\",\"Moderate\",\"Moderate\",\"Moderate\",\"Moderate\",\"Moderate\",\"Moderate\",\"Moderate\",\"Moderate\",\"Moderate\",\"Moderate\",\"Moderate\",\"Moderate\",\"Moderate\",\"Moderate\",\"Moderate\",\"Moderate\",\"Moderate\",\"Moderate\",\"Moderate\",\"Moderate\",\"Moderate\",\"Moderate\",\"Moderate\",\"Moderate\",\"Moderate\",\"Moderate\",\"Moderate\",\"Moderate\",\"Moderate\",\"Moderate\",\"Moderate\",\"Moderate\",\"Moderate\",\"Moderate\",\"Moderate\",\"Moderate\",\"Moderate\",\"Moderate\",\"Moderate\",\"Moderate\",\"Moderate\",\"Moderate\",\"Moderate\",\"Moderate\",\"Moderate\",\"Moderate\",\"Moderate\",\"Moderate\",\"Moderate\",\"Moderate\",\"Moderate\",\"Moderate\",\"Moderate\",\"Moderate\",\"Moderate\",\"Moderate\",\"Moderate\",\"Moderate\",\"Moderate\",\"Moderate\",\"Moderate\",\"Moderate\",\"Moderate\",\"Moderate\",\"Moderate\",\"Moderate\",\"Moderate\",\"Moderate\",\"Moderate\",\"Moderate\",\"Moderate\",\"Moderate\",\"Moderate\",\"Moderate\",\"Moderate\",\"Moderate\",\"Moderate\",\"Moderate\",\"Moderate\",\"Moderate\",\"Moderate\",\"Moderate\",\"Moderate\",\"Moderate\",\"Moderate\",\"Moderate\",\"Moderate\",\"Moderate\",\"Moderate\",\"Moderate\",\"Moderate\",\"Moderate\"]},{\"mode\":\"markers\",\"name\":\"Unhealthy AQI\",\"type\":\"scatter\",\"x\":[6.628788603571813,5.6229606989135625,5.35616932286042,5.990396579256559,4.257318513097639,5.945986770300988,5.176308352027911,5.190368121341372,4.2440295890300215,4.151492428425498,6.5002614556481655,5.579871589478641,4.271818381611661,6.377176161846617,5.731831225580355,5.663207942844398,4.3338702788260095],\"y\":[\"Unhealthy\",\"Unhealthy\",\"Unhealthy\",\"Unhealthy\",\"Unhealthy\",\"Unhealthy\",\"Unhealthy\",\"Unhealthy\",\"Unhealthy\",\"Unhealthy\",\"Unhealthy\",\"Unhealthy\",\"Unhealthy\",\"Unhealthy\",\"Unhealthy\",\"Unhealthy\",\"Unhealthy\"]}],                        {\"template\":{\"data\":{\"bar\":[{\"error_x\":{\"color\":\"#2a3f5f\"},\"error_y\":{\"color\":\"#2a3f5f\"},\"marker\":{\"line\":{\"color\":\"#E5ECF6\",\"width\":0.5},\"pattern\":{\"fillmode\":\"overlay\",\"size\":10,\"solidity\":0.2}},\"type\":\"bar\"}],\"barpolar\":[{\"marker\":{\"line\":{\"color\":\"#E5ECF6\",\"width\":0.5},\"pattern\":{\"fillmode\":\"overlay\",\"size\":10,\"solidity\":0.2}},\"type\":\"barpolar\"}],\"carpet\":[{\"aaxis\":{\"endlinecolor\":\"#2a3f5f\",\"gridcolor\":\"white\",\"linecolor\":\"white\",\"minorgridcolor\":\"white\",\"startlinecolor\":\"#2a3f5f\"},\"baxis\":{\"endlinecolor\":\"#2a3f5f\",\"gridcolor\":\"white\",\"linecolor\":\"white\",\"minorgridcolor\":\"white\",\"startlinecolor\":\"#2a3f5f\"},\"type\":\"carpet\"}],\"choropleth\":[{\"colorbar\":{\"outlinewidth\":0,\"ticks\":\"\"},\"type\":\"choropleth\"}],\"contour\":[{\"colorbar\":{\"outlinewidth\":0,\"ticks\":\"\"},\"colorscale\":[[0.0,\"#0d0887\"],[0.1111111111111111,\"#46039f\"],[0.2222222222222222,\"#7201a8\"],[0.3333333333333333,\"#9c179e\"],[0.4444444444444444,\"#bd3786\"],[0.5555555555555556,\"#d8576b\"],[0.6666666666666666,\"#ed7953\"],[0.7777777777777778,\"#fb9f3a\"],[0.8888888888888888,\"#fdca26\"],[1.0,\"#f0f921\"]],\"type\":\"contour\"}],\"contourcarpet\":[{\"colorbar\":{\"outlinewidth\":0,\"ticks\":\"\"},\"type\":\"contourcarpet\"}],\"heatmap\":[{\"colorbar\":{\"outlinewidth\":0,\"ticks\":\"\"},\"colorscale\":[[0.0,\"#0d0887\"],[0.1111111111111111,\"#46039f\"],[0.2222222222222222,\"#7201a8\"],[0.3333333333333333,\"#9c179e\"],[0.4444444444444444,\"#bd3786\"],[0.5555555555555556,\"#d8576b\"],[0.6666666666666666,\"#ed7953\"],[0.7777777777777778,\"#fb9f3a\"],[0.8888888888888888,\"#fdca26\"],[1.0,\"#f0f921\"]],\"type\":\"heatmap\"}],\"heatmapgl\":[{\"colorbar\":{\"outlinewidth\":0,\"ticks\":\"\"},\"colorscale\":[[0.0,\"#0d0887\"],[0.1111111111111111,\"#46039f\"],[0.2222222222222222,\"#7201a8\"],[0.3333333333333333,\"#9c179e\"],[0.4444444444444444,\"#bd3786\"],[0.5555555555555556,\"#d8576b\"],[0.6666666666666666,\"#ed7953\"],[0.7777777777777778,\"#fb9f3a\"],[0.8888888888888888,\"#fdca26\"],[1.0,\"#f0f921\"]],\"type\":\"heatmapgl\"}],\"histogram\":[{\"marker\":{\"pattern\":{\"fillmode\":\"overlay\",\"size\":10,\"solidity\":0.2}},\"type\":\"histogram\"}],\"histogram2d\":[{\"colorbar\":{\"outlinewidth\":0,\"ticks\":\"\"},\"colorscale\":[[0.0,\"#0d0887\"],[0.1111111111111111,\"#46039f\"],[0.2222222222222222,\"#7201a8\"],[0.3333333333333333,\"#9c179e\"],[0.4444444444444444,\"#bd3786\"],[0.5555555555555556,\"#d8576b\"],[0.6666666666666666,\"#ed7953\"],[0.7777777777777778,\"#fb9f3a\"],[0.8888888888888888,\"#fdca26\"],[1.0,\"#f0f921\"]],\"type\":\"histogram2d\"}],\"histogram2dcontour\":[{\"colorbar\":{\"outlinewidth\":0,\"ticks\":\"\"},\"colorscale\":[[0.0,\"#0d0887\"],[0.1111111111111111,\"#46039f\"],[0.2222222222222222,\"#7201a8\"],[0.3333333333333333,\"#9c179e\"],[0.4444444444444444,\"#bd3786\"],[0.5555555555555556,\"#d8576b\"],[0.6666666666666666,\"#ed7953\"],[0.7777777777777778,\"#fb9f3a\"],[0.8888888888888888,\"#fdca26\"],[1.0,\"#f0f921\"]],\"type\":\"histogram2dcontour\"}],\"mesh3d\":[{\"colorbar\":{\"outlinewidth\":0,\"ticks\":\"\"},\"type\":\"mesh3d\"}],\"parcoords\":[{\"line\":{\"colorbar\":{\"outlinewidth\":0,\"ticks\":\"\"}},\"type\":\"parcoords\"}],\"pie\":[{\"automargin\":true,\"type\":\"pie\"}],\"scatter\":[{\"marker\":{\"colorbar\":{\"outlinewidth\":0,\"ticks\":\"\"}},\"type\":\"scatter\"}],\"scatter3d\":[{\"line\":{\"colorbar\":{\"outlinewidth\":0,\"ticks\":\"\"}},\"marker\":{\"colorbar\":{\"outlinewidth\":0,\"ticks\":\"\"}},\"type\":\"scatter3d\"}],\"scattercarpet\":[{\"marker\":{\"colorbar\":{\"outlinewidth\":0,\"ticks\":\"\"}},\"type\":\"scattercarpet\"}],\"scattergeo\":[{\"marker\":{\"colorbar\":{\"outlinewidth\":0,\"ticks\":\"\"}},\"type\":\"scattergeo\"}],\"scattergl\":[{\"marker\":{\"colorbar\":{\"outlinewidth\":0,\"ticks\":\"\"}},\"type\":\"scattergl\"}],\"scattermapbox\":[{\"marker\":{\"colorbar\":{\"outlinewidth\":0,\"ticks\":\"\"}},\"type\":\"scattermapbox\"}],\"scatterpolar\":[{\"marker\":{\"colorbar\":{\"outlinewidth\":0,\"ticks\":\"\"}},\"type\":\"scatterpolar\"}],\"scatterpolargl\":[{\"marker\":{\"colorbar\":{\"outlinewidth\":0,\"ticks\":\"\"}},\"type\":\"scatterpolargl\"}],\"scatterternary\":[{\"marker\":{\"colorbar\":{\"outlinewidth\":0,\"ticks\":\"\"}},\"type\":\"scatterternary\"}],\"surface\":[{\"colorbar\":{\"outlinewidth\":0,\"ticks\":\"\"},\"colorscale\":[[0.0,\"#0d0887\"],[0.1111111111111111,\"#46039f\"],[0.2222222222222222,\"#7201a8\"],[0.3333333333333333,\"#9c179e\"],[0.4444444444444444,\"#bd3786\"],[0.5555555555555556,\"#d8576b\"],[0.6666666666666666,\"#ed7953\"],[0.7777777777777778,\"#fb9f3a\"],[0.8888888888888888,\"#fdca26\"],[1.0,\"#f0f921\"]],\"type\":\"surface\"}],\"table\":[{\"cells\":{\"fill\":{\"color\":\"#EBF0F8\"},\"line\":{\"color\":\"white\"}},\"header\":{\"fill\":{\"color\":\"#C8D4E3\"},\"line\":{\"color\":\"white\"}},\"type\":\"table\"}]},\"layout\":{\"annotationdefaults\":{\"arrowcolor\":\"#2a3f5f\",\"arrowhead\":0,\"arrowwidth\":1},\"autotypenumbers\":\"strict\",\"coloraxis\":{\"colorbar\":{\"outlinewidth\":0,\"ticks\":\"\"}},\"colorscale\":{\"diverging\":[[0,\"#8e0152\"],[0.1,\"#c51b7d\"],[0.2,\"#de77ae\"],[0.3,\"#f1b6da\"],[0.4,\"#fde0ef\"],[0.5,\"#f7f7f7\"],[0.6,\"#e6f5d0\"],[0.7,\"#b8e186\"],[0.8,\"#7fbc41\"],[0.9,\"#4d9221\"],[1,\"#276419\"]],\"sequential\":[[0.0,\"#0d0887\"],[0.1111111111111111,\"#46039f\"],[0.2222222222222222,\"#7201a8\"],[0.3333333333333333,\"#9c179e\"],[0.4444444444444444,\"#bd3786\"],[0.5555555555555556,\"#d8576b\"],[0.6666666666666666,\"#ed7953\"],[0.7777777777777778,\"#fb9f3a\"],[0.8888888888888888,\"#fdca26\"],[1.0,\"#f0f921\"]],\"sequentialminus\":[[0.0,\"#0d0887\"],[0.1111111111111111,\"#46039f\"],[0.2222222222222222,\"#7201a8\"],[0.3333333333333333,\"#9c179e\"],[0.4444444444444444,\"#bd3786\"],[0.5555555555555556,\"#d8576b\"],[0.6666666666666666,\"#ed7953\"],[0.7777777777777778,\"#fb9f3a\"],[0.8888888888888888,\"#fdca26\"],[1.0,\"#f0f921\"]]},\"colorway\":[\"#636efa\",\"#EF553B\",\"#00cc96\",\"#ab63fa\",\"#FFA15A\",\"#19d3f3\",\"#FF6692\",\"#B6E880\",\"#FF97FF\",\"#FECB52\"],\"font\":{\"color\":\"#2a3f5f\"},\"geo\":{\"bgcolor\":\"white\",\"lakecolor\":\"white\",\"landcolor\":\"#E5ECF6\",\"showlakes\":true,\"showland\":true,\"subunitcolor\":\"white\"},\"hoverlabel\":{\"align\":\"left\"},\"hovermode\":\"closest\",\"mapbox\":{\"style\":\"light\"},\"paper_bgcolor\":\"white\",\"plot_bgcolor\":\"#E5ECF6\",\"polar\":{\"angularaxis\":{\"gridcolor\":\"white\",\"linecolor\":\"white\",\"ticks\":\"\"},\"bgcolor\":\"#E5ECF6\",\"radialaxis\":{\"gridcolor\":\"white\",\"linecolor\":\"white\",\"ticks\":\"\"}},\"scene\":{\"xaxis\":{\"backgroundcolor\":\"#E5ECF6\",\"gridcolor\":\"white\",\"gridwidth\":2,\"linecolor\":\"white\",\"showbackground\":true,\"ticks\":\"\",\"zerolinecolor\":\"white\"},\"yaxis\":{\"backgroundcolor\":\"#E5ECF6\",\"gridcolor\":\"white\",\"gridwidth\":2,\"linecolor\":\"white\",\"showbackground\":true,\"ticks\":\"\",\"zerolinecolor\":\"white\"},\"zaxis\":{\"backgroundcolor\":\"#E5ECF6\",\"gridcolor\":\"white\",\"gridwidth\":2,\"linecolor\":\"white\",\"showbackground\":true,\"ticks\":\"\",\"zerolinecolor\":\"white\"}},\"shapedefaults\":{\"line\":{\"color\":\"#2a3f5f\"}},\"ternary\":{\"aaxis\":{\"gridcolor\":\"white\",\"linecolor\":\"white\",\"ticks\":\"\"},\"baxis\":{\"gridcolor\":\"white\",\"linecolor\":\"white\",\"ticks\":\"\"},\"bgcolor\":\"#E5ECF6\",\"caxis\":{\"gridcolor\":\"white\",\"linecolor\":\"white\",\"ticks\":\"\"}},\"title\":{\"x\":0.05},\"xaxis\":{\"automargin\":true,\"gridcolor\":\"white\",\"linecolor\":\"white\",\"ticks\":\"\",\"title\":{\"standoff\":15},\"zerolinecolor\":\"white\",\"zerolinewidth\":2},\"yaxis\":{\"automargin\":true,\"gridcolor\":\"white\",\"linecolor\":\"white\",\"ticks\":\"\",\"title\":{\"standoff\":15},\"zerolinecolor\":\"white\",\"zerolinewidth\":2}}},\"title\":{\"text\":\"AQI Vs. Population\"},\"xaxis\":{\"title\":{\"text\":\"Population\"}},\"yaxis\":{\"title\":{\"text\":\"AQI Quality\"}}},                        {\"responsive\": true}                    ).then(function(){\n",
       "                            \n",
       "var gd = document.getElementById('f813d3f7-4159-4c85-926d-6cf1c14f0a9d');\n",
       "var x = new MutationObserver(function (mutations, observer) {{\n",
       "        var display = window.getComputedStyle(gd).display;\n",
       "        if (!display || display === 'none') {{\n",
       "            console.log([gd, 'removed!']);\n",
       "            Plotly.purge(gd);\n",
       "            observer.disconnect();\n",
       "        }}\n",
       "}});\n",
       "\n",
       "// Listen for the removal of the full notebook cells\n",
       "var notebookContainer = gd.closest('#notebook-container');\n",
       "if (notebookContainer) {{\n",
       "    x.observe(notebookContainer, {childList: true});\n",
       "}}\n",
       "\n",
       "// Listen for the clearing of the current output cell\n",
       "var outputEl = gd.closest('.output');\n",
       "if (outputEl) {{\n",
       "    x.observe(outputEl, {childList: true});\n",
       "}}\n",
       "\n",
       "                        })                };                });            </script>        </div>"
      ]
     },
     "metadata": {},
     "output_type": "display_data"
    }
   ],
   "source": [
    "# LASSO - no classes\n",
    "# Forest - with and without classes\n",
    "# Logistic - with classes\n",
    "# Visualizing the AQI Data \n",
    "# plotting to log scale for population \n",
    "# tell the story of AQI means per county \n",
    "# take parts\n",
    "pop_log_good = np.log10(Good['Population (2014-2020)'])\n",
    "pop_log_mod = np.log10(Moderate['Population (2014-2020)'])\n",
    "pop_log_unhealthy = np.log10(Unhealthy['Population (2014-2020)'])\n",
    "\n",
    "fig=go.Figure()\n",
    "\n",
    "fig.add_trace(go.Scatter(y = Good['Quality'],\n",
    "                                x = pop_log_good,\n",
    "                                mode='markers',\n",
    "                                name= 'Good AQI'))\n",
    "                                \n",
    "\n",
    "fig.add_trace(go.Scatter(y = Moderate['Quality'],\n",
    "                                x = pop_log_mod,\n",
    "                                mode='markers',\n",
    "                                name= 'Moderate AQI'))\n",
    "                                \n",
    "              \n",
    "fig.add_trace(go.Scatter(y = Unhealthy['Quality'],\n",
    "                                x = pop_log_unhealthy,\n",
    "                                mode='markers',\n",
    "                                name= 'Unhealthy AQI'))\n",
    "                                \n",
    "fig.update_layout(\n",
    "    title=\"AQI Vs. Population\",\n",
    "    xaxis_title=\"Population\",\n",
    "    yaxis_title=\"AQI Quality\")\n"
   ]
  },
  {
   "cell_type": "code",
   "execution_count": 14,
   "id": "ee34b297",
   "metadata": {
    "scrolled": false
   },
   "outputs": [
    {
     "data": {
      "text/plain": [
       "<matplotlib.collections.PathCollection at 0x11ae1f7f0>"
      ]
     },
     "execution_count": 14,
     "metadata": {},
     "output_type": "execute_result"
    },
    {
     "data": {
      "text/plain": [
       "<matplotlib.collections.PathCollection at 0x11ae1f7f0>"
      ]
     },
     "execution_count": 14,
     "metadata": {},
     "output_type": "execute_result"
    },
    {
     "data": {
      "image/png": "[encoded data removed]",
      "text/plain": [
       "<Figure size 432x288 with 1 Axes>"
      ]
     },
     "metadata": {
      "needs_background": "light"
     },
     "output_type": "display_data"
    },
    {
     "data": {
      "image/png": "[encoded data removed]",
      "text/plain": [
       "<Figure size 432x288 with 1 Axes>"
      ]
     },
     "metadata": {
      "needs_background": "light"
     },
     "output_type": "display_data"
    }
   ],
   "source": [
    "#from datetime import datetime\n",
    "from datetime import timedelta\n",
    "from datetime import datetime\n",
    "import matplotlib.dates as mdates\n",
    "\n",
    "DailyAQI = pd.read_csv('daily_aqi_by_county_2020.csv')\n",
    "MarylandAQI = DailyAQI[DailyAQI['State Name'].str.contains('Maryland')]\n",
    "MarylandAQI\n",
    "BaltimoreAQI = MarylandAQI[MarylandAQI['county Name'].str.contains('Baltimore')]\n",
    "BaltimoreDate = BaltimoreAQI['Date'].to_list()\n",
    "\n",
    "fig,ax = plt.subplots(1,1)\n",
    "x_values = [datetime.strptime(d,\"%m/%d/%Y\").date() for d in BaltimoreDate]\n",
    "y_values = BaltimoreAQI['AQI']\n",
    "\n",
    "# testing for specific dates \n",
    "#ax = plt.gca()\n",
    "#startDate = \"12/11/2020\"\n",
    "#stopDate =  \"12/30/2020\"\n",
    "#start = datetime.strptime(startDate,\"%m/%d/%Y\").date()\n",
    "#end =  datetime.strptime(stopDate,\"%m/%d/%Y\").date()\n",
    "#ax.set_xlim(start, end)\n",
    "\n",
    "ax.set_ylabel('AQI') \n",
    "ax.set_xlabel('Date m/d/Y')\n",
    "plt.scatter(x_values, y_values,alpha = 0.3)"
   ]
  },
  {
   "cell_type": "code",
   "execution_count": 15,
   "id": "beb410ba",
   "metadata": {
    "scrolled": false
   },
   "outputs": [
    {
     "data": {
      "application/vnd.plotly.v1+json": {
       "config": {
        "plotlyServerURL": "https://plot.ly"
       },
       "data": [
        {
         "hovertemplate": "%{text}<extra></extra>",
         "mode": "markers",
         "text": [
          "Washington",
          "Kent",
          "Carroll",
          "Howard",
          "Montgomery",
          "Allegany",
          "Baltimore",
          "Baltimore",
          "Baltimore",
          "Baltimore",
          "Baltimore",
          "Baltimore",
          "Baltimore",
          "Baltimore",
          "Baltimore",
          "Baltimore",
          "Baltimore",
          "Baltimore",
          "Baltimore",
          "Baltimore",
          "Baltimore",
          "Baltimore",
          "Calvert",
          "Cecil",
          "Charles",
          "Dorchester",
          "Frederick",
          "Garrett",
          "Harford"
         ],
         "type": "scatter",
         "x": [
          5.1755437029756655,
          4.292100938480419,
          5.224071849290467,
          5.49876115897809,
          6.017088875330536,
          4.857193741308315,
          5.917833600889374,
          5.917833600889374,
          5.917833600889374,
          5.917833600889374,
          5.7886632131208575,
          5.7886632131208575,
          5.7886632131208575,
          5.7886632131208575,
          5.917833600889374,
          5.917833600889374,
          5.917833600889374,
          5.917833600889374,
          5.7886632131208575,
          5.7886632131208575,
          5.7886632131208575,
          5.7886632131208575,
          4.95943255838829,
          5.0107958887479755,
          5.1977518220661,
          4.508677825165493,
          5.395277455722756,
          4.4679926595211485,
          5.399716975749477
         ],
         "y": [
          51,
          46,
          49,
          44,
          45,
          3,
          57,
          57,
          57,
          57,
          57,
          57,
          57,
          57,
          57,
          57,
          57,
          57,
          57,
          57,
          57,
          57,
          44,
          49,
          44,
          47,
          49,
          46,
          55
         ]
        }
       ],
       "layout": {
        "template": {
         "data": {
          "bar": [
           {
            "error_x": {
             "color": "#2a3f5f"
            },
            "error_y": {
             "color": "#2a3f5f"
            },
            "marker": {
             "line": {
              "color": "#E5ECF6",
              "width": 0.5
             },
             "pattern": {
              "fillmode": "overlay",
              "size": 10,
              "solidity": 0.2
             }
            },
            "type": "bar"
           }
          ],
          "barpolar": [
           {
            "marker": {
             "line": {
              "color": "#E5ECF6",
              "width": 0.5
             },
             "pattern": {
              "fillmode": "overlay",
              "size": 10,
              "solidity": 0.2
             }
            },
            "type": "barpolar"
           }
          ],
          "carpet": [
           {
            "aaxis": {
             "endlinecolor": "#2a3f5f",
             "gridcolor": "white",
             "linecolor": "white",
             "minorgridcolor": "white",
             "startlinecolor": "#2a3f5f"
            },
            "baxis": {
             "endlinecolor": "#2a3f5f",
             "gridcolor": "white",
             "linecolor": "white",
             "minorgridcolor": "white",
             "startlinecolor": "#2a3f5f"
            },
            "type": "carpet"
           }
          ],
          "choropleth": [
           {
            "colorbar": {
             "outlinewidth": 0,
             "ticks": ""
            },
            "type": "choropleth"
           }
          ],
          "contour": [
           {
            "colorbar": {
             "outlinewidth": 0,
             "ticks": ""
            },
            "colorscale": [
             [
              0,
              "#0d0887"
             ],
             [
              0.1111111111111111,
              "#46039f"
             ],
             [
              0.2222222222222222,
              "#7201a8"
             ],
             [
              0.3333333333333333,
              "#9c179e"
             ],
             [
              0.4444444444444444,
              "#bd3786"
             ],
             [
              0.5555555555555556,
              "#d8576b"
             ],
             [
              0.6666666666666666,
              "#ed7953"
             ],
             [
              0.7777777777777778,
              "#fb9f3a"
             ],
             [
              0.8888888888888888,
              "#fdca26"
             ],
             [
              1,
              "#f0f921"
             ]
            ],
            "type": "contour"
           }
          ],
          "contourcarpet": [
           {
            "colorbar": {
             "outlinewidth": 0,
             "ticks": ""
            },
            "type": "contourcarpet"
           }
          ],
          "heatmap": [
           {
            "colorbar": {
             "outlinewidth": 0,
             "ticks": ""
            },
            "colorscale": [
             [
              0,
              "#0d0887"
             ],
             [
              0.1111111111111111,
              "#46039f"
             ],
             [
              0.2222222222222222,
              "#7201a8"
             ],
             [
              0.3333333333333333,
              "#9c179e"
             ],
             [
              0.4444444444444444,
              "#bd3786"
             ],
             [
              0.5555555555555556,
              "#d8576b"
             ],
             [
              0.6666666666666666,
              "#ed7953"
             ],
             [
              0.7777777777777778,
              "#fb9f3a"
             ],
             [
              0.8888888888888888,
              "#fdca26"
             ],
             [
              1,
              "#f0f921"
             ]
            ],
            "type": "heatmap"
           }
          ],
          "heatmapgl": [
           {
            "colorbar": {
             "outlinewidth": 0,
             "ticks": ""
            },
            "colorscale": [
             [
              0,
              "#0d0887"
             ],
             [
              0.1111111111111111,
              "#46039f"
             ],
             [
              0.2222222222222222,
              "#7201a8"
             ],
             [
              0.3333333333333333,
              "#9c179e"
             ],
             [
              0.4444444444444444,
              "#bd3786"
             ],
             [
              0.5555555555555556,
              "#d8576b"
             ],
             [
              0.6666666666666666,
              "#ed7953"
             ],
             [
              0.7777777777777778,
              "#fb9f3a"
             ],
             [
              0.8888888888888888,
              "#fdca26"
             ],
             [
              1,
              "#f0f921"
             ]
            ],
            "type": "heatmapgl"
           }
          ],
          "histogram": [
           {
            "marker": {
             "pattern": {
              "fillmode": "overlay",
              "size": 10,
              "solidity": 0.2
             }
            },
            "type": "histogram"
           }
          ],
          "histogram2d": [
           {
            "colorbar": {
             "outlinewidth": 0,
             "ticks": ""
            },
            "colorscale": [
             [
              0,
              "#0d0887"
             ],
             [
              0.1111111111111111,
              "#46039f"
             ],
             [
              0.2222222222222222,
              "#7201a8"
             ],
             [
              0.3333333333333333,
              "#9c179e"
             ],
             [
              0.4444444444444444,
              "#bd3786"
             ],
             [
              0.5555555555555556,
              "#d8576b"
             ],
             [
              0.6666666666666666,
              "#ed7953"
             ],
             [
              0.7777777777777778,
              "#fb9f3a"
             ],
             [
              0.8888888888888888,
              "#fdca26"
             ],
             [
              1,
              "#f0f921"
             ]
            ],
            "type": "histogram2d"
           }
          ],
          "histogram2dcontour": [
           {
            "colorbar": {
             "outlinewidth": 0,
             "ticks": ""
            },
            "colorscale": [
             [
              0,
              "#0d0887"
             ],
             [
              0.1111111111111111,
              "#46039f"
             ],
             [
              0.2222222222222222,
              "#7201a8"
             ],
             [
              0.3333333333333333,
              "#9c179e"
             ],
             [
              0.4444444444444444,
              "#bd3786"
             ],
             [
              0.5555555555555556,
              "#d8576b"
             ],
             [
              0.6666666666666666,
              "#ed7953"
             ],
             [
              0.7777777777777778,
              "#fb9f3a"
             ],
             [
              0.8888888888888888,
              "#fdca26"
             ],
             [
              1,
              "#f0f921"
             ]
            ],
            "type": "histogram2dcontour"
           }
          ],
          "mesh3d": [
           {
            "colorbar": {
             "outlinewidth": 0,
             "ticks": ""
            },
            "type": "mesh3d"
           }
          ],
          "parcoords": [
           {
            "line": {
             "colorbar": {
              "outlinewidth": 0,
              "ticks": ""
             }
            },
            "type": "parcoords"
           }
          ],
          "pie": [
           {
            "automargin": true,
            "type": "pie"
           }
          ],
          "scatter": [
           {
            "marker": {
             "colorbar": {
              "outlinewidth": 0,
              "ticks": ""
             }
            },
            "type": "scatter"
           }
          ],
          "scatter3d": [
           {
            "line": {
             "colorbar": {
              "outlinewidth": 0,
              "ticks": ""
             }
            },
            "marker": {
             "colorbar": {
              "outlinewidth": 0,
              "ticks": ""
             }
            },
            "type": "scatter3d"
           }
          ],
          "scattercarpet": [
           {
            "marker": {
             "colorbar": {
              "outlinewidth": 0,
              "ticks": ""
             }
            },
            "type": "scattercarpet"
           }
          ],
          "scattergeo": [
           {
            "marker": {
             "colorbar": {
              "outlinewidth": 0,
              "ticks": ""
             }
            },
            "type": "scattergeo"
           }
          ],
          "scattergl": [
           {
            "marker": {
             "colorbar": {
              "outlinewidth": 0,
              "ticks": ""
             }
            },
            "type": "scattergl"
           }
          ],
          "scattermapbox": [
           {
            "marker": {
             "colorbar": {
              "outlinewidth": 0,
              "ticks": ""
             }
            },
            "type": "scattermapbox"
           }
          ],
          "scatterpolar": [
           {
            "marker": {
             "colorbar": {
              "outlinewidth": 0,
              "ticks": ""
             }
            },
            "type": "scatterpolar"
           }
          ],
          "scatterpolargl": [
           {
            "marker": {
             "colorbar": {
              "outlinewidth": 0,
              "ticks": ""
             }
            },
            "type": "scatterpolargl"
           }
          ],
          "scatterternary": [
           {
            "marker": {
             "colorbar": {
              "outlinewidth": 0,
              "ticks": ""
             }
            },
            "type": "scatterternary"
           }
          ],
          "surface": [
           {
            "colorbar": {
             "outlinewidth": 0,
             "ticks": ""
            },
            "colorscale": [
             [
              0,
              "#0d0887"
             ],
             [
              0.1111111111111111,
              "#46039f"
             ],
             [
              0.2222222222222222,
              "#7201a8"
             ],
             [
              0.3333333333333333,
              "#9c179e"
             ],
             [
              0.4444444444444444,
              "#bd3786"
             ],
             [
              0.5555555555555556,
              "#d8576b"
             ],
             [
              0.6666666666666666,
              "#ed7953"
             ],
             [
              0.7777777777777778,
              "#fb9f3a"
             ],
             [
              0.8888888888888888,
              "#fdca26"
             ],
             [
              1,
              "#f0f921"
             ]
            ],
            "type": "surface"
           }
          ],
          "table": [
           {
            "cells": {
             "fill": {
              "color": "#EBF0F8"
             },
             "line": {
              "color": "white"
             }
            },
            "header": {
             "fill": {
              "color": "#C8D4E3"
             },
             "line": {
              "color": "white"
             }
            },
            "type": "table"
           }
          ]
         },
         "layout": {
          "annotationdefaults": {
           "arrowcolor": "#2a3f5f",
           "arrowhead": 0,
           "arrowwidth": 1
          },
          "autotypenumbers": "strict",
          "coloraxis": {
           "colorbar": {
            "outlinewidth": 0,
            "ticks": ""
           }
          },
          "colorscale": {
           "diverging": [
            [
             0,
             "#8e0152"
            ],
            [
             0.1,
             "#c51b7d"
            ],
            [
             0.2,
             "#de77ae"
            ],
            [
             0.3,
             "#f1b6da"
            ],
            [
             0.4,
             "#fde0ef"
            ],
            [
             0.5,
             "#f7f7f7"
            ],
            [
             0.6,
             "#e6f5d0"
            ],
            [
             0.7,
             "#b8e186"
            ],
            [
             0.8,
             "#7fbc41"
            ],
            [
             0.9,
             "#4d9221"
            ],
            [
             1,
             "#276419"
            ]
           ],
           "sequential": [
            [
             0,
             "#0d0887"
            ],
            [
             0.1111111111111111,
             "#46039f"
            ],
            [
             0.2222222222222222,
             "#7201a8"
            ],
            [
             0.3333333333333333,
             "#9c179e"
            ],
            [
             0.4444444444444444,
             "#bd3786"
            ],
            [
             0.5555555555555556,
             "#d8576b"
            ],
            [
             0.6666666666666666,
             "#ed7953"
            ],
            [
             0.7777777777777778,
             "#fb9f3a"
            ],
            [
             0.8888888888888888,
             "#fdca26"
            ],
            [
             1,
             "#f0f921"
            ]
           ],
           "sequentialminus": [
            [
             0,
             "#0d0887"
            ],
            [
             0.1111111111111111,
             "#46039f"
            ],
            [
             0.2222222222222222,
             "#7201a8"
            ],
            [
             0.3333333333333333,
             "#9c179e"
            ],
            [
             0.4444444444444444,
             "#bd3786"
            ],
            [
             0.5555555555555556,
             "#d8576b"
            ],
            [
             0.6666666666666666,
             "#ed7953"
            ],
            [
             0.7777777777777778,
             "#fb9f3a"
            ],
            [
             0.8888888888888888,
             "#fdca26"
            ],
            [
             1,
             "#f0f921"
            ]
           ]
          },
          "colorway": [
           "#636efa",
           "#EF553B",
           "#00cc96",
           "#ab63fa",
           "#FFA15A",
           "#19d3f3",
           "#FF6692",
           "#B6E880",
           "#FF97FF",
           "#FECB52"
          ],
          "font": {
           "color": "#2a3f5f"
          },
          "geo": {
           "bgcolor": "white",
           "lakecolor": "white",
           "landcolor": "#E5ECF6",
           "showlakes": true,
           "showland": true,
           "subunitcolor": "white"
          },
          "hoverlabel": {
           "align": "left"
          },
          "hovermode": "closest",
          "mapbox": {
           "style": "light"
          },
          "paper_bgcolor": "white",
          "plot_bgcolor": "#E5ECF6",
          "polar": {
           "angularaxis": {
            "gridcolor": "white",
            "linecolor": "white",
            "ticks": ""
           },
           "bgcolor": "#E5ECF6",
           "radialaxis": {
            "gridcolor": "white",
            "linecolor": "white",
            "ticks": ""
           }
          },
          "scene": {
           "xaxis": {
            "backgroundcolor": "#E5ECF6",
            "gridcolor": "white",
            "gridwidth": 2,
            "linecolor": "white",
            "showbackground": true,
            "ticks": "",
            "zerolinecolor": "white"
           },
           "yaxis": {
            "backgroundcolor": "#E5ECF6",
            "gridcolor": "white",
            "gridwidth": 2,
            "linecolor": "white",
            "showbackground": true,
            "ticks": "",
            "zerolinecolor": "white"
           },
           "zaxis": {
            "backgroundcolor": "#E5ECF6",
            "gridcolor": "white",
            "gridwidth": 2,
            "linecolor": "white",
            "showbackground": true,
            "ticks": "",
            "zerolinecolor": "white"
           }
          },
          "shapedefaults": {
           "line": {
            "color": "#2a3f5f"
           }
          },
          "ternary": {
           "aaxis": {
            "gridcolor": "white",
            "linecolor": "white",
            "ticks": ""
           },
           "baxis": {
            "gridcolor": "white",
            "linecolor": "white",
            "ticks": ""
           },
           "bgcolor": "#E5ECF6",
           "caxis": {
            "gridcolor": "white",
            "linecolor": "white",
            "ticks": ""
           }
          },
          "title": {
           "x": 0.05
          },
          "xaxis": {
           "automargin": true,
           "gridcolor": "white",
           "linecolor": "white",
           "ticks": "",
           "title": {
            "standoff": 15
           },
           "zerolinecolor": "white",
           "zerolinewidth": 2
          },
          "yaxis": {
           "automargin": true,
           "gridcolor": "white",
           "linecolor": "white",
           "ticks": "",
           "title": {
            "standoff": 15
           },
           "zerolinecolor": "white",
           "zerolinewidth": 2
          }
         }
        },
        "title": {
         "text": "AQI Vs. Population"
        },
        "xaxis": {
         "title": {
          "text": "Population (2014-2020) in Maryland Counties on a Log Scale"
         }
        },
        "yaxis": {
         "title": {
          "text": "AQI Quality"
         }
        }
       }
      },
      "text/html": [
       "<div>                            <div id=\"f0a72e11-7692-42e7-9d75-a5fb5695e79d\" class=\"plotly-graph-div\" style=\"height:525px; width:100%;\"></div>            <script type=\"text/javascript\">                require([\"plotly\"], function(Plotly) {                    window.PLOTLYENV=window.PLOTLYENV || {};                                    if (document.getElementById(\"f0a72e11-7692-42e7-9d75-a5fb5695e79d\")) {                    Plotly.newPlot(                        \"f0a72e11-7692-42e7-9d75-a5fb5695e79d\",                        [{\"hovertemplate\":\"%{text}<extra></extra>\",\"mode\":\"markers\",\"text\":[\"Washington\",\"Kent\",\"Carroll\",\"Howard\",\"Montgomery\",\"Allegany\",\"Baltimore\",\"Baltimore\",\"Baltimore\",\"Baltimore\",\"Baltimore\",\"Baltimore\",\"Baltimore\",\"Baltimore\",\"Baltimore\",\"Baltimore\",\"Baltimore\",\"Baltimore\",\"Baltimore\",\"Baltimore\",\"Baltimore\",\"Baltimore\",\"Calvert\",\"Cecil\",\"Charles\",\"Dorchester\",\"Frederick\",\"Garrett\",\"Harford\"],\"type\":\"scatter\",\"x\":[5.1755437029756655,4.292100938480419,5.224071849290467,5.49876115897809,6.017088875330536,4.857193741308315,5.917833600889374,5.917833600889374,5.917833600889374,5.917833600889374,5.7886632131208575,5.7886632131208575,5.7886632131208575,5.7886632131208575,5.917833600889374,5.917833600889374,5.917833600889374,5.917833600889374,5.7886632131208575,5.7886632131208575,5.7886632131208575,5.7886632131208575,4.95943255838829,5.0107958887479755,5.1977518220661,4.508677825165493,5.395277455722756,4.4679926595211485,5.399716975749477],\"y\":[51,46,49,44,45,3,57,57,57,57,57,57,57,57,57,57,57,57,57,57,57,57,44,49,44,47,49,46,55]}],                        {\"template\":{\"data\":{\"bar\":[{\"error_x\":{\"color\":\"#2a3f5f\"},\"error_y\":{\"color\":\"#2a3f5f\"},\"marker\":{\"line\":{\"color\":\"#E5ECF6\",\"width\":0.5},\"pattern\":{\"fillmode\":\"overlay\",\"size\":10,\"solidity\":0.2}},\"type\":\"bar\"}],\"barpolar\":[{\"marker\":{\"line\":{\"color\":\"#E5ECF6\",\"width\":0.5},\"pattern\":{\"fillmode\":\"overlay\",\"size\":10,\"solidity\":0.2}},\"type\":\"barpolar\"}],\"carpet\":[{\"aaxis\":{\"endlinecolor\":\"#2a3f5f\",\"gridcolor\":\"white\",\"linecolor\":\"white\",\"minorgridcolor\":\"white\",\"startlinecolor\":\"#2a3f5f\"},\"baxis\":{\"endlinecolor\":\"#2a3f5f\",\"gridcolor\":\"white\",\"linecolor\":\"white\",\"minorgridcolor\":\"white\",\"startlinecolor\":\"#2a3f5f\"},\"type\":\"carpet\"}],\"choropleth\":[{\"colorbar\":{\"outlinewidth\":0,\"ticks\":\"\"},\"type\":\"choropleth\"}],\"contour\":[{\"colorbar\":{\"outlinewidth\":0,\"ticks\":\"\"},\"colorscale\":[[0.0,\"#0d0887\"],[0.1111111111111111,\"#46039f\"],[0.2222222222222222,\"#7201a8\"],[0.3333333333333333,\"#9c179e\"],[0.4444444444444444,\"#bd3786\"],[0.5555555555555556,\"#d8576b\"],[0.6666666666666666,\"#ed7953\"],[0.7777777777777778,\"#fb9f3a\"],[0.8888888888888888,\"#fdca26\"],[1.0,\"#f0f921\"]],\"type\":\"contour\"}],\"contourcarpet\":[{\"colorbar\":{\"outlinewidth\":0,\"ticks\":\"\"},\"type\":\"contourcarpet\"}],\"heatmap\":[{\"colorbar\":{\"outlinewidth\":0,\"ticks\":\"\"},\"colorscale\":[[0.0,\"#0d0887\"],[0.1111111111111111,\"#46039f\"],[0.2222222222222222,\"#7201a8\"],[0.3333333333333333,\"#9c179e\"],[0.4444444444444444,\"#bd3786\"],[0.5555555555555556,\"#d8576b\"],[0.6666666666666666,\"#ed7953\"],[0.7777777777777778,\"#fb9f3a\"],[0.8888888888888888,\"#fdca26\"],[1.0,\"#f0f921\"]],\"type\":\"heatmap\"}],\"heatmapgl\":[{\"colorbar\":{\"outlinewidth\":0,\"ticks\":\"\"},\"colorscale\":[[0.0,\"#0d0887\"],[0.1111111111111111,\"#46039f\"],[0.2222222222222222,\"#7201a8\"],[0.3333333333333333,\"#9c179e\"],[0.4444444444444444,\"#bd3786\"],[0.5555555555555556,\"#d8576b\"],[0.6666666666666666,\"#ed7953\"],[0.7777777777777778,\"#fb9f3a\"],[0.8888888888888888,\"#fdca26\"],[1.0,\"#f0f921\"]],\"type\":\"heatmapgl\"}],\"histogram\":[{\"marker\":{\"pattern\":{\"fillmode\":\"overlay\",\"size\":10,\"solidity\":0.2}},\"type\":\"histogram\"}],\"histogram2d\":[{\"colorbar\":{\"outlinewidth\":0,\"ticks\":\"\"},\"colorscale\":[[0.0,\"#0d0887\"],[0.1111111111111111,\"#46039f\"],[0.2222222222222222,\"#7201a8\"],[0.3333333333333333,\"#9c179e\"],[0.4444444444444444,\"#bd3786\"],[0.5555555555555556,\"#d8576b\"],[0.6666666666666666,\"#ed7953\"],[0.7777777777777778,\"#fb9f3a\"],[0.8888888888888888,\"#fdca26\"],[1.0,\"#f0f921\"]],\"type\":\"histogram2d\"}],\"histogram2dcontour\":[{\"colorbar\":{\"outlinewidth\":0,\"ticks\":\"\"},\"colorscale\":[[0.0,\"#0d0887\"],[0.1111111111111111,\"#46039f\"],[0.2222222222222222,\"#7201a8\"],[0.3333333333333333,\"#9c179e\"],[0.4444444444444444,\"#bd3786\"],[0.5555555555555556,\"#d8576b\"],[0.6666666666666666,\"#ed7953\"],[0.7777777777777778,\"#fb9f3a\"],[0.8888888888888888,\"#fdca26\"],[1.0,\"#f0f921\"]],\"type\":\"histogram2dcontour\"}],\"mesh3d\":[{\"colorbar\":{\"outlinewidth\":0,\"ticks\":\"\"},\"type\":\"mesh3d\"}],\"parcoords\":[{\"line\":{\"colorbar\":{\"outlinewidth\":0,\"ticks\":\"\"}},\"type\":\"parcoords\"}],\"pie\":[{\"automargin\":true,\"type\":\"pie\"}],\"scatter\":[{\"marker\":{\"colorbar\":{\"outlinewidth\":0,\"ticks\":\"\"}},\"type\":\"scatter\"}],\"scatter3d\":[{\"line\":{\"colorbar\":{\"outlinewidth\":0,\"ticks\":\"\"}},\"marker\":{\"colorbar\":{\"outlinewidth\":0,\"ticks\":\"\"}},\"type\":\"scatter3d\"}],\"scattercarpet\":[{\"marker\":{\"colorbar\":{\"outlinewidth\":0,\"ticks\":\"\"}},\"type\":\"scattercarpet\"}],\"scattergeo\":[{\"marker\":{\"colorbar\":{\"outlinewidth\":0,\"ticks\":\"\"}},\"type\":\"scattergeo\"}],\"scattergl\":[{\"marker\":{\"colorbar\":{\"outlinewidth\":0,\"ticks\":\"\"}},\"type\":\"scattergl\"}],\"scattermapbox\":[{\"marker\":{\"colorbar\":{\"outlinewidth\":0,\"ticks\":\"\"}},\"type\":\"scattermapbox\"}],\"scatterpolar\":[{\"marker\":{\"colorbar\":{\"outlinewidth\":0,\"ticks\":\"\"}},\"type\":\"scatterpolar\"}],\"scatterpolargl\":[{\"marker\":{\"colorbar\":{\"outlinewidth\":0,\"ticks\":\"\"}},\"type\":\"scatterpolargl\"}],\"scatterternary\":[{\"marker\":{\"colorbar\":{\"outlinewidth\":0,\"ticks\":\"\"}},\"type\":\"scatterternary\"}],\"surface\":[{\"colorbar\":{\"outlinewidth\":0,\"ticks\":\"\"},\"colorscale\":[[0.0,\"#0d0887\"],[0.1111111111111111,\"#46039f\"],[0.2222222222222222,\"#7201a8\"],[0.3333333333333333,\"#9c179e\"],[0.4444444444444444,\"#bd3786\"],[0.5555555555555556,\"#d8576b\"],[0.6666666666666666,\"#ed7953\"],[0.7777777777777778,\"#fb9f3a\"],[0.8888888888888888,\"#fdca26\"],[1.0,\"#f0f921\"]],\"type\":\"surface\"}],\"table\":[{\"cells\":{\"fill\":{\"color\":\"#EBF0F8\"},\"line\":{\"color\":\"white\"}},\"header\":{\"fill\":{\"color\":\"#C8D4E3\"},\"line\":{\"color\":\"white\"}},\"type\":\"table\"}]},\"layout\":{\"annotationdefaults\":{\"arrowcolor\":\"#2a3f5f\",\"arrowhead\":0,\"arrowwidth\":1},\"autotypenumbers\":\"strict\",\"coloraxis\":{\"colorbar\":{\"outlinewidth\":0,\"ticks\":\"\"}},\"colorscale\":{\"diverging\":[[0,\"#8e0152\"],[0.1,\"#c51b7d\"],[0.2,\"#de77ae\"],[0.3,\"#f1b6da\"],[0.4,\"#fde0ef\"],[0.5,\"#f7f7f7\"],[0.6,\"#e6f5d0\"],[0.7,\"#b8e186\"],[0.8,\"#7fbc41\"],[0.9,\"#4d9221\"],[1,\"#276419\"]],\"sequential\":[[0.0,\"#0d0887\"],[0.1111111111111111,\"#46039f\"],[0.2222222222222222,\"#7201a8\"],[0.3333333333333333,\"#9c179e\"],[0.4444444444444444,\"#bd3786\"],[0.5555555555555556,\"#d8576b\"],[0.6666666666666666,\"#ed7953\"],[0.7777777777777778,\"#fb9f3a\"],[0.8888888888888888,\"#fdca26\"],[1.0,\"#f0f921\"]],\"sequentialminus\":[[0.0,\"#0d0887\"],[0.1111111111111111,\"#46039f\"],[0.2222222222222222,\"#7201a8\"],[0.3333333333333333,\"#9c179e\"],[0.4444444444444444,\"#bd3786\"],[0.5555555555555556,\"#d8576b\"],[0.6666666666666666,\"#ed7953\"],[0.7777777777777778,\"#fb9f3a\"],[0.8888888888888888,\"#fdca26\"],[1.0,\"#f0f921\"]]},\"colorway\":[\"#636efa\",\"#EF553B\",\"#00cc96\",\"#ab63fa\",\"#FFA15A\",\"#19d3f3\",\"#FF6692\",\"#B6E880\",\"#FF97FF\",\"#FECB52\"],\"font\":{\"color\":\"#2a3f5f\"},\"geo\":{\"bgcolor\":\"white\",\"lakecolor\":\"white\",\"landcolor\":\"#E5ECF6\",\"showlakes\":true,\"showland\":true,\"subunitcolor\":\"white\"},\"hoverlabel\":{\"align\":\"left\"},\"hovermode\":\"closest\",\"mapbox\":{\"style\":\"light\"},\"paper_bgcolor\":\"white\",\"plot_bgcolor\":\"#E5ECF6\",\"polar\":{\"angularaxis\":{\"gridcolor\":\"white\",\"linecolor\":\"white\",\"ticks\":\"\"},\"bgcolor\":\"#E5ECF6\",\"radialaxis\":{\"gridcolor\":\"white\",\"linecolor\":\"white\",\"ticks\":\"\"}},\"scene\":{\"xaxis\":{\"backgroundcolor\":\"#E5ECF6\",\"gridcolor\":\"white\",\"gridwidth\":2,\"linecolor\":\"white\",\"showbackground\":true,\"ticks\":\"\",\"zerolinecolor\":\"white\"},\"yaxis\":{\"backgroundcolor\":\"#E5ECF6\",\"gridcolor\":\"white\",\"gridwidth\":2,\"linecolor\":\"white\",\"showbackground\":true,\"ticks\":\"\",\"zerolinecolor\":\"white\"},\"zaxis\":{\"backgroundcolor\":\"#E5ECF6\",\"gridcolor\":\"white\",\"gridwidth\":2,\"linecolor\":\"white\",\"showbackground\":true,\"ticks\":\"\",\"zerolinecolor\":\"white\"}},\"shapedefaults\":{\"line\":{\"color\":\"#2a3f5f\"}},\"ternary\":{\"aaxis\":{\"gridcolor\":\"white\",\"linecolor\":\"white\",\"ticks\":\"\"},\"baxis\":{\"gridcolor\":\"white\",\"linecolor\":\"white\",\"ticks\":\"\"},\"bgcolor\":\"#E5ECF6\",\"caxis\":{\"gridcolor\":\"white\",\"linecolor\":\"white\",\"ticks\":\"\"}},\"title\":{\"x\":0.05},\"xaxis\":{\"automargin\":true,\"gridcolor\":\"white\",\"linecolor\":\"white\",\"ticks\":\"\",\"title\":{\"standoff\":15},\"zerolinecolor\":\"white\",\"zerolinewidth\":2},\"yaxis\":{\"automargin\":true,\"gridcolor\":\"white\",\"linecolor\":\"white\",\"ticks\":\"\",\"title\":{\"standoff\":15},\"zerolinecolor\":\"white\",\"zerolinewidth\":2}}},\"title\":{\"text\":\"AQI Vs. Population\"},\"xaxis\":{\"title\":{\"text\":\"Population (2014-2020) in Maryland Counties on a Log Scale\"}},\"yaxis\":{\"title\":{\"text\":\"AQI Quality\"}}},                        {\"responsive\": true}                    ).then(function(){\n",
       "                            \n",
       "var gd = document.getElementById('f0a72e11-7692-42e7-9d75-a5fb5695e79d');\n",
       "var x = new MutationObserver(function (mutations, observer) {{\n",
       "        var display = window.getComputedStyle(gd).display;\n",
       "        if (!display || display === 'none') {{\n",
       "            console.log([gd, 'removed!']);\n",
       "            Plotly.purge(gd);\n",
       "            observer.disconnect();\n",
       "        }}\n",
       "}});\n",
       "\n",
       "// Listen for the removal of the full notebook cells\n",
       "var notebookContainer = gd.closest('#notebook-container');\n",
       "if (notebookContainer) {{\n",
       "    x.observe(notebookContainer, {childList: true});\n",
       "}}\n",
       "\n",
       "// Listen for the clearing of the current output cell\n",
       "var outputEl = gd.closest('.output');\n",
       "if (outputEl) {{\n",
       "    x.observe(outputEl, {childList: true});\n",
       "}}\n",
       "\n",
       "                        })                };                });            </script>        </div>"
      ]
     },
     "metadata": {},
     "output_type": "display_data"
    },
    {
     "data": {
      "application/vnd.plotly.v1+json": {
       "config": {
        "plotlyServerURL": "https://plot.ly"
       },
       "data": [
        {
         "hovertemplate": "%{text}<extra></extra>",
         "mode": "markers",
         "text": [
          "Washington",
          "Kent",
          "Carroll",
          "Howard",
          "Montgomery",
          "Allegany",
          "Baltimore",
          "Baltimore",
          "Baltimore",
          "Baltimore",
          "Baltimore",
          "Baltimore",
          "Baltimore",
          "Baltimore",
          "Baltimore",
          "Baltimore",
          "Baltimore",
          "Baltimore",
          "Baltimore",
          "Baltimore",
          "Baltimore",
          "Baltimore",
          "Calvert",
          "Cecil",
          "Charles",
          "Dorchester",
          "Frederick",
          "Garrett",
          "Harford"
         ],
         "type": "scatter",
         "x": [
          5.1755437029756655,
          4.292100938480419,
          5.224071849290467,
          5.49876115897809,
          6.017088875330536,
          4.857193741308315,
          5.917833600889374,
          5.917833600889374,
          5.917833600889374,
          5.917833600889374,
          5.7886632131208575,
          5.7886632131208575,
          5.7886632131208575,
          5.7886632131208575,
          5.917833600889374,
          5.917833600889374,
          5.917833600889374,
          5.917833600889374,
          5.7886632131208575,
          5.7886632131208575,
          5.7886632131208575,
          5.7886632131208575,
          4.95943255838829,
          5.0107958887479755,
          5.1977518220661,
          4.508677825165493,
          5.395277455722756,
          4.4679926595211485,
          5.399716975749477
         ],
         "y": [
          51,
          46,
          49,
          44,
          45,
          3,
          57,
          57,
          57,
          57,
          57,
          57,
          57,
          57,
          57,
          57,
          57,
          57,
          57,
          57,
          57,
          57,
          44,
          49,
          44,
          47,
          49,
          46,
          55
         ]
        }
       ],
       "layout": {
        "template": {
         "data": {
          "bar": [
           {
            "error_x": {
             "color": "#2a3f5f"
            },
            "error_y": {
             "color": "#2a3f5f"
            },
            "marker": {
             "line": {
              "color": "#E5ECF6",
              "width": 0.5
             },
             "pattern": {
              "fillmode": "overlay",
              "size": 10,
              "solidity": 0.2
             }
            },
            "type": "bar"
           }
          ],
          "barpolar": [
           {
            "marker": {
             "line": {
              "color": "#E5ECF6",
              "width": 0.5
             },
             "pattern": {
              "fillmode": "overlay",
              "size": 10,
              "solidity": 0.2
             }
            },
            "type": "barpolar"
           }
          ],
          "carpet": [
           {
            "aaxis": {
             "endlinecolor": "#2a3f5f",
             "gridcolor": "white",
             "linecolor": "white",
             "minorgridcolor": "white",
             "startlinecolor": "#2a3f5f"
            },
            "baxis": {
             "endlinecolor": "#2a3f5f",
             "gridcolor": "white",
             "linecolor": "white",
             "minorgridcolor": "white",
             "startlinecolor": "#2a3f5f"
            },
            "type": "carpet"
           }
          ],
          "choropleth": [
           {
            "colorbar": {
             "outlinewidth": 0,
             "ticks": ""
            },
            "type": "choropleth"
           }
          ],
          "contour": [
           {
            "colorbar": {
             "outlinewidth": 0,
             "ticks": ""
            },
            "colorscale": [
             [
              0,
              "#0d0887"
             ],
             [
              0.1111111111111111,
              "#46039f"
             ],
             [
              0.2222222222222222,
              "#7201a8"
             ],
             [
              0.3333333333333333,
              "#9c179e"
             ],
             [
              0.4444444444444444,
              "#bd3786"
             ],
             [
              0.5555555555555556,
              "#d8576b"
             ],
             [
              0.6666666666666666,
              "#ed7953"
             ],
             [
              0.7777777777777778,
              "#fb9f3a"
             ],
             [
              0.8888888888888888,
              "#fdca26"
             ],
             [
              1,
              "#f0f921"
             ]
            ],
            "type": "contour"
           }
          ],
          "contourcarpet": [
           {
            "colorbar": {
             "outlinewidth": 0,
             "ticks": ""
            },
            "type": "contourcarpet"
           }
          ],
          "heatmap": [
           {
            "colorbar": {
             "outlinewidth": 0,
             "ticks": ""
            },
            "colorscale": [
             [
              0,
              "#0d0887"
             ],
             [
              0.1111111111111111,
              "#46039f"
             ],
             [
              0.2222222222222222,
              "#7201a8"
             ],
             [
              0.3333333333333333,
              "#9c179e"
             ],
             [
              0.4444444444444444,
              "#bd3786"
             ],
             [
              0.5555555555555556,
              "#d8576b"
             ],
             [
              0.6666666666666666,
              "#ed7953"
             ],
             [
              0.7777777777777778,
              "#fb9f3a"
             ],
             [
              0.8888888888888888,
              "#fdca26"
             ],
             [
              1,
              "#f0f921"
             ]
            ],
            "type": "heatmap"
           }
          ],
          "heatmapgl": [
           {
            "colorbar": {
             "outlinewidth": 0,
             "ticks": ""
            },
            "colorscale": [
             [
              0,
              "#0d0887"
             ],
             [
              0.1111111111111111,
              "#46039f"
             ],
             [
              0.2222222222222222,
              "#7201a8"
             ],
             [
              0.3333333333333333,
              "#9c179e"
             ],
             [
              0.4444444444444444,
              "#bd3786"
             ],
             [
              0.5555555555555556,
              "#d8576b"
             ],
             [
              0.6666666666666666,
              "#ed7953"
             ],
             [
              0.7777777777777778,
              "#fb9f3a"
             ],
             [
              0.8888888888888888,
              "#fdca26"
             ],
             [
              1,
              "#f0f921"
             ]
            ],
            "type": "heatmapgl"
           }
          ],
          "histogram": [
           {
            "marker": {
             "pattern": {
              "fillmode": "overlay",
              "size": 10,
              "solidity": 0.2
             }
            },
            "type": "histogram"
           }
          ],
          "histogram2d": [
           {
            "colorbar": {
             "outlinewidth": 0,
             "ticks": ""
            },
            "colorscale": [
             [
              0,
              "#0d0887"
             ],
             [
              0.1111111111111111,
              "#46039f"
             ],
             [
              0.2222222222222222,
              "#7201a8"
             ],
             [
              0.3333333333333333,
              "#9c179e"
             ],
             [
              0.4444444444444444,
              "#bd3786"
             ],
             [
              0.5555555555555556,
              "#d8576b"
             ],
             [
              0.6666666666666666,
              "#ed7953"
             ],
             [
              0.7777777777777778,
              "#fb9f3a"
             ],
             [
              0.8888888888888888,
              "#fdca26"
             ],
             [
              1,
              "#f0f921"
             ]
            ],
            "type": "histogram2d"
           }
          ],
          "histogram2dcontour": [
           {
            "colorbar": {
             "outlinewidth": 0,
             "ticks": ""
            },
            "colorscale": [
             [
              0,
              "#0d0887"
             ],
             [
              0.1111111111111111,
              "#46039f"
             ],
             [
              0.2222222222222222,
              "#7201a8"
             ],
             [
              0.3333333333333333,
              "#9c179e"
             ],
             [
              0.4444444444444444,
              "#bd3786"
             ],
             [
              0.5555555555555556,
              "#d8576b"
             ],
             [
              0.6666666666666666,
              "#ed7953"
             ],
             [
              0.7777777777777778,
              "#fb9f3a"
             ],
             [
              0.8888888888888888,
              "#fdca26"
             ],
             [
              1,
              "#f0f921"
             ]
            ],
            "type": "histogram2dcontour"
           }
          ],
          "mesh3d": [
           {
            "colorbar": {
             "outlinewidth": 0,
             "ticks": ""
            },
            "type": "mesh3d"
           }
          ],
          "parcoords": [
           {
            "line": {
             "colorbar": {
              "outlinewidth": 0,
              "ticks": ""
             }
            },
            "type": "parcoords"
           }
          ],
          "pie": [
           {
            "automargin": true,
            "type": "pie"
           }
          ],
          "scatter": [
           {
            "marker": {
             "colorbar": {
              "outlinewidth": 0,
              "ticks": ""
             }
            },
            "type": "scatter"
           }
          ],
          "scatter3d": [
           {
            "line": {
             "colorbar": {
              "outlinewidth": 0,
              "ticks": ""
             }
            },
            "marker": {
             "colorbar": {
              "outlinewidth": 0,
              "ticks": ""
             }
            },
            "type": "scatter3d"
           }
          ],
          "scattercarpet": [
           {
            "marker": {
             "colorbar": {
              "outlinewidth": 0,
              "ticks": ""
             }
            },
            "type": "scattercarpet"
           }
          ],
          "scattergeo": [
           {
            "marker": {
             "colorbar": {
              "outlinewidth": 0,
              "ticks": ""
             }
            },
            "type": "scattergeo"
           }
          ],
          "scattergl": [
           {
            "marker": {
             "colorbar": {
              "outlinewidth": 0,
              "ticks": ""
             }
            },
            "type": "scattergl"
           }
          ],
          "scattermapbox": [
           {
            "marker": {
             "colorbar": {
              "outlinewidth": 0,
              "ticks": ""
             }
            },
            "type": "scattermapbox"
           }
          ],
          "scatterpolar": [
           {
            "marker": {
             "colorbar": {
              "outlinewidth": 0,
              "ticks": ""
             }
            },
            "type": "scatterpolar"
           }
          ],
          "scatterpolargl": [
           {
            "marker": {
             "colorbar": {
              "outlinewidth": 0,
              "ticks": ""
             }
            },
            "type": "scatterpolargl"
           }
          ],
          "scatterternary": [
           {
            "marker": {
             "colorbar": {
              "outlinewidth": 0,
              "ticks": ""
             }
            },
            "type": "scatterternary"
           }
          ],
          "surface": [
           {
            "colorbar": {
             "outlinewidth": 0,
             "ticks": ""
            },
            "colorscale": [
             [
              0,
              "#0d0887"
             ],
             [
              0.1111111111111111,
              "#46039f"
             ],
             [
              0.2222222222222222,
              "#7201a8"
             ],
             [
              0.3333333333333333,
              "#9c179e"
             ],
             [
              0.4444444444444444,
              "#bd3786"
             ],
             [
              0.5555555555555556,
              "#d8576b"
             ],
             [
              0.6666666666666666,
              "#ed7953"
             ],
             [
              0.7777777777777778,
              "#fb9f3a"
             ],
             [
              0.8888888888888888,
              "#fdca26"
             ],
             [
              1,
              "#f0f921"
             ]
            ],
            "type": "surface"
           }
          ],
          "table": [
           {
            "cells": {
             "fill": {
              "color": "#EBF0F8"
             },
             "line": {
              "color": "white"
             }
            },
            "header": {
             "fill": {
              "color": "#C8D4E3"
             },
             "line": {
              "color": "white"
             }
            },
            "type": "table"
           }
          ]
         },
         "layout": {
          "annotationdefaults": {
           "arrowcolor": "#2a3f5f",
           "arrowhead": 0,
           "arrowwidth": 1
          },
          "autotypenumbers": "strict",
          "coloraxis": {
           "colorbar": {
            "outlinewidth": 0,
            "ticks": ""
           }
          },
          "colorscale": {
           "diverging": [
            [
             0,
             "#8e0152"
            ],
            [
             0.1,
             "#c51b7d"
            ],
            [
             0.2,
             "#de77ae"
            ],
            [
             0.3,
             "#f1b6da"
            ],
            [
             0.4,
             "#fde0ef"
            ],
            [
             0.5,
             "#f7f7f7"
            ],
            [
             0.6,
             "#e6f5d0"
            ],
            [
             0.7,
             "#b8e186"
            ],
            [
             0.8,
             "#7fbc41"
            ],
            [
             0.9,
             "#4d9221"
            ],
            [
             1,
             "#276419"
            ]
           ],
           "sequential": [
            [
             0,
             "#0d0887"
            ],
            [
             0.1111111111111111,
             "#46039f"
            ],
            [
             0.2222222222222222,
             "#7201a8"
            ],
            [
             0.3333333333333333,
             "#9c179e"
            ],
            [
             0.4444444444444444,
             "#bd3786"
            ],
            [
             0.5555555555555556,
             "#d8576b"
            ],
            [
             0.6666666666666666,
             "#ed7953"
            ],
            [
             0.7777777777777778,
             "#fb9f3a"
            ],
            [
             0.8888888888888888,
             "#fdca26"
            ],
            [
             1,
             "#f0f921"
            ]
           ],
           "sequentialminus": [
            [
             0,
             "#0d0887"
            ],
            [
             0.1111111111111111,
             "#46039f"
            ],
            [
             0.2222222222222222,
             "#7201a8"
            ],
            [
             0.3333333333333333,
             "#9c179e"
            ],
            [
             0.4444444444444444,
             "#bd3786"
            ],
            [
             0.5555555555555556,
             "#d8576b"
            ],
            [
             0.6666666666666666,
             "#ed7953"
            ],
            [
             0.7777777777777778,
             "#fb9f3a"
            ],
            [
             0.8888888888888888,
             "#fdca26"
            ],
            [
             1,
             "#f0f921"
            ]
           ]
          },
          "colorway": [
           "#636efa",
           "#EF553B",
           "#00cc96",
           "#ab63fa",
           "#FFA15A",
           "#19d3f3",
           "#FF6692",
           "#B6E880",
           "#FF97FF",
           "#FECB52"
          ],
          "font": {
           "color": "#2a3f5f"
          },
          "geo": {
           "bgcolor": "white",
           "lakecolor": "white",
           "landcolor": "#E5ECF6",
           "showlakes": true,
           "showland": true,
           "subunitcolor": "white"
          },
          "hoverlabel": {
           "align": "left"
          },
          "hovermode": "closest",
          "mapbox": {
           "style": "light"
          },
          "paper_bgcolor": "white",
          "plot_bgcolor": "#E5ECF6",
          "polar": {
           "angularaxis": {
            "gridcolor": "white",
            "linecolor": "white",
            "ticks": ""
           },
           "bgcolor": "#E5ECF6",
           "radialaxis": {
            "gridcolor": "white",
            "linecolor": "white",
            "ticks": ""
           }
          },
          "scene": {
           "xaxis": {
            "backgroundcolor": "#E5ECF6",
            "gridcolor": "white",
            "gridwidth": 2,
            "linecolor": "white",
            "showbackground": true,
            "ticks": "",
            "zerolinecolor": "white"
           },
           "yaxis": {
            "backgroundcolor": "#E5ECF6",
            "gridcolor": "white",
            "gridwidth": 2,
            "linecolor": "white",
            "showbackground": true,
            "ticks": "",
            "zerolinecolor": "white"
           },
           "zaxis": {
            "backgroundcolor": "#E5ECF6",
            "gridcolor": "white",
            "gridwidth": 2,
            "linecolor": "white",
            "showbackground": true,
            "ticks": "",
            "zerolinecolor": "white"
           }
          },
          "shapedefaults": {
           "line": {
            "color": "#2a3f5f"
           }
          },
          "ternary": {
           "aaxis": {
            "gridcolor": "white",
            "linecolor": "white",
            "ticks": ""
           },
           "baxis": {
            "gridcolor": "white",
            "linecolor": "white",
            "ticks": ""
           },
           "bgcolor": "#E5ECF6",
           "caxis": {
            "gridcolor": "white",
            "linecolor": "white",
            "ticks": ""
           }
          },
          "title": {
           "x": 0.05
          },
          "xaxis": {
           "automargin": true,
           "gridcolor": "white",
           "linecolor": "white",
           "ticks": "",
           "title": {
            "standoff": 15
           },
           "zerolinecolor": "white",
           "zerolinewidth": 2
          },
          "yaxis": {
           "automargin": true,
           "gridcolor": "white",
           "linecolor": "white",
           "ticks": "",
           "title": {
            "standoff": 15
           },
           "zerolinecolor": "white",
           "zerolinewidth": 2
          }
         }
        },
        "title": {
         "text": "AQI Vs. Population"
        },
        "xaxis": {
         "title": {
          "text": "Population (2014-2020) in Maryland Counties on a Log Scale"
         }
        },
        "yaxis": {
         "title": {
          "text": "AQI Quality"
         }
        }
       }
      },
      "text/html": [
       "<div>                            <div id=\"f0a72e11-7692-42e7-9d75-a5fb5695e79d\" class=\"plotly-graph-div\" style=\"height:525px; width:100%;\"></div>            <script type=\"text/javascript\">                require([\"plotly\"], function(Plotly) {                    window.PLOTLYENV=window.PLOTLYENV || {};                                    if (document.getElementById(\"f0a72e11-7692-42e7-9d75-a5fb5695e79d\")) {                    Plotly.newPlot(                        \"f0a72e11-7692-42e7-9d75-a5fb5695e79d\",                        [{\"hovertemplate\":\"%{text}<extra></extra>\",\"mode\":\"markers\",\"text\":[\"Washington\",\"Kent\",\"Carroll\",\"Howard\",\"Montgomery\",\"Allegany\",\"Baltimore\",\"Baltimore\",\"Baltimore\",\"Baltimore\",\"Baltimore\",\"Baltimore\",\"Baltimore\",\"Baltimore\",\"Baltimore\",\"Baltimore\",\"Baltimore\",\"Baltimore\",\"Baltimore\",\"Baltimore\",\"Baltimore\",\"Baltimore\",\"Calvert\",\"Cecil\",\"Charles\",\"Dorchester\",\"Frederick\",\"Garrett\",\"Harford\"],\"type\":\"scatter\",\"x\":[5.1755437029756655,4.292100938480419,5.224071849290467,5.49876115897809,6.017088875330536,4.857193741308315,5.917833600889374,5.917833600889374,5.917833600889374,5.917833600889374,5.7886632131208575,5.7886632131208575,5.7886632131208575,5.7886632131208575,5.917833600889374,5.917833600889374,5.917833600889374,5.917833600889374,5.7886632131208575,5.7886632131208575,5.7886632131208575,5.7886632131208575,4.95943255838829,5.0107958887479755,5.1977518220661,4.508677825165493,5.395277455722756,4.4679926595211485,5.399716975749477],\"y\":[51,46,49,44,45,3,57,57,57,57,57,57,57,57,57,57,57,57,57,57,57,57,44,49,44,47,49,46,55]}],                        {\"template\":{\"data\":{\"bar\":[{\"error_x\":{\"color\":\"#2a3f5f\"},\"error_y\":{\"color\":\"#2a3f5f\"},\"marker\":{\"line\":{\"color\":\"#E5ECF6\",\"width\":0.5},\"pattern\":{\"fillmode\":\"overlay\",\"size\":10,\"solidity\":0.2}},\"type\":\"bar\"}],\"barpolar\":[{\"marker\":{\"line\":{\"color\":\"#E5ECF6\",\"width\":0.5},\"pattern\":{\"fillmode\":\"overlay\",\"size\":10,\"solidity\":0.2}},\"type\":\"barpolar\"}],\"carpet\":[{\"aaxis\":{\"endlinecolor\":\"#2a3f5f\",\"gridcolor\":\"white\",\"linecolor\":\"white\",\"minorgridcolor\":\"white\",\"startlinecolor\":\"#2a3f5f\"},\"baxis\":{\"endlinecolor\":\"#2a3f5f\",\"gridcolor\":\"white\",\"linecolor\":\"white\",\"minorgridcolor\":\"white\",\"startlinecolor\":\"#2a3f5f\"},\"type\":\"carpet\"}],\"choropleth\":[{\"colorbar\":{\"outlinewidth\":0,\"ticks\":\"\"},\"type\":\"choropleth\"}],\"contour\":[{\"colorbar\":{\"outlinewidth\":0,\"ticks\":\"\"},\"colorscale\":[[0.0,\"#0d0887\"],[0.1111111111111111,\"#46039f\"],[0.2222222222222222,\"#7201a8\"],[0.3333333333333333,\"#9c179e\"],[0.4444444444444444,\"#bd3786\"],[0.5555555555555556,\"#d8576b\"],[0.6666666666666666,\"#ed7953\"],[0.7777777777777778,\"#fb9f3a\"],[0.8888888888888888,\"#fdca26\"],[1.0,\"#f0f921\"]],\"type\":\"contour\"}],\"contourcarpet\":[{\"colorbar\":{\"outlinewidth\":0,\"ticks\":\"\"},\"type\":\"contourcarpet\"}],\"heatmap\":[{\"colorbar\":{\"outlinewidth\":0,\"ticks\":\"\"},\"colorscale\":[[0.0,\"#0d0887\"],[0.1111111111111111,\"#46039f\"],[0.2222222222222222,\"#7201a8\"],[0.3333333333333333,\"#9c179e\"],[0.4444444444444444,\"#bd3786\"],[0.5555555555555556,\"#d8576b\"],[0.6666666666666666,\"#ed7953\"],[0.7777777777777778,\"#fb9f3a\"],[0.8888888888888888,\"#fdca26\"],[1.0,\"#f0f921\"]],\"type\":\"heatmap\"}],\"heatmapgl\":[{\"colorbar\":{\"outlinewidth\":0,\"ticks\":\"\"},\"colorscale\":[[0.0,\"#0d0887\"],[0.1111111111111111,\"#46039f\"],[0.2222222222222222,\"#7201a8\"],[0.3333333333333333,\"#9c179e\"],[0.4444444444444444,\"#bd3786\"],[0.5555555555555556,\"#d8576b\"],[0.6666666666666666,\"#ed7953\"],[0.7777777777777778,\"#fb9f3a\"],[0.8888888888888888,\"#fdca26\"],[1.0,\"#f0f921\"]],\"type\":\"heatmapgl\"}],\"histogram\":[{\"marker\":{\"pattern\":{\"fillmode\":\"overlay\",\"size\":10,\"solidity\":0.2}},\"type\":\"histogram\"}],\"histogram2d\":[{\"colorbar\":{\"outlinewidth\":0,\"ticks\":\"\"},\"colorscale\":[[0.0,\"#0d0887\"],[0.1111111111111111,\"#46039f\"],[0.2222222222222222,\"#7201a8\"],[0.3333333333333333,\"#9c179e\"],[0.4444444444444444,\"#bd3786\"],[0.5555555555555556,\"#d8576b\"],[0.6666666666666666,\"#ed7953\"],[0.7777777777777778,\"#fb9f3a\"],[0.8888888888888888,\"#fdca26\"],[1.0,\"#f0f921\"]],\"type\":\"histogram2d\"}],\"histogram2dcontour\":[{\"colorbar\":{\"outlinewidth\":0,\"ticks\":\"\"},\"colorscale\":[[0.0,\"#0d0887\"],[0.1111111111111111,\"#46039f\"],[0.2222222222222222,\"#7201a8\"],[0.3333333333333333,\"#9c179e\"],[0.4444444444444444,\"#bd3786\"],[0.5555555555555556,\"#d8576b\"],[0.6666666666666666,\"#ed7953\"],[0.7777777777777778,\"#fb9f3a\"],[0.8888888888888888,\"#fdca26\"],[1.0,\"#f0f921\"]],\"type\":\"histogram2dcontour\"}],\"mesh3d\":[{\"colorbar\":{\"outlinewidth\":0,\"ticks\":\"\"},\"type\":\"mesh3d\"}],\"parcoords\":[{\"line\":{\"colorbar\":{\"outlinewidth\":0,\"ticks\":\"\"}},\"type\":\"parcoords\"}],\"pie\":[{\"automargin\":true,\"type\":\"pie\"}],\"scatter\":[{\"marker\":{\"colorbar\":{\"outlinewidth\":0,\"ticks\":\"\"}},\"type\":\"scatter\"}],\"scatter3d\":[{\"line\":{\"colorbar\":{\"outlinewidth\":0,\"ticks\":\"\"}},\"marker\":{\"colorbar\":{\"outlinewidth\":0,\"ticks\":\"\"}},\"type\":\"scatter3d\"}],\"scattercarpet\":[{\"marker\":{\"colorbar\":{\"outlinewidth\":0,\"ticks\":\"\"}},\"type\":\"scattercarpet\"}],\"scattergeo\":[{\"marker\":{\"colorbar\":{\"outlinewidth\":0,\"ticks\":\"\"}},\"type\":\"scattergeo\"}],\"scattergl\":[{\"marker\":{\"colorbar\":{\"outlinewidth\":0,\"ticks\":\"\"}},\"type\":\"scattergl\"}],\"scattermapbox\":[{\"marker\":{\"colorbar\":{\"outlinewidth\":0,\"ticks\":\"\"}},\"type\":\"scattermapbox\"}],\"scatterpolar\":[{\"marker\":{\"colorbar\":{\"outlinewidth\":0,\"ticks\":\"\"}},\"type\":\"scatterpolar\"}],\"scatterpolargl\":[{\"marker\":{\"colorbar\":{\"outlinewidth\":0,\"ticks\":\"\"}},\"type\":\"scatterpolargl\"}],\"scatterternary\":[{\"marker\":{\"colorbar\":{\"outlinewidth\":0,\"ticks\":\"\"}},\"type\":\"scatterternary\"}],\"surface\":[{\"colorbar\":{\"outlinewidth\":0,\"ticks\":\"\"},\"colorscale\":[[0.0,\"#0d0887\"],[0.1111111111111111,\"#46039f\"],[0.2222222222222222,\"#7201a8\"],[0.3333333333333333,\"#9c179e\"],[0.4444444444444444,\"#bd3786\"],[0.5555555555555556,\"#d8576b\"],[0.6666666666666666,\"#ed7953\"],[0.7777777777777778,\"#fb9f3a\"],[0.8888888888888888,\"#fdca26\"],[1.0,\"#f0f921\"]],\"type\":\"surface\"}],\"table\":[{\"cells\":{\"fill\":{\"color\":\"#EBF0F8\"},\"line\":{\"color\":\"white\"}},\"header\":{\"fill\":{\"color\":\"#C8D4E3\"},\"line\":{\"color\":\"white\"}},\"type\":\"table\"}]},\"layout\":{\"annotationdefaults\":{\"arrowcolor\":\"#2a3f5f\",\"arrowhead\":0,\"arrowwidth\":1},\"autotypenumbers\":\"strict\",\"coloraxis\":{\"colorbar\":{\"outlinewidth\":0,\"ticks\":\"\"}},\"colorscale\":{\"diverging\":[[0,\"#8e0152\"],[0.1,\"#c51b7d\"],[0.2,\"#de77ae\"],[0.3,\"#f1b6da\"],[0.4,\"#fde0ef\"],[0.5,\"#f7f7f7\"],[0.6,\"#e6f5d0\"],[0.7,\"#b8e186\"],[0.8,\"#7fbc41\"],[0.9,\"#4d9221\"],[1,\"#276419\"]],\"sequential\":[[0.0,\"#0d0887\"],[0.1111111111111111,\"#46039f\"],[0.2222222222222222,\"#7201a8\"],[0.3333333333333333,\"#9c179e\"],[0.4444444444444444,\"#bd3786\"],[0.5555555555555556,\"#d8576b\"],[0.6666666666666666,\"#ed7953\"],[0.7777777777777778,\"#fb9f3a\"],[0.8888888888888888,\"#fdca26\"],[1.0,\"#f0f921\"]],\"sequentialminus\":[[0.0,\"#0d0887\"],[0.1111111111111111,\"#46039f\"],[0.2222222222222222,\"#7201a8\"],[0.3333333333333333,\"#9c179e\"],[0.4444444444444444,\"#bd3786\"],[0.5555555555555556,\"#d8576b\"],[0.6666666666666666,\"#ed7953\"],[0.7777777777777778,\"#fb9f3a\"],[0.8888888888888888,\"#fdca26\"],[1.0,\"#f0f921\"]]},\"colorway\":[\"#636efa\",\"#EF553B\",\"#00cc96\",\"#ab63fa\",\"#FFA15A\",\"#19d3f3\",\"#FF6692\",\"#B6E880\",\"#FF97FF\",\"#FECB52\"],\"font\":{\"color\":\"#2a3f5f\"},\"geo\":{\"bgcolor\":\"white\",\"lakecolor\":\"white\",\"landcolor\":\"#E5ECF6\",\"showlakes\":true,\"showland\":true,\"subunitcolor\":\"white\"},\"hoverlabel\":{\"align\":\"left\"},\"hovermode\":\"closest\",\"mapbox\":{\"style\":\"light\"},\"paper_bgcolor\":\"white\",\"plot_bgcolor\":\"#E5ECF6\",\"polar\":{\"angularaxis\":{\"gridcolor\":\"white\",\"linecolor\":\"white\",\"ticks\":\"\"},\"bgcolor\":\"#E5ECF6\",\"radialaxis\":{\"gridcolor\":\"white\",\"linecolor\":\"white\",\"ticks\":\"\"}},\"scene\":{\"xaxis\":{\"backgroundcolor\":\"#E5ECF6\",\"gridcolor\":\"white\",\"gridwidth\":2,\"linecolor\":\"white\",\"showbackground\":true,\"ticks\":\"\",\"zerolinecolor\":\"white\"},\"yaxis\":{\"backgroundcolor\":\"#E5ECF6\",\"gridcolor\":\"white\",\"gridwidth\":2,\"linecolor\":\"white\",\"showbackground\":true,\"ticks\":\"\",\"zerolinecolor\":\"white\"},\"zaxis\":{\"backgroundcolor\":\"#E5ECF6\",\"gridcolor\":\"white\",\"gridwidth\":2,\"linecolor\":\"white\",\"showbackground\":true,\"ticks\":\"\",\"zerolinecolor\":\"white\"}},\"shapedefaults\":{\"line\":{\"color\":\"#2a3f5f\"}},\"ternary\":{\"aaxis\":{\"gridcolor\":\"white\",\"linecolor\":\"white\",\"ticks\":\"\"},\"baxis\":{\"gridcolor\":\"white\",\"linecolor\":\"white\",\"ticks\":\"\"},\"bgcolor\":\"#E5ECF6\",\"caxis\":{\"gridcolor\":\"white\",\"linecolor\":\"white\",\"ticks\":\"\"}},\"title\":{\"x\":0.05},\"xaxis\":{\"automargin\":true,\"gridcolor\":\"white\",\"linecolor\":\"white\",\"ticks\":\"\",\"title\":{\"standoff\":15},\"zerolinecolor\":\"white\",\"zerolinewidth\":2},\"yaxis\":{\"automargin\":true,\"gridcolor\":\"white\",\"linecolor\":\"white\",\"ticks\":\"\",\"title\":{\"standoff\":15},\"zerolinecolor\":\"white\",\"zerolinewidth\":2}}},\"title\":{\"text\":\"AQI Vs. Population\"},\"xaxis\":{\"title\":{\"text\":\"Population (2014-2020) in Maryland Counties on a Log Scale\"}},\"yaxis\":{\"title\":{\"text\":\"AQI Quality\"}}},                        {\"responsive\": true}                    ).then(function(){\n",
       "                            \n",
       "var gd = document.getElementById('f0a72e11-7692-42e7-9d75-a5fb5695e79d');\n",
       "var x = new MutationObserver(function (mutations, observer) {{\n",
       "        var display = window.getComputedStyle(gd).display;\n",
       "        if (!display || display === 'none') {{\n",
       "            console.log([gd, 'removed!']);\n",
       "            Plotly.purge(gd);\n",
       "            observer.disconnect();\n",
       "        }}\n",
       "}});\n",
       "\n",
       "// Listen for the removal of the full notebook cells\n",
       "var notebookContainer = gd.closest('#notebook-container');\n",
       "if (notebookContainer) {{\n",
       "    x.observe(notebookContainer, {childList: true});\n",
       "}}\n",
       "\n",
       "// Listen for the clearing of the current output cell\n",
       "var outputEl = gd.closest('.output');\n",
       "if (outputEl) {{\n",
       "    x.observe(outputEl, {childList: true});\n",
       "}}\n",
       "\n",
       "                        })                };                });            </script>        </div>"
      ]
     },
     "metadata": {},
     "output_type": "display_data"
    }
   ],
   "source": [
    "MarylandDf = DataFrame[DataFrame['State'].str.contains('Maryland')]\n",
    "MarylandDf\n",
    "pop_log_Maryland = np.log10(MarylandDf['Population (2014-2020)'])\n",
    "\n",
    "fig=go.Figure()\n",
    "\n",
    "fig.add_trace(go.Scatter(y = MarylandDf['90th Percentile AQI'],\n",
    "                                x = pop_log_Maryland,\n",
    "                                mode='markers',\n",
    "                                hovertemplate = '%{text}<extra></extra>',\n",
    "                                text = MarylandDf['County']))\n",
    "fig.update_layout(\n",
    "    title=\"AQI Vs. Population\",\n",
    "    xaxis_title=\"Population (2014-2020) in Maryland Counties on a Log Scale\",\n",
    "    yaxis_title=\"AQI Quality\")\n"
   ]
  },
  {
   "cell_type": "code",
   "execution_count": 20,
   "id": "8de8f580",
   "metadata": {},
   "outputs": [
    {
     "ename": "KeyError",
     "evalue": "\"['Unnamed: 0'] not found in axis\"",
     "output_type": "error",
     "traceback": [
      "\u001b[0;31m---------------------------------------------------------------------------\u001b[0m",
      "\u001b[0;31mKeyError\u001b[0m                                  Traceback (most recent call last)",
      "\u001b[0;32m<ipython-input-20-568db67b9a21>\u001b[0m in \u001b[0;36m<module>\u001b[0;34m\u001b[0m\n\u001b[1;32m      2\u001b[0m \u001b[0;31m# Regressions\u001b[0m\u001b[0;34m\u001b[0m\u001b[0;34m\u001b[0m\u001b[0;34m\u001b[0m\u001b[0m\n\u001b[1;32m      3\u001b[0m \u001b[0;31m# Based on 90th Percentile AQI\u001b[0m\u001b[0;34m\u001b[0m\u001b[0;34m\u001b[0m\u001b[0;34m\u001b[0m\u001b[0m\n\u001b[0;32m----> 4\u001b[0;31m \u001b[0mNewData\u001b[0m \u001b[0;34m=\u001b[0m \u001b[0mDataFrame\u001b[0m\u001b[0;34m.\u001b[0m\u001b[0mdrop\u001b[0m\u001b[0;34m(\u001b[0m\u001b[0mcolumns\u001b[0m \u001b[0;34m=\u001b[0m \u001b[0;34m[\u001b[0m\u001b[0;34m\"State\"\u001b[0m\u001b[0;34m,\u001b[0m\u001b[0;34m\"County\"\u001b[0m\u001b[0;34m,\u001b[0m\u001b[0;34m\"Abbreviation\"\u001b[0m\u001b[0;34m,\u001b[0m\u001b[0;34m\"Quality\"\u001b[0m\u001b[0;34m,\u001b[0m\u001b[0;34m\"Unnamed: 0\"\u001b[0m\u001b[0;34m,\u001b[0m\u001b[0;34m\"Max AQI\"\u001b[0m\u001b[0;34m,\u001b[0m\u001b[0;34m\"Median AQI\"\u001b[0m\u001b[0;34m]\u001b[0m\u001b[0;34m)\u001b[0m\u001b[0;34m\u001b[0m\u001b[0;34m\u001b[0m\u001b[0m\n\u001b[0m\u001b[1;32m      5\u001b[0m \u001b[0mPropertyList\u001b[0m \u001b[0;34m=\u001b[0m \u001b[0mNewData\u001b[0m\u001b[0;34m.\u001b[0m\u001b[0mcolumns\u001b[0m\u001b[0;34m\u001b[0m\u001b[0;34m\u001b[0m\u001b[0m\n\u001b[1;32m      6\u001b[0m \u001b[0mAirProps\u001b[0m \u001b[0;34m=\u001b[0m \u001b[0;34m(\u001b[0m\u001b[0mNewData\u001b[0m\u001b[0;34m[\u001b[0m\u001b[0mPropertyList\u001b[0m\u001b[0;34m]\u001b[0m \u001b[0;34m-\u001b[0m \u001b[0mNewData\u001b[0m\u001b[0;34m[\u001b[0m\u001b[0mPropertyList\u001b[0m\u001b[0;34m]\u001b[0m\u001b[0;34m.\u001b[0m\u001b[0mmean\u001b[0m\u001b[0;34m(\u001b[0m\u001b[0;34m)\u001b[0m\u001b[0;34m)\u001b[0m\u001b[0;34m/\u001b[0m\u001b[0mNewData\u001b[0m\u001b[0;34m[\u001b[0m\u001b[0mPropertyList\u001b[0m\u001b[0;34m]\u001b[0m\u001b[0;34m.\u001b[0m\u001b[0mstd\u001b[0m\u001b[0;34m(\u001b[0m\u001b[0;34m)\u001b[0m\u001b[0;34m\u001b[0m\u001b[0;34m\u001b[0m\u001b[0m\n",
      "\u001b[0;32m~/opt/anaconda3/lib/python3.8/site-packages/pandas/core/frame.py\u001b[0m in \u001b[0;36mdrop\u001b[0;34m(self, labels, axis, index, columns, level, inplace, errors)\u001b[0m\n\u001b[1;32m   4306\u001b[0m                 \u001b[0mweight\u001b[0m  \u001b[0;36m1.0\u001b[0m     \u001b[0;36m0.8\u001b[0m\u001b[0;34m\u001b[0m\u001b[0;34m\u001b[0m\u001b[0m\n\u001b[1;32m   4307\u001b[0m         \"\"\"\n\u001b[0;32m-> 4308\u001b[0;31m         return super().drop(\n\u001b[0m\u001b[1;32m   4309\u001b[0m             \u001b[0mlabels\u001b[0m\u001b[0;34m=\u001b[0m\u001b[0mlabels\u001b[0m\u001b[0;34m,\u001b[0m\u001b[0;34m\u001b[0m\u001b[0;34m\u001b[0m\u001b[0m\n\u001b[1;32m   4310\u001b[0m             \u001b[0maxis\u001b[0m\u001b[0;34m=\u001b[0m\u001b[0maxis\u001b[0m\u001b[0;34m,\u001b[0m\u001b[0;34m\u001b[0m\u001b[0;34m\u001b[0m\u001b[0m\n",
      "\u001b[0;32m~/opt/anaconda3/lib/python3.8/site-packages/pandas/core/generic.py\u001b[0m in \u001b[0;36mdrop\u001b[0;34m(self, labels, axis, index, columns, level, inplace, errors)\u001b[0m\n\u001b[1;32m   4151\u001b[0m         \u001b[0;32mfor\u001b[0m \u001b[0maxis\u001b[0m\u001b[0;34m,\u001b[0m \u001b[0mlabels\u001b[0m \u001b[0;32min\u001b[0m \u001b[0maxes\u001b[0m\u001b[0;34m.\u001b[0m\u001b[0mitems\u001b[0m\u001b[0;34m(\u001b[0m\u001b[0;34m)\u001b[0m\u001b[0;34m:\u001b[0m\u001b[0;34m\u001b[0m\u001b[0;34m\u001b[0m\u001b[0m\n\u001b[1;32m   4152\u001b[0m             \u001b[0;32mif\u001b[0m \u001b[0mlabels\u001b[0m \u001b[0;32mis\u001b[0m \u001b[0;32mnot\u001b[0m \u001b[0;32mNone\u001b[0m\u001b[0;34m:\u001b[0m\u001b[0;34m\u001b[0m\u001b[0;34m\u001b[0m\u001b[0m\n\u001b[0;32m-> 4153\u001b[0;31m                 \u001b[0mobj\u001b[0m \u001b[0;34m=\u001b[0m \u001b[0mobj\u001b[0m\u001b[0;34m.\u001b[0m\u001b[0m_drop_axis\u001b[0m\u001b[0;34m(\u001b[0m\u001b[0mlabels\u001b[0m\u001b[0;34m,\u001b[0m \u001b[0maxis\u001b[0m\u001b[0;34m,\u001b[0m \u001b[0mlevel\u001b[0m\u001b[0;34m=\u001b[0m\u001b[0mlevel\u001b[0m\u001b[0;34m,\u001b[0m \u001b[0merrors\u001b[0m\u001b[0;34m=\u001b[0m\u001b[0merrors\u001b[0m\u001b[0;34m)\u001b[0m\u001b[0;34m\u001b[0m\u001b[0;34m\u001b[0m\u001b[0m\n\u001b[0m\u001b[1;32m   4154\u001b[0m \u001b[0;34m\u001b[0m\u001b[0m\n\u001b[1;32m   4155\u001b[0m         \u001b[0;32mif\u001b[0m \u001b[0minplace\u001b[0m\u001b[0;34m:\u001b[0m\u001b[0;34m\u001b[0m\u001b[0;34m\u001b[0m\u001b[0m\n",
      "\u001b[0;32m~/opt/anaconda3/lib/python3.8/site-packages/pandas/core/generic.py\u001b[0m in \u001b[0;36m_drop_axis\u001b[0;34m(self, labels, axis, level, errors)\u001b[0m\n\u001b[1;32m   4186\u001b[0m                 \u001b[0mnew_axis\u001b[0m \u001b[0;34m=\u001b[0m \u001b[0maxis\u001b[0m\u001b[0;34m.\u001b[0m\u001b[0mdrop\u001b[0m\u001b[0;34m(\u001b[0m\u001b[0mlabels\u001b[0m\u001b[0;34m,\u001b[0m \u001b[0mlevel\u001b[0m\u001b[0;34m=\u001b[0m\u001b[0mlevel\u001b[0m\u001b[0;34m,\u001b[0m \u001b[0merrors\u001b[0m\u001b[0;34m=\u001b[0m\u001b[0merrors\u001b[0m\u001b[0;34m)\u001b[0m\u001b[0;34m\u001b[0m\u001b[0;34m\u001b[0m\u001b[0m\n\u001b[1;32m   4187\u001b[0m             \u001b[0;32melse\u001b[0m\u001b[0;34m:\u001b[0m\u001b[0;34m\u001b[0m\u001b[0;34m\u001b[0m\u001b[0m\n\u001b[0;32m-> 4188\u001b[0;31m                 \u001b[0mnew_axis\u001b[0m \u001b[0;34m=\u001b[0m \u001b[0maxis\u001b[0m\u001b[0;34m.\u001b[0m\u001b[0mdrop\u001b[0m\u001b[0;34m(\u001b[0m\u001b[0mlabels\u001b[0m\u001b[0;34m,\u001b[0m \u001b[0merrors\u001b[0m\u001b[0;34m=\u001b[0m\u001b[0merrors\u001b[0m\u001b[0;34m)\u001b[0m\u001b[0;34m\u001b[0m\u001b[0;34m\u001b[0m\u001b[0m\n\u001b[0m\u001b[1;32m   4189\u001b[0m             \u001b[0mresult\u001b[0m \u001b[0;34m=\u001b[0m \u001b[0mself\u001b[0m\u001b[0;34m.\u001b[0m\u001b[0mreindex\u001b[0m\u001b[0;34m(\u001b[0m\u001b[0;34m**\u001b[0m\u001b[0;34m{\u001b[0m\u001b[0maxis_name\u001b[0m\u001b[0;34m:\u001b[0m \u001b[0mnew_axis\u001b[0m\u001b[0;34m}\u001b[0m\u001b[0;34m)\u001b[0m\u001b[0;34m\u001b[0m\u001b[0;34m\u001b[0m\u001b[0m\n\u001b[1;32m   4190\u001b[0m \u001b[0;34m\u001b[0m\u001b[0m\n",
      "\u001b[0;32m~/opt/anaconda3/lib/python3.8/site-packages/pandas/core/indexes/base.py\u001b[0m in \u001b[0;36mdrop\u001b[0;34m(self, labels, errors)\u001b[0m\n\u001b[1;32m   5589\u001b[0m         \u001b[0;32mif\u001b[0m \u001b[0mmask\u001b[0m\u001b[0;34m.\u001b[0m\u001b[0many\u001b[0m\u001b[0;34m(\u001b[0m\u001b[0;34m)\u001b[0m\u001b[0;34m:\u001b[0m\u001b[0;34m\u001b[0m\u001b[0;34m\u001b[0m\u001b[0m\n\u001b[1;32m   5590\u001b[0m             \u001b[0;32mif\u001b[0m \u001b[0merrors\u001b[0m \u001b[0;34m!=\u001b[0m \u001b[0;34m\"ignore\"\u001b[0m\u001b[0;34m:\u001b[0m\u001b[0;34m\u001b[0m\u001b[0;34m\u001b[0m\u001b[0m\n\u001b[0;32m-> 5591\u001b[0;31m                 \u001b[0;32mraise\u001b[0m \u001b[0mKeyError\u001b[0m\u001b[0;34m(\u001b[0m\u001b[0;34mf\"{labels[mask]} not found in axis\"\u001b[0m\u001b[0;34m)\u001b[0m\u001b[0;34m\u001b[0m\u001b[0;34m\u001b[0m\u001b[0m\n\u001b[0m\u001b[1;32m   5592\u001b[0m             \u001b[0mindexer\u001b[0m \u001b[0;34m=\u001b[0m \u001b[0mindexer\u001b[0m\u001b[0;34m[\u001b[0m\u001b[0;34m~\u001b[0m\u001b[0mmask\u001b[0m\u001b[0;34m]\u001b[0m\u001b[0;34m\u001b[0m\u001b[0;34m\u001b[0m\u001b[0m\n\u001b[1;32m   5593\u001b[0m         \u001b[0;32mreturn\u001b[0m \u001b[0mself\u001b[0m\u001b[0;34m.\u001b[0m\u001b[0mdelete\u001b[0m\u001b[0;34m(\u001b[0m\u001b[0mindexer\u001b[0m\u001b[0;34m)\u001b[0m\u001b[0;34m\u001b[0m\u001b[0;34m\u001b[0m\u001b[0m\n",
      "\u001b[0;31mKeyError\u001b[0m: \"['Unnamed: 0'] not found in axis\""
     ]
    },
    {
     "ename": "KeyError",
     "evalue": "\"['Unnamed: 0'] not found in axis\"",
     "output_type": "error",
     "traceback": [
      "\u001b[0;31m---------------------------------------------------------------------------\u001b[0m",
      "\u001b[0;31mKeyError\u001b[0m                                  Traceback (most recent call last)",
      "\u001b[0;32m<ipython-input-20-568db67b9a21>\u001b[0m in \u001b[0;36m<module>\u001b[0;34m\u001b[0m\n\u001b[1;32m      2\u001b[0m \u001b[0;31m# Regressions\u001b[0m\u001b[0;34m\u001b[0m\u001b[0;34m\u001b[0m\u001b[0;34m\u001b[0m\u001b[0m\n\u001b[1;32m      3\u001b[0m \u001b[0;31m# Based on 90th Percentile AQI\u001b[0m\u001b[0;34m\u001b[0m\u001b[0;34m\u001b[0m\u001b[0;34m\u001b[0m\u001b[0m\n\u001b[0;32m----> 4\u001b[0;31m \u001b[0mNewData\u001b[0m \u001b[0;34m=\u001b[0m \u001b[0mDataFrame\u001b[0m\u001b[0;34m.\u001b[0m\u001b[0mdrop\u001b[0m\u001b[0;34m(\u001b[0m\u001b[0mcolumns\u001b[0m \u001b[0;34m=\u001b[0m \u001b[0;34m[\u001b[0m\u001b[0;34m\"State\"\u001b[0m\u001b[0;34m,\u001b[0m\u001b[0;34m\"County\"\u001b[0m\u001b[0;34m,\u001b[0m\u001b[0;34m\"Abbreviation\"\u001b[0m\u001b[0;34m,\u001b[0m\u001b[0;34m\"Quality\"\u001b[0m\u001b[0;34m,\u001b[0m\u001b[0;34m\"Unnamed: 0\"\u001b[0m\u001b[0;34m,\u001b[0m\u001b[0;34m\"Max AQI\"\u001b[0m\u001b[0;34m,\u001b[0m\u001b[0;34m\"Median AQI\"\u001b[0m\u001b[0;34m]\u001b[0m\u001b[0;34m)\u001b[0m\u001b[0;34m\u001b[0m\u001b[0;34m\u001b[0m\u001b[0m\n\u001b[0m\u001b[1;32m      5\u001b[0m \u001b[0mPropertyList\u001b[0m \u001b[0;34m=\u001b[0m \u001b[0mNewData\u001b[0m\u001b[0;34m.\u001b[0m\u001b[0mcolumns\u001b[0m\u001b[0;34m\u001b[0m\u001b[0;34m\u001b[0m\u001b[0m\n\u001b[1;32m      6\u001b[0m \u001b[0mAirProps\u001b[0m \u001b[0;34m=\u001b[0m \u001b[0;34m(\u001b[0m\u001b[0mNewData\u001b[0m\u001b[0;34m[\u001b[0m\u001b[0mPropertyList\u001b[0m\u001b[0;34m]\u001b[0m \u001b[0;34m-\u001b[0m \u001b[0mNewData\u001b[0m\u001b[0;34m[\u001b[0m\u001b[0mPropertyList\u001b[0m\u001b[0;34m]\u001b[0m\u001b[0;34m.\u001b[0m\u001b[0mmean\u001b[0m\u001b[0;34m(\u001b[0m\u001b[0;34m)\u001b[0m\u001b[0;34m)\u001b[0m\u001b[0;34m/\u001b[0m\u001b[0mNewData\u001b[0m\u001b[0;34m[\u001b[0m\u001b[0mPropertyList\u001b[0m\u001b[0;34m]\u001b[0m\u001b[0;34m.\u001b[0m\u001b[0mstd\u001b[0m\u001b[0;34m(\u001b[0m\u001b[0;34m)\u001b[0m\u001b[0;34m\u001b[0m\u001b[0;34m\u001b[0m\u001b[0m\n",
      "\u001b[0;32m~/opt/anaconda3/lib/python3.8/site-packages/pandas/core/frame.py\u001b[0m in \u001b[0;36mdrop\u001b[0;34m(self, labels, axis, index, columns, level, inplace, errors)\u001b[0m\n\u001b[1;32m   4306\u001b[0m                 \u001b[0mweight\u001b[0m  \u001b[0;36m1.0\u001b[0m     \u001b[0;36m0.8\u001b[0m\u001b[0;34m\u001b[0m\u001b[0;34m\u001b[0m\u001b[0m\n\u001b[1;32m   4307\u001b[0m         \"\"\"\n\u001b[0;32m-> 4308\u001b[0;31m         return super().drop(\n\u001b[0m\u001b[1;32m   4309\u001b[0m             \u001b[0mlabels\u001b[0m\u001b[0;34m=\u001b[0m\u001b[0mlabels\u001b[0m\u001b[0;34m,\u001b[0m\u001b[0;34m\u001b[0m\u001b[0;34m\u001b[0m\u001b[0m\n\u001b[1;32m   4310\u001b[0m             \u001b[0maxis\u001b[0m\u001b[0;34m=\u001b[0m\u001b[0maxis\u001b[0m\u001b[0;34m,\u001b[0m\u001b[0;34m\u001b[0m\u001b[0;34m\u001b[0m\u001b[0m\n",
      "\u001b[0;32m~/opt/anaconda3/lib/python3.8/site-packages/pandas/core/generic.py\u001b[0m in \u001b[0;36mdrop\u001b[0;34m(self, labels, axis, index, columns, level, inplace, errors)\u001b[0m\n\u001b[1;32m   4151\u001b[0m         \u001b[0;32mfor\u001b[0m \u001b[0maxis\u001b[0m\u001b[0;34m,\u001b[0m \u001b[0mlabels\u001b[0m \u001b[0;32min\u001b[0m \u001b[0maxes\u001b[0m\u001b[0;34m.\u001b[0m\u001b[0mitems\u001b[0m\u001b[0;34m(\u001b[0m\u001b[0;34m)\u001b[0m\u001b[0;34m:\u001b[0m\u001b[0;34m\u001b[0m\u001b[0;34m\u001b[0m\u001b[0m\n\u001b[1;32m   4152\u001b[0m             \u001b[0;32mif\u001b[0m \u001b[0mlabels\u001b[0m \u001b[0;32mis\u001b[0m \u001b[0;32mnot\u001b[0m \u001b[0;32mNone\u001b[0m\u001b[0;34m:\u001b[0m\u001b[0;34m\u001b[0m\u001b[0;34m\u001b[0m\u001b[0m\n\u001b[0;32m-> 4153\u001b[0;31m                 \u001b[0mobj\u001b[0m \u001b[0;34m=\u001b[0m \u001b[0mobj\u001b[0m\u001b[0;34m.\u001b[0m\u001b[0m_drop_axis\u001b[0m\u001b[0;34m(\u001b[0m\u001b[0mlabels\u001b[0m\u001b[0;34m,\u001b[0m \u001b[0maxis\u001b[0m\u001b[0;34m,\u001b[0m \u001b[0mlevel\u001b[0m\u001b[0;34m=\u001b[0m\u001b[0mlevel\u001b[0m\u001b[0;34m,\u001b[0m \u001b[0merrors\u001b[0m\u001b[0;34m=\u001b[0m\u001b[0merrors\u001b[0m\u001b[0;34m)\u001b[0m\u001b[0;34m\u001b[0m\u001b[0;34m\u001b[0m\u001b[0m\n\u001b[0m\u001b[1;32m   4154\u001b[0m \u001b[0;34m\u001b[0m\u001b[0m\n\u001b[1;32m   4155\u001b[0m         \u001b[0;32mif\u001b[0m \u001b[0minplace\u001b[0m\u001b[0;34m:\u001b[0m\u001b[0;34m\u001b[0m\u001b[0;34m\u001b[0m\u001b[0m\n",
      "\u001b[0;32m~/opt/anaconda3/lib/python3.8/site-packages/pandas/core/generic.py\u001b[0m in \u001b[0;36m_drop_axis\u001b[0;34m(self, labels, axis, level, errors)\u001b[0m\n\u001b[1;32m   4186\u001b[0m                 \u001b[0mnew_axis\u001b[0m \u001b[0;34m=\u001b[0m \u001b[0maxis\u001b[0m\u001b[0;34m.\u001b[0m\u001b[0mdrop\u001b[0m\u001b[0;34m(\u001b[0m\u001b[0mlabels\u001b[0m\u001b[0;34m,\u001b[0m \u001b[0mlevel\u001b[0m\u001b[0;34m=\u001b[0m\u001b[0mlevel\u001b[0m\u001b[0;34m,\u001b[0m \u001b[0merrors\u001b[0m\u001b[0;34m=\u001b[0m\u001b[0merrors\u001b[0m\u001b[0;34m)\u001b[0m\u001b[0;34m\u001b[0m\u001b[0;34m\u001b[0m\u001b[0m\n\u001b[1;32m   4187\u001b[0m             \u001b[0;32melse\u001b[0m\u001b[0;34m:\u001b[0m\u001b[0;34m\u001b[0m\u001b[0;34m\u001b[0m\u001b[0m\n\u001b[0;32m-> 4188\u001b[0;31m                 \u001b[0mnew_axis\u001b[0m \u001b[0;34m=\u001b[0m \u001b[0maxis\u001b[0m\u001b[0;34m.\u001b[0m\u001b[0mdrop\u001b[0m\u001b[0;34m(\u001b[0m\u001b[0mlabels\u001b[0m\u001b[0;34m,\u001b[0m \u001b[0merrors\u001b[0m\u001b[0;34m=\u001b[0m\u001b[0merrors\u001b[0m\u001b[0;34m)\u001b[0m\u001b[0;34m\u001b[0m\u001b[0;34m\u001b[0m\u001b[0m\n\u001b[0m\u001b[1;32m   4189\u001b[0m             \u001b[0mresult\u001b[0m \u001b[0;34m=\u001b[0m \u001b[0mself\u001b[0m\u001b[0;34m.\u001b[0m\u001b[0mreindex\u001b[0m\u001b[0;34m(\u001b[0m\u001b[0;34m**\u001b[0m\u001b[0;34m{\u001b[0m\u001b[0maxis_name\u001b[0m\u001b[0;34m:\u001b[0m \u001b[0mnew_axis\u001b[0m\u001b[0;34m}\u001b[0m\u001b[0;34m)\u001b[0m\u001b[0;34m\u001b[0m\u001b[0;34m\u001b[0m\u001b[0m\n\u001b[1;32m   4190\u001b[0m \u001b[0;34m\u001b[0m\u001b[0m\n",
      "\u001b[0;32m~/opt/anaconda3/lib/python3.8/site-packages/pandas/core/indexes/base.py\u001b[0m in \u001b[0;36mdrop\u001b[0;34m(self, labels, errors)\u001b[0m\n\u001b[1;32m   5589\u001b[0m         \u001b[0;32mif\u001b[0m \u001b[0mmask\u001b[0m\u001b[0;34m.\u001b[0m\u001b[0many\u001b[0m\u001b[0;34m(\u001b[0m\u001b[0;34m)\u001b[0m\u001b[0;34m:\u001b[0m\u001b[0;34m\u001b[0m\u001b[0;34m\u001b[0m\u001b[0m\n\u001b[1;32m   5590\u001b[0m             \u001b[0;32mif\u001b[0m \u001b[0merrors\u001b[0m \u001b[0;34m!=\u001b[0m \u001b[0;34m\"ignore\"\u001b[0m\u001b[0;34m:\u001b[0m\u001b[0;34m\u001b[0m\u001b[0;34m\u001b[0m\u001b[0m\n\u001b[0;32m-> 5591\u001b[0;31m                 \u001b[0;32mraise\u001b[0m \u001b[0mKeyError\u001b[0m\u001b[0;34m(\u001b[0m\u001b[0;34mf\"{labels[mask]} not found in axis\"\u001b[0m\u001b[0;34m)\u001b[0m\u001b[0;34m\u001b[0m\u001b[0;34m\u001b[0m\u001b[0m\n\u001b[0m\u001b[1;32m   5592\u001b[0m             \u001b[0mindexer\u001b[0m \u001b[0;34m=\u001b[0m \u001b[0mindexer\u001b[0m\u001b[0;34m[\u001b[0m\u001b[0;34m~\u001b[0m\u001b[0mmask\u001b[0m\u001b[0;34m]\u001b[0m\u001b[0;34m\u001b[0m\u001b[0;34m\u001b[0m\u001b[0m\n\u001b[1;32m   5593\u001b[0m         \u001b[0;32mreturn\u001b[0m \u001b[0mself\u001b[0m\u001b[0;34m.\u001b[0m\u001b[0mdelete\u001b[0m\u001b[0;34m(\u001b[0m\u001b[0mindexer\u001b[0m\u001b[0;34m)\u001b[0m\u001b[0;34m\u001b[0m\u001b[0;34m\u001b[0m\u001b[0m\n",
      "\u001b[0;31mKeyError\u001b[0m: \"['Unnamed: 0'] not found in axis\""
     ]
    }
   ],
   "source": [
    "# Remove string columns for Regression Analysis to work \n",
    "# Regressions \n",
    "# Based on 90th Percentile AQI \n",
    "NewData = DataFrame.drop(columns = [\"State\",\"County\",\"Abbreviation\",\"Quality\",\"Unnamed: 0\",\"Max AQI\",\"Median AQI\"])\n",
    "PropertyList = NewData.columns\n",
    "AirProps = (NewData[PropertyList] - NewData[PropertyList].mean())/NewData[PropertyList].std()\n",
    "AirProps.describe()\n",
    "# For Seperate Classes \n",
    "NewGood = Good.drop(columns = [\"State\",\"County\",\"Abbreviation\",\"Quality\",'Unnamed: 0'])\n",
    "NewModerate = Moderate.drop(columns = [\"State\",\"County\",\"Abbreviation\",\"Quality\",'Unnamed: 0']) \n",
    "NewUnhealthy = Unhealthy.drop(columns = [\"State\",\"County\",\"Abbreviation\",\"Quality\",'Unnamed: 0'])\n",
    "NewModerate"
   ]
  },
  {
   "cell_type": "code",
   "execution_count": 18,
   "id": "c730e8db",
   "metadata": {},
   "outputs": [
    {
     "ename": "ValueError",
     "evalue": "Input contains NaN, infinity or a value too large for dtype('float64').",
     "output_type": "error",
     "traceback": [
      "\u001b[0;31m---------------------------------------------------------------------------\u001b[0m",
      "\u001b[0;31mValueError\u001b[0m                                Traceback (most recent call last)",
      "\u001b[0;32m<ipython-input-18-e4fe507aa863>\u001b[0m in \u001b[0;36m<module>\u001b[0;34m\u001b[0m\n\u001b[1;32m     10\u001b[0m \u001b[0;34m\u001b[0m\u001b[0m\n\u001b[1;32m     11\u001b[0m \u001b[0;31m# Fit the model\u001b[0m\u001b[0;34m\u001b[0m\u001b[0;34m\u001b[0m\u001b[0;34m\u001b[0m\u001b[0m\n\u001b[0;32m---> 12\u001b[0;31m \u001b[0mregr\u001b[0m\u001b[0;34m.\u001b[0m\u001b[0mfit\u001b[0m\u001b[0;34m(\u001b[0m\u001b[0mX_train\u001b[0m\u001b[0;34m,\u001b[0m\u001b[0my_train\u001b[0m\u001b[0;34m)\u001b[0m\u001b[0;34m\u001b[0m\u001b[0;34m\u001b[0m\u001b[0m\n\u001b[0m\u001b[1;32m     13\u001b[0m \u001b[0;34m\u001b[0m\u001b[0m\n\u001b[1;32m     14\u001b[0m \u001b[0mpred_train\u001b[0m \u001b[0;34m=\u001b[0m \u001b[0mregr\u001b[0m\u001b[0;34m.\u001b[0m\u001b[0mpredict\u001b[0m\u001b[0;34m(\u001b[0m\u001b[0mX_train\u001b[0m\u001b[0;34m)\u001b[0m\u001b[0;34m\u001b[0m\u001b[0;34m\u001b[0m\u001b[0m\n",
      "\u001b[0;32m~/opt/anaconda3/lib/python3.8/site-packages/sklearn/linear_model/_base.py\u001b[0m in \u001b[0;36mfit\u001b[0;34m(self, X, y, sample_weight)\u001b[0m\n\u001b[1;32m    516\u001b[0m         \u001b[0maccept_sparse\u001b[0m \u001b[0;34m=\u001b[0m \u001b[0;32mFalse\u001b[0m \u001b[0;32mif\u001b[0m \u001b[0mself\u001b[0m\u001b[0;34m.\u001b[0m\u001b[0mpositive\u001b[0m \u001b[0;32melse\u001b[0m \u001b[0;34m[\u001b[0m\u001b[0;34m'csr'\u001b[0m\u001b[0;34m,\u001b[0m \u001b[0;34m'csc'\u001b[0m\u001b[0;34m,\u001b[0m \u001b[0;34m'coo'\u001b[0m\u001b[0;34m]\u001b[0m\u001b[0;34m\u001b[0m\u001b[0;34m\u001b[0m\u001b[0m\n\u001b[1;32m    517\u001b[0m \u001b[0;34m\u001b[0m\u001b[0m\n\u001b[0;32m--> 518\u001b[0;31m         X, y = self._validate_data(X, y, accept_sparse=accept_sparse,\n\u001b[0m\u001b[1;32m    519\u001b[0m                                    y_numeric=True, multi_output=True)\n\u001b[1;32m    520\u001b[0m \u001b[0;34m\u001b[0m\u001b[0m\n",
      "\u001b[0;32m~/opt/anaconda3/lib/python3.8/site-packages/sklearn/base.py\u001b[0m in \u001b[0;36m_validate_data\u001b[0;34m(self, X, y, reset, validate_separately, **check_params)\u001b[0m\n\u001b[1;32m    431\u001b[0m                 \u001b[0my\u001b[0m \u001b[0;34m=\u001b[0m \u001b[0mcheck_array\u001b[0m\u001b[0;34m(\u001b[0m\u001b[0my\u001b[0m\u001b[0;34m,\u001b[0m \u001b[0;34m**\u001b[0m\u001b[0mcheck_y_params\u001b[0m\u001b[0;34m)\u001b[0m\u001b[0;34m\u001b[0m\u001b[0;34m\u001b[0m\u001b[0m\n\u001b[1;32m    432\u001b[0m             \u001b[0;32melse\u001b[0m\u001b[0;34m:\u001b[0m\u001b[0;34m\u001b[0m\u001b[0;34m\u001b[0m\u001b[0m\n\u001b[0;32m--> 433\u001b[0;31m                 \u001b[0mX\u001b[0m\u001b[0;34m,\u001b[0m \u001b[0my\u001b[0m \u001b[0;34m=\u001b[0m \u001b[0mcheck_X_y\u001b[0m\u001b[0;34m(\u001b[0m\u001b[0mX\u001b[0m\u001b[0;34m,\u001b[0m \u001b[0my\u001b[0m\u001b[0;34m,\u001b[0m \u001b[0;34m**\u001b[0m\u001b[0mcheck_params\u001b[0m\u001b[0;34m)\u001b[0m\u001b[0;34m\u001b[0m\u001b[0;34m\u001b[0m\u001b[0m\n\u001b[0m\u001b[1;32m    434\u001b[0m             \u001b[0mout\u001b[0m \u001b[0;34m=\u001b[0m \u001b[0mX\u001b[0m\u001b[0;34m,\u001b[0m \u001b[0my\u001b[0m\u001b[0;34m\u001b[0m\u001b[0;34m\u001b[0m\u001b[0m\n\u001b[1;32m    435\u001b[0m \u001b[0;34m\u001b[0m\u001b[0m\n",
      "\u001b[0;32m~/opt/anaconda3/lib/python3.8/site-packages/sklearn/utils/validation.py\u001b[0m in \u001b[0;36minner_f\u001b[0;34m(*args, **kwargs)\u001b[0m\n\u001b[1;32m     61\u001b[0m             \u001b[0mextra_args\u001b[0m \u001b[0;34m=\u001b[0m \u001b[0mlen\u001b[0m\u001b[0;34m(\u001b[0m\u001b[0margs\u001b[0m\u001b[0;34m)\u001b[0m \u001b[0;34m-\u001b[0m \u001b[0mlen\u001b[0m\u001b[0;34m(\u001b[0m\u001b[0mall_args\u001b[0m\u001b[0;34m)\u001b[0m\u001b[0;34m\u001b[0m\u001b[0;34m\u001b[0m\u001b[0m\n\u001b[1;32m     62\u001b[0m             \u001b[0;32mif\u001b[0m \u001b[0mextra_args\u001b[0m \u001b[0;34m<=\u001b[0m \u001b[0;36m0\u001b[0m\u001b[0;34m:\u001b[0m\u001b[0;34m\u001b[0m\u001b[0;34m\u001b[0m\u001b[0m\n\u001b[0;32m---> 63\u001b[0;31m                 \u001b[0;32mreturn\u001b[0m \u001b[0mf\u001b[0m\u001b[0;34m(\u001b[0m\u001b[0;34m*\u001b[0m\u001b[0margs\u001b[0m\u001b[0;34m,\u001b[0m \u001b[0;34m**\u001b[0m\u001b[0mkwargs\u001b[0m\u001b[0;34m)\u001b[0m\u001b[0;34m\u001b[0m\u001b[0;34m\u001b[0m\u001b[0m\n\u001b[0m\u001b[1;32m     64\u001b[0m \u001b[0;34m\u001b[0m\u001b[0m\n\u001b[1;32m     65\u001b[0m             \u001b[0;31m# extra_args > 0\u001b[0m\u001b[0;34m\u001b[0m\u001b[0;34m\u001b[0m\u001b[0;34m\u001b[0m\u001b[0m\n",
      "\u001b[0;32m~/opt/anaconda3/lib/python3.8/site-packages/sklearn/utils/validation.py\u001b[0m in \u001b[0;36mcheck_X_y\u001b[0;34m(X, y, accept_sparse, accept_large_sparse, dtype, order, copy, force_all_finite, ensure_2d, allow_nd, multi_output, ensure_min_samples, ensure_min_features, y_numeric, estimator)\u001b[0m\n\u001b[1;32m    812\u001b[0m         \u001b[0;32mraise\u001b[0m \u001b[0mValueError\u001b[0m\u001b[0;34m(\u001b[0m\u001b[0;34m\"y cannot be None\"\u001b[0m\u001b[0;34m)\u001b[0m\u001b[0;34m\u001b[0m\u001b[0;34m\u001b[0m\u001b[0m\n\u001b[1;32m    813\u001b[0m \u001b[0;34m\u001b[0m\u001b[0m\n\u001b[0;32m--> 814\u001b[0;31m     X = check_array(X, accept_sparse=accept_sparse,\n\u001b[0m\u001b[1;32m    815\u001b[0m                     \u001b[0maccept_large_sparse\u001b[0m\u001b[0;34m=\u001b[0m\u001b[0maccept_large_sparse\u001b[0m\u001b[0;34m,\u001b[0m\u001b[0;34m\u001b[0m\u001b[0;34m\u001b[0m\u001b[0m\n\u001b[1;32m    816\u001b[0m                     \u001b[0mdtype\u001b[0m\u001b[0;34m=\u001b[0m\u001b[0mdtype\u001b[0m\u001b[0;34m,\u001b[0m \u001b[0morder\u001b[0m\u001b[0;34m=\u001b[0m\u001b[0morder\u001b[0m\u001b[0;34m,\u001b[0m \u001b[0mcopy\u001b[0m\u001b[0;34m=\u001b[0m\u001b[0mcopy\u001b[0m\u001b[0;34m,\u001b[0m\u001b[0;34m\u001b[0m\u001b[0;34m\u001b[0m\u001b[0m\n",
      "\u001b[0;32m~/opt/anaconda3/lib/python3.8/site-packages/sklearn/utils/validation.py\u001b[0m in \u001b[0;36minner_f\u001b[0;34m(*args, **kwargs)\u001b[0m\n\u001b[1;32m     61\u001b[0m             \u001b[0mextra_args\u001b[0m \u001b[0;34m=\u001b[0m \u001b[0mlen\u001b[0m\u001b[0;34m(\u001b[0m\u001b[0margs\u001b[0m\u001b[0;34m)\u001b[0m \u001b[0;34m-\u001b[0m \u001b[0mlen\u001b[0m\u001b[0;34m(\u001b[0m\u001b[0mall_args\u001b[0m\u001b[0;34m)\u001b[0m\u001b[0;34m\u001b[0m\u001b[0;34m\u001b[0m\u001b[0m\n\u001b[1;32m     62\u001b[0m             \u001b[0;32mif\u001b[0m \u001b[0mextra_args\u001b[0m \u001b[0;34m<=\u001b[0m \u001b[0;36m0\u001b[0m\u001b[0;34m:\u001b[0m\u001b[0;34m\u001b[0m\u001b[0;34m\u001b[0m\u001b[0m\n\u001b[0;32m---> 63\u001b[0;31m                 \u001b[0;32mreturn\u001b[0m \u001b[0mf\u001b[0m\u001b[0;34m(\u001b[0m\u001b[0;34m*\u001b[0m\u001b[0margs\u001b[0m\u001b[0;34m,\u001b[0m \u001b[0;34m**\u001b[0m\u001b[0mkwargs\u001b[0m\u001b[0;34m)\u001b[0m\u001b[0;34m\u001b[0m\u001b[0;34m\u001b[0m\u001b[0m\n\u001b[0m\u001b[1;32m     64\u001b[0m \u001b[0;34m\u001b[0m\u001b[0m\n\u001b[1;32m     65\u001b[0m             \u001b[0;31m# extra_args > 0\u001b[0m\u001b[0;34m\u001b[0m\u001b[0;34m\u001b[0m\u001b[0;34m\u001b[0m\u001b[0m\n",
      "\u001b[0;32m~/opt/anaconda3/lib/python3.8/site-packages/sklearn/utils/validation.py\u001b[0m in \u001b[0;36mcheck_array\u001b[0;34m(array, accept_sparse, accept_large_sparse, dtype, order, copy, force_all_finite, ensure_2d, allow_nd, ensure_min_samples, ensure_min_features, estimator)\u001b[0m\n\u001b[1;32m    661\u001b[0m \u001b[0;34m\u001b[0m\u001b[0m\n\u001b[1;32m    662\u001b[0m         \u001b[0;32mif\u001b[0m \u001b[0mforce_all_finite\u001b[0m\u001b[0;34m:\u001b[0m\u001b[0;34m\u001b[0m\u001b[0;34m\u001b[0m\u001b[0m\n\u001b[0;32m--> 663\u001b[0;31m             _assert_all_finite(array,\n\u001b[0m\u001b[1;32m    664\u001b[0m                                allow_nan=force_all_finite == 'allow-nan')\n\u001b[1;32m    665\u001b[0m \u001b[0;34m\u001b[0m\u001b[0m\n",
      "\u001b[0;32m~/opt/anaconda3/lib/python3.8/site-packages/sklearn/utils/validation.py\u001b[0m in \u001b[0;36m_assert_all_finite\u001b[0;34m(X, allow_nan, msg_dtype)\u001b[0m\n\u001b[1;32m    101\u001b[0m                 not allow_nan and not np.isfinite(X).all()):\n\u001b[1;32m    102\u001b[0m             \u001b[0mtype_err\u001b[0m \u001b[0;34m=\u001b[0m \u001b[0;34m'infinity'\u001b[0m \u001b[0;32mif\u001b[0m \u001b[0mallow_nan\u001b[0m \u001b[0;32melse\u001b[0m \u001b[0;34m'NaN, infinity'\u001b[0m\u001b[0;34m\u001b[0m\u001b[0;34m\u001b[0m\u001b[0m\n\u001b[0;32m--> 103\u001b[0;31m             raise ValueError(\n\u001b[0m\u001b[1;32m    104\u001b[0m                     \u001b[0mmsg_err\u001b[0m\u001b[0;34m.\u001b[0m\u001b[0mformat\u001b[0m\u001b[0;34m\u001b[0m\u001b[0;34m\u001b[0m\u001b[0m\n\u001b[1;32m    105\u001b[0m                     (type_err,\n",
      "\u001b[0;31mValueError\u001b[0m: Input contains NaN, infinity or a value too large for dtype('float64')."
     ]
    },
    {
     "ename": "ValueError",
     "evalue": "Input contains NaN, infinity or a value too large for dtype('float64').",
     "output_type": "error",
     "traceback": [
      "\u001b[0;31m---------------------------------------------------------------------------\u001b[0m",
      "\u001b[0;31mValueError\u001b[0m                                Traceback (most recent call last)",
      "\u001b[0;32m<ipython-input-18-e4fe507aa863>\u001b[0m in \u001b[0;36m<module>\u001b[0;34m\u001b[0m\n\u001b[1;32m     10\u001b[0m \u001b[0;34m\u001b[0m\u001b[0m\n\u001b[1;32m     11\u001b[0m \u001b[0;31m# Fit the model\u001b[0m\u001b[0;34m\u001b[0m\u001b[0;34m\u001b[0m\u001b[0;34m\u001b[0m\u001b[0m\n\u001b[0;32m---> 12\u001b[0;31m \u001b[0mregr\u001b[0m\u001b[0;34m.\u001b[0m\u001b[0mfit\u001b[0m\u001b[0;34m(\u001b[0m\u001b[0mX_train\u001b[0m\u001b[0;34m,\u001b[0m\u001b[0my_train\u001b[0m\u001b[0;34m)\u001b[0m\u001b[0;34m\u001b[0m\u001b[0;34m\u001b[0m\u001b[0m\n\u001b[0m\u001b[1;32m     13\u001b[0m \u001b[0;34m\u001b[0m\u001b[0m\n\u001b[1;32m     14\u001b[0m \u001b[0mpred_train\u001b[0m \u001b[0;34m=\u001b[0m \u001b[0mregr\u001b[0m\u001b[0;34m.\u001b[0m\u001b[0mpredict\u001b[0m\u001b[0;34m(\u001b[0m\u001b[0mX_train\u001b[0m\u001b[0;34m)\u001b[0m\u001b[0;34m\u001b[0m\u001b[0;34m\u001b[0m\u001b[0m\n",
      "\u001b[0;32m~/opt/anaconda3/lib/python3.8/site-packages/sklearn/linear_model/_base.py\u001b[0m in \u001b[0;36mfit\u001b[0;34m(self, X, y, sample_weight)\u001b[0m\n\u001b[1;32m    516\u001b[0m         \u001b[0maccept_sparse\u001b[0m \u001b[0;34m=\u001b[0m \u001b[0;32mFalse\u001b[0m \u001b[0;32mif\u001b[0m \u001b[0mself\u001b[0m\u001b[0;34m.\u001b[0m\u001b[0mpositive\u001b[0m \u001b[0;32melse\u001b[0m \u001b[0;34m[\u001b[0m\u001b[0;34m'csr'\u001b[0m\u001b[0;34m,\u001b[0m \u001b[0;34m'csc'\u001b[0m\u001b[0;34m,\u001b[0m \u001b[0;34m'coo'\u001b[0m\u001b[0;34m]\u001b[0m\u001b[0;34m\u001b[0m\u001b[0;34m\u001b[0m\u001b[0m\n\u001b[1;32m    517\u001b[0m \u001b[0;34m\u001b[0m\u001b[0m\n\u001b[0;32m--> 518\u001b[0;31m         X, y = self._validate_data(X, y, accept_sparse=accept_sparse,\n\u001b[0m\u001b[1;32m    519\u001b[0m                                    y_numeric=True, multi_output=True)\n\u001b[1;32m    520\u001b[0m \u001b[0;34m\u001b[0m\u001b[0m\n",
      "\u001b[0;32m~/opt/anaconda3/lib/python3.8/site-packages/sklearn/base.py\u001b[0m in \u001b[0;36m_validate_data\u001b[0;34m(self, X, y, reset, validate_separately, **check_params)\u001b[0m\n\u001b[1;32m    431\u001b[0m                 \u001b[0my\u001b[0m \u001b[0;34m=\u001b[0m \u001b[0mcheck_array\u001b[0m\u001b[0;34m(\u001b[0m\u001b[0my\u001b[0m\u001b[0;34m,\u001b[0m \u001b[0;34m**\u001b[0m\u001b[0mcheck_y_params\u001b[0m\u001b[0;34m)\u001b[0m\u001b[0;34m\u001b[0m\u001b[0;34m\u001b[0m\u001b[0m\n\u001b[1;32m    432\u001b[0m             \u001b[0;32melse\u001b[0m\u001b[0;34m:\u001b[0m\u001b[0;34m\u001b[0m\u001b[0;34m\u001b[0m\u001b[0m\n\u001b[0;32m--> 433\u001b[0;31m                 \u001b[0mX\u001b[0m\u001b[0;34m,\u001b[0m \u001b[0my\u001b[0m \u001b[0;34m=\u001b[0m \u001b[0mcheck_X_y\u001b[0m\u001b[0;34m(\u001b[0m\u001b[0mX\u001b[0m\u001b[0;34m,\u001b[0m \u001b[0my\u001b[0m\u001b[0;34m,\u001b[0m \u001b[0;34m**\u001b[0m\u001b[0mcheck_params\u001b[0m\u001b[0;34m)\u001b[0m\u001b[0;34m\u001b[0m\u001b[0;34m\u001b[0m\u001b[0m\n\u001b[0m\u001b[1;32m    434\u001b[0m             \u001b[0mout\u001b[0m \u001b[0;34m=\u001b[0m \u001b[0mX\u001b[0m\u001b[0;34m,\u001b[0m \u001b[0my\u001b[0m\u001b[0;34m\u001b[0m\u001b[0;34m\u001b[0m\u001b[0m\n\u001b[1;32m    435\u001b[0m \u001b[0;34m\u001b[0m\u001b[0m\n",
      "\u001b[0;32m~/opt/anaconda3/lib/python3.8/site-packages/sklearn/utils/validation.py\u001b[0m in \u001b[0;36minner_f\u001b[0;34m(*args, **kwargs)\u001b[0m\n\u001b[1;32m     61\u001b[0m             \u001b[0mextra_args\u001b[0m \u001b[0;34m=\u001b[0m \u001b[0mlen\u001b[0m\u001b[0;34m(\u001b[0m\u001b[0margs\u001b[0m\u001b[0;34m)\u001b[0m \u001b[0;34m-\u001b[0m \u001b[0mlen\u001b[0m\u001b[0;34m(\u001b[0m\u001b[0mall_args\u001b[0m\u001b[0;34m)\u001b[0m\u001b[0;34m\u001b[0m\u001b[0;34m\u001b[0m\u001b[0m\n\u001b[1;32m     62\u001b[0m             \u001b[0;32mif\u001b[0m \u001b[0mextra_args\u001b[0m \u001b[0;34m<=\u001b[0m \u001b[0;36m0\u001b[0m\u001b[0;34m:\u001b[0m\u001b[0;34m\u001b[0m\u001b[0;34m\u001b[0m\u001b[0m\n\u001b[0;32m---> 63\u001b[0;31m                 \u001b[0;32mreturn\u001b[0m \u001b[0mf\u001b[0m\u001b[0;34m(\u001b[0m\u001b[0;34m*\u001b[0m\u001b[0margs\u001b[0m\u001b[0;34m,\u001b[0m \u001b[0;34m**\u001b[0m\u001b[0mkwargs\u001b[0m\u001b[0;34m)\u001b[0m\u001b[0;34m\u001b[0m\u001b[0;34m\u001b[0m\u001b[0m\n\u001b[0m\u001b[1;32m     64\u001b[0m \u001b[0;34m\u001b[0m\u001b[0m\n\u001b[1;32m     65\u001b[0m             \u001b[0;31m# extra_args > 0\u001b[0m\u001b[0;34m\u001b[0m\u001b[0;34m\u001b[0m\u001b[0;34m\u001b[0m\u001b[0m\n",
      "\u001b[0;32m~/opt/anaconda3/lib/python3.8/site-packages/sklearn/utils/validation.py\u001b[0m in \u001b[0;36mcheck_X_y\u001b[0;34m(X, y, accept_sparse, accept_large_sparse, dtype, order, copy, force_all_finite, ensure_2d, allow_nd, multi_output, ensure_min_samples, ensure_min_features, y_numeric, estimator)\u001b[0m\n\u001b[1;32m    812\u001b[0m         \u001b[0;32mraise\u001b[0m \u001b[0mValueError\u001b[0m\u001b[0;34m(\u001b[0m\u001b[0;34m\"y cannot be None\"\u001b[0m\u001b[0;34m)\u001b[0m\u001b[0;34m\u001b[0m\u001b[0;34m\u001b[0m\u001b[0m\n\u001b[1;32m    813\u001b[0m \u001b[0;34m\u001b[0m\u001b[0m\n\u001b[0;32m--> 814\u001b[0;31m     X = check_array(X, accept_sparse=accept_sparse,\n\u001b[0m\u001b[1;32m    815\u001b[0m                     \u001b[0maccept_large_sparse\u001b[0m\u001b[0;34m=\u001b[0m\u001b[0maccept_large_sparse\u001b[0m\u001b[0;34m,\u001b[0m\u001b[0;34m\u001b[0m\u001b[0;34m\u001b[0m\u001b[0m\n\u001b[1;32m    816\u001b[0m                     \u001b[0mdtype\u001b[0m\u001b[0;34m=\u001b[0m\u001b[0mdtype\u001b[0m\u001b[0;34m,\u001b[0m \u001b[0morder\u001b[0m\u001b[0;34m=\u001b[0m\u001b[0morder\u001b[0m\u001b[0;34m,\u001b[0m \u001b[0mcopy\u001b[0m\u001b[0;34m=\u001b[0m\u001b[0mcopy\u001b[0m\u001b[0;34m,\u001b[0m\u001b[0;34m\u001b[0m\u001b[0;34m\u001b[0m\u001b[0m\n",
      "\u001b[0;32m~/opt/anaconda3/lib/python3.8/site-packages/sklearn/utils/validation.py\u001b[0m in \u001b[0;36minner_f\u001b[0;34m(*args, **kwargs)\u001b[0m\n\u001b[1;32m     61\u001b[0m             \u001b[0mextra_args\u001b[0m \u001b[0;34m=\u001b[0m \u001b[0mlen\u001b[0m\u001b[0;34m(\u001b[0m\u001b[0margs\u001b[0m\u001b[0;34m)\u001b[0m \u001b[0;34m-\u001b[0m \u001b[0mlen\u001b[0m\u001b[0;34m(\u001b[0m\u001b[0mall_args\u001b[0m\u001b[0;34m)\u001b[0m\u001b[0;34m\u001b[0m\u001b[0;34m\u001b[0m\u001b[0m\n\u001b[1;32m     62\u001b[0m             \u001b[0;32mif\u001b[0m \u001b[0mextra_args\u001b[0m \u001b[0;34m<=\u001b[0m \u001b[0;36m0\u001b[0m\u001b[0;34m:\u001b[0m\u001b[0;34m\u001b[0m\u001b[0;34m\u001b[0m\u001b[0m\n\u001b[0;32m---> 63\u001b[0;31m                 \u001b[0;32mreturn\u001b[0m \u001b[0mf\u001b[0m\u001b[0;34m(\u001b[0m\u001b[0;34m*\u001b[0m\u001b[0margs\u001b[0m\u001b[0;34m,\u001b[0m \u001b[0;34m**\u001b[0m\u001b[0mkwargs\u001b[0m\u001b[0;34m)\u001b[0m\u001b[0;34m\u001b[0m\u001b[0;34m\u001b[0m\u001b[0m\n\u001b[0m\u001b[1;32m     64\u001b[0m \u001b[0;34m\u001b[0m\u001b[0m\n\u001b[1;32m     65\u001b[0m             \u001b[0;31m# extra_args > 0\u001b[0m\u001b[0;34m\u001b[0m\u001b[0;34m\u001b[0m\u001b[0;34m\u001b[0m\u001b[0m\n",
      "\u001b[0;32m~/opt/anaconda3/lib/python3.8/site-packages/sklearn/utils/validation.py\u001b[0m in \u001b[0;36mcheck_array\u001b[0;34m(array, accept_sparse, accept_large_sparse, dtype, order, copy, force_all_finite, ensure_2d, allow_nd, ensure_min_samples, ensure_min_features, estimator)\u001b[0m\n\u001b[1;32m    661\u001b[0m \u001b[0;34m\u001b[0m\u001b[0m\n\u001b[1;32m    662\u001b[0m         \u001b[0;32mif\u001b[0m \u001b[0mforce_all_finite\u001b[0m\u001b[0;34m:\u001b[0m\u001b[0;34m\u001b[0m\u001b[0;34m\u001b[0m\u001b[0m\n\u001b[0;32m--> 663\u001b[0;31m             _assert_all_finite(array,\n\u001b[0m\u001b[1;32m    664\u001b[0m                                allow_nan=force_all_finite == 'allow-nan')\n\u001b[1;32m    665\u001b[0m \u001b[0;34m\u001b[0m\u001b[0m\n",
      "\u001b[0;32m~/opt/anaconda3/lib/python3.8/site-packages/sklearn/utils/validation.py\u001b[0m in \u001b[0;36m_assert_all_finite\u001b[0;34m(X, allow_nan, msg_dtype)\u001b[0m\n\u001b[1;32m    101\u001b[0m                 not allow_nan and not np.isfinite(X).all()):\n\u001b[1;32m    102\u001b[0m             \u001b[0mtype_err\u001b[0m \u001b[0;34m=\u001b[0m \u001b[0;34m'infinity'\u001b[0m \u001b[0;32mif\u001b[0m \u001b[0mallow_nan\u001b[0m \u001b[0;32melse\u001b[0m \u001b[0;34m'NaN, infinity'\u001b[0m\u001b[0;34m\u001b[0m\u001b[0;34m\u001b[0m\u001b[0m\n\u001b[0;32m--> 103\u001b[0;31m             raise ValueError(\n\u001b[0m\u001b[1;32m    104\u001b[0m                     \u001b[0mmsg_err\u001b[0m\u001b[0;34m.\u001b[0m\u001b[0mformat\u001b[0m\u001b[0;34m\u001b[0m\u001b[0;34m\u001b[0m\u001b[0m\n\u001b[1;32m    105\u001b[0m                     (type_err,\n",
      "\u001b[0;31mValueError\u001b[0m: Input contains NaN, infinity or a value too large for dtype('float64')."
     ]
    }
   ],
   "source": [
    "# CODE FOR LINEAR REGRESSION\n",
    "\n",
    "AirProps = (NewData[PropertyList] - NewData[PropertyList].mean())/NewData[PropertyList].std()\n",
    "AirProps.describe()\n",
    "\n",
    "X_train, X_test, y_train, y_test = train_test_split(AirProps.drop(columns=['90th Percentile AQI']),\n",
    "                                                    AirProps['90th Percentile AQI'], test_size=0.30, random_state=0)\n",
    "# Create linear regression object\n",
    "regr = LinearRegression()\n",
    "\n",
    "# Fit the model\n",
    "regr.fit(X_train,y_train)\n",
    "\n",
    "pred_train = regr.predict(X_train) \n",
    "pred_test = regr.predict(X_test)\n",
    "\n",
    "MSExTrain= mean_squared_error(y_train,pred_train)*NewData['90th Percentile AQI'].std()+NewData['90th Percentile AQI'].mean()\n",
    "RMSExTrain=np.power(MSExTrain,0.5)\n",
    "\n",
    "MSExTest= mean_squared_error(y_test,pred_test)*NewData['90th Percentile AQI'].std()+NewData['90th Percentile AQI'].mean()\n",
    "RMSExTest= np.power(MSExTest,0.5)\n",
    "\n",
    "\n",
    "# The root mean squared error\n",
    "print('Training root mean squared error: %.2f'\n",
    "      % RMSExTrain)\n",
    "print('Test root mean squared error: %.2f'\n",
    "      % RMSExTest)\n",
    "\n",
    "x1 = y_train*NewData['90th Percentile AQI'].std()+NewData['90th Percentile AQI'].mean(),\n",
    "y1 = pred_train*NewData['90th Percentile AQI'].std()+NewData['90th Percentile AQI'].mean()\n",
    "\n",
    "x2 = y_test*NewData['90th Percentile AQI'].std()+NewData['90th Percentile AQI'].mean(),\n",
    "y2 = pred_test*NewData['90th Percentile AQI'].std()+NewData['90th Percentile AQI'].mean()\n",
    "\n",
    "fig,ax=plt.subplots()\n",
    "ax.scatter(x1,y1,alpha=0.1)\n",
    "ax.scatter(x2,y2,alpha=0.1)\n",
    "ax.plot(np.linspace(1,200,10),np.linspace(1,200,10),'k-') # y = x line\n",
    "ax.set_xlabel('Measured Quality')\n",
    "ax.set_ylabel('Predicted Quality')\n",
    "ax.legend(['y=x line','Training set','Test set'])\n",
    "fig.show"
   ]
  },
  {
   "cell_type": "code",
   "execution_count": 19,
   "id": "3341e045",
   "metadata": {},
   "outputs": [
    {
     "ename": "ValueError",
     "evalue": "Input contains NaN, infinity or a value too large for dtype('float64').",
     "output_type": "error",
     "traceback": [
      "\u001b[0;31m---------------------------------------------------------------------------\u001b[0m",
      "\u001b[0;31mValueError\u001b[0m                                Traceback (most recent call last)",
      "\u001b[0;32m<ipython-input-19-ebf9ccdadc25>\u001b[0m in \u001b[0;36m<module>\u001b[0;34m\u001b[0m\n\u001b[1;32m      6\u001b[0m                                                     AirProps['90th Percentile AQI'], test_size=0.30, random_state=0)\n\u001b[1;32m      7\u001b[0m \u001b[0mregr\u001b[0m \u001b[0;34m=\u001b[0m \u001b[0mLasso\u001b[0m\u001b[0;34m(\u001b[0m\u001b[0malpha\u001b[0m\u001b[0;34m=\u001b[0m\u001b[0;36m0.01\u001b[0m\u001b[0;34m)\u001b[0m\u001b[0;34m\u001b[0m\u001b[0;34m\u001b[0m\u001b[0m\n\u001b[0;32m----> 8\u001b[0;31m \u001b[0mregr\u001b[0m\u001b[0;34m.\u001b[0m\u001b[0mfit\u001b[0m\u001b[0;34m(\u001b[0m\u001b[0mX_train\u001b[0m\u001b[0;34m,\u001b[0m\u001b[0my_train\u001b[0m\u001b[0;34m)\u001b[0m\u001b[0;34m\u001b[0m\u001b[0;34m\u001b[0m\u001b[0m\n\u001b[0m\u001b[1;32m      9\u001b[0m \u001b[0mpred_train\u001b[0m \u001b[0;34m=\u001b[0m \u001b[0mregr\u001b[0m\u001b[0;34m.\u001b[0m\u001b[0mpredict\u001b[0m\u001b[0;34m(\u001b[0m\u001b[0mX_train\u001b[0m\u001b[0;34m)\u001b[0m\u001b[0;34m\u001b[0m\u001b[0;34m\u001b[0m\u001b[0m\n\u001b[1;32m     10\u001b[0m \u001b[0mpred_test\u001b[0m \u001b[0;34m=\u001b[0m \u001b[0mregr\u001b[0m\u001b[0;34m.\u001b[0m\u001b[0mpredict\u001b[0m\u001b[0;34m(\u001b[0m\u001b[0mX_test\u001b[0m\u001b[0;34m)\u001b[0m\u001b[0;34m\u001b[0m\u001b[0;34m\u001b[0m\u001b[0m\n",
      "\u001b[0;32m~/opt/anaconda3/lib/python3.8/site-packages/sklearn/linear_model/_coordinate_descent.py\u001b[0m in \u001b[0;36mfit\u001b[0;34m(self, X, y, sample_weight, check_input)\u001b[0m\n\u001b[1;32m    769\u001b[0m         \u001b[0;32mif\u001b[0m \u001b[0mcheck_input\u001b[0m\u001b[0;34m:\u001b[0m\u001b[0;34m\u001b[0m\u001b[0;34m\u001b[0m\u001b[0m\n\u001b[1;32m    770\u001b[0m             \u001b[0mX_copied\u001b[0m \u001b[0;34m=\u001b[0m \u001b[0mself\u001b[0m\u001b[0;34m.\u001b[0m\u001b[0mcopy_X\u001b[0m \u001b[0;32mand\u001b[0m \u001b[0mself\u001b[0m\u001b[0;34m.\u001b[0m\u001b[0mfit_intercept\u001b[0m\u001b[0;34m\u001b[0m\u001b[0;34m\u001b[0m\u001b[0m\n\u001b[0;32m--> 771\u001b[0;31m             X, y = self._validate_data(X, y, accept_sparse='csc',\n\u001b[0m\u001b[1;32m    772\u001b[0m                                        \u001b[0morder\u001b[0m\u001b[0;34m=\u001b[0m\u001b[0;34m'F'\u001b[0m\u001b[0;34m,\u001b[0m\u001b[0;34m\u001b[0m\u001b[0;34m\u001b[0m\u001b[0m\n\u001b[1;32m    773\u001b[0m                                        \u001b[0mdtype\u001b[0m\u001b[0;34m=\u001b[0m\u001b[0;34m[\u001b[0m\u001b[0mnp\u001b[0m\u001b[0;34m.\u001b[0m\u001b[0mfloat64\u001b[0m\u001b[0;34m,\u001b[0m \u001b[0mnp\u001b[0m\u001b[0;34m.\u001b[0m\u001b[0mfloat32\u001b[0m\u001b[0;34m]\u001b[0m\u001b[0;34m,\u001b[0m\u001b[0;34m\u001b[0m\u001b[0;34m\u001b[0m\u001b[0m\n",
      "\u001b[0;32m~/opt/anaconda3/lib/python3.8/site-packages/sklearn/base.py\u001b[0m in \u001b[0;36m_validate_data\u001b[0;34m(self, X, y, reset, validate_separately, **check_params)\u001b[0m\n\u001b[1;32m    431\u001b[0m                 \u001b[0my\u001b[0m \u001b[0;34m=\u001b[0m \u001b[0mcheck_array\u001b[0m\u001b[0;34m(\u001b[0m\u001b[0my\u001b[0m\u001b[0;34m,\u001b[0m \u001b[0;34m**\u001b[0m\u001b[0mcheck_y_params\u001b[0m\u001b[0;34m)\u001b[0m\u001b[0;34m\u001b[0m\u001b[0;34m\u001b[0m\u001b[0m\n\u001b[1;32m    432\u001b[0m             \u001b[0;32melse\u001b[0m\u001b[0;34m:\u001b[0m\u001b[0;34m\u001b[0m\u001b[0;34m\u001b[0m\u001b[0m\n\u001b[0;32m--> 433\u001b[0;31m                 \u001b[0mX\u001b[0m\u001b[0;34m,\u001b[0m \u001b[0my\u001b[0m \u001b[0;34m=\u001b[0m \u001b[0mcheck_X_y\u001b[0m\u001b[0;34m(\u001b[0m\u001b[0mX\u001b[0m\u001b[0;34m,\u001b[0m \u001b[0my\u001b[0m\u001b[0;34m,\u001b[0m \u001b[0;34m**\u001b[0m\u001b[0mcheck_params\u001b[0m\u001b[0;34m)\u001b[0m\u001b[0;34m\u001b[0m\u001b[0;34m\u001b[0m\u001b[0m\n\u001b[0m\u001b[1;32m    434\u001b[0m             \u001b[0mout\u001b[0m \u001b[0;34m=\u001b[0m \u001b[0mX\u001b[0m\u001b[0;34m,\u001b[0m \u001b[0my\u001b[0m\u001b[0;34m\u001b[0m\u001b[0;34m\u001b[0m\u001b[0m\n\u001b[1;32m    435\u001b[0m \u001b[0;34m\u001b[0m\u001b[0m\n",
      "\u001b[0;32m~/opt/anaconda3/lib/python3.8/site-packages/sklearn/utils/validation.py\u001b[0m in \u001b[0;36minner_f\u001b[0;34m(*args, **kwargs)\u001b[0m\n\u001b[1;32m     61\u001b[0m             \u001b[0mextra_args\u001b[0m \u001b[0;34m=\u001b[0m \u001b[0mlen\u001b[0m\u001b[0;34m(\u001b[0m\u001b[0margs\u001b[0m\u001b[0;34m)\u001b[0m \u001b[0;34m-\u001b[0m \u001b[0mlen\u001b[0m\u001b[0;34m(\u001b[0m\u001b[0mall_args\u001b[0m\u001b[0;34m)\u001b[0m\u001b[0;34m\u001b[0m\u001b[0;34m\u001b[0m\u001b[0m\n\u001b[1;32m     62\u001b[0m             \u001b[0;32mif\u001b[0m \u001b[0mextra_args\u001b[0m \u001b[0;34m<=\u001b[0m \u001b[0;36m0\u001b[0m\u001b[0;34m:\u001b[0m\u001b[0;34m\u001b[0m\u001b[0;34m\u001b[0m\u001b[0m\n\u001b[0;32m---> 63\u001b[0;31m                 \u001b[0;32mreturn\u001b[0m \u001b[0mf\u001b[0m\u001b[0;34m(\u001b[0m\u001b[0;34m*\u001b[0m\u001b[0margs\u001b[0m\u001b[0;34m,\u001b[0m \u001b[0;34m**\u001b[0m\u001b[0mkwargs\u001b[0m\u001b[0;34m)\u001b[0m\u001b[0;34m\u001b[0m\u001b[0;34m\u001b[0m\u001b[0m\n\u001b[0m\u001b[1;32m     64\u001b[0m \u001b[0;34m\u001b[0m\u001b[0m\n\u001b[1;32m     65\u001b[0m             \u001b[0;31m# extra_args > 0\u001b[0m\u001b[0;34m\u001b[0m\u001b[0;34m\u001b[0m\u001b[0;34m\u001b[0m\u001b[0m\n",
      "\u001b[0;32m~/opt/anaconda3/lib/python3.8/site-packages/sklearn/utils/validation.py\u001b[0m in \u001b[0;36mcheck_X_y\u001b[0;34m(X, y, accept_sparse, accept_large_sparse, dtype, order, copy, force_all_finite, ensure_2d, allow_nd, multi_output, ensure_min_samples, ensure_min_features, y_numeric, estimator)\u001b[0m\n\u001b[1;32m    812\u001b[0m         \u001b[0;32mraise\u001b[0m \u001b[0mValueError\u001b[0m\u001b[0;34m(\u001b[0m\u001b[0;34m\"y cannot be None\"\u001b[0m\u001b[0;34m)\u001b[0m\u001b[0;34m\u001b[0m\u001b[0;34m\u001b[0m\u001b[0m\n\u001b[1;32m    813\u001b[0m \u001b[0;34m\u001b[0m\u001b[0m\n\u001b[0;32m--> 814\u001b[0;31m     X = check_array(X, accept_sparse=accept_sparse,\n\u001b[0m\u001b[1;32m    815\u001b[0m                     \u001b[0maccept_large_sparse\u001b[0m\u001b[0;34m=\u001b[0m\u001b[0maccept_large_sparse\u001b[0m\u001b[0;34m,\u001b[0m\u001b[0;34m\u001b[0m\u001b[0;34m\u001b[0m\u001b[0m\n\u001b[1;32m    816\u001b[0m                     \u001b[0mdtype\u001b[0m\u001b[0;34m=\u001b[0m\u001b[0mdtype\u001b[0m\u001b[0;34m,\u001b[0m \u001b[0morder\u001b[0m\u001b[0;34m=\u001b[0m\u001b[0morder\u001b[0m\u001b[0;34m,\u001b[0m \u001b[0mcopy\u001b[0m\u001b[0;34m=\u001b[0m\u001b[0mcopy\u001b[0m\u001b[0;34m,\u001b[0m\u001b[0;34m\u001b[0m\u001b[0;34m\u001b[0m\u001b[0m\n",
      "\u001b[0;32m~/opt/anaconda3/lib/python3.8/site-packages/sklearn/utils/validation.py\u001b[0m in \u001b[0;36minner_f\u001b[0;34m(*args, **kwargs)\u001b[0m\n\u001b[1;32m     61\u001b[0m             \u001b[0mextra_args\u001b[0m \u001b[0;34m=\u001b[0m \u001b[0mlen\u001b[0m\u001b[0;34m(\u001b[0m\u001b[0margs\u001b[0m\u001b[0;34m)\u001b[0m \u001b[0;34m-\u001b[0m \u001b[0mlen\u001b[0m\u001b[0;34m(\u001b[0m\u001b[0mall_args\u001b[0m\u001b[0;34m)\u001b[0m\u001b[0;34m\u001b[0m\u001b[0;34m\u001b[0m\u001b[0m\n\u001b[1;32m     62\u001b[0m             \u001b[0;32mif\u001b[0m \u001b[0mextra_args\u001b[0m \u001b[0;34m<=\u001b[0m \u001b[0;36m0\u001b[0m\u001b[0;34m:\u001b[0m\u001b[0;34m\u001b[0m\u001b[0;34m\u001b[0m\u001b[0m\n\u001b[0;32m---> 63\u001b[0;31m                 \u001b[0;32mreturn\u001b[0m \u001b[0mf\u001b[0m\u001b[0;34m(\u001b[0m\u001b[0;34m*\u001b[0m\u001b[0margs\u001b[0m\u001b[0;34m,\u001b[0m \u001b[0;34m**\u001b[0m\u001b[0mkwargs\u001b[0m\u001b[0;34m)\u001b[0m\u001b[0;34m\u001b[0m\u001b[0;34m\u001b[0m\u001b[0m\n\u001b[0m\u001b[1;32m     64\u001b[0m \u001b[0;34m\u001b[0m\u001b[0m\n\u001b[1;32m     65\u001b[0m             \u001b[0;31m# extra_args > 0\u001b[0m\u001b[0;34m\u001b[0m\u001b[0;34m\u001b[0m\u001b[0;34m\u001b[0m\u001b[0m\n",
      "\u001b[0;32m~/opt/anaconda3/lib/python3.8/site-packages/sklearn/utils/validation.py\u001b[0m in \u001b[0;36mcheck_array\u001b[0;34m(array, accept_sparse, accept_large_sparse, dtype, order, copy, force_all_finite, ensure_2d, allow_nd, ensure_min_samples, ensure_min_features, estimator)\u001b[0m\n\u001b[1;32m    661\u001b[0m \u001b[0;34m\u001b[0m\u001b[0m\n\u001b[1;32m    662\u001b[0m         \u001b[0;32mif\u001b[0m \u001b[0mforce_all_finite\u001b[0m\u001b[0;34m:\u001b[0m\u001b[0;34m\u001b[0m\u001b[0;34m\u001b[0m\u001b[0m\n\u001b[0;32m--> 663\u001b[0;31m             _assert_all_finite(array,\n\u001b[0m\u001b[1;32m    664\u001b[0m                                allow_nan=force_all_finite == 'allow-nan')\n\u001b[1;32m    665\u001b[0m \u001b[0;34m\u001b[0m\u001b[0m\n",
      "\u001b[0;32m~/opt/anaconda3/lib/python3.8/site-packages/sklearn/utils/validation.py\u001b[0m in \u001b[0;36m_assert_all_finite\u001b[0;34m(X, allow_nan, msg_dtype)\u001b[0m\n\u001b[1;32m    101\u001b[0m                 not allow_nan and not np.isfinite(X).all()):\n\u001b[1;32m    102\u001b[0m             \u001b[0mtype_err\u001b[0m \u001b[0;34m=\u001b[0m \u001b[0;34m'infinity'\u001b[0m \u001b[0;32mif\u001b[0m \u001b[0mallow_nan\u001b[0m \u001b[0;32melse\u001b[0m \u001b[0;34m'NaN, infinity'\u001b[0m\u001b[0;34m\u001b[0m\u001b[0;34m\u001b[0m\u001b[0m\n\u001b[0;32m--> 103\u001b[0;31m             raise ValueError(\n\u001b[0m\u001b[1;32m    104\u001b[0m                     \u001b[0mmsg_err\u001b[0m\u001b[0;34m.\u001b[0m\u001b[0mformat\u001b[0m\u001b[0;34m\u001b[0m\u001b[0;34m\u001b[0m\u001b[0m\n\u001b[1;32m    105\u001b[0m                     (type_err,\n",
      "\u001b[0;31mValueError\u001b[0m: Input contains NaN, infinity or a value too large for dtype('float64')."
     ]
    },
    {
     "ename": "ValueError",
     "evalue": "Input contains NaN, infinity or a value too large for dtype('float64').",
     "output_type": "error",
     "traceback": [
      "\u001b[0;31m---------------------------------------------------------------------------\u001b[0m",
      "\u001b[0;31mValueError\u001b[0m                                Traceback (most recent call last)",
      "\u001b[0;32m<ipython-input-19-ebf9ccdadc25>\u001b[0m in \u001b[0;36m<module>\u001b[0;34m\u001b[0m\n\u001b[1;32m      6\u001b[0m                                                     AirProps['90th Percentile AQI'], test_size=0.30, random_state=0)\n\u001b[1;32m      7\u001b[0m \u001b[0mregr\u001b[0m \u001b[0;34m=\u001b[0m \u001b[0mLasso\u001b[0m\u001b[0;34m(\u001b[0m\u001b[0malpha\u001b[0m\u001b[0;34m=\u001b[0m\u001b[0;36m0.01\u001b[0m\u001b[0;34m)\u001b[0m\u001b[0;34m\u001b[0m\u001b[0;34m\u001b[0m\u001b[0m\n\u001b[0;32m----> 8\u001b[0;31m \u001b[0mregr\u001b[0m\u001b[0;34m.\u001b[0m\u001b[0mfit\u001b[0m\u001b[0;34m(\u001b[0m\u001b[0mX_train\u001b[0m\u001b[0;34m,\u001b[0m\u001b[0my_train\u001b[0m\u001b[0;34m)\u001b[0m\u001b[0;34m\u001b[0m\u001b[0;34m\u001b[0m\u001b[0m\n\u001b[0m\u001b[1;32m      9\u001b[0m \u001b[0mpred_train\u001b[0m \u001b[0;34m=\u001b[0m \u001b[0mregr\u001b[0m\u001b[0;34m.\u001b[0m\u001b[0mpredict\u001b[0m\u001b[0;34m(\u001b[0m\u001b[0mX_train\u001b[0m\u001b[0;34m)\u001b[0m\u001b[0;34m\u001b[0m\u001b[0;34m\u001b[0m\u001b[0m\n\u001b[1;32m     10\u001b[0m \u001b[0mpred_test\u001b[0m \u001b[0;34m=\u001b[0m \u001b[0mregr\u001b[0m\u001b[0;34m.\u001b[0m\u001b[0mpredict\u001b[0m\u001b[0;34m(\u001b[0m\u001b[0mX_test\u001b[0m\u001b[0;34m)\u001b[0m\u001b[0;34m\u001b[0m\u001b[0;34m\u001b[0m\u001b[0m\n",
      "\u001b[0;32m~/opt/anaconda3/lib/python3.8/site-packages/sklearn/linear_model/_coordinate_descent.py\u001b[0m in \u001b[0;36mfit\u001b[0;34m(self, X, y, sample_weight, check_input)\u001b[0m\n\u001b[1;32m    769\u001b[0m         \u001b[0;32mif\u001b[0m \u001b[0mcheck_input\u001b[0m\u001b[0;34m:\u001b[0m\u001b[0;34m\u001b[0m\u001b[0;34m\u001b[0m\u001b[0m\n\u001b[1;32m    770\u001b[0m             \u001b[0mX_copied\u001b[0m \u001b[0;34m=\u001b[0m \u001b[0mself\u001b[0m\u001b[0;34m.\u001b[0m\u001b[0mcopy_X\u001b[0m \u001b[0;32mand\u001b[0m \u001b[0mself\u001b[0m\u001b[0;34m.\u001b[0m\u001b[0mfit_intercept\u001b[0m\u001b[0;34m\u001b[0m\u001b[0;34m\u001b[0m\u001b[0m\n\u001b[0;32m--> 771\u001b[0;31m             X, y = self._validate_data(X, y, accept_sparse='csc',\n\u001b[0m\u001b[1;32m    772\u001b[0m                                        \u001b[0morder\u001b[0m\u001b[0;34m=\u001b[0m\u001b[0;34m'F'\u001b[0m\u001b[0;34m,\u001b[0m\u001b[0;34m\u001b[0m\u001b[0;34m\u001b[0m\u001b[0m\n\u001b[1;32m    773\u001b[0m                                        \u001b[0mdtype\u001b[0m\u001b[0;34m=\u001b[0m\u001b[0;34m[\u001b[0m\u001b[0mnp\u001b[0m\u001b[0;34m.\u001b[0m\u001b[0mfloat64\u001b[0m\u001b[0;34m,\u001b[0m \u001b[0mnp\u001b[0m\u001b[0;34m.\u001b[0m\u001b[0mfloat32\u001b[0m\u001b[0;34m]\u001b[0m\u001b[0;34m,\u001b[0m\u001b[0;34m\u001b[0m\u001b[0;34m\u001b[0m\u001b[0m\n",
      "\u001b[0;32m~/opt/anaconda3/lib/python3.8/site-packages/sklearn/base.py\u001b[0m in \u001b[0;36m_validate_data\u001b[0;34m(self, X, y, reset, validate_separately, **check_params)\u001b[0m\n\u001b[1;32m    431\u001b[0m                 \u001b[0my\u001b[0m \u001b[0;34m=\u001b[0m \u001b[0mcheck_array\u001b[0m\u001b[0;34m(\u001b[0m\u001b[0my\u001b[0m\u001b[0;34m,\u001b[0m \u001b[0;34m**\u001b[0m\u001b[0mcheck_y_params\u001b[0m\u001b[0;34m)\u001b[0m\u001b[0;34m\u001b[0m\u001b[0;34m\u001b[0m\u001b[0m\n\u001b[1;32m    432\u001b[0m             \u001b[0;32melse\u001b[0m\u001b[0;34m:\u001b[0m\u001b[0;34m\u001b[0m\u001b[0;34m\u001b[0m\u001b[0m\n\u001b[0;32m--> 433\u001b[0;31m                 \u001b[0mX\u001b[0m\u001b[0;34m,\u001b[0m \u001b[0my\u001b[0m \u001b[0;34m=\u001b[0m \u001b[0mcheck_X_y\u001b[0m\u001b[0;34m(\u001b[0m\u001b[0mX\u001b[0m\u001b[0;34m,\u001b[0m \u001b[0my\u001b[0m\u001b[0;34m,\u001b[0m \u001b[0;34m**\u001b[0m\u001b[0mcheck_params\u001b[0m\u001b[0;34m)\u001b[0m\u001b[0;34m\u001b[0m\u001b[0;34m\u001b[0m\u001b[0m\n\u001b[0m\u001b[1;32m    434\u001b[0m             \u001b[0mout\u001b[0m \u001b[0;34m=\u001b[0m \u001b[0mX\u001b[0m\u001b[0;34m,\u001b[0m \u001b[0my\u001b[0m\u001b[0;34m\u001b[0m\u001b[0;34m\u001b[0m\u001b[0m\n\u001b[1;32m    435\u001b[0m \u001b[0;34m\u001b[0m\u001b[0m\n",
      "\u001b[0;32m~/opt/anaconda3/lib/python3.8/site-packages/sklearn/utils/validation.py\u001b[0m in \u001b[0;36minner_f\u001b[0;34m(*args, **kwargs)\u001b[0m\n\u001b[1;32m     61\u001b[0m             \u001b[0mextra_args\u001b[0m \u001b[0;34m=\u001b[0m \u001b[0mlen\u001b[0m\u001b[0;34m(\u001b[0m\u001b[0margs\u001b[0m\u001b[0;34m)\u001b[0m \u001b[0;34m-\u001b[0m \u001b[0mlen\u001b[0m\u001b[0;34m(\u001b[0m\u001b[0mall_args\u001b[0m\u001b[0;34m)\u001b[0m\u001b[0;34m\u001b[0m\u001b[0;34m\u001b[0m\u001b[0m\n\u001b[1;32m     62\u001b[0m             \u001b[0;32mif\u001b[0m \u001b[0mextra_args\u001b[0m \u001b[0;34m<=\u001b[0m \u001b[0;36m0\u001b[0m\u001b[0;34m:\u001b[0m\u001b[0;34m\u001b[0m\u001b[0;34m\u001b[0m\u001b[0m\n\u001b[0;32m---> 63\u001b[0;31m                 \u001b[0;32mreturn\u001b[0m \u001b[0mf\u001b[0m\u001b[0;34m(\u001b[0m\u001b[0;34m*\u001b[0m\u001b[0margs\u001b[0m\u001b[0;34m,\u001b[0m \u001b[0;34m**\u001b[0m\u001b[0mkwargs\u001b[0m\u001b[0;34m)\u001b[0m\u001b[0;34m\u001b[0m\u001b[0;34m\u001b[0m\u001b[0m\n\u001b[0m\u001b[1;32m     64\u001b[0m \u001b[0;34m\u001b[0m\u001b[0m\n\u001b[1;32m     65\u001b[0m             \u001b[0;31m# extra_args > 0\u001b[0m\u001b[0;34m\u001b[0m\u001b[0;34m\u001b[0m\u001b[0;34m\u001b[0m\u001b[0m\n",
      "\u001b[0;32m~/opt/anaconda3/lib/python3.8/site-packages/sklearn/utils/validation.py\u001b[0m in \u001b[0;36mcheck_X_y\u001b[0;34m(X, y, accept_sparse, accept_large_sparse, dtype, order, copy, force_all_finite, ensure_2d, allow_nd, multi_output, ensure_min_samples, ensure_min_features, y_numeric, estimator)\u001b[0m\n\u001b[1;32m    812\u001b[0m         \u001b[0;32mraise\u001b[0m \u001b[0mValueError\u001b[0m\u001b[0;34m(\u001b[0m\u001b[0;34m\"y cannot be None\"\u001b[0m\u001b[0;34m)\u001b[0m\u001b[0;34m\u001b[0m\u001b[0;34m\u001b[0m\u001b[0m\n\u001b[1;32m    813\u001b[0m \u001b[0;34m\u001b[0m\u001b[0m\n\u001b[0;32m--> 814\u001b[0;31m     X = check_array(X, accept_sparse=accept_sparse,\n\u001b[0m\u001b[1;32m    815\u001b[0m                     \u001b[0maccept_large_sparse\u001b[0m\u001b[0;34m=\u001b[0m\u001b[0maccept_large_sparse\u001b[0m\u001b[0;34m,\u001b[0m\u001b[0;34m\u001b[0m\u001b[0;34m\u001b[0m\u001b[0m\n\u001b[1;32m    816\u001b[0m                     \u001b[0mdtype\u001b[0m\u001b[0;34m=\u001b[0m\u001b[0mdtype\u001b[0m\u001b[0;34m,\u001b[0m \u001b[0morder\u001b[0m\u001b[0;34m=\u001b[0m\u001b[0morder\u001b[0m\u001b[0;34m,\u001b[0m \u001b[0mcopy\u001b[0m\u001b[0;34m=\u001b[0m\u001b[0mcopy\u001b[0m\u001b[0;34m,\u001b[0m\u001b[0;34m\u001b[0m\u001b[0;34m\u001b[0m\u001b[0m\n",
      "\u001b[0;32m~/opt/anaconda3/lib/python3.8/site-packages/sklearn/utils/validation.py\u001b[0m in \u001b[0;36minner_f\u001b[0;34m(*args, **kwargs)\u001b[0m\n\u001b[1;32m     61\u001b[0m             \u001b[0mextra_args\u001b[0m \u001b[0;34m=\u001b[0m \u001b[0mlen\u001b[0m\u001b[0;34m(\u001b[0m\u001b[0margs\u001b[0m\u001b[0;34m)\u001b[0m \u001b[0;34m-\u001b[0m \u001b[0mlen\u001b[0m\u001b[0;34m(\u001b[0m\u001b[0mall_args\u001b[0m\u001b[0;34m)\u001b[0m\u001b[0;34m\u001b[0m\u001b[0;34m\u001b[0m\u001b[0m\n\u001b[1;32m     62\u001b[0m             \u001b[0;32mif\u001b[0m \u001b[0mextra_args\u001b[0m \u001b[0;34m<=\u001b[0m \u001b[0;36m0\u001b[0m\u001b[0;34m:\u001b[0m\u001b[0;34m\u001b[0m\u001b[0;34m\u001b[0m\u001b[0m\n\u001b[0;32m---> 63\u001b[0;31m                 \u001b[0;32mreturn\u001b[0m \u001b[0mf\u001b[0m\u001b[0;34m(\u001b[0m\u001b[0;34m*\u001b[0m\u001b[0margs\u001b[0m\u001b[0;34m,\u001b[0m \u001b[0;34m**\u001b[0m\u001b[0mkwargs\u001b[0m\u001b[0;34m)\u001b[0m\u001b[0;34m\u001b[0m\u001b[0;34m\u001b[0m\u001b[0m\n\u001b[0m\u001b[1;32m     64\u001b[0m \u001b[0;34m\u001b[0m\u001b[0m\n\u001b[1;32m     65\u001b[0m             \u001b[0;31m# extra_args > 0\u001b[0m\u001b[0;34m\u001b[0m\u001b[0;34m\u001b[0m\u001b[0;34m\u001b[0m\u001b[0m\n",
      "\u001b[0;32m~/opt/anaconda3/lib/python3.8/site-packages/sklearn/utils/validation.py\u001b[0m in \u001b[0;36mcheck_array\u001b[0;34m(array, accept_sparse, accept_large_sparse, dtype, order, copy, force_all_finite, ensure_2d, allow_nd, ensure_min_samples, ensure_min_features, estimator)\u001b[0m\n\u001b[1;32m    661\u001b[0m \u001b[0;34m\u001b[0m\u001b[0m\n\u001b[1;32m    662\u001b[0m         \u001b[0;32mif\u001b[0m \u001b[0mforce_all_finite\u001b[0m\u001b[0;34m:\u001b[0m\u001b[0;34m\u001b[0m\u001b[0;34m\u001b[0m\u001b[0m\n\u001b[0;32m--> 663\u001b[0;31m             _assert_all_finite(array,\n\u001b[0m\u001b[1;32m    664\u001b[0m                                allow_nan=force_all_finite == 'allow-nan')\n\u001b[1;32m    665\u001b[0m \u001b[0;34m\u001b[0m\u001b[0m\n",
      "\u001b[0;32m~/opt/anaconda3/lib/python3.8/site-packages/sklearn/utils/validation.py\u001b[0m in \u001b[0;36m_assert_all_finite\u001b[0;34m(X, allow_nan, msg_dtype)\u001b[0m\n\u001b[1;32m    101\u001b[0m                 not allow_nan and not np.isfinite(X).all()):\n\u001b[1;32m    102\u001b[0m             \u001b[0mtype_err\u001b[0m \u001b[0;34m=\u001b[0m \u001b[0;34m'infinity'\u001b[0m \u001b[0;32mif\u001b[0m \u001b[0mallow_nan\u001b[0m \u001b[0;32melse\u001b[0m \u001b[0;34m'NaN, infinity'\u001b[0m\u001b[0;34m\u001b[0m\u001b[0;34m\u001b[0m\u001b[0m\n\u001b[0;32m--> 103\u001b[0;31m             raise ValueError(\n\u001b[0m\u001b[1;32m    104\u001b[0m                     \u001b[0mmsg_err\u001b[0m\u001b[0;34m.\u001b[0m\u001b[0mformat\u001b[0m\u001b[0;34m\u001b[0m\u001b[0;34m\u001b[0m\u001b[0m\n\u001b[1;32m    105\u001b[0m                     (type_err,\n",
      "\u001b[0;31mValueError\u001b[0m: Input contains NaN, infinity or a value too large for dtype('float64')."
     ]
    }
   ],
   "source": [
    "# CODE FOR LASSO REGRESSION on the entire dataset \n",
    "AirProps = (NewData[PropertyList] - NewData[PropertyList].mean())/NewData[PropertyList].std()\n",
    "AirProps.describe()\n",
    "\n",
    "X_train, X_test, y_train, y_test = train_test_split(AirProps.drop(columns=['90th Percentile AQI']),\n",
    "                                                    AirProps['90th Percentile AQI'], test_size=0.30, random_state=0)\n",
    "regr = Lasso(alpha=0.01)\n",
    "regr.fit(X_train,y_train)\n",
    "pred_train = regr.predict(X_train) \n",
    "pred_test = regr.predict(X_test)\n",
    "\n",
    "AirCoef = regr.coef_\n",
    "\n",
    "MSExTrain= mean_squared_error(y_train,pred_train)*NewData['90th Percentile AQI'].std()+NewData['90th Percentile AQI'].mean()\n",
    "RMSExTrain=np.power(MSExTrain,0.2)\n",
    "\n",
    "MSExTest= mean_squared_error(y_test,pred_test)*NewData['90th Percentile AQI'].std()+NewData['90th Percentile AQI'].mean()\n",
    "RMSExTest= np.power(MSExTest,0.2)\n",
    "\n",
    "\n",
    "# The root mean squared error\n",
    "print('Training root mean squared error for 90th Percentile AQI: %.2f'\n",
    "      % RMSExTrain)\n",
    "print('Test root mean squared error for 90th Percentile AQI: %.2f'\n",
    "      % RMSExTest)\n",
    "AQI_important = []\n",
    "for i in range(len(AirCoef)):\n",
    "    if AirCoef[i] != 0:\n",
    "        AQI_important.append(i)\n",
    "\n",
    "fig,ax = plt.subplots(1,1)\n",
    "ax.plot([-3, 10],[-3,10])\n",
    "ax.scatter(y_train,pred_train,alpha=0.1)\n",
    "ax.scatter(y_test,pred_test,alpha=0.1)\n",
    "# depends on the alpha value\n",
    "ax.legend(['y=x Line','Training','Test'])\n",
    "ax.set_xlabel('Experimental')\n",
    "ax.set_ylabel('Predicted')\n",
    "\n",
    "\n",
    "list1 = PropertyList[AQI_important]\n",
    "list2 = AQI_important\n",
    "important_features = pd.DataFrame(list(zip(list1, list2)), columns = ['Feature', 'Importance'])\n",
    "ordered_importance = (important_features.sort_values(by='Importance', ascending=False))\n",
    "display(ordered_importance.head())\n",
    "display(ordered_importance)"
   ]
  },
  {
   "cell_type": "code",
   "execution_count": null,
   "id": "ff4f68bf",
   "metadata": {},
   "outputs": [],
   "source": []
  }
 ],
 "metadata": {
  "kernelspec": {
   "display_name": "Python 3",
   "language": "python",
   "name": "python3"
  },
  "language_info": {
   "codemirror_mode": {
    "name": "ipython",
    "version": 3
   },
   "file_extension": ".py",
   "mimetype": "text/x-python",
   "name": "python",
   "nbconvert_exporter": "python",
   "pygments_lexer": "ipython3",
   "version": "3.8.8"
  }
 },
 "nbformat": 4,
 "nbformat_minor": 5
}
