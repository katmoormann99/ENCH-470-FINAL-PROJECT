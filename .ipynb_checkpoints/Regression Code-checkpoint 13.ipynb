{
 "cells": [
  {
   "cell_type": "code",
   "execution_count": 68,
   "id": "2bebfcb4",
   "metadata": {},
   "outputs": [],
   "source": [
    "import pandas as pd\n",
    "import numpy as np\n",
    "import matplotlib\n",
    "import matplotlib.pyplot as plt\n",
    "import plotly\n",
    "import plotly.graph_objects as go\n",
    "from plotly.subplots import make_subplots\n",
    "import plotly.graph_objects as go\n",
    "\n",
    "import sklearn\n",
    "from sklearn.model_selection import train_test_split\n",
    "from sklearn.linear_model import LinearRegression\n",
    "from sklearn.metrics import mean_squared_error\n",
    "from sklearn.linear_model import Ridge\n",
    "from sklearn.linear_model import Lasso\n",
    "import math\n",
    "\n",
    "from sklearn.ensemble import RandomForestClassifier\n",
    "from sklearn.ensemble import RandomForestRegressor\n",
    "from sklearn.datasets import make_regression\n",
    "from sklearn.preprocessing import scale\n",
    "import matplotlib.pyplot as plt\n",
    "from sklearn import set_config \n",
    "\n",
    "from sklearn.linear_model import LogisticRegression\n",
    "from sklearn.inspection import permutation_importance\n",
    " "
   ]
  },
  {
   "cell_type": "code",
   "execution_count": 69,
   "id": "5ae53cac",
   "metadata": {},
   "outputs": [],
   "source": [
    "DataFrame = pd.read_csv('updated_12_07_population_loged.csv')\n",
    "\n",
    "# Organizing the AQI \n",
    "AQI_Sort = DataFrame.sort_values(['90th Percentile AQI']) # Sorts the AQI according towards Median AQI \n",
    "AQI_Sort = AQI_Sort.reset_index(drop=True)\n",
    "\n",
    "# Separating the 90th Percentile AQI into Good, Moderate,Lightly Polluted, Moderately Pollued, and Hazardous Air Quality According to EPA Standards\n",
    "DataFrame.loc[DataFrame['90th Percentile AQI'] <= 50, 'Quality'] = 'Good'\n",
    "DataFrame.loc[(DataFrame['90th Percentile AQI'] >= 51) & (DataFrame['90th Percentile AQI'] <= 100), 'Quality'] = 'Moderate'\n",
    "DataFrame.loc[DataFrame['90th Percentile AQI'] >=101, 'Quality'] = 'Unhealthy'\n",
    "\n",
    "data = DataFrame['Quality'].value_counts().to_frame('counts')\n",
    "\n",
    "Good = DataFrame[DataFrame['Quality'].str.contains('Good')]\n",
    "Moderate = DataFrame[DataFrame['Quality'].str.contains('Moderate')]\n",
    "Unhealthy = DataFrame[DataFrame['Quality'].str.contains('Unhealthy')]\n",
    "\n"
   ]
  },
  {
   "cell_type": "code",
   "execution_count": 70,
   "id": "3e7e6acf",
   "metadata": {},
   "outputs": [
    {
     "data": {
      "text/html": [
       "<div>\n",
       "<style scoped>\n",
       "    .dataframe tbody tr th:only-of-type {\n",
       "        vertical-align: middle;\n",
       "    }\n",
       "\n",
       "    .dataframe tbody tr th {\n",
       "        vertical-align: top;\n",
       "    }\n",
       "\n",
       "    .dataframe thead th {\n",
       "        text-align: right;\n",
       "    }\n",
       "</style>\n",
       "<table border=\"1\" class=\"dataframe\">\n",
       "  <thead>\n",
       "    <tr style=\"text-align: right;\">\n",
       "      <th></th>\n",
       "      <th>counts</th>\n",
       "      <th>Fraction</th>\n",
       "    </tr>\n",
       "  </thead>\n",
       "  <tbody>\n",
       "    <tr>\n",
       "      <th>Moderate</th>\n",
       "      <td>397</td>\n",
       "      <td>0.499371</td>\n",
       "    </tr>\n",
       "    <tr>\n",
       "      <th>Good</th>\n",
       "      <td>381</td>\n",
       "      <td>0.479245</td>\n",
       "    </tr>\n",
       "    <tr>\n",
       "      <th>Unhealthy</th>\n",
       "      <td>17</td>\n",
       "      <td>0.021384</td>\n",
       "    </tr>\n",
       "  </tbody>\n",
       "</table>\n",
       "</div>"
      ],
      "text/plain": [
       "           counts  Fraction\n",
       "Moderate      397  0.499371\n",
       "Good          381  0.479245\n",
       "Unhealthy      17  0.021384"
      ]
     },
     "execution_count": 70,
     "metadata": {},
     "output_type": "execute_result"
    }
   ],
   "source": [
    "data = DataFrame['Quality'].value_counts().to_frame('counts')\n",
    "count=len(DataFrame.index)\n",
    "data['Fraction']=data['counts']/count\n",
    "data\n",
    "\n",
    "# tell a story with this portion of code - what county is the one that is hazardous"
   ]
  },
  {
   "cell_type": "code",
   "execution_count": 71,
   "id": "80afbc85",
   "metadata": {},
   "outputs": [
    {
     "data": {
      "text/html": [
       "<div>\n",
       "<style scoped>\n",
       "    .dataframe tbody tr th:only-of-type {\n",
       "        vertical-align: middle;\n",
       "    }\n",
       "\n",
       "    .dataframe tbody tr th {\n",
       "        vertical-align: top;\n",
       "    }\n",
       "\n",
       "    .dataframe thead th {\n",
       "        text-align: right;\n",
       "    }\n",
       "</style>\n",
       "<table border=\"1\" class=\"dataframe\">\n",
       "  <thead>\n",
       "    <tr style=\"text-align: right;\">\n",
       "      <th></th>\n",
       "      <th>State</th>\n",
       "      <th>County</th>\n",
       "      <th>Abbreviation</th>\n",
       "      <th>Max AQI</th>\n",
       "      <th>90th Percentile AQI</th>\n",
       "      <th>Median AQI</th>\n",
       "      <th>Percent of adults with a high school diploma only, 2015-19</th>\n",
       "      <th>Percent of adults with a bachelor's degree or higher, 2015-19</th>\n",
       "      <th># Employed</th>\n",
       "      <th># Unemployed</th>\n",
       "      <th>Male</th>\n",
       "      <th>Female</th>\n",
       "      <th>Median Age</th>\n",
       "      <th>Population (2014-2020)</th>\n",
       "      <th>Total Votes 2020</th>\n",
       "      <th>Votes 2020 Donald Trump</th>\n",
       "      <th>Votes 2020  Joe Biden</th>\n",
       "      <th>Income</th>\n",
       "      <th>Professional</th>\n",
       "      <th>Service</th>\n",
       "      <th>Office</th>\n",
       "      <th>Construction</th>\n",
       "      <th>Production</th>\n",
       "      <th>WorkAtHome</th>\n",
       "      <th>Mean Commute (minutes)</th>\n",
       "      <th>Batteries</th>\n",
       "      <th>CoalIntegratedGasificationCombinedCycle</th>\n",
       "      <th>ConventionalHydroelectric</th>\n",
       "      <th>ConventionalSteamCoal</th>\n",
       "      <th>Flywheels</th>\n",
       "      <th>Geothermal</th>\n",
       "      <th>HydroelectricPumpedStorage</th>\n",
       "      <th>LandfillGas</th>\n",
       "      <th>MunicipalSolidWaste</th>\n",
       "      <th>NaturalGasFiredCombinedCycle</th>\n",
       "      <th>NaturalGasFiredCombustionTurbine</th>\n",
       "      <th>NaturalGasInternalCombustionEngine</th>\n",
       "      <th>NaturalGasSteamTurbine</th>\n",
       "      <th>NaturalGaswithCompressedAirStorage</th>\n",
       "      <th>Nuclear</th>\n",
       "      <th>OffshoreWindTurbine</th>\n",
       "      <th>OnshoreWindTurbine</th>\n",
       "      <th>OtherGases</th>\n",
       "      <th>OtherNaturalGas</th>\n",
       "      <th>OtherWasteBiomass</th>\n",
       "      <th>PetroleumCoke</th>\n",
       "      <th>PetroleumLiquids</th>\n",
       "      <th>SolarPhotovoltaic</th>\n",
       "      <th>SolarThermalwithEnergyStorage</th>\n",
       "      <th>SolarThermalwithoutEnergyStorage</th>\n",
       "      <th>Wood/WoodWasteBiomass</th>\n",
       "      <th>Percent of people in poverty 2019</th>\n",
       "      <th>Quality</th>\n",
       "      <th>Train</th>\n",
       "    </tr>\n",
       "  </thead>\n",
       "  <tbody>\n",
       "    <tr>\n",
       "      <th>0</th>\n",
       "      <td>Alabama</td>\n",
       "      <td>Baldwin</td>\n",
       "      <td>AlabamaBaldwin</td>\n",
       "      <td>74</td>\n",
       "      <td>49</td>\n",
       "      <td>36</td>\n",
       "      <td>27.7</td>\n",
       "      <td>31.9</td>\n",
       "      <td>4.960651</td>\n",
       "      <td>3.734400</td>\n",
       "      <td>5.005129</td>\n",
       "      <td>5.029055</td>\n",
       "      <td>42.8</td>\n",
       "      <td>5.318287</td>\n",
       "      <td>5.037207</td>\n",
       "      <td>4.919366</td>\n",
       "      <td>4.386392</td>\n",
       "      <td>52562</td>\n",
       "      <td>35.7</td>\n",
       "      <td>18.2</td>\n",
       "      <td>25.6</td>\n",
       "      <td>9.7</td>\n",
       "      <td>10.8</td>\n",
       "      <td>5.6</td>\n",
       "      <td>27.0</td>\n",
       "      <td>0</td>\n",
       "      <td>0</td>\n",
       "      <td>2</td>\n",
       "      <td>0</td>\n",
       "      <td>0</td>\n",
       "      <td>0</td>\n",
       "      <td>0</td>\n",
       "      <td>0</td>\n",
       "      <td>0</td>\n",
       "      <td>0</td>\n",
       "      <td>0</td>\n",
       "      <td>0</td>\n",
       "      <td>0</td>\n",
       "      <td>0</td>\n",
       "      <td>0</td>\n",
       "      <td>0</td>\n",
       "      <td>0</td>\n",
       "      <td>0</td>\n",
       "      <td>0</td>\n",
       "      <td>0</td>\n",
       "      <td>0</td>\n",
       "      <td>0</td>\n",
       "      <td>0</td>\n",
       "      <td>0</td>\n",
       "      <td>0</td>\n",
       "      <td>0</td>\n",
       "      <td>10.1</td>\n",
       "      <td>Good</td>\n",
       "      <td>False</td>\n",
       "    </tr>\n",
       "    <tr>\n",
       "      <th>1</th>\n",
       "      <td>Alabama</td>\n",
       "      <td>Russell</td>\n",
       "      <td>AlabamaRussell</td>\n",
       "      <td>99</td>\n",
       "      <td>56</td>\n",
       "      <td>36</td>\n",
       "      <td>31.4</td>\n",
       "      <td>17.8</td>\n",
       "      <td>4.348110</td>\n",
       "      <td>3.082785</td>\n",
       "      <td>4.449077</td>\n",
       "      <td>4.478408</td>\n",
       "      <td>35.9</td>\n",
       "      <td>4.765020</td>\n",
       "      <td>4.324447</td>\n",
       "      <td>3.991049</td>\n",
       "      <td>4.044461</td>\n",
       "      <td>38988</td>\n",
       "      <td>28.7</td>\n",
       "      <td>20.2</td>\n",
       "      <td>25.2</td>\n",
       "      <td>9.4</td>\n",
       "      <td>16.4</td>\n",
       "      <td>2.8</td>\n",
       "      <td>24.1</td>\n",
       "      <td>0</td>\n",
       "      <td>0</td>\n",
       "      <td>6</td>\n",
       "      <td>0</td>\n",
       "      <td>0</td>\n",
       "      <td>0</td>\n",
       "      <td>0</td>\n",
       "      <td>0</td>\n",
       "      <td>0</td>\n",
       "      <td>0</td>\n",
       "      <td>3</td>\n",
       "      <td>3</td>\n",
       "      <td>2</td>\n",
       "      <td>0</td>\n",
       "      <td>0</td>\n",
       "      <td>0</td>\n",
       "      <td>0</td>\n",
       "      <td>0</td>\n",
       "      <td>0</td>\n",
       "      <td>0</td>\n",
       "      <td>0</td>\n",
       "      <td>2</td>\n",
       "      <td>0</td>\n",
       "      <td>0</td>\n",
       "      <td>0</td>\n",
       "      <td>2</td>\n",
       "      <td>18.9</td>\n",
       "      <td>Moderate</td>\n",
       "      <td>True</td>\n",
       "    </tr>\n",
       "    <tr>\n",
       "      <th>2</th>\n",
       "      <td>Alabama</td>\n",
       "      <td>Shelby</td>\n",
       "      <td>AlabamaShelby</td>\n",
       "      <td>71</td>\n",
       "      <td>46</td>\n",
       "      <td>28</td>\n",
       "      <td>19.8</td>\n",
       "      <td>42.9</td>\n",
       "      <td>5.039993</td>\n",
       "      <td>3.643650</td>\n",
       "      <td>5.010631</td>\n",
       "      <td>5.036561</td>\n",
       "      <td>38.9</td>\n",
       "      <td>5.324819</td>\n",
       "      <td>5.058574</td>\n",
       "      <td>4.899974</td>\n",
       "      <td>4.518987</td>\n",
       "      <td>74063</td>\n",
       "      <td>44.3</td>\n",
       "      <td>13.7</td>\n",
       "      <td>26.8</td>\n",
       "      <td>7.4</td>\n",
       "      <td>7.7</td>\n",
       "      <td>4.9</td>\n",
       "      <td>28.0</td>\n",
       "      <td>0</td>\n",
       "      <td>0</td>\n",
       "      <td>0</td>\n",
       "      <td>1</td>\n",
       "      <td>0</td>\n",
       "      <td>0</td>\n",
       "      <td>0</td>\n",
       "      <td>0</td>\n",
       "      <td>0</td>\n",
       "      <td>6</td>\n",
       "      <td>28</td>\n",
       "      <td>0</td>\n",
       "      <td>5</td>\n",
       "      <td>0</td>\n",
       "      <td>0</td>\n",
       "      <td>0</td>\n",
       "      <td>0</td>\n",
       "      <td>0</td>\n",
       "      <td>0</td>\n",
       "      <td>0</td>\n",
       "      <td>0</td>\n",
       "      <td>17</td>\n",
       "      <td>4</td>\n",
       "      <td>0</td>\n",
       "      <td>0</td>\n",
       "      <td>0</td>\n",
       "      <td>6.2</td>\n",
       "      <td>Good</td>\n",
       "      <td>False</td>\n",
       "    </tr>\n",
       "    <tr>\n",
       "      <th>3</th>\n",
       "      <td>Indiana</td>\n",
       "      <td>Shelby</td>\n",
       "      <td>IndianaShelby</td>\n",
       "      <td>115</td>\n",
       "      <td>46</td>\n",
       "      <td>32</td>\n",
       "      <td>42.4</td>\n",
       "      <td>18.7</td>\n",
       "      <td>4.331286</td>\n",
       "      <td>3.215638</td>\n",
       "      <td>4.341256</td>\n",
       "      <td>4.351371</td>\n",
       "      <td>41.0</td>\n",
       "      <td>4.647373</td>\n",
       "      <td>4.301399</td>\n",
       "      <td>4.163400</td>\n",
       "      <td>3.700963</td>\n",
       "      <td>57216</td>\n",
       "      <td>28.7</td>\n",
       "      <td>17.1</td>\n",
       "      <td>19.9</td>\n",
       "      <td>11.4</td>\n",
       "      <td>22.9</td>\n",
       "      <td>2.5</td>\n",
       "      <td>23.5</td>\n",
       "      <td>0</td>\n",
       "      <td>0</td>\n",
       "      <td>0</td>\n",
       "      <td>1</td>\n",
       "      <td>0</td>\n",
       "      <td>0</td>\n",
       "      <td>0</td>\n",
       "      <td>0</td>\n",
       "      <td>0</td>\n",
       "      <td>6</td>\n",
       "      <td>28</td>\n",
       "      <td>0</td>\n",
       "      <td>5</td>\n",
       "      <td>0</td>\n",
       "      <td>0</td>\n",
       "      <td>0</td>\n",
       "      <td>0</td>\n",
       "      <td>0</td>\n",
       "      <td>0</td>\n",
       "      <td>0</td>\n",
       "      <td>0</td>\n",
       "      <td>17</td>\n",
       "      <td>4</td>\n",
       "      <td>0</td>\n",
       "      <td>0</td>\n",
       "      <td>0</td>\n",
       "      <td>10.1</td>\n",
       "      <td>Good</td>\n",
       "      <td>True</td>\n",
       "    </tr>\n",
       "    <tr>\n",
       "      <th>4</th>\n",
       "      <td>Tennessee</td>\n",
       "      <td>Shelby</td>\n",
       "      <td>TennesseeShelby</td>\n",
       "      <td>152</td>\n",
       "      <td>61</td>\n",
       "      <td>44</td>\n",
       "      <td>27.5</td>\n",
       "      <td>31.6</td>\n",
       "      <td>5.606926</td>\n",
       "      <td>4.636107</td>\n",
       "      <td>5.649329</td>\n",
       "      <td>5.691091</td>\n",
       "      <td>35.4</td>\n",
       "      <td>5.971742</td>\n",
       "      <td>5.581902</td>\n",
       "      <td>5.112414</td>\n",
       "      <td>5.389535</td>\n",
       "      <td>48415</td>\n",
       "      <td>35.1</td>\n",
       "      <td>18.0</td>\n",
       "      <td>24.7</td>\n",
       "      <td>6.8</td>\n",
       "      <td>15.3</td>\n",
       "      <td>3.2</td>\n",
       "      <td>22.9</td>\n",
       "      <td>0</td>\n",
       "      <td>0</td>\n",
       "      <td>0</td>\n",
       "      <td>1</td>\n",
       "      <td>0</td>\n",
       "      <td>0</td>\n",
       "      <td>0</td>\n",
       "      <td>0</td>\n",
       "      <td>0</td>\n",
       "      <td>6</td>\n",
       "      <td>28</td>\n",
       "      <td>0</td>\n",
       "      <td>5</td>\n",
       "      <td>0</td>\n",
       "      <td>0</td>\n",
       "      <td>0</td>\n",
       "      <td>0</td>\n",
       "      <td>0</td>\n",
       "      <td>0</td>\n",
       "      <td>0</td>\n",
       "      <td>0</td>\n",
       "      <td>17</td>\n",
       "      <td>4</td>\n",
       "      <td>0</td>\n",
       "      <td>0</td>\n",
       "      <td>0</td>\n",
       "      <td>17.2</td>\n",
       "      <td>Moderate</td>\n",
       "      <td>True</td>\n",
       "    </tr>\n",
       "  </tbody>\n",
       "</table>\n",
       "</div>"
      ],
      "text/plain": [
       "       State   County     Abbreviation  Max AQI  90th Percentile AQI  \\\n",
       "0    Alabama  Baldwin   AlabamaBaldwin       74                   49   \n",
       "1    Alabama  Russell   AlabamaRussell       99                   56   \n",
       "2    Alabama   Shelby    AlabamaShelby       71                   46   \n",
       "3    Indiana   Shelby    IndianaShelby      115                   46   \n",
       "4  Tennessee   Shelby  TennesseeShelby      152                   61   \n",
       "\n",
       "   Median AQI  Percent of adults with a high school diploma only, 2015-19  \\\n",
       "0          36                                               27.7            \n",
       "1          36                                               31.4            \n",
       "2          28                                               19.8            \n",
       "3          32                                               42.4            \n",
       "4          44                                               27.5            \n",
       "\n",
       "   Percent of adults with a bachelor's degree or higher, 2015-19  # Employed  \\\n",
       "0                                               31.9                4.960651   \n",
       "1                                               17.8                4.348110   \n",
       "2                                               42.9                5.039993   \n",
       "3                                               18.7                4.331286   \n",
       "4                                               31.6                5.606926   \n",
       "\n",
       "   # Unemployed      Male    Female  Median Age  Population (2014-2020)  \\\n",
       "0      3.734400  5.005129  5.029055        42.8                5.318287   \n",
       "1      3.082785  4.449077  4.478408        35.9                4.765020   \n",
       "2      3.643650  5.010631  5.036561        38.9                5.324819   \n",
       "3      3.215638  4.341256  4.351371        41.0                4.647373   \n",
       "4      4.636107  5.649329  5.691091        35.4                5.971742   \n",
       "\n",
       "   Total Votes 2020  Votes 2020 Donald Trump  Votes 2020  Joe Biden  Income  \\\n",
       "0          5.037207                 4.919366               4.386392   52562   \n",
       "1          4.324447                 3.991049               4.044461   38988   \n",
       "2          5.058574                 4.899974               4.518987   74063   \n",
       "3          4.301399                 4.163400               3.700963   57216   \n",
       "4          5.581902                 5.112414               5.389535   48415   \n",
       "\n",
       "   Professional  Service  Office  Construction  Production  WorkAtHome  \\\n",
       "0          35.7     18.2    25.6           9.7        10.8         5.6   \n",
       "1          28.7     20.2    25.2           9.4        16.4         2.8   \n",
       "2          44.3     13.7    26.8           7.4         7.7         4.9   \n",
       "3          28.7     17.1    19.9          11.4        22.9         2.5   \n",
       "4          35.1     18.0    24.7           6.8        15.3         3.2   \n",
       "\n",
       "   Mean Commute (minutes)  Batteries  CoalIntegratedGasificationCombinedCycle  \\\n",
       "0                    27.0          0                                        0   \n",
       "1                    24.1          0                                        0   \n",
       "2                    28.0          0                                        0   \n",
       "3                    23.5          0                                        0   \n",
       "4                    22.9          0                                        0   \n",
       "\n",
       "   ConventionalHydroelectric  ConventionalSteamCoal  Flywheels  Geothermal  \\\n",
       "0                          2                      0          0           0   \n",
       "1                          6                      0          0           0   \n",
       "2                          0                      1          0           0   \n",
       "3                          0                      1          0           0   \n",
       "4                          0                      1          0           0   \n",
       "\n",
       "   HydroelectricPumpedStorage  LandfillGas  MunicipalSolidWaste  \\\n",
       "0                           0            0                    0   \n",
       "1                           0            0                    0   \n",
       "2                           0            0                    0   \n",
       "3                           0            0                    0   \n",
       "4                           0            0                    0   \n",
       "\n",
       "   NaturalGasFiredCombinedCycle  NaturalGasFiredCombustionTurbine  \\\n",
       "0                             0                                 0   \n",
       "1                             0                                 3   \n",
       "2                             6                                28   \n",
       "3                             6                                28   \n",
       "4                             6                                28   \n",
       "\n",
       "   NaturalGasInternalCombustionEngine  NaturalGasSteamTurbine  \\\n",
       "0                                   0                       0   \n",
       "1                                   3                       2   \n",
       "2                                   0                       5   \n",
       "3                                   0                       5   \n",
       "4                                   0                       5   \n",
       "\n",
       "   NaturalGaswithCompressedAirStorage  Nuclear  OffshoreWindTurbine  \\\n",
       "0                                   0        0                    0   \n",
       "1                                   0        0                    0   \n",
       "2                                   0        0                    0   \n",
       "3                                   0        0                    0   \n",
       "4                                   0        0                    0   \n",
       "\n",
       "   OnshoreWindTurbine  OtherGases  OtherNaturalGas  OtherWasteBiomass  \\\n",
       "0                   0           0                0                  0   \n",
       "1                   0           0                0                  0   \n",
       "2                   0           0                0                  0   \n",
       "3                   0           0                0                  0   \n",
       "4                   0           0                0                  0   \n",
       "\n",
       "   PetroleumCoke  PetroleumLiquids  SolarPhotovoltaic  \\\n",
       "0              0                 0                  0   \n",
       "1              0                 2                  0   \n",
       "2              0                17                  4   \n",
       "3              0                17                  4   \n",
       "4              0                17                  4   \n",
       "\n",
       "   SolarThermalwithEnergyStorage  SolarThermalwithoutEnergyStorage  \\\n",
       "0                              0                                 0   \n",
       "1                              0                                 0   \n",
       "2                              0                                 0   \n",
       "3                              0                                 0   \n",
       "4                              0                                 0   \n",
       "\n",
       "   Wood/WoodWasteBiomass  Percent of people in poverty 2019   Quality  Train  \n",
       "0                      0                               10.1      Good  False  \n",
       "1                      2                               18.9  Moderate   True  \n",
       "2                      0                                6.2      Good  False  \n",
       "3                      0                               10.1      Good   True  \n",
       "4                      0                               17.2  Moderate   True  "
      ]
     },
     "execution_count": 71,
     "metadata": {},
     "output_type": "execute_result"
    }
   ],
   "source": [
    "# Creating Test and Train Data\n",
    "pd.set_option(\"display.max_columns\", 55)\n",
    "DataFrame['Train'] = np.random.uniform(0,1,len(DataFrame)) <= .75\n",
    "DataFrame.head()"
   ]
  },
  {
   "cell_type": "code",
   "execution_count": 72,
   "id": "254f2f5f",
   "metadata": {},
   "outputs": [
    {
     "name": "stdout",
     "output_type": "stream",
     "text": [
      "Number of observations in the training data: 618\n",
      "Number of observations in the test data: 177\n"
     ]
    }
   ],
   "source": [
    "# Creating dataframes with test rows and training rows \n",
    "train,test = DataFrame[DataFrame['Train']==True], DataFrame[DataFrame['Train'] == False]\n",
    "\n",
    "# Show the number of observations for the test and training dataframes\n",
    "print('Number of observations in the training data:',len(train))\n",
    "print('Number of observations in the test data:',len(test))"
   ]
  },
  {
   "cell_type": "code",
   "execution_count": 73,
   "id": "3971f38a",
   "metadata": {},
   "outputs": [
    {
     "data": {
      "text/plain": [
       "RandomForestClassifier(n_estimators=10, n_jobs=5, random_state=0)"
      ]
     },
     "execution_count": 73,
     "metadata": {},
     "output_type": "execute_result"
    }
   ],
   "source": [
    "DataFrame.fillna(0)\n",
    "\n",
    "features = DataFrame.columns[7:52]\n",
    "\n",
    "# Converting each Quality name into digits\n",
    "y = pd.factorize(train['Quality'])[0]\n",
    "\n",
    "# Creating a random forest Classifier \n",
    "clf = RandomForestClassifier(n_estimators=10,n_jobs=5,random_state=0)\n",
    "x = np.float32(train[features])\n",
    "x = np.nan_to_num(x, nan=0, posinf=100000, neginf=-100000)\n",
    "\n",
    "y = np.float32(y)\n",
    "\n",
    "#Training the classifier\n",
    "clf.fit(x,y)"
   ]
  },
  {
   "cell_type": "code",
   "execution_count": 74,
   "id": "d513961f",
   "metadata": {},
   "outputs": [],
   "source": [
    "# Applying the trained Classifier to the test \n",
    "x = np.float32(test[features])\n",
    "x = np.nan_to_num(x, nan=0, posinf=100000, neginf=-100000)"
   ]
  },
  {
   "cell_type": "code",
   "execution_count": 75,
   "id": "47d7d783",
   "metadata": {},
   "outputs": [],
   "source": [
    "# Mapping Quality for the Counties for each predicted AQI class \n",
    "preds = DataFrame.Quality[clf.predict(x)]"
   ]
  },
  {
   "cell_type": "code",
   "execution_count": 76,
   "id": "46641695",
   "metadata": {},
   "outputs": [],
   "source": [
    "# Viewing the ACTUAL species for the first five observations\n",
    "test_list = list(test['Quality'])\n"
   ]
  },
  {
   "cell_type": "code",
   "execution_count": 77,
   "id": "5f1bdbef",
   "metadata": {},
   "outputs": [],
   "source": [
    "preds_list = list(preds)"
   ]
  },
  {
   "cell_type": "code",
   "execution_count": 78,
   "id": "581bbf7c",
   "metadata": {},
   "outputs": [],
   "source": [
    "d= {'Preds':preds_list,'Test':test_list}\n",
    "df = pd.DataFrame(d)"
   ]
  },
  {
   "cell_type": "code",
   "execution_count": 79,
   "id": "01f12c8c",
   "metadata": {},
   "outputs": [
    {
     "data": {
      "text/html": [
       "<div>\n",
       "<style scoped>\n",
       "    .dataframe tbody tr th:only-of-type {\n",
       "        vertical-align: middle;\n",
       "    }\n",
       "\n",
       "    .dataframe tbody tr th {\n",
       "        vertical-align: top;\n",
       "    }\n",
       "\n",
       "    .dataframe thead th {\n",
       "        text-align: right;\n",
       "    }\n",
       "</style>\n",
       "<table border=\"1\" class=\"dataframe\">\n",
       "  <thead>\n",
       "    <tr style=\"text-align: right;\">\n",
       "      <th>Test</th>\n",
       "      <th>Good</th>\n",
       "      <th>Moderate</th>\n",
       "      <th>Unhealthy</th>\n",
       "    </tr>\n",
       "    <tr>\n",
       "      <th>Preds</th>\n",
       "      <th></th>\n",
       "      <th></th>\n",
       "      <th></th>\n",
       "    </tr>\n",
       "  </thead>\n",
       "  <tbody>\n",
       "    <tr>\n",
       "      <th>Good</th>\n",
       "      <td>39</td>\n",
       "      <td>60</td>\n",
       "      <td>5</td>\n",
       "    </tr>\n",
       "    <tr>\n",
       "      <th>Moderate</th>\n",
       "      <td>44</td>\n",
       "      <td>29</td>\n",
       "      <td>0</td>\n",
       "    </tr>\n",
       "  </tbody>\n",
       "</table>\n",
       "</div>"
      ],
      "text/plain": [
       "Test      Good  Moderate  Unhealthy\n",
       "Preds                              \n",
       "Good        39        60          5\n",
       "Moderate    44        29          0"
      ]
     },
     "execution_count": 79,
     "metadata": {},
     "output_type": "execute_result"
    }
   ],
   "source": [
    "df = pd.crosstab(df.Preds,df.Test)\n",
    "df"
   ]
  },
  {
   "cell_type": "code",
   "execution_count": 80,
   "id": "bd443f95",
   "metadata": {},
   "outputs": [
    {
     "name": "stdout",
     "output_type": "stream",
     "text": [
      "The accuracy of this classification model is 0.384180790960452\n"
     ]
    }
   ],
   "source": [
    "accurate = df.loc['Good','Good'] + df.loc['Moderate','Moderate']\n",
    "total = df.sum().sum()\n",
    "accuracy = accurate/total\n",
    "print(\"The accuracy of this classification model is\", accuracy) "
   ]
  },
  {
   "cell_type": "code",
   "execution_count": 81,
   "id": "8a929a42",
   "metadata": {},
   "outputs": [
    {
     "name": "stdout",
     "output_type": "stream",
     "text": [
      "R-squared: 0.8977705881216561\n"
     ]
    },
    {
     "data": {
      "text/html": [
       "<div>\n",
       "<style scoped>\n",
       "    .dataframe tbody tr th:only-of-type {\n",
       "        vertical-align: middle;\n",
       "    }\n",
       "\n",
       "    .dataframe tbody tr th {\n",
       "        vertical-align: top;\n",
       "    }\n",
       "\n",
       "    .dataframe thead th {\n",
       "        text-align: right;\n",
       "    }\n",
       "</style>\n",
       "<table border=\"1\" class=\"dataframe\">\n",
       "  <thead>\n",
       "    <tr style=\"text-align: right;\">\n",
       "      <th></th>\n",
       "      <th>Feature</th>\n",
       "      <th>Importance</th>\n",
       "    </tr>\n",
       "  </thead>\n",
       "  <tbody>\n",
       "    <tr>\n",
       "      <th>3</th>\n",
       "      <td># Unemployed</td>\n",
       "      <td>0.080234</td>\n",
       "    </tr>\n",
       "    <tr>\n",
       "      <th>15</th>\n",
       "      <td>Construction</td>\n",
       "      <td>0.077018</td>\n",
       "    </tr>\n",
       "    <tr>\n",
       "      <th>13</th>\n",
       "      <td>Service</td>\n",
       "      <td>0.065663</td>\n",
       "    </tr>\n",
       "    <tr>\n",
       "      <th>24</th>\n",
       "      <td>Geothermal</td>\n",
       "      <td>0.061810</td>\n",
       "    </tr>\n",
       "    <tr>\n",
       "      <th>1</th>\n",
       "      <td>Percent of adults with a bachelor's degree or ...</td>\n",
       "      <td>0.054151</td>\n",
       "    </tr>\n",
       "  </tbody>\n",
       "</table>\n",
       "</div>"
      ],
      "text/plain": [
       "                                              Feature  Importance\n",
       "3                                        # Unemployed    0.080234\n",
       "15                                       Construction    0.077018\n",
       "13                                            Service    0.065663\n",
       "24                                         Geothermal    0.061810\n",
       "1   Percent of adults with a bachelor's degree or ...    0.054151"
      ]
     },
     "metadata": {},
     "output_type": "display_data"
    },
    {
     "data": {
      "text/html": [
       "<div>\n",
       "<style scoped>\n",
       "    .dataframe tbody tr th:only-of-type {\n",
       "        vertical-align: middle;\n",
       "    }\n",
       "\n",
       "    .dataframe tbody tr th {\n",
       "        vertical-align: top;\n",
       "    }\n",
       "\n",
       "    .dataframe thead th {\n",
       "        text-align: right;\n",
       "    }\n",
       "</style>\n",
       "<table border=\"1\" class=\"dataframe\">\n",
       "  <thead>\n",
       "    <tr style=\"text-align: right;\">\n",
       "      <th></th>\n",
       "      <th>Feature</th>\n",
       "      <th>Importance</th>\n",
       "    </tr>\n",
       "  </thead>\n",
       "  <tbody>\n",
       "    <tr>\n",
       "      <th>3</th>\n",
       "      <td># Unemployed</td>\n",
       "      <td>0.080234</td>\n",
       "    </tr>\n",
       "    <tr>\n",
       "      <th>15</th>\n",
       "      <td>Construction</td>\n",
       "      <td>0.077018</td>\n",
       "    </tr>\n",
       "    <tr>\n",
       "      <th>13</th>\n",
       "      <td>Service</td>\n",
       "      <td>0.065663</td>\n",
       "    </tr>\n",
       "    <tr>\n",
       "      <th>24</th>\n",
       "      <td>Geothermal</td>\n",
       "      <td>0.061810</td>\n",
       "    </tr>\n",
       "    <tr>\n",
       "      <th>1</th>\n",
       "      <td>Percent of adults with a bachelor's degree or ...</td>\n",
       "      <td>0.054151</td>\n",
       "    </tr>\n",
       "    <tr>\n",
       "      <th>4</th>\n",
       "      <td>Male</td>\n",
       "      <td>0.049360</td>\n",
       "    </tr>\n",
       "    <tr>\n",
       "      <th>9</th>\n",
       "      <td>Votes 2020 Donald Trump</td>\n",
       "      <td>0.047712</td>\n",
       "    </tr>\n",
       "    <tr>\n",
       "      <th>6</th>\n",
       "      <td>Median Age</td>\n",
       "      <td>0.043692</td>\n",
       "    </tr>\n",
       "    <tr>\n",
       "      <th>17</th>\n",
       "      <td>WorkAtHome</td>\n",
       "      <td>0.040114</td>\n",
       "    </tr>\n",
       "    <tr>\n",
       "      <th>8</th>\n",
       "      <td>Total Votes 2020</td>\n",
       "      <td>0.039362</td>\n",
       "    </tr>\n",
       "    <tr>\n",
       "      <th>5</th>\n",
       "      <td>Female</td>\n",
       "      <td>0.033997</td>\n",
       "    </tr>\n",
       "    <tr>\n",
       "      <th>10</th>\n",
       "      <td>Votes 2020  Joe Biden</td>\n",
       "      <td>0.032309</td>\n",
       "    </tr>\n",
       "    <tr>\n",
       "      <th>7</th>\n",
       "      <td>Population (2014-2020)</td>\n",
       "      <td>0.030375</td>\n",
       "    </tr>\n",
       "    <tr>\n",
       "      <th>0</th>\n",
       "      <td>Percent of adults with a high school diploma o...</td>\n",
       "      <td>0.029922</td>\n",
       "    </tr>\n",
       "    <tr>\n",
       "      <th>12</th>\n",
       "      <td>Professional</td>\n",
       "      <td>0.027475</td>\n",
       "    </tr>\n",
       "    <tr>\n",
       "      <th>18</th>\n",
       "      <td>Mean Commute (minutes)</td>\n",
       "      <td>0.025856</td>\n",
       "    </tr>\n",
       "    <tr>\n",
       "      <th>41</th>\n",
       "      <td>SolarPhotovoltaic</td>\n",
       "      <td>0.024761</td>\n",
       "    </tr>\n",
       "    <tr>\n",
       "      <th>2</th>\n",
       "      <td># Employed</td>\n",
       "      <td>0.021577</td>\n",
       "    </tr>\n",
       "    <tr>\n",
       "      <th>14</th>\n",
       "      <td>Office</td>\n",
       "      <td>0.021208</td>\n",
       "    </tr>\n",
       "    <tr>\n",
       "      <th>45</th>\n",
       "      <td>Percent of people in poverty 2019</td>\n",
       "      <td>0.021003</td>\n",
       "    </tr>\n",
       "    <tr>\n",
       "      <th>16</th>\n",
       "      <td>Production</td>\n",
       "      <td>0.020486</td>\n",
       "    </tr>\n",
       "    <tr>\n",
       "      <th>43</th>\n",
       "      <td>SolarThermalwithoutEnergyStorage</td>\n",
       "      <td>0.016433</td>\n",
       "    </tr>\n",
       "    <tr>\n",
       "      <th>11</th>\n",
       "      <td>Income</td>\n",
       "      <td>0.016300</td>\n",
       "    </tr>\n",
       "    <tr>\n",
       "      <th>21</th>\n",
       "      <td>ConventionalHydroelectric</td>\n",
       "      <td>0.016178</td>\n",
       "    </tr>\n",
       "    <tr>\n",
       "      <th>28</th>\n",
       "      <td>NaturalGasFiredCombinedCycle</td>\n",
       "      <td>0.015341</td>\n",
       "    </tr>\n",
       "    <tr>\n",
       "      <th>42</th>\n",
       "      <td>SolarThermalwithEnergyStorage</td>\n",
       "      <td>0.013817</td>\n",
       "    </tr>\n",
       "    <tr>\n",
       "      <th>40</th>\n",
       "      <td>PetroleumLiquids</td>\n",
       "      <td>0.013205</td>\n",
       "    </tr>\n",
       "    <tr>\n",
       "      <th>35</th>\n",
       "      <td>OnshoreWindTurbine</td>\n",
       "      <td>0.009941</td>\n",
       "    </tr>\n",
       "    <tr>\n",
       "      <th>30</th>\n",
       "      <td>NaturalGasInternalCombustionEngine</td>\n",
       "      <td>0.009790</td>\n",
       "    </tr>\n",
       "    <tr>\n",
       "      <th>29</th>\n",
       "      <td>NaturalGasFiredCombustionTurbine</td>\n",
       "      <td>0.007265</td>\n",
       "    </tr>\n",
       "    <tr>\n",
       "      <th>26</th>\n",
       "      <td>LandfillGas</td>\n",
       "      <td>0.006252</td>\n",
       "    </tr>\n",
       "    <tr>\n",
       "      <th>22</th>\n",
       "      <td>ConventionalSteamCoal</td>\n",
       "      <td>0.005582</td>\n",
       "    </tr>\n",
       "    <tr>\n",
       "      <th>31</th>\n",
       "      <td>NaturalGasSteamTurbine</td>\n",
       "      <td>0.004085</td>\n",
       "    </tr>\n",
       "    <tr>\n",
       "      <th>36</th>\n",
       "      <td>OtherGases</td>\n",
       "      <td>0.003675</td>\n",
       "    </tr>\n",
       "    <tr>\n",
       "      <th>44</th>\n",
       "      <td>Wood/WoodWasteBiomass</td>\n",
       "      <td>0.002737</td>\n",
       "    </tr>\n",
       "    <tr>\n",
       "      <th>38</th>\n",
       "      <td>OtherWasteBiomass</td>\n",
       "      <td>0.002545</td>\n",
       "    </tr>\n",
       "    <tr>\n",
       "      <th>37</th>\n",
       "      <td>OtherNaturalGas</td>\n",
       "      <td>0.002514</td>\n",
       "    </tr>\n",
       "    <tr>\n",
       "      <th>25</th>\n",
       "      <td>HydroelectricPumpedStorage</td>\n",
       "      <td>0.002145</td>\n",
       "    </tr>\n",
       "    <tr>\n",
       "      <th>19</th>\n",
       "      <td>Batteries</td>\n",
       "      <td>0.002031</td>\n",
       "    </tr>\n",
       "    <tr>\n",
       "      <th>27</th>\n",
       "      <td>MunicipalSolidWaste</td>\n",
       "      <td>0.001085</td>\n",
       "    </tr>\n",
       "    <tr>\n",
       "      <th>33</th>\n",
       "      <td>Nuclear</td>\n",
       "      <td>0.000900</td>\n",
       "    </tr>\n",
       "    <tr>\n",
       "      <th>34</th>\n",
       "      <td>OffshoreWindTurbine</td>\n",
       "      <td>0.000025</td>\n",
       "    </tr>\n",
       "    <tr>\n",
       "      <th>39</th>\n",
       "      <td>PetroleumCoke</td>\n",
       "      <td>0.000023</td>\n",
       "    </tr>\n",
       "    <tr>\n",
       "      <th>32</th>\n",
       "      <td>NaturalGaswithCompressedAirStorage</td>\n",
       "      <td>0.000020</td>\n",
       "    </tr>\n",
       "    <tr>\n",
       "      <th>23</th>\n",
       "      <td>Flywheels</td>\n",
       "      <td>0.000019</td>\n",
       "    </tr>\n",
       "    <tr>\n",
       "      <th>20</th>\n",
       "      <td>CoalIntegratedGasificationCombinedCycle</td>\n",
       "      <td>0.000006</td>\n",
       "    </tr>\n",
       "  </tbody>\n",
       "</table>\n",
       "</div>"
      ],
      "text/plain": [
       "                                              Feature  Importance\n",
       "3                                        # Unemployed    0.080234\n",
       "15                                       Construction    0.077018\n",
       "13                                            Service    0.065663\n",
       "24                                         Geothermal    0.061810\n",
       "1   Percent of adults with a bachelor's degree or ...    0.054151\n",
       "4                                                Male    0.049360\n",
       "9                             Votes 2020 Donald Trump    0.047712\n",
       "6                                          Median Age    0.043692\n",
       "17                                         WorkAtHome    0.040114\n",
       "8                                    Total Votes 2020    0.039362\n",
       "5                                              Female    0.033997\n",
       "10                              Votes 2020  Joe Biden    0.032309\n",
       "7                              Population (2014-2020)    0.030375\n",
       "0   Percent of adults with a high school diploma o...    0.029922\n",
       "12                                       Professional    0.027475\n",
       "18                             Mean Commute (minutes)    0.025856\n",
       "41                                  SolarPhotovoltaic    0.024761\n",
       "2                                          # Employed    0.021577\n",
       "14                                             Office    0.021208\n",
       "45                  Percent of people in poverty 2019    0.021003\n",
       "16                                         Production    0.020486\n",
       "43                   SolarThermalwithoutEnergyStorage    0.016433\n",
       "11                                             Income    0.016300\n",
       "21                          ConventionalHydroelectric    0.016178\n",
       "28                       NaturalGasFiredCombinedCycle    0.015341\n",
       "42                      SolarThermalwithEnergyStorage    0.013817\n",
       "40                                   PetroleumLiquids    0.013205\n",
       "35                                 OnshoreWindTurbine    0.009941\n",
       "30                 NaturalGasInternalCombustionEngine    0.009790\n",
       "29                   NaturalGasFiredCombustionTurbine    0.007265\n",
       "26                                        LandfillGas    0.006252\n",
       "22                              ConventionalSteamCoal    0.005582\n",
       "31                             NaturalGasSteamTurbine    0.004085\n",
       "36                                         OtherGases    0.003675\n",
       "44                              Wood/WoodWasteBiomass    0.002737\n",
       "38                                  OtherWasteBiomass    0.002545\n",
       "37                                    OtherNaturalGas    0.002514\n",
       "25                         HydroelectricPumpedStorage    0.002145\n",
       "19                                          Batteries    0.002031\n",
       "27                                MunicipalSolidWaste    0.001085\n",
       "33                                            Nuclear    0.000900\n",
       "34                                OffshoreWindTurbine    0.000025\n",
       "39                                      PetroleumCoke    0.000023\n",
       "32                 NaturalGaswithCompressedAirStorage    0.000020\n",
       "23                                          Flywheels    0.000019\n",
       "20            CoalIntegratedGasificationCombinedCycle    0.000006"
      ]
     },
     "metadata": {},
     "output_type": "display_data"
    }
   ],
   "source": [
    "# Regression \n",
    "\n",
    "features = DataFrame.columns[6:52]\n",
    "\n",
    "\n",
    "\n",
    "ytrain = train['90th Percentile AQI']\n",
    "ytest = test['90th Percentile AQI']\n",
    "\n",
    "\n",
    "# Creating a random forest Classifier \n",
    "regr = RandomForestRegressor(n_estimators=100,n_jobs=5,random_state=0) # change to 100 estimators\n",
    "xtrain = np.float32(train[features])\n",
    "xtrain = np.nan_to_num(xtrain, nan=0, posinf=100000, neginf=-100000)\n",
    "ytrain = np.float32(ytrain)\n",
    "\n",
    "\n",
    "\n",
    "#Training the regressor\n",
    "regr.fit(xtrain,ytrain)\n",
    "\n",
    "\n",
    "\n",
    "# Applying the trained regressor to the test \n",
    "xtest = np.float32(test[features])\n",
    "xtest = np.nan_to_num(xtest, nan=0, posinf=100000, neginf=-100000)\n",
    "ytest = np.float32(ytest)\n",
    "\n",
    "score = regr.score(xtrain, ytrain)\n",
    "print(\"R-squared:\", score) \n",
    "\n",
    "\n",
    "\n",
    "list1 = DataFrame.columns[6:53]\n",
    "list2 = regr.feature_importances_\n",
    "important_features = pd.DataFrame(list(zip(list1, list2)),\n",
    "               columns =['Feature', 'Importance'])\n",
    "ordered_importance = (important_features.sort_values(by='Importance', ascending=False))\n",
    "display(ordered_importance.head())\n",
    "display(ordered_importance)\n",
    "\n"
   ]
  },
  {
   "cell_type": "markdown",
   "id": "c6cf2d4d",
   "metadata": {},
   "source": [
    "PLEASE GO THROUGH THIS PAGE \n",
    "https://mljar.com/blog/feature-importance-in-random-forest/\n",
    "\n",
    "\n",
    "The feature importance describes which features are relevant. \n",
    "Three ways to compute feature importance\n",
    "\n",
    "1. Feature importance built-in the Random Forest algorithm\n",
    "2. Feature importance computed with Permutation method\n",
    "\n",
    "\n",
    "\n",
    "RANDOM FOREST BUILT-IN FEATURE IMPORTANCE \n",
    "\n",
    "\"We can measure how each feature decrease the impurity of the split (the feature with highest decrease is selected for internal node). For each feature we can collect how on average it decreases the impurity.\" \n",
    "\n",
    "Con - \n",
    "\"The drawbacks of the method in the case of correlated features it can select one of the feature and neglect the importance of the second one (which can lead to wrong conclusions).\""
   ]
  },
  {
   "cell_type": "code",
   "execution_count": 84,
   "id": "75467727",
   "metadata": {},
   "outputs": [
    {
     "data": {
      "image/png": "[encoded data removed]",
      "text/plain": [
       "<Figure size 1080x1080 with 1 Axes>"
      ]
     },
     "metadata": {
      "needs_background": "light"
     },
     "output_type": "display_data"
    }
   ],
   "source": [
    "sorted_idx = regr.feature_importances_.argsort()\n",
    "plt.figure(figsize=(15, 15))\n",
    "plt.barh(DataFrame.columns[6:53][sorted_idx], regr.feature_importances_[sorted_idx])\n",
    "plt.xlabel(\"Random Forest Feature Importance\")\n",
    "\n",
    "plt.savefig(\"graph.png\")\n"
   ]
  },
  {
   "cell_type": "markdown",
   "id": "af11f50a",
   "metadata": {},
   "source": [
    "PERMUTATION BASED FEATURE IMPORTANCE \n",
    "\n",
    "This method will randomly shuffle each feature and compute the change in the model’s performance. The features which impact the performance the most are the most important one."
   ]
  },
  {
   "cell_type": "code",
   "execution_count": 83,
   "id": "eca1b2e7",
   "metadata": {},
   "outputs": [
    {
     "data": {
      "image/png": "[encoded data removed]",
      "text/plain": [
       "<Figure size 1080x1080 with 1 Axes>"
      ]
     },
     "metadata": {
      "needs_background": "light"
     },
     "output_type": "display_data"
    }
   ],
   "source": [
    "perm_importance = permutation_importance(regr, xtest, ytest)\n",
    "sorted_idx = perm_importance.importances_mean.argsort()\n",
    "plt.figure(figsize=(15, 15))\n",
    "plt.barh(DataFrame.columns[6:53][sorted_idx], perm_importance.importances_mean[sorted_idx])\n",
    "plt.xlabel(\"Permutation Importance\")\n",
    "\n",
    "plt.savefig(\"graph.png\")\n"
   ]
  },
  {
   "cell_type": "code",
   "execution_count": 49,
   "id": "8354159b",
   "metadata": {},
   "outputs": [
    {
     "name": "stdout",
     "output_type": "stream",
     "text": [
      "MSE:  232.74285175879396\n",
      "RMSE:  116.37142587939698\n",
      "[ 61.  44.  45.  61.  50.  93.  45.  56.  48. 110.]\n",
      "[62.93 43.86 54.91 49.78 56.55 94.9  42.88 57.28 49.51 56.24]\n"
     ]
    }
   ],
   "source": [
    "ypred=regr.predict(xtest)\n",
    "mse = mean_squared_error(ytest, ypred)\n",
    "print(\"MSE: \", mse)\n",
    "print(\"RMSE: \", mse*(1/2.0))\n",
    "\n",
    "print(ytest[0:10]) # debug y test\n",
    "print(ypred[0:10])"
   ]
  },
  {
   "cell_type": "code",
   "execution_count": 50,
   "id": "0fe4689c",
   "metadata": {},
   "outputs": [
    {
     "data": {
      "text/plain": [
       "<function matplotlib.pyplot.show(close=None, block=None)>"
      ]
     },
     "execution_count": 50,
     "metadata": {},
     "output_type": "execute_result"
    },
    {
     "data": {
      "image/png": "[encoded data removed]",
      "text/plain": [
       "<Figure size 432x288 with 1 Axes>"
      ]
     },
     "metadata": {
      "needs_background": "light"
     },
     "output_type": "display_data"
    }
   ],
   "source": [
    "x_ax = range(len(ytest))\n",
    "plt.plot(x_ax, ytest, linewidth=1, label=\"original\")\n",
    "plt.plot(x_ax, ypred, linewidth=1.1, label=\"predicted\")\n",
    "plt.title(\"y-test and y-predicted data\")\n",
    "plt.xlabel('X-axis')\n",
    "plt.ylabel('Y-axis')\n",
    "plt.legend(loc='best',fancybox=True, shadow=True)\n",
    "plt.grid(True)\n",
    "plt.show"
   ]
  },
  {
   "cell_type": "code",
   "execution_count": 56,
   "id": "8e236737",
   "metadata": {},
   "outputs": [],
   "source": [
    "DataFrame = pd.read_csv('updated_12_07_nacion.csv')\n",
    "\n",
    "# Organizing the AQI \n",
    "AQI_Sort = DataFrame.sort_values(['90th Percentile AQI']) # Sorts the AQI according towards Median AQI \n",
    "AQI_Sort = AQI_Sort.reset_index(drop=True)\n",
    "\n",
    "# Separating the 90th Percentile AQI into Good,Moderate, Unhealthy Air Quality According to EPA Standards\n",
    "DataFrame.loc[DataFrame['90th Percentile AQI'] <= 50, 'Quality'] = 'Good'\n",
    "DataFrame.loc[(DataFrame['90th Percentile AQI'] >= 51) & (DataFrame['90th Percentile AQI'] <= 100), 'Quality'] = 'Moderate'\n",
    "DataFrame.loc[DataFrame['90th Percentile AQI'] >=101, 'Quality'] = 'Unhealthy'\n",
    "air_data = DataFrame['Quality'].value_counts().to_frame('Counts')\n",
    "\n",
    "DataFrame.to_csv('update.csv') # double check the .CSV\n",
    "\n",
    "Good = DataFrame[DataFrame['Quality'].str.contains('Good')]\n",
    "Moderate = DataFrame[DataFrame['Quality'].str.contains('Moderate')]\n",
    "Unhealthy = DataFrame[DataFrame['Quality'].str.contains('Unhealthy')]"
   ]
  },
  {
   "cell_type": "code",
   "execution_count": 52,
   "id": "976753e6",
   "metadata": {},
   "outputs": [
    {
     "data": {
      "application/vnd.plotly.v1+json": {
       "config": {
        "plotlyServerURL": "https://plot.ly"
       },
       "data": [
        {
         "hovertemplate": "%{text}<extra></extra>",
         "mode": "markers",
         "text": [
          "Washington",
          "Kent",
          "Carroll",
          "Howard",
          "Montgomery",
          "Allegany",
          "Baltimore",
          "Baltimore",
          "Baltimore",
          "Baltimore",
          "Baltimore",
          "Baltimore",
          "Baltimore",
          "Baltimore",
          "Baltimore",
          "Baltimore",
          "Baltimore",
          "Baltimore",
          "Baltimore",
          "Baltimore",
          "Baltimore",
          "Baltimore",
          "Calvert",
          "Cecil",
          "Charles",
          "Dorchester",
          "Frederick",
          "Garrett",
          "Harford"
         ],
         "type": "scatter",
         "x": [
          5.1755437029756655,
          4.292100938480419,
          5.224071849290467,
          5.49876115897809,
          6.017088875330536,
          4.857193741308315,
          5.917833600889374,
          5.917833600889374,
          5.917833600889374,
          5.917833600889374,
          5.7886632131208575,
          5.7886632131208575,
          5.7886632131208575,
          5.7886632131208575,
          5.917833600889374,
          5.917833600889374,
          5.917833600889374,
          5.917833600889374,
          5.7886632131208575,
          5.7886632131208575,
          5.7886632131208575,
          5.7886632131208575,
          4.95943255838829,
          5.0107958887479755,
          5.1977518220661,
          4.508677825165493,
          5.395277455722756,
          4.4679926595211485,
          5.399716975749477
         ],
         "y": [
          51,
          46,
          49,
          44,
          45,
          3,
          57,
          57,
          57,
          57,
          57,
          57,
          57,
          57,
          57,
          57,
          57,
          57,
          57,
          57,
          57,
          57,
          44,
          49,
          44,
          47,
          49,
          46,
          55
         ]
        }
       ],
       "layout": {
        "template": {
         "data": {
          "bar": [
           {
            "error_x": {
             "color": "#2a3f5f"
            },
            "error_y": {
             "color": "#2a3f5f"
            },
            "marker": {
             "line": {
              "color": "#E5ECF6",
              "width": 0.5
             },
             "pattern": {
              "fillmode": "overlay",
              "size": 10,
              "solidity": 0.2
             }
            },
            "type": "bar"
           }
          ],
          "barpolar": [
           {
            "marker": {
             "line": {
              "color": "#E5ECF6",
              "width": 0.5
             },
             "pattern": {
              "fillmode": "overlay",
              "size": 10,
              "solidity": 0.2
             }
            },
            "type": "barpolar"
           }
          ],
          "carpet": [
           {
            "aaxis": {
             "endlinecolor": "#2a3f5f",
             "gridcolor": "white",
             "linecolor": "white",
             "minorgridcolor": "white",
             "startlinecolor": "#2a3f5f"
            },
            "baxis": {
             "endlinecolor": "#2a3f5f",
             "gridcolor": "white",
             "linecolor": "white",
             "minorgridcolor": "white",
             "startlinecolor": "#2a3f5f"
            },
            "type": "carpet"
           }
          ],
          "choropleth": [
           {
            "colorbar": {
             "outlinewidth": 0,
             "ticks": ""
            },
            "type": "choropleth"
           }
          ],
          "contour": [
           {
            "colorbar": {
             "outlinewidth": 0,
             "ticks": ""
            },
            "colorscale": [
             [
              0,
              "#0d0887"
             ],
             [
              0.1111111111111111,
              "#46039f"
             ],
             [
              0.2222222222222222,
              "#7201a8"
             ],
             [
              0.3333333333333333,
              "#9c179e"
             ],
             [
              0.4444444444444444,
              "#bd3786"
             ],
             [
              0.5555555555555556,
              "#d8576b"
             ],
             [
              0.6666666666666666,
              "#ed7953"
             ],
             [
              0.7777777777777778,
              "#fb9f3a"
             ],
             [
              0.8888888888888888,
              "#fdca26"
             ],
             [
              1,
              "#f0f921"
             ]
            ],
            "type": "contour"
           }
          ],
          "contourcarpet": [
           {
            "colorbar": {
             "outlinewidth": 0,
             "ticks": ""
            },
            "type": "contourcarpet"
           }
          ],
          "heatmap": [
           {
            "colorbar": {
             "outlinewidth": 0,
             "ticks": ""
            },
            "colorscale": [
             [
              0,
              "#0d0887"
             ],
             [
              0.1111111111111111,
              "#46039f"
             ],
             [
              0.2222222222222222,
              "#7201a8"
             ],
             [
              0.3333333333333333,
              "#9c179e"
             ],
             [
              0.4444444444444444,
              "#bd3786"
             ],
             [
              0.5555555555555556,
              "#d8576b"
             ],
             [
              0.6666666666666666,
              "#ed7953"
             ],
             [
              0.7777777777777778,
              "#fb9f3a"
             ],
             [
              0.8888888888888888,
              "#fdca26"
             ],
             [
              1,
              "#f0f921"
             ]
            ],
            "type": "heatmap"
           }
          ],
          "heatmapgl": [
           {
            "colorbar": {
             "outlinewidth": 0,
             "ticks": ""
            },
            "colorscale": [
             [
              0,
              "#0d0887"
             ],
             [
              0.1111111111111111,
              "#46039f"
             ],
             [
              0.2222222222222222,
              "#7201a8"
             ],
             [
              0.3333333333333333,
              "#9c179e"
             ],
             [
              0.4444444444444444,
              "#bd3786"
             ],
             [
              0.5555555555555556,
              "#d8576b"
             ],
             [
              0.6666666666666666,
              "#ed7953"
             ],
             [
              0.7777777777777778,
              "#fb9f3a"
             ],
             [
              0.8888888888888888,
              "#fdca26"
             ],
             [
              1,
              "#f0f921"
             ]
            ],
            "type": "heatmapgl"
           }
          ],
          "histogram": [
           {
            "marker": {
             "pattern": {
              "fillmode": "overlay",
              "size": 10,
              "solidity": 0.2
             }
            },
            "type": "histogram"
           }
          ],
          "histogram2d": [
           {
            "colorbar": {
             "outlinewidth": 0,
             "ticks": ""
            },
            "colorscale": [
             [
              0,
              "#0d0887"
             ],
             [
              0.1111111111111111,
              "#46039f"
             ],
             [
              0.2222222222222222,
              "#7201a8"
             ],
             [
              0.3333333333333333,
              "#9c179e"
             ],
             [
              0.4444444444444444,
              "#bd3786"
             ],
             [
              0.5555555555555556,
              "#d8576b"
             ],
             [
              0.6666666666666666,
              "#ed7953"
             ],
             [
              0.7777777777777778,
              "#fb9f3a"
             ],
             [
              0.8888888888888888,
              "#fdca26"
             ],
             [
              1,
              "#f0f921"
             ]
            ],
            "type": "histogram2d"
           }
          ],
          "histogram2dcontour": [
           {
            "colorbar": {
             "outlinewidth": 0,
             "ticks": ""
            },
            "colorscale": [
             [
              0,
              "#0d0887"
             ],
             [
              0.1111111111111111,
              "#46039f"
             ],
             [
              0.2222222222222222,
              "#7201a8"
             ],
             [
              0.3333333333333333,
              "#9c179e"
             ],
             [
              0.4444444444444444,
              "#bd3786"
             ],
             [
              0.5555555555555556,
              "#d8576b"
             ],
             [
              0.6666666666666666,
              "#ed7953"
             ],
             [
              0.7777777777777778,
              "#fb9f3a"
             ],
             [
              0.8888888888888888,
              "#fdca26"
             ],
             [
              1,
              "#f0f921"
             ]
            ],
            "type": "histogram2dcontour"
           }
          ],
          "mesh3d": [
           {
            "colorbar": {
             "outlinewidth": 0,
             "ticks": ""
            },
            "type": "mesh3d"
           }
          ],
          "parcoords": [
           {
            "line": {
             "colorbar": {
              "outlinewidth": 0,
              "ticks": ""
             }
            },
            "type": "parcoords"
           }
          ],
          "pie": [
           {
            "automargin": true,
            "type": "pie"
           }
          ],
          "scatter": [
           {
            "marker": {
             "colorbar": {
              "outlinewidth": 0,
              "ticks": ""
             }
            },
            "type": "scatter"
           }
          ],
          "scatter3d": [
           {
            "line": {
             "colorbar": {
              "outlinewidth": 0,
              "ticks": ""
             }
            },
            "marker": {
             "colorbar": {
              "outlinewidth": 0,
              "ticks": ""
             }
            },
            "type": "scatter3d"
           }
          ],
          "scattercarpet": [
           {
            "marker": {
             "colorbar": {
              "outlinewidth": 0,
              "ticks": ""
             }
            },
            "type": "scattercarpet"
           }
          ],
          "scattergeo": [
           {
            "marker": {
             "colorbar": {
              "outlinewidth": 0,
              "ticks": ""
             }
            },
            "type": "scattergeo"
           }
          ],
          "scattergl": [
           {
            "marker": {
             "colorbar": {
              "outlinewidth": 0,
              "ticks": ""
             }
            },
            "type": "scattergl"
           }
          ],
          "scattermapbox": [
           {
            "marker": {
             "colorbar": {
              "outlinewidth": 0,
              "ticks": ""
             }
            },
            "type": "scattermapbox"
           }
          ],
          "scatterpolar": [
           {
            "marker": {
             "colorbar": {
              "outlinewidth": 0,
              "ticks": ""
             }
            },
            "type": "scatterpolar"
           }
          ],
          "scatterpolargl": [
           {
            "marker": {
             "colorbar": {
              "outlinewidth": 0,
              "ticks": ""
             }
            },
            "type": "scatterpolargl"
           }
          ],
          "scatterternary": [
           {
            "marker": {
             "colorbar": {
              "outlinewidth": 0,
              "ticks": ""
             }
            },
            "type": "scatterternary"
           }
          ],
          "surface": [
           {
            "colorbar": {
             "outlinewidth": 0,
             "ticks": ""
            },
            "colorscale": [
             [
              0,
              "#0d0887"
             ],
             [
              0.1111111111111111,
              "#46039f"
             ],
             [
              0.2222222222222222,
              "#7201a8"
             ],
             [
              0.3333333333333333,
              "#9c179e"
             ],
             [
              0.4444444444444444,
              "#bd3786"
             ],
             [
              0.5555555555555556,
              "#d8576b"
             ],
             [
              0.6666666666666666,
              "#ed7953"
             ],
             [
              0.7777777777777778,
              "#fb9f3a"
             ],
             [
              0.8888888888888888,
              "#fdca26"
             ],
             [
              1,
              "#f0f921"
             ]
            ],
            "type": "surface"
           }
          ],
          "table": [
           {
            "cells": {
             "fill": {
              "color": "#EBF0F8"
             },
             "line": {
              "color": "white"
             }
            },
            "header": {
             "fill": {
              "color": "#C8D4E3"
             },
             "line": {
              "color": "white"
             }
            },
            "type": "table"
           }
          ]
         },
         "layout": {
          "annotationdefaults": {
           "arrowcolor": "#2a3f5f",
           "arrowhead": 0,
           "arrowwidth": 1
          },
          "autotypenumbers": "strict",
          "coloraxis": {
           "colorbar": {
            "outlinewidth": 0,
            "ticks": ""
           }
          },
          "colorscale": {
           "diverging": [
            [
             0,
             "#8e0152"
            ],
            [
             0.1,
             "#c51b7d"
            ],
            [
             0.2,
             "#de77ae"
            ],
            [
             0.3,
             "#f1b6da"
            ],
            [
             0.4,
             "#fde0ef"
            ],
            [
             0.5,
             "#f7f7f7"
            ],
            [
             0.6,
             "#e6f5d0"
            ],
            [
             0.7,
             "#b8e186"
            ],
            [
             0.8,
             "#7fbc41"
            ],
            [
             0.9,
             "#4d9221"
            ],
            [
             1,
             "#276419"
            ]
           ],
           "sequential": [
            [
             0,
             "#0d0887"
            ],
            [
             0.1111111111111111,
             "#46039f"
            ],
            [
             0.2222222222222222,
             "#7201a8"
            ],
            [
             0.3333333333333333,
             "#9c179e"
            ],
            [
             0.4444444444444444,
             "#bd3786"
            ],
            [
             0.5555555555555556,
             "#d8576b"
            ],
            [
             0.6666666666666666,
             "#ed7953"
            ],
            [
             0.7777777777777778,
             "#fb9f3a"
            ],
            [
             0.8888888888888888,
             "#fdca26"
            ],
            [
             1,
             "#f0f921"
            ]
           ],
           "sequentialminus": [
            [
             0,
             "#0d0887"
            ],
            [
             0.1111111111111111,
             "#46039f"
            ],
            [
             0.2222222222222222,
             "#7201a8"
            ],
            [
             0.3333333333333333,
             "#9c179e"
            ],
            [
             0.4444444444444444,
             "#bd3786"
            ],
            [
             0.5555555555555556,
             "#d8576b"
            ],
            [
             0.6666666666666666,
             "#ed7953"
            ],
            [
             0.7777777777777778,
             "#fb9f3a"
            ],
            [
             0.8888888888888888,
             "#fdca26"
            ],
            [
             1,
             "#f0f921"
            ]
           ]
          },
          "colorway": [
           "#636efa",
           "#EF553B",
           "#00cc96",
           "#ab63fa",
           "#FFA15A",
           "#19d3f3",
           "#FF6692",
           "#B6E880",
           "#FF97FF",
           "#FECB52"
          ],
          "font": {
           "color": "#2a3f5f"
          },
          "geo": {
           "bgcolor": "white",
           "lakecolor": "white",
           "landcolor": "#E5ECF6",
           "showlakes": true,
           "showland": true,
           "subunitcolor": "white"
          },
          "hoverlabel": {
           "align": "left"
          },
          "hovermode": "closest",
          "mapbox": {
           "style": "light"
          },
          "paper_bgcolor": "white",
          "plot_bgcolor": "#E5ECF6",
          "polar": {
           "angularaxis": {
            "gridcolor": "white",
            "linecolor": "white",
            "ticks": ""
           },
           "bgcolor": "#E5ECF6",
           "radialaxis": {
            "gridcolor": "white",
            "linecolor": "white",
            "ticks": ""
           }
          },
          "scene": {
           "xaxis": {
            "backgroundcolor": "#E5ECF6",
            "gridcolor": "white",
            "gridwidth": 2,
            "linecolor": "white",
            "showbackground": true,
            "ticks": "",
            "zerolinecolor": "white"
           },
           "yaxis": {
            "backgroundcolor": "#E5ECF6",
            "gridcolor": "white",
            "gridwidth": 2,
            "linecolor": "white",
            "showbackground": true,
            "ticks": "",
            "zerolinecolor": "white"
           },
           "zaxis": {
            "backgroundcolor": "#E5ECF6",
            "gridcolor": "white",
            "gridwidth": 2,
            "linecolor": "white",
            "showbackground": true,
            "ticks": "",
            "zerolinecolor": "white"
           }
          },
          "shapedefaults": {
           "line": {
            "color": "#2a3f5f"
           }
          },
          "ternary": {
           "aaxis": {
            "gridcolor": "white",
            "linecolor": "white",
            "ticks": ""
           },
           "baxis": {
            "gridcolor": "white",
            "linecolor": "white",
            "ticks": ""
           },
           "bgcolor": "#E5ECF6",
           "caxis": {
            "gridcolor": "white",
            "linecolor": "white",
            "ticks": ""
           }
          },
          "title": {
           "x": 0.05
          },
          "xaxis": {
           "automargin": true,
           "gridcolor": "white",
           "linecolor": "white",
           "ticks": "",
           "title": {
            "standoff": 15
           },
           "zerolinecolor": "white",
           "zerolinewidth": 2
          },
          "yaxis": {
           "automargin": true,
           "gridcolor": "white",
           "linecolor": "white",
           "ticks": "",
           "title": {
            "standoff": 15
           },
           "zerolinecolor": "white",
           "zerolinewidth": 2
          }
         }
        },
        "title": {
         "text": "AQI Vs. Population"
        },
        "xaxis": {
         "title": {
          "text": "Population (2014-2020) in Maryland Counties on a Log Scale"
         }
        },
        "yaxis": {
         "title": {
          "text": "AQI Quality"
         }
        }
       }
      },
      "text/html": [
       "<div>                            <div id=\"0c5fbb0e-5a85-4968-8c44-cc611db1bda5\" class=\"plotly-graph-div\" style=\"height:525px; width:100%;\"></div>            <script type=\"text/javascript\">                require([\"plotly\"], function(Plotly) {                    window.PLOTLYENV=window.PLOTLYENV || {};                                    if (document.getElementById(\"0c5fbb0e-5a85-4968-8c44-cc611db1bda5\")) {                    Plotly.newPlot(                        \"0c5fbb0e-5a85-4968-8c44-cc611db1bda5\",                        [{\"hovertemplate\":\"%{text}<extra></extra>\",\"mode\":\"markers\",\"text\":[\"Washington\",\"Kent\",\"Carroll\",\"Howard\",\"Montgomery\",\"Allegany\",\"Baltimore\",\"Baltimore\",\"Baltimore\",\"Baltimore\",\"Baltimore\",\"Baltimore\",\"Baltimore\",\"Baltimore\",\"Baltimore\",\"Baltimore\",\"Baltimore\",\"Baltimore\",\"Baltimore\",\"Baltimore\",\"Baltimore\",\"Baltimore\",\"Calvert\",\"Cecil\",\"Charles\",\"Dorchester\",\"Frederick\",\"Garrett\",\"Harford\"],\"type\":\"scatter\",\"x\":[5.1755437029756655,4.292100938480419,5.224071849290467,5.49876115897809,6.017088875330536,4.857193741308315,5.917833600889374,5.917833600889374,5.917833600889374,5.917833600889374,5.7886632131208575,5.7886632131208575,5.7886632131208575,5.7886632131208575,5.917833600889374,5.917833600889374,5.917833600889374,5.917833600889374,5.7886632131208575,5.7886632131208575,5.7886632131208575,5.7886632131208575,4.95943255838829,5.0107958887479755,5.1977518220661,4.508677825165493,5.395277455722756,4.4679926595211485,5.399716975749477],\"y\":[51,46,49,44,45,3,57,57,57,57,57,57,57,57,57,57,57,57,57,57,57,57,44,49,44,47,49,46,55]}],                        {\"template\":{\"data\":{\"bar\":[{\"error_x\":{\"color\":\"#2a3f5f\"},\"error_y\":{\"color\":\"#2a3f5f\"},\"marker\":{\"line\":{\"color\":\"#E5ECF6\",\"width\":0.5},\"pattern\":{\"fillmode\":\"overlay\",\"size\":10,\"solidity\":0.2}},\"type\":\"bar\"}],\"barpolar\":[{\"marker\":{\"line\":{\"color\":\"#E5ECF6\",\"width\":0.5},\"pattern\":{\"fillmode\":\"overlay\",\"size\":10,\"solidity\":0.2}},\"type\":\"barpolar\"}],\"carpet\":[{\"aaxis\":{\"endlinecolor\":\"#2a3f5f\",\"gridcolor\":\"white\",\"linecolor\":\"white\",\"minorgridcolor\":\"white\",\"startlinecolor\":\"#2a3f5f\"},\"baxis\":{\"endlinecolor\":\"#2a3f5f\",\"gridcolor\":\"white\",\"linecolor\":\"white\",\"minorgridcolor\":\"white\",\"startlinecolor\":\"#2a3f5f\"},\"type\":\"carpet\"}],\"choropleth\":[{\"colorbar\":{\"outlinewidth\":0,\"ticks\":\"\"},\"type\":\"choropleth\"}],\"contour\":[{\"colorbar\":{\"outlinewidth\":0,\"ticks\":\"\"},\"colorscale\":[[0.0,\"#0d0887\"],[0.1111111111111111,\"#46039f\"],[0.2222222222222222,\"#7201a8\"],[0.3333333333333333,\"#9c179e\"],[0.4444444444444444,\"#bd3786\"],[0.5555555555555556,\"#d8576b\"],[0.6666666666666666,\"#ed7953\"],[0.7777777777777778,\"#fb9f3a\"],[0.8888888888888888,\"#fdca26\"],[1.0,\"#f0f921\"]],\"type\":\"contour\"}],\"contourcarpet\":[{\"colorbar\":{\"outlinewidth\":0,\"ticks\":\"\"},\"type\":\"contourcarpet\"}],\"heatmap\":[{\"colorbar\":{\"outlinewidth\":0,\"ticks\":\"\"},\"colorscale\":[[0.0,\"#0d0887\"],[0.1111111111111111,\"#46039f\"],[0.2222222222222222,\"#7201a8\"],[0.3333333333333333,\"#9c179e\"],[0.4444444444444444,\"#bd3786\"],[0.5555555555555556,\"#d8576b\"],[0.6666666666666666,\"#ed7953\"],[0.7777777777777778,\"#fb9f3a\"],[0.8888888888888888,\"#fdca26\"],[1.0,\"#f0f921\"]],\"type\":\"heatmap\"}],\"heatmapgl\":[{\"colorbar\":{\"outlinewidth\":0,\"ticks\":\"\"},\"colorscale\":[[0.0,\"#0d0887\"],[0.1111111111111111,\"#46039f\"],[0.2222222222222222,\"#7201a8\"],[0.3333333333333333,\"#9c179e\"],[0.4444444444444444,\"#bd3786\"],[0.5555555555555556,\"#d8576b\"],[0.6666666666666666,\"#ed7953\"],[0.7777777777777778,\"#fb9f3a\"],[0.8888888888888888,\"#fdca26\"],[1.0,\"#f0f921\"]],\"type\":\"heatmapgl\"}],\"histogram\":[{\"marker\":{\"pattern\":{\"fillmode\":\"overlay\",\"size\":10,\"solidity\":0.2}},\"type\":\"histogram\"}],\"histogram2d\":[{\"colorbar\":{\"outlinewidth\":0,\"ticks\":\"\"},\"colorscale\":[[0.0,\"#0d0887\"],[0.1111111111111111,\"#46039f\"],[0.2222222222222222,\"#7201a8\"],[0.3333333333333333,\"#9c179e\"],[0.4444444444444444,\"#bd3786\"],[0.5555555555555556,\"#d8576b\"],[0.6666666666666666,\"#ed7953\"],[0.7777777777777778,\"#fb9f3a\"],[0.8888888888888888,\"#fdca26\"],[1.0,\"#f0f921\"]],\"type\":\"histogram2d\"}],\"histogram2dcontour\":[{\"colorbar\":{\"outlinewidth\":0,\"ticks\":\"\"},\"colorscale\":[[0.0,\"#0d0887\"],[0.1111111111111111,\"#46039f\"],[0.2222222222222222,\"#7201a8\"],[0.3333333333333333,\"#9c179e\"],[0.4444444444444444,\"#bd3786\"],[0.5555555555555556,\"#d8576b\"],[0.6666666666666666,\"#ed7953\"],[0.7777777777777778,\"#fb9f3a\"],[0.8888888888888888,\"#fdca26\"],[1.0,\"#f0f921\"]],\"type\":\"histogram2dcontour\"}],\"mesh3d\":[{\"colorbar\":{\"outlinewidth\":0,\"ticks\":\"\"},\"type\":\"mesh3d\"}],\"parcoords\":[{\"line\":{\"colorbar\":{\"outlinewidth\":0,\"ticks\":\"\"}},\"type\":\"parcoords\"}],\"pie\":[{\"automargin\":true,\"type\":\"pie\"}],\"scatter\":[{\"marker\":{\"colorbar\":{\"outlinewidth\":0,\"ticks\":\"\"}},\"type\":\"scatter\"}],\"scatter3d\":[{\"line\":{\"colorbar\":{\"outlinewidth\":0,\"ticks\":\"\"}},\"marker\":{\"colorbar\":{\"outlinewidth\":0,\"ticks\":\"\"}},\"type\":\"scatter3d\"}],\"scattercarpet\":[{\"marker\":{\"colorbar\":{\"outlinewidth\":0,\"ticks\":\"\"}},\"type\":\"scattercarpet\"}],\"scattergeo\":[{\"marker\":{\"colorbar\":{\"outlinewidth\":0,\"ticks\":\"\"}},\"type\":\"scattergeo\"}],\"scattergl\":[{\"marker\":{\"colorbar\":{\"outlinewidth\":0,\"ticks\":\"\"}},\"type\":\"scattergl\"}],\"scattermapbox\":[{\"marker\":{\"colorbar\":{\"outlinewidth\":0,\"ticks\":\"\"}},\"type\":\"scattermapbox\"}],\"scatterpolar\":[{\"marker\":{\"colorbar\":{\"outlinewidth\":0,\"ticks\":\"\"}},\"type\":\"scatterpolar\"}],\"scatterpolargl\":[{\"marker\":{\"colorbar\":{\"outlinewidth\":0,\"ticks\":\"\"}},\"type\":\"scatterpolargl\"}],\"scatterternary\":[{\"marker\":{\"colorbar\":{\"outlinewidth\":0,\"ticks\":\"\"}},\"type\":\"scatterternary\"}],\"surface\":[{\"colorbar\":{\"outlinewidth\":0,\"ticks\":\"\"},\"colorscale\":[[0.0,\"#0d0887\"],[0.1111111111111111,\"#46039f\"],[0.2222222222222222,\"#7201a8\"],[0.3333333333333333,\"#9c179e\"],[0.4444444444444444,\"#bd3786\"],[0.5555555555555556,\"#d8576b\"],[0.6666666666666666,\"#ed7953\"],[0.7777777777777778,\"#fb9f3a\"],[0.8888888888888888,\"#fdca26\"],[1.0,\"#f0f921\"]],\"type\":\"surface\"}],\"table\":[{\"cells\":{\"fill\":{\"color\":\"#EBF0F8\"},\"line\":{\"color\":\"white\"}},\"header\":{\"fill\":{\"color\":\"#C8D4E3\"},\"line\":{\"color\":\"white\"}},\"type\":\"table\"}]},\"layout\":{\"annotationdefaults\":{\"arrowcolor\":\"#2a3f5f\",\"arrowhead\":0,\"arrowwidth\":1},\"autotypenumbers\":\"strict\",\"coloraxis\":{\"colorbar\":{\"outlinewidth\":0,\"ticks\":\"\"}},\"colorscale\":{\"diverging\":[[0,\"#8e0152\"],[0.1,\"#c51b7d\"],[0.2,\"#de77ae\"],[0.3,\"#f1b6da\"],[0.4,\"#fde0ef\"],[0.5,\"#f7f7f7\"],[0.6,\"#e6f5d0\"],[0.7,\"#b8e186\"],[0.8,\"#7fbc41\"],[0.9,\"#4d9221\"],[1,\"#276419\"]],\"sequential\":[[0.0,\"#0d0887\"],[0.1111111111111111,\"#46039f\"],[0.2222222222222222,\"#7201a8\"],[0.3333333333333333,\"#9c179e\"],[0.4444444444444444,\"#bd3786\"],[0.5555555555555556,\"#d8576b\"],[0.6666666666666666,\"#ed7953\"],[0.7777777777777778,\"#fb9f3a\"],[0.8888888888888888,\"#fdca26\"],[1.0,\"#f0f921\"]],\"sequentialminus\":[[0.0,\"#0d0887\"],[0.1111111111111111,\"#46039f\"],[0.2222222222222222,\"#7201a8\"],[0.3333333333333333,\"#9c179e\"],[0.4444444444444444,\"#bd3786\"],[0.5555555555555556,\"#d8576b\"],[0.6666666666666666,\"#ed7953\"],[0.7777777777777778,\"#fb9f3a\"],[0.8888888888888888,\"#fdca26\"],[1.0,\"#f0f921\"]]},\"colorway\":[\"#636efa\",\"#EF553B\",\"#00cc96\",\"#ab63fa\",\"#FFA15A\",\"#19d3f3\",\"#FF6692\",\"#B6E880\",\"#FF97FF\",\"#FECB52\"],\"font\":{\"color\":\"#2a3f5f\"},\"geo\":{\"bgcolor\":\"white\",\"lakecolor\":\"white\",\"landcolor\":\"#E5ECF6\",\"showlakes\":true,\"showland\":true,\"subunitcolor\":\"white\"},\"hoverlabel\":{\"align\":\"left\"},\"hovermode\":\"closest\",\"mapbox\":{\"style\":\"light\"},\"paper_bgcolor\":\"white\",\"plot_bgcolor\":\"#E5ECF6\",\"polar\":{\"angularaxis\":{\"gridcolor\":\"white\",\"linecolor\":\"white\",\"ticks\":\"\"},\"bgcolor\":\"#E5ECF6\",\"radialaxis\":{\"gridcolor\":\"white\",\"linecolor\":\"white\",\"ticks\":\"\"}},\"scene\":{\"xaxis\":{\"backgroundcolor\":\"#E5ECF6\",\"gridcolor\":\"white\",\"gridwidth\":2,\"linecolor\":\"white\",\"showbackground\":true,\"ticks\":\"\",\"zerolinecolor\":\"white\"},\"yaxis\":{\"backgroundcolor\":\"#E5ECF6\",\"gridcolor\":\"white\",\"gridwidth\":2,\"linecolor\":\"white\",\"showbackground\":true,\"ticks\":\"\",\"zerolinecolor\":\"white\"},\"zaxis\":{\"backgroundcolor\":\"#E5ECF6\",\"gridcolor\":\"white\",\"gridwidth\":2,\"linecolor\":\"white\",\"showbackground\":true,\"ticks\":\"\",\"zerolinecolor\":\"white\"}},\"shapedefaults\":{\"line\":{\"color\":\"#2a3f5f\"}},\"ternary\":{\"aaxis\":{\"gridcolor\":\"white\",\"linecolor\":\"white\",\"ticks\":\"\"},\"baxis\":{\"gridcolor\":\"white\",\"linecolor\":\"white\",\"ticks\":\"\"},\"bgcolor\":\"#E5ECF6\",\"caxis\":{\"gridcolor\":\"white\",\"linecolor\":\"white\",\"ticks\":\"\"}},\"title\":{\"x\":0.05},\"xaxis\":{\"automargin\":true,\"gridcolor\":\"white\",\"linecolor\":\"white\",\"ticks\":\"\",\"title\":{\"standoff\":15},\"zerolinecolor\":\"white\",\"zerolinewidth\":2},\"yaxis\":{\"automargin\":true,\"gridcolor\":\"white\",\"linecolor\":\"white\",\"ticks\":\"\",\"title\":{\"standoff\":15},\"zerolinecolor\":\"white\",\"zerolinewidth\":2}}},\"title\":{\"text\":\"AQI Vs. Population\"},\"xaxis\":{\"title\":{\"text\":\"Population (2014-2020) in Maryland Counties on a Log Scale\"}},\"yaxis\":{\"title\":{\"text\":\"AQI Quality\"}}},                        {\"responsive\": true}                    ).then(function(){\n",
       "                            \n",
       "var gd = document.getElementById('0c5fbb0e-5a85-4968-8c44-cc611db1bda5');\n",
       "var x = new MutationObserver(function (mutations, observer) {{\n",
       "        var display = window.getComputedStyle(gd).display;\n",
       "        if (!display || display === 'none') {{\n",
       "            console.log([gd, 'removed!']);\n",
       "            Plotly.purge(gd);\n",
       "            observer.disconnect();\n",
       "        }}\n",
       "}});\n",
       "\n",
       "// Listen for the removal of the full notebook cells\n",
       "var notebookContainer = gd.closest('#notebook-container');\n",
       "if (notebookContainer) {{\n",
       "    x.observe(notebookContainer, {childList: true});\n",
       "}}\n",
       "\n",
       "// Listen for the clearing of the current output cell\n",
       "var outputEl = gd.closest('.output');\n",
       "if (outputEl) {{\n",
       "    x.observe(outputEl, {childList: true});\n",
       "}}\n",
       "\n",
       "                        })                };                });            </script>        </div>"
      ]
     },
     "metadata": {},
     "output_type": "display_data"
    }
   ],
   "source": [
    "# LASSO - no classes\n",
    "# Forest - with and without classes\n",
    "# Logistic - with classes\n",
    "# Visualizing the AQI Data \n",
    "# plotting to log scale for population \n",
    "# tell the story of AQI means per county \n",
    "# take parts\n",
    "pop_log_good = np.log10(Good['Population (2014-2020)'])\n",
    "pop_log_mod = np.log10(Moderate['Population (2014-2020)'])\n",
    "pop_log_unhealthy = np.log10(Unhealthy['Population (2014-2020)'])\n",
    "\n",
    "fig=go.Figure()\n",
    "\n",
    "fig.add_trace(go.Scatter(y = Good['Quality'],\n",
    "                                x = pop_log_good,\n",
    "                                mode='markers',\n",
    "                                name= 'Good AQI'))\n",
    "                                \n",
    "\n",
    "fig.add_trace(go.Scatter(y = Moderate['Quality'],\n",
    "                                x = pop_log_mod,\n",
    "                                mode='markers',\n",
    "                                name= 'Moderate AQI'))\n",
    "                                \n",
    "              \n",
    "fig.add_trace(go.Scatter(y = Unhealthy['Quality'],\n",
    "                                x = pop_log_unhealthy,\n",
    "                                mode='markers',\n",
    "                                name= 'Unhealthy AQI'))\n",
    "                                \n",
    "fig.update_layout(\n",
    "    title=\"AQI Vs. Population\",\n",
    "    xaxis_title=\"Population (2014-2020) on Log Scale\",\n",
    "    yaxis_title=\"AQI Quality\")\n"
   ]
  },
  {
   "cell_type": "code",
   "execution_count": 53,
   "id": "7d3b12f0",
   "metadata": {},
   "outputs": [],
   "source": [
    "#from datetime import datetime\n",
    "from datetime import timedelta\n",
    "from datetime import datetime\n",
    "import matplotlib.dates as mdates\n",
    "\n",
    "DailyAQI = pd.read_csv('daily_aqi_by_county_2020.csv')\n",
    "MarylandAQI = DailyAQI[DailyAQI['State Name'].str.contains('Maryland')]\n",
    "MarylandAQI\n",
    "BaltimoreAQI = MarylandAQI[MarylandAQI['county Name'].str.contains('Baltimore')]\n",
    "BaltimoreDate = BaltimoreAQI['Date'].to_list()\n",
    "\n",
    "fig,ax = plt.subplots(1,1)\n",
    "x_values = [datetime.strptime(d,\"%m/%d/%Y\").date() for d in BaltimoreDate]\n",
    "y_values = BaltimoreAQI['AQI']\n",
    "\n",
    "# testing for specific dates \n",
    "#ax = plt.gca()\n",
    "#startDate = \"12/11/2020\"\n",
    "#stopDate =  \"12/30/2020\"\n",
    "#start = datetime.strptime(startDate,\"%m/%d/%Y\").date()\n",
    "#end =  datetime.strptime(stopDate,\"%m/%d/%Y\").date()\n",
    "#ax.set_xlim(start, end)\n",
    "\n",
    "ax.set_ylabel('AQI') \n",
    "ax.set_xlabel('Date Y-M')\n",
    "plt.scatter(x_values, y_values,alpha = 0.3)"
   ]
  },
  {
   "cell_type": "code",
   "execution_count": 57,
   "id": "fdc66827",
   "metadata": {},
   "outputs": [
    {
     "data": {
      "application/vnd.plotly.v1+json": {
       "config": {
        "plotlyServerURL": "https://plot.ly"
       },
       "data": [
        {
         "hovertemplate": "%{text}<extra></extra>",
         "mode": "markers",
         "text": [
          "Washington",
          "Kent",
          "Carroll",
          "Howard",
          "Montgomery",
          "Allegany",
          "Baltimore",
          "Baltimore",
          "Baltimore",
          "Baltimore",
          "Baltimore",
          "Baltimore",
          "Baltimore",
          "Baltimore",
          "Baltimore",
          "Baltimore",
          "Baltimore",
          "Baltimore",
          "Baltimore",
          "Baltimore",
          "Baltimore",
          "Baltimore",
          "Calvert",
          "Cecil",
          "Charles",
          "Dorchester",
          "Frederick",
          "Garrett",
          "Harford"
         ],
         "type": "scatter",
         "x": [
          5.1755437029756655,
          4.292100938480419,
          5.224071849290467,
          5.49876115897809,
          6.017088875330536,
          4.857193741308315,
          5.917833600889374,
          5.917833600889374,
          5.917833600889374,
          5.917833600889374,
          5.7886632131208575,
          5.7886632131208575,
          5.7886632131208575,
          5.7886632131208575,
          5.917833600889374,
          5.917833600889374,
          5.917833600889374,
          5.917833600889374,
          5.7886632131208575,
          5.7886632131208575,
          5.7886632131208575,
          5.7886632131208575,
          4.95943255838829,
          5.0107958887479755,
          5.1977518220661,
          4.508677825165493,
          5.395277455722756,
          4.4679926595211485,
          5.399716975749477
         ],
         "y": [
          51,
          46,
          49,
          44,
          45,
          3,
          57,
          57,
          57,
          57,
          57,
          57,
          57,
          57,
          57,
          57,
          57,
          57,
          57,
          57,
          57,
          57,
          44,
          49,
          44,
          47,
          49,
          46,
          55
         ]
        }
       ],
       "layout": {
        "template": {
         "data": {
          "bar": [
           {
            "error_x": {
             "color": "#2a3f5f"
            },
            "error_y": {
             "color": "#2a3f5f"
            },
            "marker": {
             "line": {
              "color": "#E5ECF6",
              "width": 0.5
             },
             "pattern": {
              "fillmode": "overlay",
              "size": 10,
              "solidity": 0.2
             }
            },
            "type": "bar"
           }
          ],
          "barpolar": [
           {
            "marker": {
             "line": {
              "color": "#E5ECF6",
              "width": 0.5
             },
             "pattern": {
              "fillmode": "overlay",
              "size": 10,
              "solidity": 0.2
             }
            },
            "type": "barpolar"
           }
          ],
          "carpet": [
           {
            "aaxis": {
             "endlinecolor": "#2a3f5f",
             "gridcolor": "white",
             "linecolor": "white",
             "minorgridcolor": "white",
             "startlinecolor": "#2a3f5f"
            },
            "baxis": {
             "endlinecolor": "#2a3f5f",
             "gridcolor": "white",
             "linecolor": "white",
             "minorgridcolor": "white",
             "startlinecolor": "#2a3f5f"
            },
            "type": "carpet"
           }
          ],
          "choropleth": [
           {
            "colorbar": {
             "outlinewidth": 0,
             "ticks": ""
            },
            "type": "choropleth"
           }
          ],
          "contour": [
           {
            "colorbar": {
             "outlinewidth": 0,
             "ticks": ""
            },
            "colorscale": [
             [
              0,
              "#0d0887"
             ],
             [
              0.1111111111111111,
              "#46039f"
             ],
             [
              0.2222222222222222,
              "#7201a8"
             ],
             [
              0.3333333333333333,
              "#9c179e"
             ],
             [
              0.4444444444444444,
              "#bd3786"
             ],
             [
              0.5555555555555556,
              "#d8576b"
             ],
             [
              0.6666666666666666,
              "#ed7953"
             ],
             [
              0.7777777777777778,
              "#fb9f3a"
             ],
             [
              0.8888888888888888,
              "#fdca26"
             ],
             [
              1,
              "#f0f921"
             ]
            ],
            "type": "contour"
           }
          ],
          "contourcarpet": [
           {
            "colorbar": {
             "outlinewidth": 0,
             "ticks": ""
            },
            "type": "contourcarpet"
           }
          ],
          "heatmap": [
           {
            "colorbar": {
             "outlinewidth": 0,
             "ticks": ""
            },
            "colorscale": [
             [
              0,
              "#0d0887"
             ],
             [
              0.1111111111111111,
              "#46039f"
             ],
             [
              0.2222222222222222,
              "#7201a8"
             ],
             [
              0.3333333333333333,
              "#9c179e"
             ],
             [
              0.4444444444444444,
              "#bd3786"
             ],
             [
              0.5555555555555556,
              "#d8576b"
             ],
             [
              0.6666666666666666,
              "#ed7953"
             ],
             [
              0.7777777777777778,
              "#fb9f3a"
             ],
             [
              0.8888888888888888,
              "#fdca26"
             ],
             [
              1,
              "#f0f921"
             ]
            ],
            "type": "heatmap"
           }
          ],
          "heatmapgl": [
           {
            "colorbar": {
             "outlinewidth": 0,
             "ticks": ""
            },
            "colorscale": [
             [
              0,
              "#0d0887"
             ],
             [
              0.1111111111111111,
              "#46039f"
             ],
             [
              0.2222222222222222,
              "#7201a8"
             ],
             [
              0.3333333333333333,
              "#9c179e"
             ],
             [
              0.4444444444444444,
              "#bd3786"
             ],
             [
              0.5555555555555556,
              "#d8576b"
             ],
             [
              0.6666666666666666,
              "#ed7953"
             ],
             [
              0.7777777777777778,
              "#fb9f3a"
             ],
             [
              0.8888888888888888,
              "#fdca26"
             ],
             [
              1,
              "#f0f921"
             ]
            ],
            "type": "heatmapgl"
           }
          ],
          "histogram": [
           {
            "marker": {
             "pattern": {
              "fillmode": "overlay",
              "size": 10,
              "solidity": 0.2
             }
            },
            "type": "histogram"
           }
          ],
          "histogram2d": [
           {
            "colorbar": {
             "outlinewidth": 0,
             "ticks": ""
            },
            "colorscale": [
             [
              0,
              "#0d0887"
             ],
             [
              0.1111111111111111,
              "#46039f"
             ],
             [
              0.2222222222222222,
              "#7201a8"
             ],
             [
              0.3333333333333333,
              "#9c179e"
             ],
             [
              0.4444444444444444,
              "#bd3786"
             ],
             [
              0.5555555555555556,
              "#d8576b"
             ],
             [
              0.6666666666666666,
              "#ed7953"
             ],
             [
              0.7777777777777778,
              "#fb9f3a"
             ],
             [
              0.8888888888888888,
              "#fdca26"
             ],
             [
              1,
              "#f0f921"
             ]
            ],
            "type": "histogram2d"
           }
          ],
          "histogram2dcontour": [
           {
            "colorbar": {
             "outlinewidth": 0,
             "ticks": ""
            },
            "colorscale": [
             [
              0,
              "#0d0887"
             ],
             [
              0.1111111111111111,
              "#46039f"
             ],
             [
              0.2222222222222222,
              "#7201a8"
             ],
             [
              0.3333333333333333,
              "#9c179e"
             ],
             [
              0.4444444444444444,
              "#bd3786"
             ],
             [
              0.5555555555555556,
              "#d8576b"
             ],
             [
              0.6666666666666666,
              "#ed7953"
             ],
             [
              0.7777777777777778,
              "#fb9f3a"
             ],
             [
              0.8888888888888888,
              "#fdca26"
             ],
             [
              1,
              "#f0f921"
             ]
            ],
            "type": "histogram2dcontour"
           }
          ],
          "mesh3d": [
           {
            "colorbar": {
             "outlinewidth": 0,
             "ticks": ""
            },
            "type": "mesh3d"
           }
          ],
          "parcoords": [
           {
            "line": {
             "colorbar": {
              "outlinewidth": 0,
              "ticks": ""
             }
            },
            "type": "parcoords"
           }
          ],
          "pie": [
           {
            "automargin": true,
            "type": "pie"
           }
          ],
          "scatter": [
           {
            "marker": {
             "colorbar": {
              "outlinewidth": 0,
              "ticks": ""
             }
            },
            "type": "scatter"
           }
          ],
          "scatter3d": [
           {
            "line": {
             "colorbar": {
              "outlinewidth": 0,
              "ticks": ""
             }
            },
            "marker": {
             "colorbar": {
              "outlinewidth": 0,
              "ticks": ""
             }
            },
            "type": "scatter3d"
           }
          ],
          "scattercarpet": [
           {
            "marker": {
             "colorbar": {
              "outlinewidth": 0,
              "ticks": ""
             }
            },
            "type": "scattercarpet"
           }
          ],
          "scattergeo": [
           {
            "marker": {
             "colorbar": {
              "outlinewidth": 0,
              "ticks": ""
             }
            },
            "type": "scattergeo"
           }
          ],
          "scattergl": [
           {
            "marker": {
             "colorbar": {
              "outlinewidth": 0,
              "ticks": ""
             }
            },
            "type": "scattergl"
           }
          ],
          "scattermapbox": [
           {
            "marker": {
             "colorbar": {
              "outlinewidth": 0,
              "ticks": ""
             }
            },
            "type": "scattermapbox"
           }
          ],
          "scatterpolar": [
           {
            "marker": {
             "colorbar": {
              "outlinewidth": 0,
              "ticks": ""
             }
            },
            "type": "scatterpolar"
           }
          ],
          "scatterpolargl": [
           {
            "marker": {
             "colorbar": {
              "outlinewidth": 0,
              "ticks": ""
             }
            },
            "type": "scatterpolargl"
           }
          ],
          "scatterternary": [
           {
            "marker": {
             "colorbar": {
              "outlinewidth": 0,
              "ticks": ""
             }
            },
            "type": "scatterternary"
           }
          ],
          "surface": [
           {
            "colorbar": {
             "outlinewidth": 0,
             "ticks": ""
            },
            "colorscale": [
             [
              0,
              "#0d0887"
             ],
             [
              0.1111111111111111,
              "#46039f"
             ],
             [
              0.2222222222222222,
              "#7201a8"
             ],
             [
              0.3333333333333333,
              "#9c179e"
             ],
             [
              0.4444444444444444,
              "#bd3786"
             ],
             [
              0.5555555555555556,
              "#d8576b"
             ],
             [
              0.6666666666666666,
              "#ed7953"
             ],
             [
              0.7777777777777778,
              "#fb9f3a"
             ],
             [
              0.8888888888888888,
              "#fdca26"
             ],
             [
              1,
              "#f0f921"
             ]
            ],
            "type": "surface"
           }
          ],
          "table": [
           {
            "cells": {
             "fill": {
              "color": "#EBF0F8"
             },
             "line": {
              "color": "white"
             }
            },
            "header": {
             "fill": {
              "color": "#C8D4E3"
             },
             "line": {
              "color": "white"
             }
            },
            "type": "table"
           }
          ]
         },
         "layout": {
          "annotationdefaults": {
           "arrowcolor": "#2a3f5f",
           "arrowhead": 0,
           "arrowwidth": 1
          },
          "autotypenumbers": "strict",
          "coloraxis": {
           "colorbar": {
            "outlinewidth": 0,
            "ticks": ""
           }
          },
          "colorscale": {
           "diverging": [
            [
             0,
             "#8e0152"
            ],
            [
             0.1,
             "#c51b7d"
            ],
            [
             0.2,
             "#de77ae"
            ],
            [
             0.3,
             "#f1b6da"
            ],
            [
             0.4,
             "#fde0ef"
            ],
            [
             0.5,
             "#f7f7f7"
            ],
            [
             0.6,
             "#e6f5d0"
            ],
            [
             0.7,
             "#b8e186"
            ],
            [
             0.8,
             "#7fbc41"
            ],
            [
             0.9,
             "#4d9221"
            ],
            [
             1,
             "#276419"
            ]
           ],
           "sequential": [
            [
             0,
             "#0d0887"
            ],
            [
             0.1111111111111111,
             "#46039f"
            ],
            [
             0.2222222222222222,
             "#7201a8"
            ],
            [
             0.3333333333333333,
             "#9c179e"
            ],
            [
             0.4444444444444444,
             "#bd3786"
            ],
            [
             0.5555555555555556,
             "#d8576b"
            ],
            [
             0.6666666666666666,
             "#ed7953"
            ],
            [
             0.7777777777777778,
             "#fb9f3a"
            ],
            [
             0.8888888888888888,
             "#fdca26"
            ],
            [
             1,
             "#f0f921"
            ]
           ],
           "sequentialminus": [
            [
             0,
             "#0d0887"
            ],
            [
             0.1111111111111111,
             "#46039f"
            ],
            [
             0.2222222222222222,
             "#7201a8"
            ],
            [
             0.3333333333333333,
             "#9c179e"
            ],
            [
             0.4444444444444444,
             "#bd3786"
            ],
            [
             0.5555555555555556,
             "#d8576b"
            ],
            [
             0.6666666666666666,
             "#ed7953"
            ],
            [
             0.7777777777777778,
             "#fb9f3a"
            ],
            [
             0.8888888888888888,
             "#fdca26"
            ],
            [
             1,
             "#f0f921"
            ]
           ]
          },
          "colorway": [
           "#636efa",
           "#EF553B",
           "#00cc96",
           "#ab63fa",
           "#FFA15A",
           "#19d3f3",
           "#FF6692",
           "#B6E880",
           "#FF97FF",
           "#FECB52"
          ],
          "font": {
           "color": "#2a3f5f"
          },
          "geo": {
           "bgcolor": "white",
           "lakecolor": "white",
           "landcolor": "#E5ECF6",
           "showlakes": true,
           "showland": true,
           "subunitcolor": "white"
          },
          "hoverlabel": {
           "align": "left"
          },
          "hovermode": "closest",
          "mapbox": {
           "style": "light"
          },
          "paper_bgcolor": "white",
          "plot_bgcolor": "#E5ECF6",
          "polar": {
           "angularaxis": {
            "gridcolor": "white",
            "linecolor": "white",
            "ticks": ""
           },
           "bgcolor": "#E5ECF6",
           "radialaxis": {
            "gridcolor": "white",
            "linecolor": "white",
            "ticks": ""
           }
          },
          "scene": {
           "xaxis": {
            "backgroundcolor": "#E5ECF6",
            "gridcolor": "white",
            "gridwidth": 2,
            "linecolor": "white",
            "showbackground": true,
            "ticks": "",
            "zerolinecolor": "white"
           },
           "yaxis": {
            "backgroundcolor": "#E5ECF6",
            "gridcolor": "white",
            "gridwidth": 2,
            "linecolor": "white",
            "showbackground": true,
            "ticks": "",
            "zerolinecolor": "white"
           },
           "zaxis": {
            "backgroundcolor": "#E5ECF6",
            "gridcolor": "white",
            "gridwidth": 2,
            "linecolor": "white",
            "showbackground": true,
            "ticks": "",
            "zerolinecolor": "white"
           }
          },
          "shapedefaults": {
           "line": {
            "color": "#2a3f5f"
           }
          },
          "ternary": {
           "aaxis": {
            "gridcolor": "white",
            "linecolor": "white",
            "ticks": ""
           },
           "baxis": {
            "gridcolor": "white",
            "linecolor": "white",
            "ticks": ""
           },
           "bgcolor": "#E5ECF6",
           "caxis": {
            "gridcolor": "white",
            "linecolor": "white",
            "ticks": ""
           }
          },
          "title": {
           "x": 0.05
          },
          "xaxis": {
           "automargin": true,
           "gridcolor": "white",
           "linecolor": "white",
           "ticks": "",
           "title": {
            "standoff": 15
           },
           "zerolinecolor": "white",
           "zerolinewidth": 2
          },
          "yaxis": {
           "automargin": true,
           "gridcolor": "white",
           "linecolor": "white",
           "ticks": "",
           "title": {
            "standoff": 15
           },
           "zerolinecolor": "white",
           "zerolinewidth": 2
          }
         }
        },
        "title": {
         "text": "AQI Vs. Population"
        },
        "xaxis": {
         "title": {
          "text": "Population (2014-2020) in Maryland Counties on a Log Scale"
         }
        },
        "yaxis": {
         "title": {
          "text": "AQI Quality"
         }
        }
       }
      },
      "text/html": [
       "<div>                            <div id=\"952b2dc0-447f-465b-9523-8a374cbabcd4\" class=\"plotly-graph-div\" style=\"height:525px; width:100%;\"></div>            <script type=\"text/javascript\">                require([\"plotly\"], function(Plotly) {                    window.PLOTLYENV=window.PLOTLYENV || {};                                    if (document.getElementById(\"952b2dc0-447f-465b-9523-8a374cbabcd4\")) {                    Plotly.newPlot(                        \"952b2dc0-447f-465b-9523-8a374cbabcd4\",                        [{\"hovertemplate\":\"%{text}<extra></extra>\",\"mode\":\"markers\",\"text\":[\"Washington\",\"Kent\",\"Carroll\",\"Howard\",\"Montgomery\",\"Allegany\",\"Baltimore\",\"Baltimore\",\"Baltimore\",\"Baltimore\",\"Baltimore\",\"Baltimore\",\"Baltimore\",\"Baltimore\",\"Baltimore\",\"Baltimore\",\"Baltimore\",\"Baltimore\",\"Baltimore\",\"Baltimore\",\"Baltimore\",\"Baltimore\",\"Calvert\",\"Cecil\",\"Charles\",\"Dorchester\",\"Frederick\",\"Garrett\",\"Harford\"],\"type\":\"scatter\",\"x\":[5.1755437029756655,4.292100938480419,5.224071849290467,5.49876115897809,6.017088875330536,4.857193741308315,5.917833600889374,5.917833600889374,5.917833600889374,5.917833600889374,5.7886632131208575,5.7886632131208575,5.7886632131208575,5.7886632131208575,5.917833600889374,5.917833600889374,5.917833600889374,5.917833600889374,5.7886632131208575,5.7886632131208575,5.7886632131208575,5.7886632131208575,4.95943255838829,5.0107958887479755,5.1977518220661,4.508677825165493,5.395277455722756,4.4679926595211485,5.399716975749477],\"y\":[51,46,49,44,45,3,57,57,57,57,57,57,57,57,57,57,57,57,57,57,57,57,44,49,44,47,49,46,55]}],                        {\"template\":{\"data\":{\"bar\":[{\"error_x\":{\"color\":\"#2a3f5f\"},\"error_y\":{\"color\":\"#2a3f5f\"},\"marker\":{\"line\":{\"color\":\"#E5ECF6\",\"width\":0.5},\"pattern\":{\"fillmode\":\"overlay\",\"size\":10,\"solidity\":0.2}},\"type\":\"bar\"}],\"barpolar\":[{\"marker\":{\"line\":{\"color\":\"#E5ECF6\",\"width\":0.5},\"pattern\":{\"fillmode\":\"overlay\",\"size\":10,\"solidity\":0.2}},\"type\":\"barpolar\"}],\"carpet\":[{\"aaxis\":{\"endlinecolor\":\"#2a3f5f\",\"gridcolor\":\"white\",\"linecolor\":\"white\",\"minorgridcolor\":\"white\",\"startlinecolor\":\"#2a3f5f\"},\"baxis\":{\"endlinecolor\":\"#2a3f5f\",\"gridcolor\":\"white\",\"linecolor\":\"white\",\"minorgridcolor\":\"white\",\"startlinecolor\":\"#2a3f5f\"},\"type\":\"carpet\"}],\"choropleth\":[{\"colorbar\":{\"outlinewidth\":0,\"ticks\":\"\"},\"type\":\"choropleth\"}],\"contour\":[{\"colorbar\":{\"outlinewidth\":0,\"ticks\":\"\"},\"colorscale\":[[0.0,\"#0d0887\"],[0.1111111111111111,\"#46039f\"],[0.2222222222222222,\"#7201a8\"],[0.3333333333333333,\"#9c179e\"],[0.4444444444444444,\"#bd3786\"],[0.5555555555555556,\"#d8576b\"],[0.6666666666666666,\"#ed7953\"],[0.7777777777777778,\"#fb9f3a\"],[0.8888888888888888,\"#fdca26\"],[1.0,\"#f0f921\"]],\"type\":\"contour\"}],\"contourcarpet\":[{\"colorbar\":{\"outlinewidth\":0,\"ticks\":\"\"},\"type\":\"contourcarpet\"}],\"heatmap\":[{\"colorbar\":{\"outlinewidth\":0,\"ticks\":\"\"},\"colorscale\":[[0.0,\"#0d0887\"],[0.1111111111111111,\"#46039f\"],[0.2222222222222222,\"#7201a8\"],[0.3333333333333333,\"#9c179e\"],[0.4444444444444444,\"#bd3786\"],[0.5555555555555556,\"#d8576b\"],[0.6666666666666666,\"#ed7953\"],[0.7777777777777778,\"#fb9f3a\"],[0.8888888888888888,\"#fdca26\"],[1.0,\"#f0f921\"]],\"type\":\"heatmap\"}],\"heatmapgl\":[{\"colorbar\":{\"outlinewidth\":0,\"ticks\":\"\"},\"colorscale\":[[0.0,\"#0d0887\"],[0.1111111111111111,\"#46039f\"],[0.2222222222222222,\"#7201a8\"],[0.3333333333333333,\"#9c179e\"],[0.4444444444444444,\"#bd3786\"],[0.5555555555555556,\"#d8576b\"],[0.6666666666666666,\"#ed7953\"],[0.7777777777777778,\"#fb9f3a\"],[0.8888888888888888,\"#fdca26\"],[1.0,\"#f0f921\"]],\"type\":\"heatmapgl\"}],\"histogram\":[{\"marker\":{\"pattern\":{\"fillmode\":\"overlay\",\"size\":10,\"solidity\":0.2}},\"type\":\"histogram\"}],\"histogram2d\":[{\"colorbar\":{\"outlinewidth\":0,\"ticks\":\"\"},\"colorscale\":[[0.0,\"#0d0887\"],[0.1111111111111111,\"#46039f\"],[0.2222222222222222,\"#7201a8\"],[0.3333333333333333,\"#9c179e\"],[0.4444444444444444,\"#bd3786\"],[0.5555555555555556,\"#d8576b\"],[0.6666666666666666,\"#ed7953\"],[0.7777777777777778,\"#fb9f3a\"],[0.8888888888888888,\"#fdca26\"],[1.0,\"#f0f921\"]],\"type\":\"histogram2d\"}],\"histogram2dcontour\":[{\"colorbar\":{\"outlinewidth\":0,\"ticks\":\"\"},\"colorscale\":[[0.0,\"#0d0887\"],[0.1111111111111111,\"#46039f\"],[0.2222222222222222,\"#7201a8\"],[0.3333333333333333,\"#9c179e\"],[0.4444444444444444,\"#bd3786\"],[0.5555555555555556,\"#d8576b\"],[0.6666666666666666,\"#ed7953\"],[0.7777777777777778,\"#fb9f3a\"],[0.8888888888888888,\"#fdca26\"],[1.0,\"#f0f921\"]],\"type\":\"histogram2dcontour\"}],\"mesh3d\":[{\"colorbar\":{\"outlinewidth\":0,\"ticks\":\"\"},\"type\":\"mesh3d\"}],\"parcoords\":[{\"line\":{\"colorbar\":{\"outlinewidth\":0,\"ticks\":\"\"}},\"type\":\"parcoords\"}],\"pie\":[{\"automargin\":true,\"type\":\"pie\"}],\"scatter\":[{\"marker\":{\"colorbar\":{\"outlinewidth\":0,\"ticks\":\"\"}},\"type\":\"scatter\"}],\"scatter3d\":[{\"line\":{\"colorbar\":{\"outlinewidth\":0,\"ticks\":\"\"}},\"marker\":{\"colorbar\":{\"outlinewidth\":0,\"ticks\":\"\"}},\"type\":\"scatter3d\"}],\"scattercarpet\":[{\"marker\":{\"colorbar\":{\"outlinewidth\":0,\"ticks\":\"\"}},\"type\":\"scattercarpet\"}],\"scattergeo\":[{\"marker\":{\"colorbar\":{\"outlinewidth\":0,\"ticks\":\"\"}},\"type\":\"scattergeo\"}],\"scattergl\":[{\"marker\":{\"colorbar\":{\"outlinewidth\":0,\"ticks\":\"\"}},\"type\":\"scattergl\"}],\"scattermapbox\":[{\"marker\":{\"colorbar\":{\"outlinewidth\":0,\"ticks\":\"\"}},\"type\":\"scattermapbox\"}],\"scatterpolar\":[{\"marker\":{\"colorbar\":{\"outlinewidth\":0,\"ticks\":\"\"}},\"type\":\"scatterpolar\"}],\"scatterpolargl\":[{\"marker\":{\"colorbar\":{\"outlinewidth\":0,\"ticks\":\"\"}},\"type\":\"scatterpolargl\"}],\"scatterternary\":[{\"marker\":{\"colorbar\":{\"outlinewidth\":0,\"ticks\":\"\"}},\"type\":\"scatterternary\"}],\"surface\":[{\"colorbar\":{\"outlinewidth\":0,\"ticks\":\"\"},\"colorscale\":[[0.0,\"#0d0887\"],[0.1111111111111111,\"#46039f\"],[0.2222222222222222,\"#7201a8\"],[0.3333333333333333,\"#9c179e\"],[0.4444444444444444,\"#bd3786\"],[0.5555555555555556,\"#d8576b\"],[0.6666666666666666,\"#ed7953\"],[0.7777777777777778,\"#fb9f3a\"],[0.8888888888888888,\"#fdca26\"],[1.0,\"#f0f921\"]],\"type\":\"surface\"}],\"table\":[{\"cells\":{\"fill\":{\"color\":\"#EBF0F8\"},\"line\":{\"color\":\"white\"}},\"header\":{\"fill\":{\"color\":\"#C8D4E3\"},\"line\":{\"color\":\"white\"}},\"type\":\"table\"}]},\"layout\":{\"annotationdefaults\":{\"arrowcolor\":\"#2a3f5f\",\"arrowhead\":0,\"arrowwidth\":1},\"autotypenumbers\":\"strict\",\"coloraxis\":{\"colorbar\":{\"outlinewidth\":0,\"ticks\":\"\"}},\"colorscale\":{\"diverging\":[[0,\"#8e0152\"],[0.1,\"#c51b7d\"],[0.2,\"#de77ae\"],[0.3,\"#f1b6da\"],[0.4,\"#fde0ef\"],[0.5,\"#f7f7f7\"],[0.6,\"#e6f5d0\"],[0.7,\"#b8e186\"],[0.8,\"#7fbc41\"],[0.9,\"#4d9221\"],[1,\"#276419\"]],\"sequential\":[[0.0,\"#0d0887\"],[0.1111111111111111,\"#46039f\"],[0.2222222222222222,\"#7201a8\"],[0.3333333333333333,\"#9c179e\"],[0.4444444444444444,\"#bd3786\"],[0.5555555555555556,\"#d8576b\"],[0.6666666666666666,\"#ed7953\"],[0.7777777777777778,\"#fb9f3a\"],[0.8888888888888888,\"#fdca26\"],[1.0,\"#f0f921\"]],\"sequentialminus\":[[0.0,\"#0d0887\"],[0.1111111111111111,\"#46039f\"],[0.2222222222222222,\"#7201a8\"],[0.3333333333333333,\"#9c179e\"],[0.4444444444444444,\"#bd3786\"],[0.5555555555555556,\"#d8576b\"],[0.6666666666666666,\"#ed7953\"],[0.7777777777777778,\"#fb9f3a\"],[0.8888888888888888,\"#fdca26\"],[1.0,\"#f0f921\"]]},\"colorway\":[\"#636efa\",\"#EF553B\",\"#00cc96\",\"#ab63fa\",\"#FFA15A\",\"#19d3f3\",\"#FF6692\",\"#B6E880\",\"#FF97FF\",\"#FECB52\"],\"font\":{\"color\":\"#2a3f5f\"},\"geo\":{\"bgcolor\":\"white\",\"lakecolor\":\"white\",\"landcolor\":\"#E5ECF6\",\"showlakes\":true,\"showland\":true,\"subunitcolor\":\"white\"},\"hoverlabel\":{\"align\":\"left\"},\"hovermode\":\"closest\",\"mapbox\":{\"style\":\"light\"},\"paper_bgcolor\":\"white\",\"plot_bgcolor\":\"#E5ECF6\",\"polar\":{\"angularaxis\":{\"gridcolor\":\"white\",\"linecolor\":\"white\",\"ticks\":\"\"},\"bgcolor\":\"#E5ECF6\",\"radialaxis\":{\"gridcolor\":\"white\",\"linecolor\":\"white\",\"ticks\":\"\"}},\"scene\":{\"xaxis\":{\"backgroundcolor\":\"#E5ECF6\",\"gridcolor\":\"white\",\"gridwidth\":2,\"linecolor\":\"white\",\"showbackground\":true,\"ticks\":\"\",\"zerolinecolor\":\"white\"},\"yaxis\":{\"backgroundcolor\":\"#E5ECF6\",\"gridcolor\":\"white\",\"gridwidth\":2,\"linecolor\":\"white\",\"showbackground\":true,\"ticks\":\"\",\"zerolinecolor\":\"white\"},\"zaxis\":{\"backgroundcolor\":\"#E5ECF6\",\"gridcolor\":\"white\",\"gridwidth\":2,\"linecolor\":\"white\",\"showbackground\":true,\"ticks\":\"\",\"zerolinecolor\":\"white\"}},\"shapedefaults\":{\"line\":{\"color\":\"#2a3f5f\"}},\"ternary\":{\"aaxis\":{\"gridcolor\":\"white\",\"linecolor\":\"white\",\"ticks\":\"\"},\"baxis\":{\"gridcolor\":\"white\",\"linecolor\":\"white\",\"ticks\":\"\"},\"bgcolor\":\"#E5ECF6\",\"caxis\":{\"gridcolor\":\"white\",\"linecolor\":\"white\",\"ticks\":\"\"}},\"title\":{\"x\":0.05},\"xaxis\":{\"automargin\":true,\"gridcolor\":\"white\",\"linecolor\":\"white\",\"ticks\":\"\",\"title\":{\"standoff\":15},\"zerolinecolor\":\"white\",\"zerolinewidth\":2},\"yaxis\":{\"automargin\":true,\"gridcolor\":\"white\",\"linecolor\":\"white\",\"ticks\":\"\",\"title\":{\"standoff\":15},\"zerolinecolor\":\"white\",\"zerolinewidth\":2}}},\"title\":{\"text\":\"AQI Vs. Population\"},\"xaxis\":{\"title\":{\"text\":\"Population (2014-2020) in Maryland Counties on a Log Scale\"}},\"yaxis\":{\"title\":{\"text\":\"AQI Quality\"}}},                        {\"responsive\": true}                    ).then(function(){\n",
       "                            \n",
       "var gd = document.getElementById('952b2dc0-447f-465b-9523-8a374cbabcd4');\n",
       "var x = new MutationObserver(function (mutations, observer) {{\n",
       "        var display = window.getComputedStyle(gd).display;\n",
       "        if (!display || display === 'none') {{\n",
       "            console.log([gd, 'removed!']);\n",
       "            Plotly.purge(gd);\n",
       "            observer.disconnect();\n",
       "        }}\n",
       "}});\n",
       "\n",
       "// Listen for the removal of the full notebook cells\n",
       "var notebookContainer = gd.closest('#notebook-container');\n",
       "if (notebookContainer) {{\n",
       "    x.observe(notebookContainer, {childList: true});\n",
       "}}\n",
       "\n",
       "// Listen for the clearing of the current output cell\n",
       "var outputEl = gd.closest('.output');\n",
       "if (outputEl) {{\n",
       "    x.observe(outputEl, {childList: true});\n",
       "}}\n",
       "\n",
       "                        })                };                });            </script>        </div>"
      ]
     },
     "metadata": {},
     "output_type": "display_data"
    }
   ],
   "source": [
    "MarylandDf = DataFrame[DataFrame['State'].str.contains('Maryland')]\n",
    "MarylandDf\n",
    "pop_log_Maryland = np.log10(MarylandDf['Population (2014-2020)'])\n",
    "\n",
    "fig=go.Figure()\n",
    "\n",
    "fig.add_trace(go.Scatter(y = MarylandDf['90th Percentile AQI'],\n",
    "                                x = pop_log_Maryland,\n",
    "                                mode='markers',\n",
    "                                hovertemplate = '%{text}<extra></extra>',\n",
    "                                text = MarylandDf['County']))\n",
    "fig.update_layout(\n",
    "    title=\"AQI Vs. Population\",\n",
    "    xaxis_title=\"Population (2014-2020) in Maryland Counties on a Log Scale\",\n",
    "    yaxis_title=\"AQI Quality\")"
   ]
  },
  {
   "cell_type": "code",
   "execution_count": 58,
   "id": "2b52ef2b",
   "metadata": {},
   "outputs": [],
   "source": [
    "# Remove string columns for Regression Analysis to work \n",
    "# Regressions \n",
    "# Based on 90th Percentile AQI \n",
    "NewData = DataFrame.drop(columns = [\"State\",\"County\",\"Abbreviation\",\"Quality\",\"Max AQI\",\"Median AQI\"])\n",
    "PropertyList = NewData.columns\n",
    "AirProps = (NewData[PropertyList] - NewData[PropertyList].mean())/NewData[PropertyList].std()\n",
    "AirProps.describe()\n",
    "# For Seperate Classes \n",
    "NewGood = Good.drop(columns = [\"State\",\"County\",\"Abbreviation\",\"Quality\"])\n",
    "NewModerate = Moderate.drop(columns = [\"State\",\"County\",\"Abbreviation\",\"Quality\"]) \n",
    "NewUnhealthy = Unhealthy.drop(columns = [\"State\",\"County\",\"Abbreviation\",\"Quality\"])"
   ]
  },
  {
   "cell_type": "code",
   "execution_count": 59,
   "id": "111b056e",
   "metadata": {},
   "outputs": [
    {
     "name": "stdout",
     "output_type": "stream",
     "text": [
      "Training root mean squared error: 8.02\n",
      "Test root mean squared error: 8.14\n"
     ]
    },
    {
     "data": {
      "text/plain": [
       "<bound method Figure.show of <Figure size 432x288 with 1 Axes>>"
      ]
     },
     "execution_count": 59,
     "metadata": {},
     "output_type": "execute_result"
    },
    {
     "data": {
      "image/png": "[encoded data removed]",
      "text/plain": [
       "<Figure size 432x288 with 1 Axes>"
      ]
     },
     "metadata": {
      "needs_background": "light"
     },
     "output_type": "display_data"
    }
   ],
   "source": [
    "# CODE FOR LINEAR REGRESSION\n",
    "\n",
    "AirProps = (NewData[PropertyList] - NewData[PropertyList].mean())/NewData[PropertyList].std()\n",
    "AirProps.describe()\n",
    "\n",
    "X_train, X_test, y_train, y_test = train_test_split(AirProps.drop(columns=['90th Percentile AQI']),\n",
    "                                                    AirProps['90th Percentile AQI'], test_size=0.30, random_state=0)\n",
    "# Create linear regression object\n",
    "regr = LinearRegression()\n",
    "\n",
    "# Fit the model\n",
    "regr.fit(X_train,y_train)\n",
    "\n",
    "pred_train = regr.predict(X_train) \n",
    "pred_test = regr.predict(X_test)\n",
    "\n",
    "MSExTrain= mean_squared_error(y_train,pred_train)*NewData['90th Percentile AQI'].std()+NewData['90th Percentile AQI'].mean()\n",
    "RMSExTrain=np.power(MSExTrain,0.5)\n",
    "\n",
    "MSExTest= mean_squared_error(y_test,pred_test)*NewData['90th Percentile AQI'].std()+NewData['90th Percentile AQI'].mean()\n",
    "RMSExTest= np.power(MSExTest,0.5)\n",
    "\n",
    "\n",
    "# The root mean squared error\n",
    "print('Training root mean squared error: %.2f'\n",
    "      % RMSExTrain)\n",
    "print('Test root mean squared error: %.2f'\n",
    "      % RMSExTest)\n",
    "\n",
    "x1 = y_train*NewData['90th Percentile AQI'].std()+NewData['90th Percentile AQI'].mean(),\n",
    "y1 = pred_train*NewData['90th Percentile AQI'].std()+NewData['90th Percentile AQI'].mean()\n",
    "\n",
    "x2 = y_test*NewData['90th Percentile AQI'].std()+NewData['90th Percentile AQI'].mean(),\n",
    "y2 = pred_test*NewData['90th Percentile AQI'].std()+NewData['90th Percentile AQI'].mean()\n",
    "\n",
    "fig,ax=plt.subplots()\n",
    "ax.scatter(x1,y1,alpha=0.1)\n",
    "ax.scatter(x2,y2,alpha=0.1)\n",
    "ax.plot(np.linspace(1,200,10),np.linspace(1,200,10),'k-') # y = x line\n",
    "ax.set_xlabel('Measured Quality')\n",
    "ax.set_ylabel('Predicted Quality')\n",
    "ax.legend(['y=x line','Training set','Test set'])\n",
    "fig.show"
   ]
  },
  {
   "cell_type": "code",
   "execution_count": 60,
   "id": "62503f09",
   "metadata": {},
   "outputs": [
    {
     "name": "stdout",
     "output_type": "stream",
     "text": [
      "Training root mean squared error for 90th Percentile AQI: 2.32\n",
      "Test root mean squared error for 90th Percentile AQI: 2.30\n"
     ]
    },
    {
     "data": {
      "text/html": [
       "<div>\n",
       "<style scoped>\n",
       "    .dataframe tbody tr th:only-of-type {\n",
       "        vertical-align: middle;\n",
       "    }\n",
       "\n",
       "    .dataframe tbody tr th {\n",
       "        vertical-align: top;\n",
       "    }\n",
       "\n",
       "    .dataframe thead th {\n",
       "        text-align: right;\n",
       "    }\n",
       "</style>\n",
       "<table border=\"1\" class=\"dataframe\">\n",
       "  <thead>\n",
       "    <tr style=\"text-align: right;\">\n",
       "      <th></th>\n",
       "      <th>Feature</th>\n",
       "      <th>Importance</th>\n",
       "    </tr>\n",
       "  </thead>\n",
       "  <tbody>\n",
       "    <tr>\n",
       "      <th>8</th>\n",
       "      <td>SolarThermalwithEnergyStorage</td>\n",
       "      <td>45</td>\n",
       "    </tr>\n",
       "    <tr>\n",
       "      <th>7</th>\n",
       "      <td>SolarPhotovoltaic</td>\n",
       "      <td>44</td>\n",
       "    </tr>\n",
       "    <tr>\n",
       "      <th>6</th>\n",
       "      <td>Flywheels</td>\n",
       "      <td>26</td>\n",
       "    </tr>\n",
       "    <tr>\n",
       "      <th>5</th>\n",
       "      <td>Professional</td>\n",
       "      <td>15</td>\n",
       "    </tr>\n",
       "    <tr>\n",
       "      <th>4</th>\n",
       "      <td>Total Votes 2020</td>\n",
       "      <td>10</td>\n",
       "    </tr>\n",
       "  </tbody>\n",
       "</table>\n",
       "</div>"
      ],
      "text/plain": [
       "                         Feature  Importance\n",
       "8  SolarThermalwithEnergyStorage          45\n",
       "7              SolarPhotovoltaic          44\n",
       "6                      Flywheels          26\n",
       "5                   Professional          15\n",
       "4               Total Votes 2020          10"
      ]
     },
     "metadata": {},
     "output_type": "display_data"
    },
    {
     "data": {
      "text/html": [
       "<div>\n",
       "<style scoped>\n",
       "    .dataframe tbody tr th:only-of-type {\n",
       "        vertical-align: middle;\n",
       "    }\n",
       "\n",
       "    .dataframe tbody tr th {\n",
       "        vertical-align: top;\n",
       "    }\n",
       "\n",
       "    .dataframe thead th {\n",
       "        text-align: right;\n",
       "    }\n",
       "</style>\n",
       "<table border=\"1\" class=\"dataframe\">\n",
       "  <thead>\n",
       "    <tr style=\"text-align: right;\">\n",
       "      <th></th>\n",
       "      <th>Feature</th>\n",
       "      <th>Importance</th>\n",
       "    </tr>\n",
       "  </thead>\n",
       "  <tbody>\n",
       "    <tr>\n",
       "      <th>8</th>\n",
       "      <td>SolarThermalwithEnergyStorage</td>\n",
       "      <td>45</td>\n",
       "    </tr>\n",
       "    <tr>\n",
       "      <th>7</th>\n",
       "      <td>SolarPhotovoltaic</td>\n",
       "      <td>44</td>\n",
       "    </tr>\n",
       "    <tr>\n",
       "      <th>6</th>\n",
       "      <td>Flywheels</td>\n",
       "      <td>26</td>\n",
       "    </tr>\n",
       "    <tr>\n",
       "      <th>5</th>\n",
       "      <td>Professional</td>\n",
       "      <td>15</td>\n",
       "    </tr>\n",
       "    <tr>\n",
       "      <th>4</th>\n",
       "      <td>Total Votes 2020</td>\n",
       "      <td>10</td>\n",
       "    </tr>\n",
       "    <tr>\n",
       "      <th>3</th>\n",
       "      <td>Female</td>\n",
       "      <td>7</td>\n",
       "    </tr>\n",
       "    <tr>\n",
       "      <th>2</th>\n",
       "      <td># Unemployed</td>\n",
       "      <td>5</td>\n",
       "    </tr>\n",
       "    <tr>\n",
       "      <th>1</th>\n",
       "      <td>90th Percentile AQI</td>\n",
       "      <td>1</td>\n",
       "    </tr>\n",
       "    <tr>\n",
       "      <th>0</th>\n",
       "      <td>Unnamed: 0</td>\n",
       "      <td>0</td>\n",
       "    </tr>\n",
       "  </tbody>\n",
       "</table>\n",
       "</div>"
      ],
      "text/plain": [
       "                         Feature  Importance\n",
       "8  SolarThermalwithEnergyStorage          45\n",
       "7              SolarPhotovoltaic          44\n",
       "6                      Flywheels          26\n",
       "5                   Professional          15\n",
       "4               Total Votes 2020          10\n",
       "3                         Female           7\n",
       "2                   # Unemployed           5\n",
       "1            90th Percentile AQI           1\n",
       "0                     Unnamed: 0           0"
      ]
     },
     "metadata": {},
     "output_type": "display_data"
    },
    {
     "data": {
      "image/png": "[encoded data removed]",
      "text/plain": [
       "<Figure size 432x288 with 1 Axes>"
      ]
     },
     "metadata": {
      "needs_background": "light"
     },
     "output_type": "display_data"
    }
   ],
   "source": [
    "# CODE FOR LASSO REGRESSION on the entire dataset \n",
    "AirProps = (NewData[PropertyList] - NewData[PropertyList].mean())/NewData[PropertyList].std()\n",
    "AirProps.describe()\n",
    "\n",
    "X_train, X_test, y_train, y_test = train_test_split(AirProps.drop(columns=['90th Percentile AQI']),\n",
    "                                                    AirProps['90th Percentile AQI'], test_size=0.30, random_state=0)\n",
    "regr = Lasso(alpha=0.1)\n",
    "regr.fit(X_train,y_train)\n",
    "pred_train = regr.predict(X_train) \n",
    "pred_test = regr.predict(X_test)\n",
    "\n",
    "AirCoef = regr.coef_\n",
    "\n",
    "MSExTrain= mean_squared_error(y_train,pred_train)*NewData['90th Percentile AQI'].std()+NewData['90th Percentile AQI'].mean()\n",
    "RMSExTrain=np.power(MSExTrain,0.2)\n",
    "\n",
    "MSExTest= mean_squared_error(y_test,pred_test)*NewData['90th Percentile AQI'].std()+NewData['90th Percentile AQI'].mean()\n",
    "RMSExTest= np.power(MSExTest,0.2)\n",
    "\n",
    "\n",
    "# The root mean squared error\n",
    "print('Training root mean squared error for 90th Percentile AQI: %.2f'\n",
    "      % RMSExTrain)\n",
    "print('Test root mean squared error for 90th Percentile AQI: %.2f'\n",
    "      % RMSExTest)\n",
    "AQI_important = []\n",
    "for i in range(len(AirCoef)):\n",
    "    if AirCoef[i] != 0:\n",
    "        AQI_important.append(i)\n",
    "\n",
    "fig,ax = plt.subplots(1,1)\n",
    "ax.plot([-3, 10],[-3,10])\n",
    "ax.scatter(y_train,pred_train,alpha=0.1)\n",
    "ax.scatter(y_test,pred_test,alpha=0.1)\n",
    "# depends on the alpha value\n",
    "ax.legend(['y=x Line','Training','Test'])\n",
    "ax.set_xlabel('Experimental')\n",
    "ax.set_ylabel('Predicted')\n",
    "\n",
    "\n",
    "list1 = PropertyList[AQI_important]\n",
    "list2 = AQI_important\n",
    "important_features = pd.DataFrame(list(zip(list1, list2)), columns = ['Feature', 'Importance'])\n",
    "ordered_importance = (important_features.sort_values(by='Importance', ascending=False))\n",
    "display(ordered_importance.head())\n",
    "display(ordered_importance)"
   ]
  },
  {
   "cell_type": "code",
   "execution_count": 64,
   "id": "c0a66e76",
   "metadata": {},
   "outputs": [
    {
     "ename": "ValueError",
     "evalue": "No axis named 10 for object type Series",
     "output_type": "error",
     "traceback": [
      "\u001b[0;31m---------------------------------------------------------------------------\u001b[0m",
      "\u001b[0;31mKeyError\u001b[0m                                  Traceback (most recent call last)",
      "\u001b[0;32m~/opt/anaconda3/lib/python3.8/site-packages/pandas/core/generic.py\u001b[0m in \u001b[0;36m_get_axis_number\u001b[0;34m(cls, axis)\u001b[0m\n\u001b[1;32m    459\u001b[0m         \u001b[0;32mtry\u001b[0m\u001b[0;34m:\u001b[0m\u001b[0;34m\u001b[0m\u001b[0;34m\u001b[0m\u001b[0m\n\u001b[0;32m--> 460\u001b[0;31m             \u001b[0;32mreturn\u001b[0m \u001b[0mcls\u001b[0m\u001b[0;34m.\u001b[0m\u001b[0m_AXIS_TO_AXIS_NUMBER\u001b[0m\u001b[0;34m[\u001b[0m\u001b[0maxis\u001b[0m\u001b[0;34m]\u001b[0m\u001b[0;34m\u001b[0m\u001b[0;34m\u001b[0m\u001b[0m\n\u001b[0m\u001b[1;32m    461\u001b[0m         \u001b[0;32mexcept\u001b[0m \u001b[0mKeyError\u001b[0m\u001b[0;34m:\u001b[0m\u001b[0;34m\u001b[0m\u001b[0;34m\u001b[0m\u001b[0m\n",
      "\u001b[0;31mKeyError\u001b[0m: 10",
      "\nDuring handling of the above exception, another exception occurred:\n",
      "\u001b[0;31mValueError\u001b[0m                                Traceback (most recent call last)",
      "\u001b[0;32m<ipython-input-64-afbfb408055f>\u001b[0m in \u001b[0;36m<module>\u001b[0;34m\u001b[0m\n\u001b[1;32m      1\u001b[0m \u001b[0mDataFrame\u001b[0m\u001b[0;34m\u001b[0m\u001b[0;34m\u001b[0m\u001b[0m\n\u001b[0;32m----> 2\u001b[0;31m \u001b[0mminvalue\u001b[0m \u001b[0;34m=\u001b[0m \u001b[0mDataFrame\u001b[0m\u001b[0;34m[\u001b[0m\u001b[0;34m'90th Percentile AQI'\u001b[0m\u001b[0;34m]\u001b[0m\u001b[0;34m.\u001b[0m\u001b[0mmin\u001b[0m\u001b[0;34m(\u001b[0m\u001b[0;36m10\u001b[0m\u001b[0;34m)\u001b[0m\u001b[0;34m\u001b[0m\u001b[0;34m\u001b[0m\u001b[0m\n\u001b[0m",
      "\u001b[0;32m~/opt/anaconda3/lib/python3.8/site-packages/pandas/core/generic.py\u001b[0m in \u001b[0;36mmin\u001b[0;34m(self, axis, skipna, level, numeric_only, **kwargs)\u001b[0m\n\u001b[1;32m  11211\u001b[0m         )\n\u001b[1;32m  11212\u001b[0m         \u001b[0;32mdef\u001b[0m \u001b[0mmin\u001b[0m\u001b[0;34m(\u001b[0m\u001b[0mself\u001b[0m\u001b[0;34m,\u001b[0m \u001b[0maxis\u001b[0m\u001b[0;34m=\u001b[0m\u001b[0;32mNone\u001b[0m\u001b[0;34m,\u001b[0m \u001b[0mskipna\u001b[0m\u001b[0;34m=\u001b[0m\u001b[0;32mNone\u001b[0m\u001b[0;34m,\u001b[0m \u001b[0mlevel\u001b[0m\u001b[0;34m=\u001b[0m\u001b[0;32mNone\u001b[0m\u001b[0;34m,\u001b[0m \u001b[0mnumeric_only\u001b[0m\u001b[0;34m=\u001b[0m\u001b[0;32mNone\u001b[0m\u001b[0;34m,\u001b[0m \u001b[0;34m**\u001b[0m\u001b[0mkwargs\u001b[0m\u001b[0;34m)\u001b[0m\u001b[0;34m:\u001b[0m\u001b[0;34m\u001b[0m\u001b[0;34m\u001b[0m\u001b[0m\n\u001b[0;32m> 11213\u001b[0;31m             \u001b[0;32mreturn\u001b[0m \u001b[0mNDFrame\u001b[0m\u001b[0;34m.\u001b[0m\u001b[0mmin\u001b[0m\u001b[0;34m(\u001b[0m\u001b[0mself\u001b[0m\u001b[0;34m,\u001b[0m \u001b[0maxis\u001b[0m\u001b[0;34m,\u001b[0m \u001b[0mskipna\u001b[0m\u001b[0;34m,\u001b[0m \u001b[0mlevel\u001b[0m\u001b[0;34m,\u001b[0m \u001b[0mnumeric_only\u001b[0m\u001b[0;34m,\u001b[0m \u001b[0;34m**\u001b[0m\u001b[0mkwargs\u001b[0m\u001b[0;34m)\u001b[0m\u001b[0;34m\u001b[0m\u001b[0;34m\u001b[0m\u001b[0m\n\u001b[0m\u001b[1;32m  11214\u001b[0m \u001b[0;34m\u001b[0m\u001b[0m\n\u001b[1;32m  11215\u001b[0m         \u001b[0;31m# pandas\\core\\generic.py:11009: error: Cannot assign to a method\u001b[0m\u001b[0;34m\u001b[0m\u001b[0;34m\u001b[0m\u001b[0;34m\u001b[0m\u001b[0m\n",
      "\u001b[0;32m~/opt/anaconda3/lib/python3.8/site-packages/pandas/core/generic.py\u001b[0m in \u001b[0;36mmin\u001b[0;34m(self, axis, skipna, level, numeric_only, **kwargs)\u001b[0m\n\u001b[1;32m  10714\u001b[0m \u001b[0;34m\u001b[0m\u001b[0m\n\u001b[1;32m  10715\u001b[0m     \u001b[0;32mdef\u001b[0m \u001b[0mmin\u001b[0m\u001b[0;34m(\u001b[0m\u001b[0mself\u001b[0m\u001b[0;34m,\u001b[0m \u001b[0maxis\u001b[0m\u001b[0;34m=\u001b[0m\u001b[0;32mNone\u001b[0m\u001b[0;34m,\u001b[0m \u001b[0mskipna\u001b[0m\u001b[0;34m=\u001b[0m\u001b[0;32mNone\u001b[0m\u001b[0;34m,\u001b[0m \u001b[0mlevel\u001b[0m\u001b[0;34m=\u001b[0m\u001b[0;32mNone\u001b[0m\u001b[0;34m,\u001b[0m \u001b[0mnumeric_only\u001b[0m\u001b[0;34m=\u001b[0m\u001b[0;32mNone\u001b[0m\u001b[0;34m,\u001b[0m \u001b[0;34m**\u001b[0m\u001b[0mkwargs\u001b[0m\u001b[0;34m)\u001b[0m\u001b[0;34m:\u001b[0m\u001b[0;34m\u001b[0m\u001b[0;34m\u001b[0m\u001b[0m\n\u001b[0;32m> 10716\u001b[0;31m         return self._stat_function(\n\u001b[0m\u001b[1;32m  10717\u001b[0m             \u001b[0;34m\"min\"\u001b[0m\u001b[0;34m,\u001b[0m \u001b[0mnanops\u001b[0m\u001b[0;34m.\u001b[0m\u001b[0mnanmin\u001b[0m\u001b[0;34m,\u001b[0m \u001b[0maxis\u001b[0m\u001b[0;34m,\u001b[0m \u001b[0mskipna\u001b[0m\u001b[0;34m,\u001b[0m \u001b[0mlevel\u001b[0m\u001b[0;34m,\u001b[0m \u001b[0mnumeric_only\u001b[0m\u001b[0;34m,\u001b[0m \u001b[0;34m**\u001b[0m\u001b[0mkwargs\u001b[0m\u001b[0;34m\u001b[0m\u001b[0;34m\u001b[0m\u001b[0m\n\u001b[1;32m  10718\u001b[0m         )\n",
      "\u001b[0;32m~/opt/anaconda3/lib/python3.8/site-packages/pandas/core/generic.py\u001b[0m in \u001b[0;36m_stat_function\u001b[0;34m(self, name, func, axis, skipna, level, numeric_only, **kwargs)\u001b[0m\n\u001b[1;32m  10709\u001b[0m         \u001b[0;32mif\u001b[0m \u001b[0mlevel\u001b[0m \u001b[0;32mis\u001b[0m \u001b[0;32mnot\u001b[0m \u001b[0;32mNone\u001b[0m\u001b[0;34m:\u001b[0m\u001b[0;34m\u001b[0m\u001b[0;34m\u001b[0m\u001b[0m\n\u001b[1;32m  10710\u001b[0m             \u001b[0;32mreturn\u001b[0m \u001b[0mself\u001b[0m\u001b[0;34m.\u001b[0m\u001b[0m_agg_by_level\u001b[0m\u001b[0;34m(\u001b[0m\u001b[0mname\u001b[0m\u001b[0;34m,\u001b[0m \u001b[0maxis\u001b[0m\u001b[0;34m=\u001b[0m\u001b[0maxis\u001b[0m\u001b[0;34m,\u001b[0m \u001b[0mlevel\u001b[0m\u001b[0;34m=\u001b[0m\u001b[0mlevel\u001b[0m\u001b[0;34m,\u001b[0m \u001b[0mskipna\u001b[0m\u001b[0;34m=\u001b[0m\u001b[0mskipna\u001b[0m\u001b[0;34m)\u001b[0m\u001b[0;34m\u001b[0m\u001b[0;34m\u001b[0m\u001b[0m\n\u001b[0;32m> 10711\u001b[0;31m         return self._reduce(\n\u001b[0m\u001b[1;32m  10712\u001b[0m             \u001b[0mfunc\u001b[0m\u001b[0;34m,\u001b[0m \u001b[0mname\u001b[0m\u001b[0;34m=\u001b[0m\u001b[0mname\u001b[0m\u001b[0;34m,\u001b[0m \u001b[0maxis\u001b[0m\u001b[0;34m=\u001b[0m\u001b[0maxis\u001b[0m\u001b[0;34m,\u001b[0m \u001b[0mskipna\u001b[0m\u001b[0;34m=\u001b[0m\u001b[0mskipna\u001b[0m\u001b[0;34m,\u001b[0m \u001b[0mnumeric_only\u001b[0m\u001b[0;34m=\u001b[0m\u001b[0mnumeric_only\u001b[0m\u001b[0;34m\u001b[0m\u001b[0;34m\u001b[0m\u001b[0m\n\u001b[1;32m  10713\u001b[0m         )\n",
      "\u001b[0;32m~/opt/anaconda3/lib/python3.8/site-packages/pandas/core/series.py\u001b[0m in \u001b[0;36m_reduce\u001b[0;34m(self, op, name, axis, skipna, numeric_only, filter_type, **kwds)\u001b[0m\n\u001b[1;32m   4167\u001b[0m \u001b[0;34m\u001b[0m\u001b[0m\n\u001b[1;32m   4168\u001b[0m         \u001b[0;32mif\u001b[0m \u001b[0maxis\u001b[0m \u001b[0;32mis\u001b[0m \u001b[0;32mnot\u001b[0m \u001b[0;32mNone\u001b[0m\u001b[0;34m:\u001b[0m\u001b[0;34m\u001b[0m\u001b[0;34m\u001b[0m\u001b[0m\n\u001b[0;32m-> 4169\u001b[0;31m             \u001b[0mself\u001b[0m\u001b[0;34m.\u001b[0m\u001b[0m_get_axis_number\u001b[0m\u001b[0;34m(\u001b[0m\u001b[0maxis\u001b[0m\u001b[0;34m)\u001b[0m\u001b[0;34m\u001b[0m\u001b[0;34m\u001b[0m\u001b[0m\n\u001b[0m\u001b[1;32m   4170\u001b[0m \u001b[0;34m\u001b[0m\u001b[0m\n\u001b[1;32m   4171\u001b[0m         \u001b[0;32mif\u001b[0m \u001b[0misinstance\u001b[0m\u001b[0;34m(\u001b[0m\u001b[0mdelegate\u001b[0m\u001b[0;34m,\u001b[0m \u001b[0mExtensionArray\u001b[0m\u001b[0;34m)\u001b[0m\u001b[0;34m:\u001b[0m\u001b[0;34m\u001b[0m\u001b[0;34m\u001b[0m\u001b[0m\n",
      "\u001b[0;32m~/opt/anaconda3/lib/python3.8/site-packages/pandas/core/generic.py\u001b[0m in \u001b[0;36m_get_axis_number\u001b[0;34m(cls, axis)\u001b[0m\n\u001b[1;32m    460\u001b[0m             \u001b[0;32mreturn\u001b[0m \u001b[0mcls\u001b[0m\u001b[0;34m.\u001b[0m\u001b[0m_AXIS_TO_AXIS_NUMBER\u001b[0m\u001b[0;34m[\u001b[0m\u001b[0maxis\u001b[0m\u001b[0;34m]\u001b[0m\u001b[0;34m\u001b[0m\u001b[0;34m\u001b[0m\u001b[0m\n\u001b[1;32m    461\u001b[0m         \u001b[0;32mexcept\u001b[0m \u001b[0mKeyError\u001b[0m\u001b[0;34m:\u001b[0m\u001b[0;34m\u001b[0m\u001b[0;34m\u001b[0m\u001b[0m\n\u001b[0;32m--> 462\u001b[0;31m             \u001b[0;32mraise\u001b[0m \u001b[0mValueError\u001b[0m\u001b[0;34m(\u001b[0m\u001b[0;34mf\"No axis named {axis} for object type {cls.__name__}\"\u001b[0m\u001b[0;34m)\u001b[0m\u001b[0;34m\u001b[0m\u001b[0;34m\u001b[0m\u001b[0m\n\u001b[0m\u001b[1;32m    463\u001b[0m \u001b[0;34m\u001b[0m\u001b[0m\n\u001b[1;32m    464\u001b[0m     \u001b[0;34m@\u001b[0m\u001b[0mfinal\u001b[0m\u001b[0;34m\u001b[0m\u001b[0;34m\u001b[0m\u001b[0m\n",
      "\u001b[0;31mValueError\u001b[0m: No axis named 10 for object type Series"
     ]
    }
   ],
   "source": [
    "DataFrame\n",
    "minvalue = DataFrame['90th Percentile AQI'].min()\n"
   ]
  },
  {
   "cell_type": "code",
   "execution_count": 63,
   "id": "cd0c1f0f",
   "metadata": {},
   "outputs": [
    {
     "data": {
      "text/plain": [
       "0"
      ]
     },
     "execution_count": 63,
     "metadata": {},
     "output_type": "execute_result"
    }
   ],
   "source": [
    "minvalue"
   ]
  },
  {
   "cell_type": "code",
   "execution_count": null,
   "id": "7207347a",
   "metadata": {},
   "outputs": [],
   "source": []
  }
 ],
 "metadata": {
  "kernelspec": {
   "display_name": "Python 3",
   "language": "python",
   "name": "python3"
  },
  "language_info": {
   "codemirror_mode": {
    "name": "ipython",
    "version": 3
   },
   "file_extension": ".py",
   "mimetype": "text/x-python",
   "name": "python",
   "nbconvert_exporter": "python",
   "pygments_lexer": "ipython3",
   "version": "3.8.8"
  }
 },
 "nbformat": 4,
 "nbformat_minor": 5
}
